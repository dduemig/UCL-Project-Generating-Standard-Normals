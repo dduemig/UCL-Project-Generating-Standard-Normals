{
 "cells": [
  {
   "cell_type": "markdown",
   "metadata": {},
   "source": [
    "# 1. Import Libraries"
   ]
  },
  {
   "cell_type": "code",
   "execution_count": 1,
   "metadata": {},
   "outputs": [
    {
     "data": {
      "text/html": [
       "<script type=\"text/javascript\">window.PlotlyConfig = {MathJaxConfig: 'local'};</script><script type=\"text/javascript\">if (window.MathJax) {MathJax.Hub.Config({SVG: {font: \"STIX-Web\"}});}</script><script>requirejs.config({paths: { 'plotly': ['https://cdn.plot.ly/plotly-latest.min']},});if(!window._Plotly) {require(['plotly'],function(plotly) {window._Plotly=plotly;});}</script>"
      ],
      "text/vnd.plotly.v1+html": [
       "<script type=\"text/javascript\">window.PlotlyConfig = {MathJaxConfig: 'local'};</script><script type=\"text/javascript\">if (window.MathJax) {MathJax.Hub.Config({SVG: {font: \"STIX-Web\"}});}</script><script>requirejs.config({paths: { 'plotly': ['https://cdn.plot.ly/plotly-latest.min']},});if(!window._Plotly) {require(['plotly'],function(plotly) {window._Plotly=plotly;});}</script>"
      ]
     },
     "metadata": {},
     "output_type": "display_data"
    }
   ],
   "source": [
    "# Math\n",
    "import numpy as np \n",
    "from numpy import random, sqrt, log, sin, cos, pi\n",
    "import math\n",
    "\n",
    "# Running time\n",
    "import timeit\n",
    "\n",
    "# Statistics\n",
    "from scipy.stats import norm\n",
    "from scipy import stats\n",
    "import scipy.stats\n",
    "\n",
    "\n",
    "#Statistical tests\n",
    "from scipy.stats import shapiro\n",
    "from scipy.stats import normaltest\n",
    "from scipy.stats import anderson\n",
    "import statsmodels.api as sm\n",
    "import scipy.stats as ss\n",
    "\n",
    "from scipy.stats import expon\n",
    "\n",
    "# Plotting\n",
    "from statsmodels.graphics.gofplots import qqplot\n",
    "import matplotlib.pyplot as plt\n",
    "from pylab import show,hist,subplot,figure\n",
    "import seaborn as sns\n",
    "import plotly as py\n",
    "import plotly.graph_objs as go\n",
    "py.offline.init_notebook_mode(connected=True)"
   ]
  },
  {
   "cell_type": "markdown",
   "metadata": {},
   "source": [
    "# 2. Define functions"
   ]
  },
  {
   "cell_type": "code",
   "execution_count": 2,
   "metadata": {},
   "outputs": [],
   "source": [
    "# Generating standard uniform random numbers\n",
    "def rng(m=2**32, a=1103515245, c=12345):\n",
    "    rng.current = (a*rng.current + c) % m\n",
    "    return rng.current/m\n",
    "\n",
    "# Inverse Transformation Sampling\n",
    "def sample_normal_inverse_transform(mu, sigma):\n",
    "    \"\"\"Sample from a normal distribution using Inverse Sampling Transformation.\"\"\"\n",
    "    # Generate a uniform random variable\n",
    "    u = np.random.uniform(0, 1)\n",
    "    # Calculating the inverse cdf at u for the given normal distribution\n",
    "    # with mean mu and standard deviation sigma   \n",
    "    x = norm.ppf(u, loc=mu, scale=sigma)\n",
    "    return x\n",
    "\n",
    "# Box-Muller Transformation (standard normal distribution)\n",
    "def sample_normal_boxmuller(u1,u2):\n",
    "  z1 = np.sqrt(-2*np.log(u1))*np.cos(2*np.pi*u2)\n",
    "  z2 = np.sqrt(-2*np.log(u1))*np.sin(2*np.pi*u2)\n",
    "  return z1,z2\n",
    "\n",
    "# Box-Muller Transformation (normal distribution with any mean and standard deviation)\n",
    "def sample_normal_boxmuller_adj(mu, sigma):\n",
    "    \"\"\"Sample from a normal distribution using Box-Muller method.\"\"\"\n",
    "    # Two uniform random variables\n",
    "    u = np.random.uniform(0, 1, 2)\n",
    "    # Box-Muller formula returns sample from STANDARD normal distribution\n",
    "    x = math.cos(2*np.pi*u[0]) * math.sqrt(-2*math.log(u[1])) \n",
    "    return mu + sigma * x\n",
    "\n",
    "# Rejection Sampling\n",
    "def sample_normal_rejection(mu, sigma):\n",
    "    \"\"\"Sample from a normal distribution using rejection sampling.\"\"\"\n",
    "    # Length of interval from wich samples are drawn\n",
    "    interval = 5*sigma\n",
    "    # Maximum value of the pdf of the desired normal distribution\n",
    "    max_density = scipy.stats.norm(mu,sigma).pdf(mu)\n",
    "    # Rejection loop\n",
    "    while True:\n",
    "        x = np.random.uniform(mu - interval, mu + interval, 1)[0] \n",
    "        y = np.random.uniform(0, max_density, 1)\n",
    "        if y <= scipy.stats.norm(mu, sigma).pdf(x):\n",
    "            break \n",
    "    return x\n",
    "\n",
    "# Rejection Sampling\n",
    "def sample_normal_rejection2(mu, sigma):\n",
    "\n",
    "    \n",
    "    \n",
    "    while True:\n",
    "        y = expon.rvs(scale = 1)\n",
    "        if np.random.uniform(0, 1) <= stats.halfnorm.pdf(y)/(c*stats.expon.pdf(y)):\n",
    "                \n",
    "            if np.random.uniform(0, 1) <= 0.5:\n",
    "                z = y       \n",
    "        \n",
    "            else:\n",
    "                z = y*-1\n",
    "            break\n",
    "            \n",
    "    return mu + sigma*z\n",
    "\n",
    "# Plot normal distribution\n",
    "def plot_normal(x_range, mu=0, sigma=1, cdf=False, **kwargs):\n",
    "    '''\n",
    "    Plots the normal distribution function for a given x range\n",
    "    If mu and sigma are not provided, standard normal is plotted\n",
    "    If cdf=True cumulative distribution is plotted\n",
    "    Passes any keyword arguments to matplotlib plot function\n",
    "    '''\n",
    "    x = x_range\n",
    "    if cdf:\n",
    "        y = ss.norm.cdf(x, mu, sigma)\n",
    "    else:\n",
    "        y = ss.norm.pdf(x, mu, sigma)\n",
    "    plt.plot(x, y, **kwargs)"
   ]
  },
  {
   "cell_type": "markdown",
   "metadata": {},
   "source": [
    "# 3.1 Pseudorandom number generators"
   ]
  },
  {
   "cell_type": "markdown",
   "metadata": {},
   "source": [
    "While pseudorandom numbers are generated by a deterministic algorithm, we can usually treat them as if they were real random numbers and thus we can drop the prefix \"pseudo\".\n",
    "\n",
    "Basically, the algorithm generates random integers, which are then normalized to obtain a floating point number from the standard uniform distribution.\n",
    "\n",
    "\n",
    "Random numbers from other distributions are in turn generated with these uniform random deviates, either using general (inverse transformation, accept/reject) or special ad hoc methods (e.g. Box-Muller)."
   ]
  },
  {
   "cell_type": "markdown",
   "metadata": {},
   "source": [
    "# 3.2 Generating standard uniform random numbers"
   ]
  },
  {
   "cell_type": "markdown",
   "metadata": {},
   "source": [
    "Linear congruential generators (LCG)\n",
    "\n",
    "$ z_{i+1} = (az_{i}+c) \\ mod \\ m  $\n",
    "\n",
    "Hull-Dobell Theorem: The LCG will have a full period for all seeds if and only if\n",
    "\n",
    "c and m are relatively prime, <br>\n",
    "a−1 is divisible by all prime factors of m <br>\n",
    "a−1 is a multiple of 4 if m is a multiple of 4. <br>\n",
    "\n",
    "The number $ z_{0}$ is called the seed, and setting it allows us to obtain a reproducible sequence of “random” numbers.\n",
    "\n",
    "The LCG is typically coded to return z/m, a floating point number in (0, 1). This can be scaled to any other range (a,b). \n",
    "\n",
    "Most pseudorandom number generators today use the Mersenne Twister, but the LCG is presented because the LCG code is much easier to understand and sufficient for our purposes. "
   ]
  },
  {
   "cell_type": "markdown",
   "metadata": {},
   "source": [
    "### Generate Samples"
   ]
  },
  {
   "cell_type": "code",
   "execution_count": 3,
   "metadata": {},
   "outputs": [],
   "source": [
    "# Set seed \n",
    "rng.current = 1\n",
    "\n",
    "tic = timeit.default_timer()\n",
    "\n",
    "n_samples = 5000\n",
    "\n",
    "# Generate n_samples samples \n",
    "samples_uniform = []\n",
    "for i in range(n_samples):\n",
    "    samples_uniform.append(rng())  \n",
    "\n",
    "toc = timeit.default_timer()"
   ]
  },
  {
   "cell_type": "markdown",
   "metadata": {},
   "source": [
    "###  Histogram Plot"
   ]
  },
  {
   "cell_type": "code",
   "execution_count": 4,
   "metadata": {},
   "outputs": [
    {
     "name": "stdout",
     "output_type": "stream",
     "text": [
      "running time = 0.004, mean = 0.504, std_dev = 0.288\n"
     ]
    },
    {
     "data": {
      "image/png": "[encoded data removed]",
      "text/plain": [
       "<Figure size 432x288 with 1 Axes>"
      ]
     },
     "metadata": {
      "needs_background": "light"
     },
     "output_type": "display_data"
    }
   ],
   "source": [
    "# Plot n_samples samples \n",
    "\n",
    "sns.distplot(samples_uniform, bins=40).set_title(str(n_samples)+ \" samples using Rejection sampling\");\n",
    "\n",
    "print(\"running time = %.3f, mean = %.3f, std_dev = %.3f\" % (toc-tic, np.mean(samples_uniform), np.std(samples_uniform)));"
   ]
  },
  {
   "cell_type": "markdown",
   "metadata": {},
   "source": [
    "# 4. Generate normally distributed numbers (with any mu and sigma)"
   ]
  },
  {
   "cell_type": "markdown",
   "metadata": {},
   "source": [
    "### Parameter"
   ]
  },
  {
   "cell_type": "code",
   "execution_count": 5,
   "metadata": {},
   "outputs": [],
   "source": [
    "mu = 0\n",
    "sigma = 1\n",
    "n_samples = 5000"
   ]
  },
  {
   "cell_type": "markdown",
   "metadata": {},
   "source": [
    "## 4.1 Inverse Sampling Transformation"
   ]
  },
  {
   "cell_type": "markdown",
   "metadata": {},
   "source": [
    "Once we have standard uniform numbers, we can generate random numbers from other distribution using the inverse transform method. \n",
    "\n",
    "If X is a continuous random variable with CDF $F_{x}$, then Y=$F_{x}$(X) has the standard uniform distribution. \n",
    "\n",
    "Inverting this suggests that if Y comes from a standard uniform distribution, then $F_{x}^{-1}(Y)$ has the same distribution as X. "
   ]
  },
  {
   "cell_type": "markdown",
   "metadata": {},
   "source": [
    "### Generate samples"
   ]
  },
  {
   "cell_type": "code",
   "execution_count": 6,
   "metadata": {},
   "outputs": [],
   "source": [
    "# Generate n_samples samples \n",
    "\n",
    "tic = timeit.default_timer()\n",
    "\n",
    "samples_i_t = []\n",
    "for i in range(n_samples):\n",
    "    samples_i_t.append(sample_normal_inverse_transform(mu, sigma)) \n",
    "    \n",
    "toc = timeit.default_timer()"
   ]
  },
  {
   "cell_type": "markdown",
   "metadata": {},
   "source": [
    "###  Histogram Plot\n",
    "One simple and frequently used graphical representation to check whether our data sample is normally distributed is the histogram. A Gaussian distribution is indicated when the histogram shows the well-known bell shape."
   ]
  },
  {
   "cell_type": "code",
   "execution_count": 7,
   "metadata": {},
   "outputs": [
    {
     "name": "stdout",
     "output_type": "stream",
     "text": [
      "running time = 0.928, mean = 0.011, std_dev = 1.009\n"
     ]
    },
    {
     "data": {
      "image/png": "[encoded data removed]",
      "text/plain": [
       "<Figure size 432x288 with 1 Axes>"
      ]
     },
     "metadata": {
      "needs_background": "light"
     },
     "output_type": "display_data"
    }
   ],
   "source": [
    "# Plot histogram\n",
    "\n",
    "sns.distplot(samples_i_t, bins=40).set_title(str(n_samples)+ ' samples using inverse transform')\n",
    "\n",
    "print(\"running time = %.3f, mean = %.3f, std_dev = %.3f\" % (toc-tic, np.mean(samples_i_t), np.std(samples_i_t)));"
   ]
  },
  {
   "cell_type": "markdown",
   "metadata": {},
   "source": [
    "### Q-Q Plot and P-P Plot\n",
    "The quantile-quantile plot, or **Q-Q plot** for short, is another graphical method we use to determine whether our data sample cames from the normal distribution. A Q-Q plot is a scatterplot created by plotting the quantiles of the sample distribution and the quantiles of the theoretical distribution against each other. The resulting points are displayed with the theoretical value on the x-axis and the data sample on the y-axis. If both sets of quantiles came from the same distribution, we should observe a line of points at an angle of 45 degrees from the bottom left to the top right.\n",
    "\n",
    "The probability-probability plot, or **P-P plot** for short, is a probability plot that can be used to assess how closely our data sample agrees with the normal distribution. It plots the empirical cumulative distribution function and the theoretical cumulative distribution function against each other. If we can observe a straight line, then our data sample contains no outliers and the assumption that it comes from a normal distribution is considered fulfilled."
   ]
  },
  {
   "cell_type": "code",
   "execution_count": 8,
   "metadata": {},
   "outputs": [
    {
     "data": {
      "image/png": "[encoded data removed]",
      "text/plain": [
       "<Figure size 720x288 with 2 Axes>"
      ]
     },
     "metadata": {
      "needs_background": "light"
     },
     "output_type": "display_data"
    }
   ],
   "source": [
    "# Plot q-q and p-p plot\n",
    "fig, ax = plt.subplots(1, 2, figsize=(10, 4))\n",
    "probplot = sm.ProbPlot(np.array(samples_i_t), dist=norm, fit=True)\n",
    "probplot.ppplot(line='45', ax=ax[0])\n",
    "probplot.qqplot(line='45', ax=ax[1])\n",
    "ax[0].set_title('P-P Plot')\n",
    "ax[1].set_title('Q-Q Plot');"
   ]
  },
  {
   "cell_type": "markdown",
   "metadata": {},
   "source": [
    "### Boxplot\n",
    "If our data sample is drawn from a Gaussian distribution, the box will be symmetrical with the mean and median in the center. Moreover, if the data sample corresponds to the assumption of normality, we should observe only a few outliers."
   ]
  },
  {
   "cell_type": "code",
   "execution_count": 9,
   "metadata": {},
   "outputs": [
    {
     "data": {
      "image/png": "[encoded data removed]",
      "text/plain": [
       "<Figure size 432x288 with 1 Axes>"
      ]
     },
     "metadata": {
      "needs_background": "light"
     },
     "output_type": "display_data"
    }
   ],
   "source": [
    "# Plot boxplot plot\n",
    "sns.boxplot(samples_i_t, width=4);"
   ]
  },
  {
   "cell_type": "markdown",
   "metadata": {},
   "source": [
    "### Empirical Cumulative Distribution Function Plot\n",
    "An empirical CDF plot has a similar function to a P-P plot. However, unlike a probability plot, the empirical CDF plot has scales that are not transformed, and the fitted distribution does not form a straight line, but an S-shaped curve under normality. The empirical cumulative probabilities close to this S-shaped curve fulfill the normality assumption."
   ]
  },
  {
   "cell_type": "code",
   "execution_count": 10,
   "metadata": {},
   "outputs": [
    {
     "data": {
      "image/png": "[encoded data removed]",
      "text/plain": [
       "<Figure size 432x288 with 1 Axes>"
      ]
     },
     "metadata": {
      "needs_background": "light"
     },
     "output_type": "display_data"
    }
   ],
   "source": [
    "# Plot Empirical Cumulative Distribution vs Normal Cumulative Distribution\n",
    "x=np.linspace(-5, 5)\n",
    "\n",
    "# Plot normal cdf\n",
    "plot_normal(x, mu=mu, sigma=sigma, cdf=True, label=\"normal cdf\")\n",
    "\n",
    "# Plor ecdf\n",
    "ecdf = sm.distributions.ECDF(samples_i_t)\n",
    "ecdf = ecdf(x)\n",
    "plt.step(x, ecdf, label=\"ecdf\")\n",
    "\n",
    "plt.legend();"
   ]
  },
  {
   "cell_type": "markdown",
   "metadata": {},
   "source": [
    "### Shapiro-Wilk Test\n",
    "The Shapiro-Wilk test was developed by Samuel Shapiro and Martin Wilk and first presented in 1965. The test verifies the hypothesis that the underlying population of a data sample is normally distributed. More precisely, for the nominator the test statistic calculates what the variance of a data sample would look like if it came from a normal distribution (first estimator) and compares this \"expected\" variance with the actual variance of the data sample for the denominator (second estimator). If the population of the data sample is normally distributed, then both estimators for the variance should be approximately the same."
   ]
  },
  {
   "cell_type": "code",
   "execution_count": 11,
   "metadata": {},
   "outputs": [
    {
     "data": {
      "application/vnd.plotly.v1+json": {
       "config": {
        "linkText": "Export to plot.ly",
        "plotlyServerURL": "https://plot.ly",
        "showLink": false
       },
       "data": [
        {
         "cells": {
          "align": "center",
          "fill": {
           "color": [
            [
             "#EBF0F8",
             "#ffffff",
             "#EBF0F8",
             "#ffffff"
            ]
           ]
          },
          "height": 40,
          "line": {
           "width": 0
          },
          "values": [
           "5000",
           "1.0",
           "0.369",
           "Sample looks Gaussian (fail to reject H0)"
          ]
         },
         "columnwidth": [
          0.3,
          0.25,
          0.3,
          0.45
         ],
         "header": {
          "align": "center",
          "fill": {
           "color": "rgba(42,63,95,0.8)"
          },
          "font": {
           "color": "#ffffff",
           "size": 12
          },
          "line": {
           "width": 0
          },
          "values": [
           "<b>Sample Size</b>",
           "<b>Statistic</b>",
           "<b>p-Value</b>",
           "<b>Comment</b>"
          ]
         },
         "type": "table",
         "uid": "67d99aa4-9331-4586-a91f-f8bd907650b7"
        }
       ],
       "layout": {
        "height": 260,
        "title": {
         "text": "Shapiro-Wilk Test"
        },
        "width": 1000
       }
      },
      "text/html": [
       "<div id=\"01ea5cd4-76b0-4528-9a0c-2bea6a06336f\" style=\"height: 260px; width: 1000px;\" class=\"plotly-graph-div\"></div><script type=\"text/javascript\">require([\"plotly\"], function(Plotly) { window.PLOTLYENV=window.PLOTLYENV || {};window.PLOTLYENV.BASE_URL=\"https://plot.ly\";\n",
       "if (document.getElementById(\"01ea5cd4-76b0-4528-9a0c-2bea6a06336f\")) {\n",
       "    Plotly.newPlot(\"01ea5cd4-76b0-4528-9a0c-2bea6a06336f\", [{\"cells\": {\"align\": \"center\", \"fill\": {\"color\": [[\"#EBF0F8\", \"#ffffff\", \"#EBF0F8\", \"#ffffff\"]]}, \"height\": 40, \"line\": {\"width\": 0}, \"values\": [\"5000\", \"1.0\", \"0.369\", \"Sample looks Gaussian (fail to reject H0)\"]}, \"columnwidth\": [0.3, 0.25, 0.3, 0.45], \"header\": {\"align\": \"center\", \"fill\": {\"color\": \"rgba(42,63,95,0.8)\"}, \"font\": {\"color\": \"#ffffff\", \"size\": 12}, \"line\": {\"width\": 0}, \"values\": [\"<b>Sample Size</b>\", \"<b>Statistic</b>\", \"<b>p-Value</b>\", \"<b>Comment</b>\"]}, \"type\": \"table\", \"uid\": \"69a13eca-9627-47f1-b35b-a51f599f721e\"}], {\"height\": 260, \"title\": {\"text\": \"Shapiro-Wilk Test\"}, \"width\": 1000}, {\"showLink\": false, \"linkText\": \"Export to plot.ly\", \"plotlyServerURL\": \"https://plot.ly\"}); \n",
       "}\n",
       "});</script>"
      ],
      "text/vnd.plotly.v1+html": [
       "<div id=\"01ea5cd4-76b0-4528-9a0c-2bea6a06336f\" style=\"height: 260px; width: 1000px;\" class=\"plotly-graph-div\"></div><script type=\"text/javascript\">require([\"plotly\"], function(Plotly) { window.PLOTLYENV=window.PLOTLYENV || {};window.PLOTLYENV.BASE_URL=\"https://plot.ly\";\n",
       "if (document.getElementById(\"01ea5cd4-76b0-4528-9a0c-2bea6a06336f\")) {\n",
       "    Plotly.newPlot(\"01ea5cd4-76b0-4528-9a0c-2bea6a06336f\", [{\"cells\": {\"align\": \"center\", \"fill\": {\"color\": [[\"#EBF0F8\", \"#ffffff\", \"#EBF0F8\", \"#ffffff\"]]}, \"height\": 40, \"line\": {\"width\": 0}, \"values\": [\"5000\", \"1.0\", \"0.369\", \"Sample looks Gaussian (fail to reject H0)\"]}, \"columnwidth\": [0.3, 0.25, 0.3, 0.45], \"header\": {\"align\": \"center\", \"fill\": {\"color\": \"rgba(42,63,95,0.8)\"}, \"font\": {\"color\": \"#ffffff\", \"size\": 12}, \"line\": {\"width\": 0}, \"values\": [\"<b>Sample Size</b>\", \"<b>Statistic</b>\", \"<b>p-Value</b>\", \"<b>Comment</b>\"]}, \"type\": \"table\", \"uid\": \"69a13eca-9627-47f1-b35b-a51f599f721e\"}], {\"height\": 260, \"title\": {\"text\": \"Shapiro-Wilk Test\"}, \"width\": 1000}, {\"showLink\": false, \"linkText\": \"Export to plot.ly\", \"plotlyServerURL\": \"https://plot.ly\"}); \n",
       "}\n",
       "});</script>"
      ]
     },
     "metadata": {},
     "output_type": "display_data"
    }
   ],
   "source": [
    "# Normality test\n",
    "test = \"Shapiro-Wilk Test\"\n",
    "stat, p = shapiro(samples_i_t)\n",
    "\n",
    "# Round results\n",
    "stat = round(stat, 3)\n",
    "p = round(p, 3)\n",
    "\n",
    "# Interpre results\n",
    "alpha = 0.05\n",
    "if p > alpha:\n",
    "    msg = 'Sample looks Gaussian (fail to reject H0)'\n",
    "else:\n",
    "    msg = \"Sample does not look Gaussian (reject H0)\"\n",
    "\n",
    "# Create table\n",
    "result_mat = [len(samples_i_t), stat, p, msg]\n",
    "\n",
    "trace = go.Table(\n",
    "    header=dict(values=['<b>Sample Size</b>', '<b>Statistic</b>', '<b>p-Value</b>', '<b>Comment</b>'],\n",
    "                line = dict(width=0),\n",
    "                fill = dict(color='rgba(42,63,95,0.8)'),\n",
    "                align = 'center',\n",
    "                font = dict(\n",
    "                    color = '#ffffff',\n",
    "                    size = 12\n",
    "                )),\n",
    "    cells=dict(values=np.array(result_mat).T,\n",
    "               line = dict(width=0),\n",
    "               fill = dict(color=[['#EBF0F8', '#ffffff', '#EBF0F8', '#ffffff']]),\n",
    "               align = 'center',\n",
    "               height = 40),\n",
    "    columnwidth=[0.3, 0.25, 0.3, 0.45])\n",
    "       \n",
    "data = [trace]\n",
    "\n",
    "layout = dict(title=test, height=260, width=1000)\n",
    "\n",
    "sw_table = dict(data=data, layout=layout)\n",
    "\n",
    "# Plot table\n",
    "py.offline.iplot(sw_table,  filename='jupyter-parametric_plot')"
   ]
  },
  {
   "cell_type": "markdown",
   "metadata": {},
   "source": [
    "### D’Agostino’s K^2 Test\n",
    "The D’Agostino-Pearson Omnibus Test (1973) computes summary statistics from the sample data to determine whether the data distribution deviates from the Gaussian distribution. Specifically, it first calculates the skewness and kurtosis to quantify how far the sample distribution deviates from the normal distribution in terms of asymmetry and shape. It then calculates to what extent each of these values differs from the value expected for a Gaussian distribution and calculates a single P value from the sum of these deviations."
   ]
  },
  {
   "cell_type": "code",
   "execution_count": 12,
   "metadata": {},
   "outputs": [
    {
     "data": {
      "application/vnd.plotly.v1+json": {
       "config": {
        "linkText": "Export to plot.ly",
        "plotlyServerURL": "https://plot.ly",
        "showLink": false
       },
       "data": [
        {
         "cells": {
          "align": "center",
          "fill": {
           "color": [
            [
             "#EBF0F8",
             "#ffffff",
             "#EBF0F8",
             "#ffffff"
            ]
           ]
          },
          "height": 40,
          "line": {
           "width": 0
          },
          "values": [
           "5000",
           "1.414",
           "0.493",
           "Sample looks Gaussian (fail to reject H0)"
          ]
         },
         "columnwidth": [
          0.3,
          0.25,
          0.3,
          0.45
         ],
         "header": {
          "align": "center",
          "fill": {
           "color": "rgba(42,63,95,0.8)"
          },
          "font": {
           "color": "#ffffff",
           "size": 12
          },
          "line": {
           "width": 0
          },
          "values": [
           "<b>Sample Size</b>",
           "<b>Statistic</b>",
           "<b>p-Value</b>",
           "<b>Comment</b>"
          ]
         },
         "type": "table",
         "uid": "bb4660b2-f8bc-4649-bdbe-93b80c00f1fe"
        }
       ],
       "layout": {
        "height": 260,
        "title": {
         "text": "D’Agostino’s K^2 Test"
        },
        "width": 1000
       }
      },
      "text/html": [
       "<div id=\"4a2d0310-361f-4364-bbe6-bf6fe39b0ecb\" style=\"height: 260px; width: 1000px;\" class=\"plotly-graph-div\"></div><script type=\"text/javascript\">require([\"plotly\"], function(Plotly) { window.PLOTLYENV=window.PLOTLYENV || {};window.PLOTLYENV.BASE_URL=\"https://plot.ly\";\n",
       "if (document.getElementById(\"4a2d0310-361f-4364-bbe6-bf6fe39b0ecb\")) {\n",
       "    Plotly.newPlot(\"4a2d0310-361f-4364-bbe6-bf6fe39b0ecb\", [{\"cells\": {\"align\": \"center\", \"fill\": {\"color\": [[\"#EBF0F8\", \"#ffffff\", \"#EBF0F8\", \"#ffffff\"]]}, \"height\": 40, \"line\": {\"width\": 0}, \"values\": [\"5000\", \"1.414\", \"0.493\", \"Sample looks Gaussian (fail to reject H0)\"]}, \"columnwidth\": [0.3, 0.25, 0.3, 0.45], \"header\": {\"align\": \"center\", \"fill\": {\"color\": \"rgba(42,63,95,0.8)\"}, \"font\": {\"color\": \"#ffffff\", \"size\": 12}, \"line\": {\"width\": 0}, \"values\": [\"<b>Sample Size</b>\", \"<b>Statistic</b>\", \"<b>p-Value</b>\", \"<b>Comment</b>\"]}, \"type\": \"table\", \"uid\": \"6389a5f6-d132-4134-8c02-981687c8275f\"}], {\"height\": 260, \"title\": {\"text\": \"D\\u2019Agostino\\u2019s K^2 Test\"}, \"width\": 1000}, {\"showLink\": false, \"linkText\": \"Export to plot.ly\", \"plotlyServerURL\": \"https://plot.ly\"}); \n",
       "}\n",
       "});</script>"
      ],
      "text/vnd.plotly.v1+html": [
       "<div id=\"4a2d0310-361f-4364-bbe6-bf6fe39b0ecb\" style=\"height: 260px; width: 1000px;\" class=\"plotly-graph-div\"></div><script type=\"text/javascript\">require([\"plotly\"], function(Plotly) { window.PLOTLYENV=window.PLOTLYENV || {};window.PLOTLYENV.BASE_URL=\"https://plot.ly\";\n",
       "if (document.getElementById(\"4a2d0310-361f-4364-bbe6-bf6fe39b0ecb\")) {\n",
       "    Plotly.newPlot(\"4a2d0310-361f-4364-bbe6-bf6fe39b0ecb\", [{\"cells\": {\"align\": \"center\", \"fill\": {\"color\": [[\"#EBF0F8\", \"#ffffff\", \"#EBF0F8\", \"#ffffff\"]]}, \"height\": 40, \"line\": {\"width\": 0}, \"values\": [\"5000\", \"1.414\", \"0.493\", \"Sample looks Gaussian (fail to reject H0)\"]}, \"columnwidth\": [0.3, 0.25, 0.3, 0.45], \"header\": {\"align\": \"center\", \"fill\": {\"color\": \"rgba(42,63,95,0.8)\"}, \"font\": {\"color\": \"#ffffff\", \"size\": 12}, \"line\": {\"width\": 0}, \"values\": [\"<b>Sample Size</b>\", \"<b>Statistic</b>\", \"<b>p-Value</b>\", \"<b>Comment</b>\"]}, \"type\": \"table\", \"uid\": \"6389a5f6-d132-4134-8c02-981687c8275f\"}], {\"height\": 260, \"title\": {\"text\": \"D\\u2019Agostino\\u2019s K^2 Test\"}, \"width\": 1000}, {\"showLink\": false, \"linkText\": \"Export to plot.ly\", \"plotlyServerURL\": \"https://plot.ly\"}); \n",
       "}\n",
       "});</script>"
      ]
     },
     "metadata": {},
     "output_type": "display_data"
    }
   ],
   "source": [
    "# Normality test\n",
    "test = \"D’Agostino’s K^2 Test\"\n",
    "stat, p = normaltest(samples_i_t)\n",
    "\n",
    "# Round results\n",
    "stat = round(stat, 3)\n",
    "p = round(p, 3)\n",
    "\n",
    "# Interpre results\n",
    "alpha = 0.05\n",
    "if p > alpha:\n",
    "    msg = 'Sample looks Gaussian (fail to reject H0)'\n",
    "else:\n",
    "    msg = \"Sample does not look Gaussian (reject H0)\"\n",
    "\n",
    "# Create table\n",
    "result_mat = [len(samples_i_t), stat, p, msg]\n",
    "\n",
    "trace = go.Table(\n",
    "    header=dict(values=['<b>Sample Size</b>', '<b>Statistic</b>', '<b>p-Value</b>', '<b>Comment</b>'],\n",
    "                line = dict(width=0),\n",
    "                fill = dict(color='rgba(42,63,95,0.8)'),\n",
    "                align = 'center',\n",
    "                font = dict(\n",
    "                    color = '#ffffff',\n",
    "                    size = 12\n",
    "                )),\n",
    "    cells=dict(values=np.array(result_mat).T,\n",
    "               line = dict(width=0),\n",
    "               fill = dict(color=[['#EBF0F8', '#ffffff', '#EBF0F8', '#ffffff']]),\n",
    "               align = 'center',\n",
    "               height = 40),\n",
    "    columnwidth=[0.3, 0.25, 0.3, 0.45])\n",
    "       \n",
    "data = [trace]\n",
    "\n",
    "layout = dict(title=test, height=260, width=1000)\n",
    "\n",
    "norm_table = dict(data=data, layout=layout)\n",
    "\n",
    "# Plot table\n",
    "py.offline.iplot(norm_table)"
   ]
  },
  {
   "cell_type": "markdown",
   "metadata": {},
   "source": [
    "### Jarque-Beta Test\n",
    "The Jarque-Bera test was proposed by Carlos M. Jarque and Anil K. Bera (1982) and also calculates summary statistics from the sample data to verify whether the data sample differs from the normal distribution. Concretely, the test determines whether the skewness and kurtosis of the data sample are unusual compared to their expected values, as measured by a chi-square statistic. "
   ]
  },
  {
   "cell_type": "code",
   "execution_count": 13,
   "metadata": {},
   "outputs": [
    {
     "data": {
      "application/vnd.plotly.v1+json": {
       "config": {
        "linkText": "Export to plot.ly",
        "plotlyServerURL": "https://plot.ly",
        "showLink": false
       },
       "data": [
        {
         "cells": {
          "align": "center",
          "fill": {
           "color": [
            [
             "#EBF0F8",
             "#ffffff",
             "#EBF0F8",
             "#ffffff"
            ]
           ]
          },
          "height": 40,
          "line": {
           "width": 0
          },
          "values": [
           "5000",
           "1.385",
           "0.5",
           "Sample looks Gaussian (fail to reject H0)"
          ]
         },
         "columnwidth": [
          0.3,
          0.25,
          0.3,
          0.45
         ],
         "header": {
          "align": "center",
          "fill": {
           "color": "rgba(42,63,95,0.8)"
          },
          "font": {
           "color": "#ffffff",
           "size": 12
          },
          "line": {
           "width": 0
          },
          "values": [
           "<b>Sample Size</b>",
           "<b>Statistic</b>",
           "<b>p-Value</b>",
           "<b>Comment</b>"
          ]
         },
         "type": "table",
         "uid": "2b68b1d9-b278-48d3-a034-b667b4a40158"
        }
       ],
       "layout": {
        "height": 260,
        "title": {
         "text": "Jarque-Beta Test"
        },
        "width": 1000
       }
      },
      "text/html": [
       "<div id=\"072d2610-ac9e-478d-84ac-7c729e1334c1\" style=\"height: 260px; width: 1000px;\" class=\"plotly-graph-div\"></div><script type=\"text/javascript\">require([\"plotly\"], function(Plotly) { window.PLOTLYENV=window.PLOTLYENV || {};window.PLOTLYENV.BASE_URL=\"https://plot.ly\";\n",
       "if (document.getElementById(\"072d2610-ac9e-478d-84ac-7c729e1334c1\")) {\n",
       "    Plotly.newPlot(\"072d2610-ac9e-478d-84ac-7c729e1334c1\", [{\"cells\": {\"align\": \"center\", \"fill\": {\"color\": [[\"#EBF0F8\", \"#ffffff\", \"#EBF0F8\", \"#ffffff\"]]}, \"height\": 40, \"line\": {\"width\": 0}, \"values\": [\"5000\", \"1.385\", \"0.5\", \"Sample looks Gaussian (fail to reject H0)\"]}, \"columnwidth\": [0.3, 0.25, 0.3, 0.45], \"header\": {\"align\": \"center\", \"fill\": {\"color\": \"rgba(42,63,95,0.8)\"}, \"font\": {\"color\": \"#ffffff\", \"size\": 12}, \"line\": {\"width\": 0}, \"values\": [\"<b>Sample Size</b>\", \"<b>Statistic</b>\", \"<b>p-Value</b>\", \"<b>Comment</b>\"]}, \"type\": \"table\", \"uid\": \"7239f122-628f-4a27-9426-d6135b0f23e9\"}], {\"height\": 260, \"title\": {\"text\": \"Jarque-Beta Test\"}, \"width\": 1000}, {\"showLink\": false, \"linkText\": \"Export to plot.ly\", \"plotlyServerURL\": \"https://plot.ly\"}); \n",
       "}\n",
       "});</script>"
      ],
      "text/vnd.plotly.v1+html": [
       "<div id=\"072d2610-ac9e-478d-84ac-7c729e1334c1\" style=\"height: 260px; width: 1000px;\" class=\"plotly-graph-div\"></div><script type=\"text/javascript\">require([\"plotly\"], function(Plotly) { window.PLOTLYENV=window.PLOTLYENV || {};window.PLOTLYENV.BASE_URL=\"https://plot.ly\";\n",
       "if (document.getElementById(\"072d2610-ac9e-478d-84ac-7c729e1334c1\")) {\n",
       "    Plotly.newPlot(\"072d2610-ac9e-478d-84ac-7c729e1334c1\", [{\"cells\": {\"align\": \"center\", \"fill\": {\"color\": [[\"#EBF0F8\", \"#ffffff\", \"#EBF0F8\", \"#ffffff\"]]}, \"height\": 40, \"line\": {\"width\": 0}, \"values\": [\"5000\", \"1.385\", \"0.5\", \"Sample looks Gaussian (fail to reject H0)\"]}, \"columnwidth\": [0.3, 0.25, 0.3, 0.45], \"header\": {\"align\": \"center\", \"fill\": {\"color\": \"rgba(42,63,95,0.8)\"}, \"font\": {\"color\": \"#ffffff\", \"size\": 12}, \"line\": {\"width\": 0}, \"values\": [\"<b>Sample Size</b>\", \"<b>Statistic</b>\", \"<b>p-Value</b>\", \"<b>Comment</b>\"]}, \"type\": \"table\", \"uid\": \"7239f122-628f-4a27-9426-d6135b0f23e9\"}], {\"height\": 260, \"title\": {\"text\": \"Jarque-Beta Test\"}, \"width\": 1000}, {\"showLink\": false, \"linkText\": \"Export to plot.ly\", \"plotlyServerURL\": \"https://plot.ly\"}); \n",
       "}\n",
       "});</script>"
      ]
     },
     "metadata": {},
     "output_type": "display_data"
    }
   ],
   "source": [
    "# Normality test\n",
    "test = \"Jarque-Beta Test\"\n",
    "stat, p = stats.jarque_bera(samples_i_t)\n",
    "\n",
    "# Round results\n",
    "stat = round(stat, 3)\n",
    "p = round(p, 3)\n",
    "\n",
    "# Interpre results\n",
    "alpha = 0.05\n",
    "if p > alpha:\n",
    "    msg = 'Sample looks Gaussian (fail to reject H0)'\n",
    "else:\n",
    "    msg = \"Sample does not look Gaussian (reject H0)\"\n",
    "\n",
    "# Create table\n",
    "result_mat = [len(samples_i_t), stat, p, msg]\n",
    "\n",
    "trace = go.Table(\n",
    "    header=dict(values=['<b>Sample Size</b>', '<b>Statistic</b>', '<b>p-Value</b>', '<b>Comment</b>'],\n",
    "                line = dict(width=0),\n",
    "                fill = dict(color='rgba(42,63,95,0.8)'),\n",
    "                align = 'center',\n",
    "                font = dict(\n",
    "                    color = '#ffffff',\n",
    "                    size = 12\n",
    "                )),\n",
    "    cells=dict(values=np.array(result_mat).T,\n",
    "               line = dict(width=0),\n",
    "               fill = dict(color=[['#EBF0F8', '#ffffff', '#EBF0F8', '#ffffff']]),\n",
    "               align = 'center',\n",
    "               height = 40),\n",
    "    columnwidth=[0.3, 0.25, 0.3, 0.45])\n",
    "       \n",
    "data = [trace]\n",
    "\n",
    "layout = dict(title=test, height=260, width=1000)\n",
    "\n",
    "jb_table = dict(data=data, layout=layout)\n",
    "\n",
    "# Plot table\n",
    "py.offline.iplot(jb_table)"
   ]
  },
  {
   "cell_type": "markdown",
   "metadata": {},
   "source": [
    "### Kolmogorov Smirnov Test\n",
    "The Kolmogorov-Smirnov test (KS test) was first derived by Kolmogorov (1933) and later modified by Smirnov (1948). It is a statistical test for the agreement of two probability distributions. More Specifically, it compares the cumulative distribution of the sample data with the expected cumulative normal distribution and bases its P value on the largest discrepancy. The KS test can be modified to serve as a normality test; in this case the samples are standardized and compared to a standard normal distribution. "
   ]
  },
  {
   "cell_type": "code",
   "execution_count": 14,
   "metadata": {},
   "outputs": [
    {
     "data": {
      "application/vnd.plotly.v1+json": {
       "config": {
        "linkText": "Export to plot.ly",
        "plotlyServerURL": "https://plot.ly",
        "showLink": false
       },
       "data": [
        {
         "cells": {
          "align": "center",
          "fill": {
           "color": [
            [
             "#EBF0F8",
             "#ffffff",
             "#EBF0F8",
             "#ffffff"
            ]
           ]
          },
          "height": 40,
          "line": {
           "width": 0
          },
          "values": [
           "5000",
           "0.008",
           "0.553",
           "Sample looks Gaussian (fail to reject H0)"
          ]
         },
         "columnwidth": [
          0.3,
          0.25,
          0.3,
          0.45
         ],
         "header": {
          "align": "center",
          "fill": {
           "color": "rgba(42,63,95,0.8)"
          },
          "font": {
           "color": "#ffffff",
           "size": 12
          },
          "line": {
           "width": 0
          },
          "values": [
           "<b>Sample Size</b>",
           "<b>Statistic</b>",
           "<b>p-Value</b>",
           "<b>Comment</b>"
          ]
         },
         "type": "table",
         "uid": "773e356c-d4d8-4e16-8cbc-6546ea0e7caf"
        }
       ],
       "layout": {
        "height": 260,
        "title": {
         "text": "Kolmogorov Smirnov Test"
        },
        "width": 1000
       }
      },
      "text/html": [
       "<div id=\"ea01904a-7ea0-4e9b-852a-37543aa57699\" style=\"height: 260px; width: 1000px;\" class=\"plotly-graph-div\"></div><script type=\"text/javascript\">require([\"plotly\"], function(Plotly) { window.PLOTLYENV=window.PLOTLYENV || {};window.PLOTLYENV.BASE_URL=\"https://plot.ly\";\n",
       "if (document.getElementById(\"ea01904a-7ea0-4e9b-852a-37543aa57699\")) {\n",
       "    Plotly.newPlot(\"ea01904a-7ea0-4e9b-852a-37543aa57699\", [{\"cells\": {\"align\": \"center\", \"fill\": {\"color\": [[\"#EBF0F8\", \"#ffffff\", \"#EBF0F8\", \"#ffffff\"]]}, \"height\": 40, \"line\": {\"width\": 0}, \"values\": [\"5000\", \"0.008\", \"0.553\", \"Sample looks Gaussian (fail to reject H0)\"]}, \"columnwidth\": [0.3, 0.25, 0.3, 0.45], \"header\": {\"align\": \"center\", \"fill\": {\"color\": \"rgba(42,63,95,0.8)\"}, \"font\": {\"color\": \"#ffffff\", \"size\": 12}, \"line\": {\"width\": 0}, \"values\": [\"<b>Sample Size</b>\", \"<b>Statistic</b>\", \"<b>p-Value</b>\", \"<b>Comment</b>\"]}, \"type\": \"table\", \"uid\": \"7c1de200-4df7-4003-b026-acc735c6ce6e\"}], {\"height\": 260, \"title\": {\"text\": \"Kolmogorov Smirnov Test\"}, \"width\": 1000}, {\"showLink\": false, \"linkText\": \"Export to plot.ly\", \"plotlyServerURL\": \"https://plot.ly\"}); \n",
       "}\n",
       "});</script>"
      ],
      "text/vnd.plotly.v1+html": [
       "<div id=\"ea01904a-7ea0-4e9b-852a-37543aa57699\" style=\"height: 260px; width: 1000px;\" class=\"plotly-graph-div\"></div><script type=\"text/javascript\">require([\"plotly\"], function(Plotly) { window.PLOTLYENV=window.PLOTLYENV || {};window.PLOTLYENV.BASE_URL=\"https://plot.ly\";\n",
       "if (document.getElementById(\"ea01904a-7ea0-4e9b-852a-37543aa57699\")) {\n",
       "    Plotly.newPlot(\"ea01904a-7ea0-4e9b-852a-37543aa57699\", [{\"cells\": {\"align\": \"center\", \"fill\": {\"color\": [[\"#EBF0F8\", \"#ffffff\", \"#EBF0F8\", \"#ffffff\"]]}, \"height\": 40, \"line\": {\"width\": 0}, \"values\": [\"5000\", \"0.008\", \"0.553\", \"Sample looks Gaussian (fail to reject H0)\"]}, \"columnwidth\": [0.3, 0.25, 0.3, 0.45], \"header\": {\"align\": \"center\", \"fill\": {\"color\": \"rgba(42,63,95,0.8)\"}, \"font\": {\"color\": \"#ffffff\", \"size\": 12}, \"line\": {\"width\": 0}, \"values\": [\"<b>Sample Size</b>\", \"<b>Statistic</b>\", \"<b>p-Value</b>\", \"<b>Comment</b>\"]}, \"type\": \"table\", \"uid\": \"7c1de200-4df7-4003-b026-acc735c6ce6e\"}], {\"height\": 260, \"title\": {\"text\": \"Kolmogorov Smirnov Test\"}, \"width\": 1000}, {\"showLink\": false, \"linkText\": \"Export to plot.ly\", \"plotlyServerURL\": \"https://plot.ly\"}); \n",
       "}\n",
       "});</script>"
      ]
     },
     "metadata": {},
     "output_type": "display_data"
    }
   ],
   "source": [
    "# Normality test\n",
    "test = \"Kolmogorov Smirnov Test\"\n",
    "stat, p = stats.kstest(np.array(samples_i_t),'norm', alternative = 'greater')\n",
    "\n",
    "# Round results\n",
    "stat = round(stat, 3)\n",
    "p = round(p, 3)\n",
    "\n",
    "# Interpre results\n",
    "alpha = 0.05\n",
    "if p > alpha:\n",
    "    msg = 'Sample looks Gaussian (fail to reject H0)'\n",
    "else:\n",
    "    msg = \"Sample does not look Gaussian (reject H0)\"\n",
    "\n",
    "# Create table\n",
    "result_mat = [len(samples_i_t), stat, p, msg]\n",
    "\n",
    "trace = go.Table(\n",
    "    header=dict(values=['<b>Sample Size</b>', '<b>Statistic</b>', '<b>p-Value</b>', '<b>Comment</b>'],\n",
    "                line = dict(width=0),\n",
    "                fill = dict(color='rgba(42,63,95,0.8)'),\n",
    "                align = 'center',\n",
    "                font = dict(\n",
    "                    color = '#ffffff',\n",
    "                    size = 12\n",
    "                )),\n",
    "    cells=dict(values=np.array(result_mat).T,\n",
    "               line = dict(width=0),\n",
    "               fill = dict(color=[['#EBF0F8', '#ffffff', '#EBF0F8', '#ffffff']]),\n",
    "               align = 'center',\n",
    "               height = 40),\n",
    "    columnwidth=[0.3, 0.25, 0.3, 0.45])\n",
    "       \n",
    "data = [trace]\n",
    "\n",
    "layout = dict(title=test, height=260, width=1000)\n",
    "\n",
    "ks_table = dict(data=data, layout=layout)\n",
    "\n",
    "# Plot table\n",
    "py.offline.iplot(ks_table)"
   ]
  },
  {
   "cell_type": "markdown",
   "metadata": {},
   "source": [
    "### Anderson-Darling\n",
    "The Anderson-Darling test is another statistical test that can be used to determine whether the distribution of the data sample deviates from the Gaussian distribution. The test is named after Theodore Wilbur Anderson and Donald Allan Darling, who first described it in 1952. A feature of this test is that it provides a list of critical values, not just a single p-value, which allows a more thorough interpretation of the result."
   ]
  },
  {
   "cell_type": "code",
   "execution_count": 15,
   "metadata": {},
   "outputs": [
    {
     "data": {
      "application/vnd.plotly.v1+json": {
       "config": {
        "linkText": "Export to plot.ly",
        "plotlyServerURL": "https://plot.ly",
        "showLink": false
       },
       "data": [
        {
         "cells": {
          "align": "center",
          "fill": {
           "color": [
            [
             "#EBF0F8",
             "#ffffff",
             "#EBF0F8",
             "#ffffff",
             "#EBF0F8"
            ]
           ]
          },
          "height": 40,
          "line": {
           "width": 0
          },
          "values": [
           [
            "5000",
            "5000",
            "5000",
            "5000",
            "5000"
           ],
           [
            "0.565",
            "0.565",
            "0.565",
            "0.565",
            "0.565"
           ],
           [
            "15.0",
            "10.0",
            "5.0",
            "2.5",
            "1.0"
           ],
           [
            "0.576",
            "0.655",
            "0.786",
            "0.917",
            "1.091"
           ],
           [
            "Sample looks Gaussian (fail to reject H0)",
            "Sample looks Gaussian (fail to reject H0)",
            "Sample looks Gaussian (fail to reject H0)",
            "Sample looks Gaussian (fail to reject H0)",
            "Sample looks Gaussian (fail to reject H0)"
           ]
          ]
         },
         "columnwidth": [
          0.3,
          0.25,
          0.3,
          0.25,
          0.5
         ],
         "header": {
          "align": "center",
          "fill": {
           "color": "rgba(42,63,95,0.8)"
          },
          "font": {
           "color": "#ffffff",
           "size": 12
          },
          "line": {
           "width": 0
          },
          "values": [
           "<b>Sample Size</b>",
           "<b>Statistic</b>",
           "<b>Significance Level</b>",
           "<b>Critical Value</b>",
           "<b>Comment</b>"
          ]
         },
         "type": "table",
         "uid": "03f57132-89bd-447a-8349-9ba3c7c9445b"
        }
       ],
       "layout": {
        "height": 415,
        "title": {
         "text": "Anderson-Darling Test"
        },
        "width": 1000
       }
      },
      "text/html": [
       "<div id=\"4e3c4264-0a73-48cc-a1dc-b8f7a40996ee\" style=\"height: 415px; width: 1000px;\" class=\"plotly-graph-div\"></div><script type=\"text/javascript\">require([\"plotly\"], function(Plotly) { window.PLOTLYENV=window.PLOTLYENV || {};window.PLOTLYENV.BASE_URL=\"https://plot.ly\";\n",
       "if (document.getElementById(\"4e3c4264-0a73-48cc-a1dc-b8f7a40996ee\")) {\n",
       "    Plotly.newPlot(\"4e3c4264-0a73-48cc-a1dc-b8f7a40996ee\", [{\"cells\": {\"align\": \"center\", \"fill\": {\"color\": [[\"#EBF0F8\", \"#ffffff\", \"#EBF0F8\", \"#ffffff\", \"#EBF0F8\"]]}, \"height\": 40, \"line\": {\"width\": 0}, \"values\": [[\"5000\", \"5000\", \"5000\", \"5000\", \"5000\"], [\"0.565\", \"0.565\", \"0.565\", \"0.565\", \"0.565\"], [\"15.0\", \"10.0\", \"5.0\", \"2.5\", \"1.0\"], [\"0.576\", \"0.655\", \"0.786\", \"0.917\", \"1.091\"], [\"Sample looks Gaussian (fail to reject H0)\", \"Sample looks Gaussian (fail to reject H0)\", \"Sample looks Gaussian (fail to reject H0)\", \"Sample looks Gaussian (fail to reject H0)\", \"Sample looks Gaussian (fail to reject H0)\"]]}, \"columnwidth\": [0.3, 0.25, 0.3, 0.25, 0.5], \"header\": {\"align\": \"center\", \"fill\": {\"color\": \"rgba(42,63,95,0.8)\"}, \"font\": {\"color\": \"#ffffff\", \"size\": 12}, \"line\": {\"width\": 0}, \"values\": [\"<b>Sample Size</b>\", \"<b>Statistic</b>\", \"<b>Significance Level</b>\", \"<b>Critical Value</b>\", \"<b>Comment</b>\"]}, \"type\": \"table\", \"uid\": \"ba734496-480b-4835-8275-f7db939bb7f1\"}], {\"height\": 415, \"title\": {\"text\": \"Anderson-Darling Test\"}, \"width\": 1000}, {\"showLink\": false, \"linkText\": \"Export to plot.ly\", \"plotlyServerURL\": \"https://plot.ly\"}); \n",
       "}\n",
       "});</script>"
      ],
      "text/vnd.plotly.v1+html": [
       "<div id=\"4e3c4264-0a73-48cc-a1dc-b8f7a40996ee\" style=\"height: 415px; width: 1000px;\" class=\"plotly-graph-div\"></div><script type=\"text/javascript\">require([\"plotly\"], function(Plotly) { window.PLOTLYENV=window.PLOTLYENV || {};window.PLOTLYENV.BASE_URL=\"https://plot.ly\";\n",
       "if (document.getElementById(\"4e3c4264-0a73-48cc-a1dc-b8f7a40996ee\")) {\n",
       "    Plotly.newPlot(\"4e3c4264-0a73-48cc-a1dc-b8f7a40996ee\", [{\"cells\": {\"align\": \"center\", \"fill\": {\"color\": [[\"#EBF0F8\", \"#ffffff\", \"#EBF0F8\", \"#ffffff\", \"#EBF0F8\"]]}, \"height\": 40, \"line\": {\"width\": 0}, \"values\": [[\"5000\", \"5000\", \"5000\", \"5000\", \"5000\"], [\"0.565\", \"0.565\", \"0.565\", \"0.565\", \"0.565\"], [\"15.0\", \"10.0\", \"5.0\", \"2.5\", \"1.0\"], [\"0.576\", \"0.655\", \"0.786\", \"0.917\", \"1.091\"], [\"Sample looks Gaussian (fail to reject H0)\", \"Sample looks Gaussian (fail to reject H0)\", \"Sample looks Gaussian (fail to reject H0)\", \"Sample looks Gaussian (fail to reject H0)\", \"Sample looks Gaussian (fail to reject H0)\"]]}, \"columnwidth\": [0.3, 0.25, 0.3, 0.25, 0.5], \"header\": {\"align\": \"center\", \"fill\": {\"color\": \"rgba(42,63,95,0.8)\"}, \"font\": {\"color\": \"#ffffff\", \"size\": 12}, \"line\": {\"width\": 0}, \"values\": [\"<b>Sample Size</b>\", \"<b>Statistic</b>\", \"<b>Significance Level</b>\", \"<b>Critical Value</b>\", \"<b>Comment</b>\"]}, \"type\": \"table\", \"uid\": \"ba734496-480b-4835-8275-f7db939bb7f1\"}], {\"height\": 415, \"title\": {\"text\": \"Anderson-Darling Test\"}, \"width\": 1000}, {\"showLink\": false, \"linkText\": \"Export to plot.ly\", \"plotlyServerURL\": \"https://plot.ly\"}); \n",
       "}\n",
       "});</script>"
      ]
     },
     "metadata": {},
     "output_type": "display_data"
    }
   ],
   "source": [
    "# Normality test\n",
    "test = \"Anderson-Darling Test\"\n",
    "result = anderson(samples_i_t)\n",
    "\n",
    "# Round results\n",
    "stat = round(result.statistic, 3)\n",
    "\n",
    "# Create table\n",
    "result_mat = []\n",
    "for i in range(len(result.critical_values)):\n",
    "    sl, cv = result.significance_level[i], result.critical_values[i]\n",
    "    if result.statistic < result.critical_values[i]:\n",
    "        msg = 'Sample looks Gaussian (fail to reject H0)'\n",
    "    else:\n",
    "        msg = 'Sample does not look Gaussian (reject H0)'\n",
    "    result_mat.append([len(samples_i_t), stat, sl, cv, msg])\n",
    "\n",
    "trace = go.Table(\n",
    "    header=dict(values=['<b>Sample Size</b>', '<b>Statistic</b>', '<b>Significance Level</b>', '<b>Critical Value</b>', '<b>Comment</b>'],\n",
    "                line = dict(width=0),\n",
    "                fill = dict(color='rgba(42,63,95,0.8)'),\n",
    "                align = 'center',\n",
    "                font = dict(\n",
    "                    color = '#ffffff',\n",
    "                    size = 12\n",
    "                )),\n",
    "    cells=dict(values=np.array(result_mat).T,\n",
    "               line = dict(width=0),\n",
    "               fill = dict(color=[['#EBF0F8', '#ffffff', '#EBF0F8', '#ffffff', '#EBF0F8']]),\n",
    "               align = 'center',\n",
    "               height = 40),\n",
    "    columnwidth=[0.3, 0.25, 0.3, 0.25, 0.5])\n",
    "       \n",
    "data = [trace]\n",
    "\n",
    "layout = dict(title=test, height=415, width=1000)\n",
    "\n",
    "andar_table = dict(data=data, layout=layout)\n",
    "\n",
    "# Plot table\n",
    "py.offline.iplot(andar_table)"
   ]
  },
  {
   "cell_type": "markdown",
   "metadata": {},
   "source": [
    "## 4.2 Rejection sampling"
   ]
  },
  {
   "cell_type": "markdown",
   "metadata": {},
   "source": [
    "### Plot Target f(x) and  proposal g(x)"
   ]
  },
  {
   "cell_type": "code",
   "execution_count": 65,
   "metadata": {},
   "outputs": [
    {
     "data": {
      "image/png": "[encoded data removed]",
      "text/plain": [
       "<Figure size 720x360 with 2 Axes>"
      ]
     },
     "metadata": {
      "needs_background": "light"
     },
     "output_type": "display_data"
    }
   ],
   "source": [
    "# Absolute Normal Distribution\n",
    "y = np.linspace(0, 5, num=1000)\n",
    "\n",
    "figure(figsize=(10,5))\n",
    "\n",
    "subplot(221, title=\"f(x)\")\n",
    "plt.bar(y,stats.halfnorm.pdf(y, loc=0,scale=1))\n",
    "\n",
    "subplot(222, title=\"g(x)\") \n",
    "plt.bar(y,stats.expon.pdf(y, scale=1));"
   ]
  },
  {
   "cell_type": "markdown",
   "metadata": {},
   "source": [
    "### Plot f(x) and shifted proposal c*g(x) "
   ]
  },
  {
   "cell_type": "code",
   "execution_count": 66,
   "metadata": {},
   "outputs": [
    {
     "data": {
      "image/png": "[encoded data removed]",
      "text/plain": [
       "<Figure size 720x360 with 1 Axes>"
      ]
     },
     "metadata": {
      "needs_background": "light"
     },
     "output_type": "display_data"
    }
   ],
   "source": [
    "# Calculate Scale factor c --> f(y)/f(g)\n",
    "c = 1*np.max(stats.halfnorm.pdf(y)/stats.expon.pdf(y))\n",
    "\n",
    "# Plot it\n",
    "plt.figure(figsize=(10,5))\n",
    "plt.plot(y, c*stats.expon.pdf(y), label=\"c*g(x)\")\n",
    "plt.plot(y, stats.halfnorm.pdf(y), label=\"f(x)\")\n",
    "plt.xlim(0,5)\n",
    "plt.legend();"
   ]
  },
  {
   "cell_type": "markdown",
   "metadata": {},
   "source": [
    "### Generate Samples"
   ]
  },
  {
   "cell_type": "code",
   "execution_count": 67,
   "metadata": {},
   "outputs": [],
   "source": [
    "tic = timeit.default_timer()\n",
    "\n",
    "# Generate n_samples samples \n",
    "samples_r_s = []\n",
    "for i in range(n_samples):\n",
    "    samples_r_s.append(sample_normal_rejection2(mu, sigma))  \n",
    "\n",
    "toc = timeit.default_timer()"
   ]
  },
  {
   "cell_type": "markdown",
   "metadata": {},
   "source": [
    "###  Histogram Plot"
   ]
  },
  {
   "cell_type": "code",
   "execution_count": 68,
   "metadata": {},
   "outputs": [
    {
     "name": "stdout",
     "output_type": "stream",
     "text": [
      "running time = 2.037, mean = -0.016, std_dev = 1.007\n"
     ]
    },
    {
     "data": {
      "image/png": "[encoded data removed]",
      "text/plain": [
       "<Figure size 432x288 with 1 Axes>"
      ]
     },
     "metadata": {
      "needs_background": "light"
     },
     "output_type": "display_data"
    }
   ],
   "source": [
    "# Plot n_samples samples \n",
    "\n",
    "sns.distplot(samples_r_s, bins=40).set_title(str(n_samples)+ \" samples using Rejection sampling\");\n",
    "\n",
    "print(\"running time = %.3f, mean = %.3f, std_dev = %.3f\" % (toc-tic, np.mean(samples_r_s), np.std(samples_r_s)));"
   ]
  },
  {
   "cell_type": "markdown",
   "metadata": {},
   "source": [
    "### Q-Q Plot and P-P Plot"
   ]
  },
  {
   "cell_type": "code",
   "execution_count": 69,
   "metadata": {},
   "outputs": [
    {
     "data": {
      "image/png": "[encoded data removed]",
      "text/plain": [
       "<Figure size 720x288 with 2 Axes>"
      ]
     },
     "metadata": {
      "needs_background": "light"
     },
     "output_type": "display_data"
    }
   ],
   "source": [
    "# Plot q-q and p-p plot\n",
    "fig, ax = plt.subplots(1, 2, figsize=(10, 4))\n",
    "probplot = sm.ProbPlot(np.array(samples_r_s), dist=norm, fit=True)\n",
    "probplot.ppplot(line='45', ax=ax[0])\n",
    "probplot.qqplot(line='45', ax=ax[1])\n",
    "ax[0].set_title('P-P Plot')\n",
    "ax[1].set_title('Q-Q Plot');"
   ]
  },
  {
   "cell_type": "markdown",
   "metadata": {},
   "source": [
    "### Boxplot"
   ]
  },
  {
   "cell_type": "code",
   "execution_count": 70,
   "metadata": {},
   "outputs": [
    {
     "data": {
      "image/png": "[encoded data removed]",
      "text/plain": [
       "<Figure size 432x288 with 1 Axes>"
      ]
     },
     "metadata": {
      "needs_background": "light"
     },
     "output_type": "display_data"
    }
   ],
   "source": [
    "# Plot boxplot plot\n",
    "sns.boxplot(samples_r_s, width=4);"
   ]
  },
  {
   "cell_type": "markdown",
   "metadata": {},
   "source": [
    "### Empirical Cumulative Distribution Function Plot"
   ]
  },
  {
   "cell_type": "code",
   "execution_count": 71,
   "metadata": {},
   "outputs": [
    {
     "data": {
      "image/png": "[encoded data removed]",
      "text/plain": [
       "<Figure size 432x288 with 1 Axes>"
      ]
     },
     "metadata": {
      "needs_background": "light"
     },
     "output_type": "display_data"
    }
   ],
   "source": [
    "# Plot Empirical Cumulative Distribution vs Normal Cumulative Distribution\n",
    "x=np.linspace(-5, 5)\n",
    "\n",
    "# Plot normal cdf\n",
    "plot_normal(x, mu=mu, sigma=sigma, cdf=True, label=\"normal cdf\")\n",
    "\n",
    "# Plor ecdf\n",
    "ecdf = sm.distributions.ECDF(samples_r_s)\n",
    "ecdf = ecdf(x)\n",
    "plt.step(x, ecdf, label=\"ecdf\")\n",
    "\n",
    "plt.legend();"
   ]
  },
  {
   "cell_type": "markdown",
   "metadata": {},
   "source": [
    "### Shapiro-Wilk Test"
   ]
  },
  {
   "cell_type": "code",
   "execution_count": 72,
   "metadata": {},
   "outputs": [
    {
     "data": {
      "application/vnd.plotly.v1+json": {
       "config": {
        "linkText": "Export to plot.ly",
        "plotlyServerURL": "https://plot.ly",
        "showLink": false
       },
       "data": [
        {
         "cells": {
          "align": "center",
          "fill": {
           "color": [
            [
             "#EBF0F8",
             "#ffffff",
             "#EBF0F8",
             "#ffffff"
            ]
           ]
          },
          "height": 40,
          "line": {
           "width": 0
          },
          "values": [
           "5000",
           "1.0",
           "0.687",
           "Sample looks Gaussian (fail to reject H0)"
          ]
         },
         "columnwidth": [
          0.3,
          0.25,
          0.3,
          0.45
         ],
         "header": {
          "align": "center",
          "fill": {
           "color": "rgba(42,63,95,0.8)"
          },
          "font": {
           "color": "#ffffff",
           "size": 12
          },
          "line": {
           "width": 0
          },
          "values": [
           "<b>Sample Size</b>",
           "<b>Statistic</b>",
           "<b>p-Value</b>",
           "<b>Comment</b>"
          ]
         },
         "type": "table",
         "uid": "93fd753e-348a-43d2-8e1f-664e0c237646"
        }
       ],
       "layout": {
        "height": 260,
        "title": {
         "text": "Shapiro-Wilk Test"
        },
        "width": 1000
       }
      },
      "text/html": [
       "<div id=\"4310683b-5536-4bc3-a859-bd7e61245093\" style=\"height: 260px; width: 1000px;\" class=\"plotly-graph-div\"></div><script type=\"text/javascript\">require([\"plotly\"], function(Plotly) { window.PLOTLYENV=window.PLOTLYENV || {};window.PLOTLYENV.BASE_URL=\"https://plot.ly\";\n",
       "if (document.getElementById(\"4310683b-5536-4bc3-a859-bd7e61245093\")) {\n",
       "    Plotly.newPlot(\"4310683b-5536-4bc3-a859-bd7e61245093\", [{\"cells\": {\"align\": \"center\", \"fill\": {\"color\": [[\"#EBF0F8\", \"#ffffff\", \"#EBF0F8\", \"#ffffff\"]]}, \"height\": 40, \"line\": {\"width\": 0}, \"values\": [\"5000\", \"1.0\", \"0.687\", \"Sample looks Gaussian (fail to reject H0)\"]}, \"columnwidth\": [0.3, 0.25, 0.3, 0.45], \"header\": {\"align\": \"center\", \"fill\": {\"color\": \"rgba(42,63,95,0.8)\"}, \"font\": {\"color\": \"#ffffff\", \"size\": 12}, \"line\": {\"width\": 0}, \"values\": [\"<b>Sample Size</b>\", \"<b>Statistic</b>\", \"<b>p-Value</b>\", \"<b>Comment</b>\"]}, \"type\": \"table\", \"uid\": \"2d4748b5-dd49-4b89-b68b-ef1d078ccc2d\"}], {\"height\": 260, \"title\": {\"text\": \"Shapiro-Wilk Test\"}, \"width\": 1000}, {\"showLink\": false, \"linkText\": \"Export to plot.ly\", \"plotlyServerURL\": \"https://plot.ly\"}); \n",
       "}\n",
       "});</script>"
      ],
      "text/vnd.plotly.v1+html": [
       "<div id=\"4310683b-5536-4bc3-a859-bd7e61245093\" style=\"height: 260px; width: 1000px;\" class=\"plotly-graph-div\"></div><script type=\"text/javascript\">require([\"plotly\"], function(Plotly) { window.PLOTLYENV=window.PLOTLYENV || {};window.PLOTLYENV.BASE_URL=\"https://plot.ly\";\n",
       "if (document.getElementById(\"4310683b-5536-4bc3-a859-bd7e61245093\")) {\n",
       "    Plotly.newPlot(\"4310683b-5536-4bc3-a859-bd7e61245093\", [{\"cells\": {\"align\": \"center\", \"fill\": {\"color\": [[\"#EBF0F8\", \"#ffffff\", \"#EBF0F8\", \"#ffffff\"]]}, \"height\": 40, \"line\": {\"width\": 0}, \"values\": [\"5000\", \"1.0\", \"0.687\", \"Sample looks Gaussian (fail to reject H0)\"]}, \"columnwidth\": [0.3, 0.25, 0.3, 0.45], \"header\": {\"align\": \"center\", \"fill\": {\"color\": \"rgba(42,63,95,0.8)\"}, \"font\": {\"color\": \"#ffffff\", \"size\": 12}, \"line\": {\"width\": 0}, \"values\": [\"<b>Sample Size</b>\", \"<b>Statistic</b>\", \"<b>p-Value</b>\", \"<b>Comment</b>\"]}, \"type\": \"table\", \"uid\": \"2d4748b5-dd49-4b89-b68b-ef1d078ccc2d\"}], {\"height\": 260, \"title\": {\"text\": \"Shapiro-Wilk Test\"}, \"width\": 1000}, {\"showLink\": false, \"linkText\": \"Export to plot.ly\", \"plotlyServerURL\": \"https://plot.ly\"}); \n",
       "}\n",
       "});</script>"
      ]
     },
     "metadata": {},
     "output_type": "display_data"
    }
   ],
   "source": [
    "# Normality test\n",
    "test = \"Shapiro-Wilk Test\"\n",
    "stat, p = shapiro(samples_r_s)\n",
    "\n",
    "# Round results\n",
    "stat = round(stat, 3)\n",
    "p = round(p, 3)\n",
    "\n",
    "# Interpre results\n",
    "alpha = 0.05\n",
    "if p > alpha:\n",
    "    msg = 'Sample looks Gaussian (fail to reject H0)'\n",
    "else:\n",
    "    msg = \"Sample does not look Gaussian (reject H0)\"\n",
    "\n",
    "# Create table\n",
    "result_mat = [len(samples_r_s), stat, p, msg]\n",
    "\n",
    "trace = go.Table(\n",
    "    header=dict(values=['<b>Sample Size</b>', '<b>Statistic</b>', '<b>p-Value</b>', '<b>Comment</b>'],\n",
    "                line = dict(width=0),\n",
    "                fill = dict(color='rgba(42,63,95,0.8)'),\n",
    "                align = 'center',\n",
    "                font = dict(\n",
    "                    color = '#ffffff',\n",
    "                    size = 12\n",
    "                )),\n",
    "    cells=dict(values=np.array(result_mat).T,\n",
    "               line = dict(width=0),\n",
    "               fill = dict(color=[['#EBF0F8', '#ffffff', '#EBF0F8', '#ffffff']]),\n",
    "               align = 'center',\n",
    "               height = 40),\n",
    "    columnwidth=[0.3, 0.25, 0.3, 0.45])\n",
    "       \n",
    "data = [trace]\n",
    "\n",
    "layout = dict(title=test, height=260, width=1000)\n",
    "\n",
    "sw_table = dict(data=data, layout=layout)\n",
    "\n",
    "# Plot table\n",
    "py.offline.iplot(sw_table)"
   ]
  },
  {
   "cell_type": "markdown",
   "metadata": {},
   "source": [
    "### D’Agostino’s K^2 Test"
   ]
  },
  {
   "cell_type": "code",
   "execution_count": 73,
   "metadata": {},
   "outputs": [
    {
     "data": {
      "application/vnd.plotly.v1+json": {
       "config": {
        "linkText": "Export to plot.ly",
        "plotlyServerURL": "https://plot.ly",
        "showLink": false
       },
       "data": [
        {
         "cells": {
          "align": "center",
          "fill": {
           "color": [
            [
             "#EBF0F8",
             "#ffffff",
             "#EBF0F8",
             "#ffffff"
            ]
           ]
          },
          "height": 40,
          "line": {
           "width": 0
          },
          "values": [
           "5000",
           "1.594",
           "0.451",
           "Sample looks Gaussian (fail to reject H0)"
          ]
         },
         "columnwidth": [
          0.3,
          0.25,
          0.3,
          0.45
         ],
         "header": {
          "align": "center",
          "fill": {
           "color": "rgba(42,63,95,0.8)"
          },
          "font": {
           "color": "#ffffff",
           "size": 12
          },
          "line": {
           "width": 0
          },
          "values": [
           "<b>Sample Size</b>",
           "<b>Statistic</b>",
           "<b>p-Value</b>",
           "<b>Comment</b>"
          ]
         },
         "type": "table",
         "uid": "da2553eb-c44f-4b33-86d7-747d1e0e7b4a"
        }
       ],
       "layout": {
        "height": 260,
        "title": {
         "text": "D’Agostino’s K^2 Test"
        },
        "width": 1000
       }
      },
      "text/html": [
       "<div id=\"f5f65526-64b6-4dce-ad99-68df128d2f1b\" style=\"height: 260px; width: 1000px;\" class=\"plotly-graph-div\"></div><script type=\"text/javascript\">require([\"plotly\"], function(Plotly) { window.PLOTLYENV=window.PLOTLYENV || {};window.PLOTLYENV.BASE_URL=\"https://plot.ly\";\n",
       "if (document.getElementById(\"f5f65526-64b6-4dce-ad99-68df128d2f1b\")) {\n",
       "    Plotly.newPlot(\"f5f65526-64b6-4dce-ad99-68df128d2f1b\", [{\"cells\": {\"align\": \"center\", \"fill\": {\"color\": [[\"#EBF0F8\", \"#ffffff\", \"#EBF0F8\", \"#ffffff\"]]}, \"height\": 40, \"line\": {\"width\": 0}, \"values\": [\"5000\", \"1.594\", \"0.451\", \"Sample looks Gaussian (fail to reject H0)\"]}, \"columnwidth\": [0.3, 0.25, 0.3, 0.45], \"header\": {\"align\": \"center\", \"fill\": {\"color\": \"rgba(42,63,95,0.8)\"}, \"font\": {\"color\": \"#ffffff\", \"size\": 12}, \"line\": {\"width\": 0}, \"values\": [\"<b>Sample Size</b>\", \"<b>Statistic</b>\", \"<b>p-Value</b>\", \"<b>Comment</b>\"]}, \"type\": \"table\", \"uid\": \"05c32bf3-0eaf-474c-9a21-1b456d72ab81\"}], {\"height\": 260, \"title\": {\"text\": \"D\\u2019Agostino\\u2019s K^2 Test\"}, \"width\": 1000}, {\"showLink\": false, \"linkText\": \"Export to plot.ly\", \"plotlyServerURL\": \"https://plot.ly\"}); \n",
       "}\n",
       "});</script>"
      ],
      "text/vnd.plotly.v1+html": [
       "<div id=\"f5f65526-64b6-4dce-ad99-68df128d2f1b\" style=\"height: 260px; width: 1000px;\" class=\"plotly-graph-div\"></div><script type=\"text/javascript\">require([\"plotly\"], function(Plotly) { window.PLOTLYENV=window.PLOTLYENV || {};window.PLOTLYENV.BASE_URL=\"https://plot.ly\";\n",
       "if (document.getElementById(\"f5f65526-64b6-4dce-ad99-68df128d2f1b\")) {\n",
       "    Plotly.newPlot(\"f5f65526-64b6-4dce-ad99-68df128d2f1b\", [{\"cells\": {\"align\": \"center\", \"fill\": {\"color\": [[\"#EBF0F8\", \"#ffffff\", \"#EBF0F8\", \"#ffffff\"]]}, \"height\": 40, \"line\": {\"width\": 0}, \"values\": [\"5000\", \"1.594\", \"0.451\", \"Sample looks Gaussian (fail to reject H0)\"]}, \"columnwidth\": [0.3, 0.25, 0.3, 0.45], \"header\": {\"align\": \"center\", \"fill\": {\"color\": \"rgba(42,63,95,0.8)\"}, \"font\": {\"color\": \"#ffffff\", \"size\": 12}, \"line\": {\"width\": 0}, \"values\": [\"<b>Sample Size</b>\", \"<b>Statistic</b>\", \"<b>p-Value</b>\", \"<b>Comment</b>\"]}, \"type\": \"table\", \"uid\": \"05c32bf3-0eaf-474c-9a21-1b456d72ab81\"}], {\"height\": 260, \"title\": {\"text\": \"D\\u2019Agostino\\u2019s K^2 Test\"}, \"width\": 1000}, {\"showLink\": false, \"linkText\": \"Export to plot.ly\", \"plotlyServerURL\": \"https://plot.ly\"}); \n",
       "}\n",
       "});</script>"
      ]
     },
     "metadata": {},
     "output_type": "display_data"
    }
   ],
   "source": [
    "# Normality test\n",
    "test = \"D’Agostino’s K^2 Test\"\n",
    "stat, p = normaltest(samples_r_s)\n",
    "\n",
    "# Round results\n",
    "stat = round(stat, 3)\n",
    "p = round(p, 3)\n",
    "\n",
    "# Interpre results\n",
    "alpha = 0.05\n",
    "if p > alpha:\n",
    "    msg = 'Sample looks Gaussian (fail to reject H0)'\n",
    "else:\n",
    "    msg = \"Sample does not look Gaussian (reject H0)\"\n",
    "\n",
    "# Create table\n",
    "result_mat = [len(samples_r_s), stat, p, msg]\n",
    "\n",
    "trace = go.Table(\n",
    "    header=dict(values=['<b>Sample Size</b>', '<b>Statistic</b>', '<b>p-Value</b>', '<b>Comment</b>'],\n",
    "                line = dict(width=0),\n",
    "                fill = dict(color='rgba(42,63,95,0.8)'),\n",
    "                align = 'center',\n",
    "                font = dict(\n",
    "                    color = '#ffffff',\n",
    "                    size = 12\n",
    "                )),\n",
    "    cells=dict(values=np.array(result_mat).T,\n",
    "               line = dict(width=0),\n",
    "               fill = dict(color=[['#EBF0F8', '#ffffff', '#EBF0F8', '#ffffff']]),\n",
    "               align = 'center',\n",
    "               height = 40),\n",
    "    columnwidth=[0.3, 0.25, 0.3, 0.45])\n",
    "       \n",
    "data = [trace]\n",
    "\n",
    "layout = dict(title=test, height=260, width=1000)\n",
    "\n",
    "norm_table = dict(data=data, layout=layout)\n",
    "\n",
    "# Plot table\n",
    "py.offline.iplot(norm_table)"
   ]
  },
  {
   "cell_type": "markdown",
   "metadata": {},
   "source": [
    "### Jarque-Beta Test"
   ]
  },
  {
   "cell_type": "code",
   "execution_count": 74,
   "metadata": {},
   "outputs": [
    {
     "data": {
      "application/vnd.plotly.v1+json": {
       "config": {
        "linkText": "Export to plot.ly",
        "plotlyServerURL": "https://plot.ly",
        "showLink": false
       },
       "data": [
        {
         "cells": {
          "align": "center",
          "fill": {
           "color": [
            [
             "#EBF0F8",
             "#ffffff",
             "#EBF0F8",
             "#ffffff"
            ]
           ]
          },
          "height": 40,
          "line": {
           "width": 0
          },
          "values": [
           "5000",
           "1.59",
           "0.452",
           "Sample looks Gaussian (fail to reject H0)"
          ]
         },
         "columnwidth": [
          0.3,
          0.25,
          0.3,
          0.45
         ],
         "header": {
          "align": "center",
          "fill": {
           "color": "rgba(42,63,95,0.8)"
          },
          "font": {
           "color": "#ffffff",
           "size": 12
          },
          "line": {
           "width": 0
          },
          "values": [
           "<b>Sample Size</b>",
           "<b>Statistic</b>",
           "<b>p-Value</b>",
           "<b>Comment</b>"
          ]
         },
         "type": "table",
         "uid": "30df2836-a4dd-448a-970c-a46a725f58d1"
        }
       ],
       "layout": {
        "height": 260,
        "title": {
         "text": "Jarque-Beta Test"
        },
        "width": 1000
       }
      },
      "text/html": [
       "<div id=\"8e5f8266-6562-4123-a6a7-202dba822dbc\" style=\"height: 260px; width: 1000px;\" class=\"plotly-graph-div\"></div><script type=\"text/javascript\">require([\"plotly\"], function(Plotly) { window.PLOTLYENV=window.PLOTLYENV || {};window.PLOTLYENV.BASE_URL=\"https://plot.ly\";\n",
       "if (document.getElementById(\"8e5f8266-6562-4123-a6a7-202dba822dbc\")) {\n",
       "    Plotly.newPlot(\"8e5f8266-6562-4123-a6a7-202dba822dbc\", [{\"cells\": {\"align\": \"center\", \"fill\": {\"color\": [[\"#EBF0F8\", \"#ffffff\", \"#EBF0F8\", \"#ffffff\"]]}, \"height\": 40, \"line\": {\"width\": 0}, \"values\": [\"5000\", \"1.59\", \"0.452\", \"Sample looks Gaussian (fail to reject H0)\"]}, \"columnwidth\": [0.3, 0.25, 0.3, 0.45], \"header\": {\"align\": \"center\", \"fill\": {\"color\": \"rgba(42,63,95,0.8)\"}, \"font\": {\"color\": \"#ffffff\", \"size\": 12}, \"line\": {\"width\": 0}, \"values\": [\"<b>Sample Size</b>\", \"<b>Statistic</b>\", \"<b>p-Value</b>\", \"<b>Comment</b>\"]}, \"type\": \"table\", \"uid\": \"62a01abf-bdb6-44ce-aff6-5af2fbe6ecb1\"}], {\"height\": 260, \"title\": {\"text\": \"Jarque-Beta Test\"}, \"width\": 1000}, {\"showLink\": false, \"linkText\": \"Export to plot.ly\", \"plotlyServerURL\": \"https://plot.ly\"}); \n",
       "}\n",
       "});</script>"
      ],
      "text/vnd.plotly.v1+html": [
       "<div id=\"8e5f8266-6562-4123-a6a7-202dba822dbc\" style=\"height: 260px; width: 1000px;\" class=\"plotly-graph-div\"></div><script type=\"text/javascript\">require([\"plotly\"], function(Plotly) { window.PLOTLYENV=window.PLOTLYENV || {};window.PLOTLYENV.BASE_URL=\"https://plot.ly\";\n",
       "if (document.getElementById(\"8e5f8266-6562-4123-a6a7-202dba822dbc\")) {\n",
       "    Plotly.newPlot(\"8e5f8266-6562-4123-a6a7-202dba822dbc\", [{\"cells\": {\"align\": \"center\", \"fill\": {\"color\": [[\"#EBF0F8\", \"#ffffff\", \"#EBF0F8\", \"#ffffff\"]]}, \"height\": 40, \"line\": {\"width\": 0}, \"values\": [\"5000\", \"1.59\", \"0.452\", \"Sample looks Gaussian (fail to reject H0)\"]}, \"columnwidth\": [0.3, 0.25, 0.3, 0.45], \"header\": {\"align\": \"center\", \"fill\": {\"color\": \"rgba(42,63,95,0.8)\"}, \"font\": {\"color\": \"#ffffff\", \"size\": 12}, \"line\": {\"width\": 0}, \"values\": [\"<b>Sample Size</b>\", \"<b>Statistic</b>\", \"<b>p-Value</b>\", \"<b>Comment</b>\"]}, \"type\": \"table\", \"uid\": \"62a01abf-bdb6-44ce-aff6-5af2fbe6ecb1\"}], {\"height\": 260, \"title\": {\"text\": \"Jarque-Beta Test\"}, \"width\": 1000}, {\"showLink\": false, \"linkText\": \"Export to plot.ly\", \"plotlyServerURL\": \"https://plot.ly\"}); \n",
       "}\n",
       "});</script>"
      ]
     },
     "metadata": {},
     "output_type": "display_data"
    }
   ],
   "source": [
    "# Normality test\n",
    "test = \"Jarque-Beta Test\"\n",
    "stat, p = stats.jarque_bera(samples_r_s)\n",
    "\n",
    "# Round results\n",
    "stat = round(stat, 3)\n",
    "p = round(p, 3)\n",
    "\n",
    "# Interpre results\n",
    "alpha = 0.05\n",
    "if p > alpha:\n",
    "    msg = 'Sample looks Gaussian (fail to reject H0)'\n",
    "else:\n",
    "    msg = \"Sample does not look Gaussian (reject H0)\"\n",
    "\n",
    "# Create table\n",
    "result_mat = [len(samples_r_s), stat, p, msg]\n",
    "\n",
    "trace = go.Table(\n",
    "    header=dict(values=['<b>Sample Size</b>', '<b>Statistic</b>', '<b>p-Value</b>', '<b>Comment</b>'],\n",
    "                line = dict(width=0),\n",
    "                fill = dict(color='rgba(42,63,95,0.8)'),\n",
    "                align = 'center',\n",
    "                font = dict(\n",
    "                    color = '#ffffff',\n",
    "                    size = 12\n",
    "                )),\n",
    "    cells=dict(values=np.array(result_mat).T,\n",
    "               line = dict(width=0),\n",
    "               fill = dict(color=[['#EBF0F8', '#ffffff', '#EBF0F8', '#ffffff']]),\n",
    "               align = 'center',\n",
    "               height = 40),\n",
    "    columnwidth=[0.3, 0.25, 0.3, 0.45])\n",
    "       \n",
    "data = [trace]\n",
    "\n",
    "layout = dict(title=test, height=260, width=1000)\n",
    "\n",
    "jb_table = dict(data=data, layout=layout)\n",
    "\n",
    "# Plot table\n",
    "py.offline.iplot(jb_table)"
   ]
  },
  {
   "cell_type": "markdown",
   "metadata": {},
   "source": [
    "### Kolmogorov Smirnov Test"
   ]
  },
  {
   "cell_type": "code",
   "execution_count": 75,
   "metadata": {},
   "outputs": [
    {
     "data": {
      "application/vnd.plotly.v1+json": {
       "config": {
        "linkText": "Export to plot.ly",
        "plotlyServerURL": "https://plot.ly",
        "showLink": false
       },
       "data": [
        {
         "cells": {
          "align": "center",
          "fill": {
           "color": [
            [
             "#EBF0F8",
             "#ffffff",
             "#EBF0F8",
             "#ffffff"
            ]
           ]
          },
          "height": 40,
          "line": {
           "width": 0
          },
          "values": [
           "5000",
           "0.015",
           "0.109",
           "Sample looks Gaussian (fail to reject H0)"
          ]
         },
         "columnwidth": [
          0.3,
          0.25,
          0.3,
          0.45
         ],
         "header": {
          "align": "center",
          "fill": {
           "color": "rgba(42,63,95,0.8)"
          },
          "font": {
           "color": "#ffffff",
           "size": 12
          },
          "line": {
           "width": 0
          },
          "values": [
           "<b>Sample Size</b>",
           "<b>Statistic</b>",
           "<b>p-Value</b>",
           "<b>Comment</b>"
          ]
         },
         "type": "table",
         "uid": "35a1eefb-749b-43f6-a9a8-5d80b75cd7bd"
        }
       ],
       "layout": {
        "height": 260,
        "title": {
         "text": "Kolmogorov Smirnov Test"
        },
        "width": 1000
       }
      },
      "text/html": [
       "<div id=\"d0cff98f-af3a-4ec2-84ae-ef4ee226ebc1\" style=\"height: 260px; width: 1000px;\" class=\"plotly-graph-div\"></div><script type=\"text/javascript\">require([\"plotly\"], function(Plotly) { window.PLOTLYENV=window.PLOTLYENV || {};window.PLOTLYENV.BASE_URL=\"https://plot.ly\";\n",
       "if (document.getElementById(\"d0cff98f-af3a-4ec2-84ae-ef4ee226ebc1\")) {\n",
       "    Plotly.newPlot(\"d0cff98f-af3a-4ec2-84ae-ef4ee226ebc1\", [{\"cells\": {\"align\": \"center\", \"fill\": {\"color\": [[\"#EBF0F8\", \"#ffffff\", \"#EBF0F8\", \"#ffffff\"]]}, \"height\": 40, \"line\": {\"width\": 0}, \"values\": [\"5000\", \"0.015\", \"0.109\", \"Sample looks Gaussian (fail to reject H0)\"]}, \"columnwidth\": [0.3, 0.25, 0.3, 0.45], \"header\": {\"align\": \"center\", \"fill\": {\"color\": \"rgba(42,63,95,0.8)\"}, \"font\": {\"color\": \"#ffffff\", \"size\": 12}, \"line\": {\"width\": 0}, \"values\": [\"<b>Sample Size</b>\", \"<b>Statistic</b>\", \"<b>p-Value</b>\", \"<b>Comment</b>\"]}, \"type\": \"table\", \"uid\": \"5bf42483-a919-4a49-b89e-6b446e099ac5\"}], {\"height\": 260, \"title\": {\"text\": \"Kolmogorov Smirnov Test\"}, \"width\": 1000}, {\"showLink\": false, \"linkText\": \"Export to plot.ly\", \"plotlyServerURL\": \"https://plot.ly\"}); \n",
       "}\n",
       "});</script>"
      ],
      "text/vnd.plotly.v1+html": [
       "<div id=\"d0cff98f-af3a-4ec2-84ae-ef4ee226ebc1\" style=\"height: 260px; width: 1000px;\" class=\"plotly-graph-div\"></div><script type=\"text/javascript\">require([\"plotly\"], function(Plotly) { window.PLOTLYENV=window.PLOTLYENV || {};window.PLOTLYENV.BASE_URL=\"https://plot.ly\";\n",
       "if (document.getElementById(\"d0cff98f-af3a-4ec2-84ae-ef4ee226ebc1\")) {\n",
       "    Plotly.newPlot(\"d0cff98f-af3a-4ec2-84ae-ef4ee226ebc1\", [{\"cells\": {\"align\": \"center\", \"fill\": {\"color\": [[\"#EBF0F8\", \"#ffffff\", \"#EBF0F8\", \"#ffffff\"]]}, \"height\": 40, \"line\": {\"width\": 0}, \"values\": [\"5000\", \"0.015\", \"0.109\", \"Sample looks Gaussian (fail to reject H0)\"]}, \"columnwidth\": [0.3, 0.25, 0.3, 0.45], \"header\": {\"align\": \"center\", \"fill\": {\"color\": \"rgba(42,63,95,0.8)\"}, \"font\": {\"color\": \"#ffffff\", \"size\": 12}, \"line\": {\"width\": 0}, \"values\": [\"<b>Sample Size</b>\", \"<b>Statistic</b>\", \"<b>p-Value</b>\", \"<b>Comment</b>\"]}, \"type\": \"table\", \"uid\": \"5bf42483-a919-4a49-b89e-6b446e099ac5\"}], {\"height\": 260, \"title\": {\"text\": \"Kolmogorov Smirnov Test\"}, \"width\": 1000}, {\"showLink\": false, \"linkText\": \"Export to plot.ly\", \"plotlyServerURL\": \"https://plot.ly\"}); \n",
       "}\n",
       "});</script>"
      ]
     },
     "metadata": {},
     "output_type": "display_data"
    }
   ],
   "source": [
    "# Normality test\n",
    "test = \"Kolmogorov Smirnov Test\"\n",
    "stat, p = stats.kstest(np.array(samples_r_s),'norm', alternative = 'greater')\n",
    "\n",
    "# Round results\n",
    "stat = round(stat, 3)\n",
    "p = round(p, 3)\n",
    "\n",
    "# Interpre results\n",
    "alpha = 0.05\n",
    "if p > alpha:\n",
    "    msg = 'Sample looks Gaussian (fail to reject H0)'\n",
    "else:\n",
    "    msg = \"Sample does not look Gaussian (reject H0)\"\n",
    "\n",
    "# Create table\n",
    "result_mat = [len(samples_r_s), stat, p, msg]\n",
    "\n",
    "trace = go.Table(\n",
    "    header=dict(values=['<b>Sample Size</b>', '<b>Statistic</b>', '<b>p-Value</b>', '<b>Comment</b>'],\n",
    "                line = dict(width=0),\n",
    "                fill = dict(color='rgba(42,63,95,0.8)'),\n",
    "                align = 'center',\n",
    "                font = dict(\n",
    "                    color = '#ffffff',\n",
    "                    size = 12\n",
    "                )),\n",
    "    cells=dict(values=np.array(result_mat).T,\n",
    "               line = dict(width=0),\n",
    "               fill = dict(color=[['#EBF0F8', '#ffffff', '#EBF0F8', '#ffffff']]),\n",
    "               align = 'center',\n",
    "               height = 40),\n",
    "    columnwidth=[0.3, 0.25, 0.3, 0.45])\n",
    "       \n",
    "data = [trace]\n",
    "\n",
    "layout = dict(title=test, height=260, width=1000)\n",
    "\n",
    "ks_table = dict(data=data, layout=layout)\n",
    "\n",
    "# Plot table\n",
    "py.offline.iplot(ks_table)"
   ]
  },
  {
   "cell_type": "markdown",
   "metadata": {},
   "source": [
    "### Anderson-Darling"
   ]
  },
  {
   "cell_type": "code",
   "execution_count": 76,
   "metadata": {},
   "outputs": [
    {
     "data": {
      "application/vnd.plotly.v1+json": {
       "config": {
        "linkText": "Export to plot.ly",
        "plotlyServerURL": "https://plot.ly",
        "showLink": false
       },
       "data": [
        {
         "cells": {
          "align": "center",
          "fill": {
           "color": [
            [
             "#EBF0F8",
             "#ffffff",
             "#EBF0F8",
             "#ffffff",
             "#EBF0F8"
            ]
           ]
          },
          "height": 40,
          "line": {
           "width": 0
          },
          "values": [
           [
            "5000",
            "5000",
            "5000",
            "5000",
            "5000"
           ],
           [
            "0.175",
            "0.175",
            "0.175",
            "0.175",
            "0.175"
           ],
           [
            "15.0",
            "10.0",
            "5.0",
            "2.5",
            "1.0"
           ],
           [
            "0.576",
            "0.655",
            "0.786",
            "0.917",
            "1.091"
           ],
           [
            "Sample looks Gaussian (fail to reject H0)",
            "Sample looks Gaussian (fail to reject H0)",
            "Sample looks Gaussian (fail to reject H0)",
            "Sample looks Gaussian (fail to reject H0)",
            "Sample looks Gaussian (fail to reject H0)"
           ]
          ]
         },
         "columnwidth": [
          0.3,
          0.25,
          0.3,
          0.25,
          0.5
         ],
         "header": {
          "align": "center",
          "fill": {
           "color": "rgba(42,63,95,0.8)"
          },
          "font": {
           "color": "#ffffff",
           "size": 12
          },
          "line": {
           "width": 0
          },
          "values": [
           "<b>Sample Size</b>",
           "<b>Statistic</b>",
           "<b>Significance Level</b>",
           "<b>Critical Value</b>",
           "<b>Comment</b>"
          ]
         },
         "type": "table",
         "uid": "bd85e3e4-eec4-4f4c-8c8c-536c87417e8d"
        }
       ],
       "layout": {
        "height": 415,
        "title": {
         "text": "Anderson-Darling Test"
        },
        "width": 1000
       }
      },
      "text/html": [
       "<div id=\"3f947dff-93c4-4e70-9c6f-0e410ed45e17\" style=\"height: 415px; width: 1000px;\" class=\"plotly-graph-div\"></div><script type=\"text/javascript\">require([\"plotly\"], function(Plotly) { window.PLOTLYENV=window.PLOTLYENV || {};window.PLOTLYENV.BASE_URL=\"https://plot.ly\";\n",
       "if (document.getElementById(\"3f947dff-93c4-4e70-9c6f-0e410ed45e17\")) {\n",
       "    Plotly.newPlot(\"3f947dff-93c4-4e70-9c6f-0e410ed45e17\", [{\"cells\": {\"align\": \"center\", \"fill\": {\"color\": [[\"#EBF0F8\", \"#ffffff\", \"#EBF0F8\", \"#ffffff\", \"#EBF0F8\"]]}, \"height\": 40, \"line\": {\"width\": 0}, \"values\": [[\"5000\", \"5000\", \"5000\", \"5000\", \"5000\"], [\"0.175\", \"0.175\", \"0.175\", \"0.175\", \"0.175\"], [\"15.0\", \"10.0\", \"5.0\", \"2.5\", \"1.0\"], [\"0.576\", \"0.655\", \"0.786\", \"0.917\", \"1.091\"], [\"Sample looks Gaussian (fail to reject H0)\", \"Sample looks Gaussian (fail to reject H0)\", \"Sample looks Gaussian (fail to reject H0)\", \"Sample looks Gaussian (fail to reject H0)\", \"Sample looks Gaussian (fail to reject H0)\"]]}, \"columnwidth\": [0.3, 0.25, 0.3, 0.25, 0.5], \"header\": {\"align\": \"center\", \"fill\": {\"color\": \"rgba(42,63,95,0.8)\"}, \"font\": {\"color\": \"#ffffff\", \"size\": 12}, \"line\": {\"width\": 0}, \"values\": [\"<b>Sample Size</b>\", \"<b>Statistic</b>\", \"<b>Significance Level</b>\", \"<b>Critical Value</b>\", \"<b>Comment</b>\"]}, \"type\": \"table\", \"uid\": \"70dea61a-9787-4553-9cba-ae48da35489d\"}], {\"height\": 415, \"title\": {\"text\": \"Anderson-Darling Test\"}, \"width\": 1000}, {\"showLink\": false, \"linkText\": \"Export to plot.ly\", \"plotlyServerURL\": \"https://plot.ly\"}); \n",
       "}\n",
       "});</script>"
      ],
      "text/vnd.plotly.v1+html": [
       "<div id=\"3f947dff-93c4-4e70-9c6f-0e410ed45e17\" style=\"height: 415px; width: 1000px;\" class=\"plotly-graph-div\"></div><script type=\"text/javascript\">require([\"plotly\"], function(Plotly) { window.PLOTLYENV=window.PLOTLYENV || {};window.PLOTLYENV.BASE_URL=\"https://plot.ly\";\n",
       "if (document.getElementById(\"3f947dff-93c4-4e70-9c6f-0e410ed45e17\")) {\n",
       "    Plotly.newPlot(\"3f947dff-93c4-4e70-9c6f-0e410ed45e17\", [{\"cells\": {\"align\": \"center\", \"fill\": {\"color\": [[\"#EBF0F8\", \"#ffffff\", \"#EBF0F8\", \"#ffffff\", \"#EBF0F8\"]]}, \"height\": 40, \"line\": {\"width\": 0}, \"values\": [[\"5000\", \"5000\", \"5000\", \"5000\", \"5000\"], [\"0.175\", \"0.175\", \"0.175\", \"0.175\", \"0.175\"], [\"15.0\", \"10.0\", \"5.0\", \"2.5\", \"1.0\"], [\"0.576\", \"0.655\", \"0.786\", \"0.917\", \"1.091\"], [\"Sample looks Gaussian (fail to reject H0)\", \"Sample looks Gaussian (fail to reject H0)\", \"Sample looks Gaussian (fail to reject H0)\", \"Sample looks Gaussian (fail to reject H0)\", \"Sample looks Gaussian (fail to reject H0)\"]]}, \"columnwidth\": [0.3, 0.25, 0.3, 0.25, 0.5], \"header\": {\"align\": \"center\", \"fill\": {\"color\": \"rgba(42,63,95,0.8)\"}, \"font\": {\"color\": \"#ffffff\", \"size\": 12}, \"line\": {\"width\": 0}, \"values\": [\"<b>Sample Size</b>\", \"<b>Statistic</b>\", \"<b>Significance Level</b>\", \"<b>Critical Value</b>\", \"<b>Comment</b>\"]}, \"type\": \"table\", \"uid\": \"70dea61a-9787-4553-9cba-ae48da35489d\"}], {\"height\": 415, \"title\": {\"text\": \"Anderson-Darling Test\"}, \"width\": 1000}, {\"showLink\": false, \"linkText\": \"Export to plot.ly\", \"plotlyServerURL\": \"https://plot.ly\"}); \n",
       "}\n",
       "});</script>"
      ]
     },
     "metadata": {},
     "output_type": "display_data"
    }
   ],
   "source": [
    "# Normality test\n",
    "test = \"Anderson-Darling Test\"\n",
    "result = anderson(samples_r_s)\n",
    "\n",
    "# Round results\n",
    "stat = round(result.statistic, 3)\n",
    "\n",
    "# Create table\n",
    "result_mat = []\n",
    "for i in range(len(result.critical_values)):\n",
    "    sl, cv = result.significance_level[i], result.critical_values[i]\n",
    "    if result.statistic < result.critical_values[i]:\n",
    "        msg = 'Sample looks Gaussian (fail to reject H0)'\n",
    "    else:\n",
    "        msg = 'Sample does not look Gaussian (reject H0)'\n",
    "    result_mat.append([len(samples_r_s), stat, sl, cv, msg])\n",
    "\n",
    "trace = go.Table(\n",
    "    header=dict(values=['<b>Sample Size</b>', '<b>Statistic</b>', '<b>Significance Level</b>', '<b>Critical Value</b>', '<b>Comment</b>'],\n",
    "                line = dict(width=0),\n",
    "                fill = dict(color='rgba(42,63,95,0.8)'),\n",
    "                align = 'center',\n",
    "                font = dict(\n",
    "                    color = '#ffffff',\n",
    "                    size = 12\n",
    "                )),\n",
    "    cells=dict(values=np.array(result_mat).T,\n",
    "               line = dict(width=0),\n",
    "               fill = dict(color=[['#EBF0F8', '#ffffff', '#EBF0F8', '#ffffff', '#EBF0F8']]),\n",
    "               align = 'center',\n",
    "               height = 40),\n",
    "    columnwidth=[0.3, 0.25, 0.3, 0.25, 0.5])\n",
    "       \n",
    "data = [trace]\n",
    "\n",
    "layout = dict(title=test, height=415, width=1000)\n",
    "\n",
    "andar_table = dict(data=data, layout=layout)\n",
    "\n",
    "# Plot table\n",
    "py.offline.iplot(andar_table)"
   ]
  },
  {
   "cell_type": "markdown",
   "metadata": {},
   "source": [
    "## 4.3 Box-Muller Transformation\n",
    "\n",
    "The Box-Muller transformation is a method for generating normally distributed random numbers from uniformly distributed random numbers. \n",
    "\n",
    "It can be summarized as follows:\n",
    "\n",
    "Suppose u1 and u2 are independent random variables that are uniformly distributed between 0 and 1 and let \n",
    "\n",
    "$$ z1 = \\sqrt{-2ln(u_{1})} \\ cos(2 \\pi \\ u_{2})$$ \n",
    "\n",
    "$$ z2 = \\sqrt{-2ln(u_{1})} \\ sin(2 \\pi \\ u_{2})$$ \n",
    "\n",
    "then z1 and z2 are independent random variables with a standard normal distribution. \n",
    "\n",
    "Intuitively, the transformation maps each circle of points around the origin to another circle of points around the origin where larger outer circles are mapped to closely-spaced inner circles and inner circles to outer circles. "
   ]
  },
  {
   "cell_type": "code",
   "execution_count": 28,
   "metadata": {},
   "outputs": [
    {
     "data": {
      "image/png": "[encoded data removed]",
      "text/plain": [
       "<Figure size 432x288 with 4 Axes>"
      ]
     },
     "metadata": {
      "needs_background": "light"
     },
     "output_type": "display_data"
    },
    {
     "data": {
      "image/png": "[encoded data removed]",
      "text/plain": [
       "<Figure size 432x432 with 3 Axes>"
      ]
     },
     "metadata": {
      "needs_background": "light"
     },
     "output_type": "display_data"
    }
   ],
   "source": [
    "# Set seed \n",
    "np.random.seed(1)\n",
    "\n",
    "# uniformly distributed values between 0 and 1\n",
    "u1 = random.rand(n_samples)\n",
    "u2 = random.rand(n_samples)\n",
    "\n",
    "# run the transformation\n",
    "z1,z2 = sample_normal_boxmuller(u1, u2)\n",
    "\n",
    "# plotting the values before and after the transformation\n",
    "figure()\n",
    "subplot(221, title=\"u1\")     # the first row of graphs\n",
    "sns.distplot(u1, bins=10)    # contains the histograms of u1 and u2 \n",
    "subplot(222, title=\"u2\")\n",
    "sns.distplot(u2, bins=10)\n",
    "subplot(223, title=\"z1\")     # the second contains\n",
    "sns.distplot(z1, bins=40)    # the histograms of z1 and z2\n",
    "subplot(224, title=\"z2\")\n",
    "sns.distplot(z2, bins=40)\n",
    "\n",
    "plt.subplots_adjust(top=None, bottom=None, left=None, right=None, hspace=0.45,\n",
    "                    wspace=None)\n",
    "\n",
    "# plotting the joint values after the transformation\n",
    "sub = sns.jointplot(z1, z2, kind='scatter', marginal_kws=dict(bins=40, kde=True)).set_axis_labels(\"z1\", \"z2\");\n",
    "sub.fig.suptitle('Joint values after the transformation:'); sub.fig.subplots_adjust(top=0.92);"
   ]
  },
  {
   "cell_type": "markdown",
   "metadata": {},
   "source": [
    "We can adjust the algorithm to generate numbers that are normally distributed with any mean and standard deviation as parameters"
   ]
  },
  {
   "cell_type": "markdown",
   "metadata": {},
   "source": [
    "### Generate Samples"
   ]
  },
  {
   "cell_type": "code",
   "execution_count": 29,
   "metadata": {},
   "outputs": [],
   "source": [
    "tic = timeit.default_timer()\n",
    "\n",
    "# Generate n_samples samples \n",
    "samples_b_m = []\n",
    "for i in range(n_samples):\n",
    "    samples_b_m.append(sample_normal_boxmuller_adj(mu, sigma))  \n",
    "\n",
    "toc = timeit.default_timer()"
   ]
  },
  {
   "cell_type": "markdown",
   "metadata": {},
   "source": [
    "###  Histogram Plot"
   ]
  },
  {
   "cell_type": "code",
   "execution_count": 30,
   "metadata": {},
   "outputs": [
    {
     "name": "stdout",
     "output_type": "stream",
     "text": [
      "running time = 0.033, mean = -0.018, std_dev = 1.002\n"
     ]
    },
    {
     "data": {
      "image/png": "[encoded data removed]",
      "text/plain": [
       "<Figure size 432x288 with 1 Axes>"
      ]
     },
     "metadata": {
      "needs_background": "light"
     },
     "output_type": "display_data"
    }
   ],
   "source": [
    "# Plot n_samples samples \n",
    " \n",
    "sns.distplot(samples_b_m, bins=40).set_title(str(n_samples)+ \" samples using boxmuller\");\n",
    "\n",
    "print(\"running time = %.3f, mean = %.3f, std_dev = %.3f\" % (toc-tic, np.mean(samples_b_m), np.std(samples_b_m)));"
   ]
  },
  {
   "cell_type": "markdown",
   "metadata": {},
   "source": [
    "### Q-Q Plot and P-P Plot"
   ]
  },
  {
   "cell_type": "code",
   "execution_count": 31,
   "metadata": {},
   "outputs": [
    {
     "data": {
      "image/png": "[encoded data removed]",
      "text/plain": [
       "<Figure size 720x288 with 2 Axes>"
      ]
     },
     "metadata": {
      "needs_background": "light"
     },
     "output_type": "display_data"
    }
   ],
   "source": [
    "# Plot q-q and p-p plot\n",
    "fig, ax = plt.subplots(1, 2, figsize=(10, 4))\n",
    "probplot = sm.ProbPlot(np.array(samples_b_m), dist=norm, fit=True)\n",
    "probplot.ppplot(line='45', ax=ax[0])\n",
    "probplot.qqplot(line='45', ax=ax[1])\n",
    "ax[0].set_title('P-P Plot')\n",
    "ax[1].set_title('Q-Q Plot');"
   ]
  },
  {
   "cell_type": "markdown",
   "metadata": {},
   "source": [
    "### Boxplot"
   ]
  },
  {
   "cell_type": "code",
   "execution_count": 32,
   "metadata": {},
   "outputs": [
    {
     "data": {
      "image/png": "[encoded data removed]",
      "text/plain": [
       "<Figure size 432x288 with 1 Axes>"
      ]
     },
     "metadata": {
      "needs_background": "light"
     },
     "output_type": "display_data"
    }
   ],
   "source": [
    "# Plot boxplot plot\n",
    "sns.boxplot(samples_b_m, width=4);"
   ]
  },
  {
   "cell_type": "markdown",
   "metadata": {},
   "source": [
    "### Empirical Cumulative Distribution Function Plot"
   ]
  },
  {
   "cell_type": "code",
   "execution_count": 33,
   "metadata": {},
   "outputs": [
    {
     "data": {
      "image/png": "[encoded data removed]",
      "text/plain": [
       "<Figure size 432x288 with 1 Axes>"
      ]
     },
     "metadata": {
      "needs_background": "light"
     },
     "output_type": "display_data"
    }
   ],
   "source": [
    "# Plot Empirical Cumulative Distribution vs Normal Cumulative Distribution\n",
    "x=np.linspace(-5, 5)\n",
    "\n",
    "# Plot normal cdf\n",
    "plot_normal(x, mu=mu, sigma=sigma, cdf=True, label=\"normal cdf\")\n",
    "\n",
    "# Plor ecdf\n",
    "ecdf = sm.distributions.ECDF(samples_b_m)\n",
    "ecdf = ecdf(x)\n",
    "plt.step(x, ecdf, label=\"ecdf\")\n",
    "\n",
    "plt.legend();"
   ]
  },
  {
   "cell_type": "markdown",
   "metadata": {},
   "source": [
    "### Shapiro-Wilk Test"
   ]
  },
  {
   "cell_type": "code",
   "execution_count": 34,
   "metadata": {
    "scrolled": true
   },
   "outputs": [
    {
     "data": {
      "application/vnd.plotly.v1+json": {
       "config": {
        "linkText": "Export to plot.ly",
        "plotlyServerURL": "https://plot.ly",
        "showLink": false
       },
       "data": [
        {
         "cells": {
          "align": "center",
          "fill": {
           "color": [
            [
             "#EBF0F8",
             "#ffffff",
             "#EBF0F8",
             "#ffffff"
            ]
           ]
          },
          "height": 40,
          "line": {
           "width": 0
          },
          "values": [
           "5000",
           "1.0",
           "0.751",
           "Sample looks Gaussian (fail to reject H0)"
          ]
         },
         "columnwidth": [
          0.3,
          0.25,
          0.3,
          0.45
         ],
         "header": {
          "align": "center",
          "fill": {
           "color": "rgba(42,63,95,0.8)"
          },
          "font": {
           "color": "#ffffff",
           "size": 12
          },
          "line": {
           "width": 0
          },
          "values": [
           "<b>Sample Size</b>",
           "<b>Statistic</b>",
           "<b>p-Value</b>",
           "<b>Comment</b>"
          ]
         },
         "type": "table",
         "uid": "6df26076-5076-455c-8ce7-0878b64f0b7d"
        }
       ],
       "layout": {
        "height": 260,
        "title": {
         "text": "Shapiro-Wilk Test"
        },
        "width": 1000
       }
      },
      "text/html": [
       "<div id=\"203928fb-7147-4744-89ed-c6fe369435b5\" style=\"height: 260px; width: 1000px;\" class=\"plotly-graph-div\"></div><script type=\"text/javascript\">require([\"plotly\"], function(Plotly) { window.PLOTLYENV=window.PLOTLYENV || {};window.PLOTLYENV.BASE_URL=\"https://plot.ly\";\n",
       "if (document.getElementById(\"203928fb-7147-4744-89ed-c6fe369435b5\")) {\n",
       "    Plotly.newPlot(\"203928fb-7147-4744-89ed-c6fe369435b5\", [{\"cells\": {\"align\": \"center\", \"fill\": {\"color\": [[\"#EBF0F8\", \"#ffffff\", \"#EBF0F8\", \"#ffffff\"]]}, \"height\": 40, \"line\": {\"width\": 0}, \"values\": [\"5000\", \"1.0\", \"0.751\", \"Sample looks Gaussian (fail to reject H0)\"]}, \"columnwidth\": [0.3, 0.25, 0.3, 0.45], \"header\": {\"align\": \"center\", \"fill\": {\"color\": \"rgba(42,63,95,0.8)\"}, \"font\": {\"color\": \"#ffffff\", \"size\": 12}, \"line\": {\"width\": 0}, \"values\": [\"<b>Sample Size</b>\", \"<b>Statistic</b>\", \"<b>p-Value</b>\", \"<b>Comment</b>\"]}, \"type\": \"table\", \"uid\": \"2d17d874-66d1-4ad9-89a5-ef84c7993485\"}], {\"height\": 260, \"title\": {\"text\": \"Shapiro-Wilk Test\"}, \"width\": 1000}, {\"showLink\": false, \"linkText\": \"Export to plot.ly\", \"plotlyServerURL\": \"https://plot.ly\"}); \n",
       "}\n",
       "});</script>"
      ],
      "text/vnd.plotly.v1+html": [
       "<div id=\"203928fb-7147-4744-89ed-c6fe369435b5\" style=\"height: 260px; width: 1000px;\" class=\"plotly-graph-div\"></div><script type=\"text/javascript\">require([\"plotly\"], function(Plotly) { window.PLOTLYENV=window.PLOTLYENV || {};window.PLOTLYENV.BASE_URL=\"https://plot.ly\";\n",
       "if (document.getElementById(\"203928fb-7147-4744-89ed-c6fe369435b5\")) {\n",
       "    Plotly.newPlot(\"203928fb-7147-4744-89ed-c6fe369435b5\", [{\"cells\": {\"align\": \"center\", \"fill\": {\"color\": [[\"#EBF0F8\", \"#ffffff\", \"#EBF0F8\", \"#ffffff\"]]}, \"height\": 40, \"line\": {\"width\": 0}, \"values\": [\"5000\", \"1.0\", \"0.751\", \"Sample looks Gaussian (fail to reject H0)\"]}, \"columnwidth\": [0.3, 0.25, 0.3, 0.45], \"header\": {\"align\": \"center\", \"fill\": {\"color\": \"rgba(42,63,95,0.8)\"}, \"font\": {\"color\": \"#ffffff\", \"size\": 12}, \"line\": {\"width\": 0}, \"values\": [\"<b>Sample Size</b>\", \"<b>Statistic</b>\", \"<b>p-Value</b>\", \"<b>Comment</b>\"]}, \"type\": \"table\", \"uid\": \"2d17d874-66d1-4ad9-89a5-ef84c7993485\"}], {\"height\": 260, \"title\": {\"text\": \"Shapiro-Wilk Test\"}, \"width\": 1000}, {\"showLink\": false, \"linkText\": \"Export to plot.ly\", \"plotlyServerURL\": \"https://plot.ly\"}); \n",
       "}\n",
       "});</script>"
      ]
     },
     "metadata": {},
     "output_type": "display_data"
    }
   ],
   "source": [
    "# Normality test\n",
    "test = \"Shapiro-Wilk Test\"\n",
    "stat, p = shapiro(samples_b_m)\n",
    "\n",
    "# Round results\n",
    "stat = round(stat, 3)\n",
    "p = round(p, 3)\n",
    "\n",
    "# Interpre results\n",
    "alpha = 0.05\n",
    "if p > alpha:\n",
    "    msg = 'Sample looks Gaussian (fail to reject H0)'\n",
    "else:\n",
    "    msg = \"Sample does not look Gaussian (reject H0)\"\n",
    "\n",
    "# Create table\n",
    "result_mat = [len(samples_b_m), stat, p, msg]\n",
    "\n",
    "trace = go.Table(\n",
    "    header=dict(values=['<b>Sample Size</b>', '<b>Statistic</b>', '<b>p-Value</b>', '<b>Comment</b>'],\n",
    "                line = dict(width=0),\n",
    "                fill = dict(color='rgba(42,63,95,0.8)'),\n",
    "                align = 'center',\n",
    "                font = dict(\n",
    "                    color = '#ffffff',\n",
    "                    size = 12\n",
    "                )),\n",
    "    cells=dict(values=np.array(result_mat).T,\n",
    "               line = dict(width=0),\n",
    "               fill = dict(color=[['#EBF0F8', '#ffffff', '#EBF0F8', '#ffffff']]),\n",
    "               align = 'center',\n",
    "               height = 40),\n",
    "    columnwidth=[0.3, 0.25, 0.3, 0.45])\n",
    "       \n",
    "data = [trace]\n",
    "\n",
    "layout = dict(title=test, height=260, width=1000)\n",
    "\n",
    "sw_table = dict(data=data, layout=layout)\n",
    "\n",
    "# Plot table\n",
    "py.offline.iplot(sw_table)"
   ]
  },
  {
   "cell_type": "markdown",
   "metadata": {},
   "source": [
    "### D’Agostino’s K^2 Test"
   ]
  },
  {
   "cell_type": "code",
   "execution_count": 35,
   "metadata": {},
   "outputs": [
    {
     "data": {
      "application/vnd.plotly.v1+json": {
       "config": {
        "linkText": "Export to plot.ly",
        "plotlyServerURL": "https://plot.ly",
        "showLink": false
       },
       "data": [
        {
         "cells": {
          "align": "center",
          "fill": {
           "color": [
            [
             "#EBF0F8",
             "#ffffff",
             "#EBF0F8",
             "#ffffff"
            ]
           ]
          },
          "height": 40,
          "line": {
           "width": 0
          },
          "values": [
           "5000",
           "0.259",
           "0.879",
           "Sample looks Gaussian (fail to reject H0)"
          ]
         },
         "columnwidth": [
          0.3,
          0.25,
          0.3,
          0.45
         ],
         "header": {
          "align": "center",
          "fill": {
           "color": "rgba(42,63,95,0.8)"
          },
          "font": {
           "color": "#ffffff",
           "size": 12
          },
          "line": {
           "width": 0
          },
          "values": [
           "<b>Sample Size</b>",
           "<b>Statistic</b>",
           "<b>p-Value</b>",
           "<b>Comment</b>"
          ]
         },
         "type": "table",
         "uid": "1d3ed694-a3b3-4505-a7b5-d019c36efb45"
        }
       ],
       "layout": {
        "height": 260,
        "title": {
         "text": "D’Agostino’s K^2 Test"
        },
        "width": 1000
       }
      },
      "text/html": [
       "<div id=\"2debd39e-d241-44cb-a8d2-78b6bda4c696\" style=\"height: 260px; width: 1000px;\" class=\"plotly-graph-div\"></div><script type=\"text/javascript\">require([\"plotly\"], function(Plotly) { window.PLOTLYENV=window.PLOTLYENV || {};window.PLOTLYENV.BASE_URL=\"https://plot.ly\";\n",
       "if (document.getElementById(\"2debd39e-d241-44cb-a8d2-78b6bda4c696\")) {\n",
       "    Plotly.newPlot(\"2debd39e-d241-44cb-a8d2-78b6bda4c696\", [{\"cells\": {\"align\": \"center\", \"fill\": {\"color\": [[\"#EBF0F8\", \"#ffffff\", \"#EBF0F8\", \"#ffffff\"]]}, \"height\": 40, \"line\": {\"width\": 0}, \"values\": [\"5000\", \"0.259\", \"0.879\", \"Sample looks Gaussian (fail to reject H0)\"]}, \"columnwidth\": [0.3, 0.25, 0.3, 0.45], \"header\": {\"align\": \"center\", \"fill\": {\"color\": \"rgba(42,63,95,0.8)\"}, \"font\": {\"color\": \"#ffffff\", \"size\": 12}, \"line\": {\"width\": 0}, \"values\": [\"<b>Sample Size</b>\", \"<b>Statistic</b>\", \"<b>p-Value</b>\", \"<b>Comment</b>\"]}, \"type\": \"table\", \"uid\": \"b1e7f19e-7558-4a88-a2a9-15e70c195212\"}], {\"height\": 260, \"title\": {\"text\": \"D\\u2019Agostino\\u2019s K^2 Test\"}, \"width\": 1000}, {\"showLink\": false, \"linkText\": \"Export to plot.ly\", \"plotlyServerURL\": \"https://plot.ly\"}); \n",
       "}\n",
       "});</script>"
      ],
      "text/vnd.plotly.v1+html": [
       "<div id=\"2debd39e-d241-44cb-a8d2-78b6bda4c696\" style=\"height: 260px; width: 1000px;\" class=\"plotly-graph-div\"></div><script type=\"text/javascript\">require([\"plotly\"], function(Plotly) { window.PLOTLYENV=window.PLOTLYENV || {};window.PLOTLYENV.BASE_URL=\"https://plot.ly\";\n",
       "if (document.getElementById(\"2debd39e-d241-44cb-a8d2-78b6bda4c696\")) {\n",
       "    Plotly.newPlot(\"2debd39e-d241-44cb-a8d2-78b6bda4c696\", [{\"cells\": {\"align\": \"center\", \"fill\": {\"color\": [[\"#EBF0F8\", \"#ffffff\", \"#EBF0F8\", \"#ffffff\"]]}, \"height\": 40, \"line\": {\"width\": 0}, \"values\": [\"5000\", \"0.259\", \"0.879\", \"Sample looks Gaussian (fail to reject H0)\"]}, \"columnwidth\": [0.3, 0.25, 0.3, 0.45], \"header\": {\"align\": \"center\", \"fill\": {\"color\": \"rgba(42,63,95,0.8)\"}, \"font\": {\"color\": \"#ffffff\", \"size\": 12}, \"line\": {\"width\": 0}, \"values\": [\"<b>Sample Size</b>\", \"<b>Statistic</b>\", \"<b>p-Value</b>\", \"<b>Comment</b>\"]}, \"type\": \"table\", \"uid\": \"b1e7f19e-7558-4a88-a2a9-15e70c195212\"}], {\"height\": 260, \"title\": {\"text\": \"D\\u2019Agostino\\u2019s K^2 Test\"}, \"width\": 1000}, {\"showLink\": false, \"linkText\": \"Export to plot.ly\", \"plotlyServerURL\": \"https://plot.ly\"}); \n",
       "}\n",
       "});</script>"
      ]
     },
     "metadata": {},
     "output_type": "display_data"
    }
   ],
   "source": [
    "# Normality test\n",
    "test = \"D’Agostino’s K^2 Test\"\n",
    "stat, p = normaltest(samples_b_m)\n",
    "\n",
    "# Round results\n",
    "stat = round(stat, 3)\n",
    "p = round(p, 3)\n",
    "\n",
    "# Interpre results\n",
    "alpha = 0.05\n",
    "if p > alpha:\n",
    "    msg = 'Sample looks Gaussian (fail to reject H0)'\n",
    "else:\n",
    "    msg = \"Sample does not look Gaussian (reject H0)\"\n",
    "\n",
    "# Create table\n",
    "result_mat = [len(samples_b_m), stat, p, msg]\n",
    "\n",
    "trace = go.Table(\n",
    "    header=dict(values=['<b>Sample Size</b>', '<b>Statistic</b>', '<b>p-Value</b>', '<b>Comment</b>'],\n",
    "                line = dict(width=0),\n",
    "                fill = dict(color='rgba(42,63,95,0.8)'),\n",
    "                align = 'center',\n",
    "                font = dict(\n",
    "                    color = '#ffffff',\n",
    "                    size = 12\n",
    "                )),\n",
    "    cells=dict(values=np.array(result_mat).T,\n",
    "               line = dict(width=0),\n",
    "               fill = dict(color=[['#EBF0F8', '#ffffff', '#EBF0F8', '#ffffff']]),\n",
    "               align = 'center',\n",
    "               height = 40),\n",
    "    columnwidth=[0.3, 0.25, 0.3, 0.45])\n",
    "       \n",
    "data = [trace]\n",
    "\n",
    "layout = dict(title=test, height=260, width=1000)\n",
    "\n",
    "norm_table = dict(data=data, layout=layout)\n",
    "\n",
    "# Plot table\n",
    "py.offline.iplot(norm_table)"
   ]
  },
  {
   "cell_type": "markdown",
   "metadata": {},
   "source": [
    "### Jarque-Beta Test"
   ]
  },
  {
   "cell_type": "code",
   "execution_count": 36,
   "metadata": {},
   "outputs": [
    {
     "data": {
      "application/vnd.plotly.v1+json": {
       "config": {
        "linkText": "Export to plot.ly",
        "plotlyServerURL": "https://plot.ly",
        "showLink": false
       },
       "data": [
        {
         "cells": {
          "align": "center",
          "fill": {
           "color": [
            [
             "#EBF0F8",
             "#ffffff",
             "#EBF0F8",
             "#ffffff"
            ]
           ]
          },
          "height": 40,
          "line": {
           "width": 0
          },
          "values": [
           "5000",
           "0.214",
           "0.898",
           "Sample looks Gaussian (fail to reject H0)"
          ]
         },
         "columnwidth": [
          0.3,
          0.25,
          0.3,
          0.45
         ],
         "header": {
          "align": "center",
          "fill": {
           "color": "rgba(42,63,95,0.8)"
          },
          "font": {
           "color": "#ffffff",
           "size": 12
          },
          "line": {
           "width": 0
          },
          "values": [
           "<b>Sample Size</b>",
           "<b>Statistic</b>",
           "<b>p-Value</b>",
           "<b>Comment</b>"
          ]
         },
         "type": "table",
         "uid": "e5d8d96d-61af-49fa-9811-807e1b28124b"
        }
       ],
       "layout": {
        "height": 260,
        "title": {
         "text": "Jarque-Beta Test"
        },
        "width": 1000
       }
      },
      "text/html": [
       "<div id=\"92ecc4b8-b381-4869-b9b4-b2dbc6002220\" style=\"height: 260px; width: 1000px;\" class=\"plotly-graph-div\"></div><script type=\"text/javascript\">require([\"plotly\"], function(Plotly) { window.PLOTLYENV=window.PLOTLYENV || {};window.PLOTLYENV.BASE_URL=\"https://plot.ly\";\n",
       "if (document.getElementById(\"92ecc4b8-b381-4869-b9b4-b2dbc6002220\")) {\n",
       "    Plotly.newPlot(\"92ecc4b8-b381-4869-b9b4-b2dbc6002220\", [{\"cells\": {\"align\": \"center\", \"fill\": {\"color\": [[\"#EBF0F8\", \"#ffffff\", \"#EBF0F8\", \"#ffffff\"]]}, \"height\": 40, \"line\": {\"width\": 0}, \"values\": [\"5000\", \"0.214\", \"0.898\", \"Sample looks Gaussian (fail to reject H0)\"]}, \"columnwidth\": [0.3, 0.25, 0.3, 0.45], \"header\": {\"align\": \"center\", \"fill\": {\"color\": \"rgba(42,63,95,0.8)\"}, \"font\": {\"color\": \"#ffffff\", \"size\": 12}, \"line\": {\"width\": 0}, \"values\": [\"<b>Sample Size</b>\", \"<b>Statistic</b>\", \"<b>p-Value</b>\", \"<b>Comment</b>\"]}, \"type\": \"table\", \"uid\": \"a23951a4-1dec-4d17-9b60-9475f7ff5924\"}], {\"height\": 260, \"title\": {\"text\": \"Jarque-Beta Test\"}, \"width\": 1000}, {\"showLink\": false, \"linkText\": \"Export to plot.ly\", \"plotlyServerURL\": \"https://plot.ly\"}); \n",
       "}\n",
       "});</script>"
      ],
      "text/vnd.plotly.v1+html": [
       "<div id=\"92ecc4b8-b381-4869-b9b4-b2dbc6002220\" style=\"height: 260px; width: 1000px;\" class=\"plotly-graph-div\"></div><script type=\"text/javascript\">require([\"plotly\"], function(Plotly) { window.PLOTLYENV=window.PLOTLYENV || {};window.PLOTLYENV.BASE_URL=\"https://plot.ly\";\n",
       "if (document.getElementById(\"92ecc4b8-b381-4869-b9b4-b2dbc6002220\")) {\n",
       "    Plotly.newPlot(\"92ecc4b8-b381-4869-b9b4-b2dbc6002220\", [{\"cells\": {\"align\": \"center\", \"fill\": {\"color\": [[\"#EBF0F8\", \"#ffffff\", \"#EBF0F8\", \"#ffffff\"]]}, \"height\": 40, \"line\": {\"width\": 0}, \"values\": [\"5000\", \"0.214\", \"0.898\", \"Sample looks Gaussian (fail to reject H0)\"]}, \"columnwidth\": [0.3, 0.25, 0.3, 0.45], \"header\": {\"align\": \"center\", \"fill\": {\"color\": \"rgba(42,63,95,0.8)\"}, \"font\": {\"color\": \"#ffffff\", \"size\": 12}, \"line\": {\"width\": 0}, \"values\": [\"<b>Sample Size</b>\", \"<b>Statistic</b>\", \"<b>p-Value</b>\", \"<b>Comment</b>\"]}, \"type\": \"table\", \"uid\": \"a23951a4-1dec-4d17-9b60-9475f7ff5924\"}], {\"height\": 260, \"title\": {\"text\": \"Jarque-Beta Test\"}, \"width\": 1000}, {\"showLink\": false, \"linkText\": \"Export to plot.ly\", \"plotlyServerURL\": \"https://plot.ly\"}); \n",
       "}\n",
       "});</script>"
      ]
     },
     "metadata": {},
     "output_type": "display_data"
    }
   ],
   "source": [
    "# Normality test\n",
    "test = \"Jarque-Beta Test\"\n",
    "stat, p = stats.jarque_bera(samples_b_m)\n",
    "\n",
    "# Round results\n",
    "stat = round(stat, 3)\n",
    "p = round(p, 3)\n",
    "\n",
    "# Interpre results\n",
    "alpha = 0.05\n",
    "if p > alpha:\n",
    "    msg = 'Sample looks Gaussian (fail to reject H0)'\n",
    "else:\n",
    "    msg = \"Sample does not look Gaussian (reject H0)\"\n",
    "\n",
    "# Create table\n",
    "result_mat = [len(samples_b_m), stat, p, msg]\n",
    "\n",
    "trace = go.Table(\n",
    "    header=dict(values=['<b>Sample Size</b>', '<b>Statistic</b>', '<b>p-Value</b>', '<b>Comment</b>'],\n",
    "                line = dict(width=0),\n",
    "                fill = dict(color='rgba(42,63,95,0.8)'),\n",
    "                align = 'center',\n",
    "                font = dict(\n",
    "                    color = '#ffffff',\n",
    "                    size = 12\n",
    "                )),\n",
    "    cells=dict(values=np.array(result_mat).T,\n",
    "               line = dict(width=0),\n",
    "               fill = dict(color=[['#EBF0F8', '#ffffff', '#EBF0F8', '#ffffff']]),\n",
    "               align = 'center',\n",
    "               height = 40),\n",
    "    columnwidth=[0.3, 0.25, 0.3, 0.45])\n",
    "       \n",
    "data = [trace]\n",
    "\n",
    "layout = dict(title=test, height=260, width=1000)\n",
    "\n",
    "jb_table = dict(data=data, layout=layout)\n",
    "\n",
    "# Plot table\n",
    "py.offline.iplot(jb_table)"
   ]
  },
  {
   "cell_type": "markdown",
   "metadata": {},
   "source": [
    "### Kolmogorov Smirnov Test"
   ]
  },
  {
   "cell_type": "code",
   "execution_count": 37,
   "metadata": {},
   "outputs": [
    {
     "data": {
      "application/vnd.plotly.v1+json": {
       "config": {
        "linkText": "Export to plot.ly",
        "plotlyServerURL": "https://plot.ly",
        "showLink": false
       },
       "data": [
        {
         "cells": {
          "align": "center",
          "fill": {
           "color": [
            [
             "#EBF0F8",
             "#ffffff",
             "#EBF0F8",
             "#ffffff"
            ]
           ]
          },
          "height": 40,
          "line": {
           "width": 0
          },
          "values": [
           "5000",
           "0.014",
           "0.137",
           "Sample looks Gaussian (fail to reject H0)"
          ]
         },
         "columnwidth": [
          0.3,
          0.25,
          0.3,
          0.45
         ],
         "header": {
          "align": "center",
          "fill": {
           "color": "rgba(42,63,95,0.8)"
          },
          "font": {
           "color": "#ffffff",
           "size": 12
          },
          "line": {
           "width": 0
          },
          "values": [
           "<b>Sample Size</b>",
           "<b>Statistic</b>",
           "<b>p-Value</b>",
           "<b>Comment</b>"
          ]
         },
         "type": "table",
         "uid": "206a8972-ebf3-4bae-9905-258a5d4cbd99"
        }
       ],
       "layout": {
        "height": 260,
        "title": {
         "text": "Kolmogorov Smirnov Test"
        },
        "width": 1000
       }
      },
      "text/html": [
       "<div id=\"c8fdc2d3-02b9-4cd7-8934-4b9213bbecb3\" style=\"height: 260px; width: 1000px;\" class=\"plotly-graph-div\"></div><script type=\"text/javascript\">require([\"plotly\"], function(Plotly) { window.PLOTLYENV=window.PLOTLYENV || {};window.PLOTLYENV.BASE_URL=\"https://plot.ly\";\n",
       "if (document.getElementById(\"c8fdc2d3-02b9-4cd7-8934-4b9213bbecb3\")) {\n",
       "    Plotly.newPlot(\"c8fdc2d3-02b9-4cd7-8934-4b9213bbecb3\", [{\"cells\": {\"align\": \"center\", \"fill\": {\"color\": [[\"#EBF0F8\", \"#ffffff\", \"#EBF0F8\", \"#ffffff\"]]}, \"height\": 40, \"line\": {\"width\": 0}, \"values\": [\"5000\", \"0.014\", \"0.137\", \"Sample looks Gaussian (fail to reject H0)\"]}, \"columnwidth\": [0.3, 0.25, 0.3, 0.45], \"header\": {\"align\": \"center\", \"fill\": {\"color\": \"rgba(42,63,95,0.8)\"}, \"font\": {\"color\": \"#ffffff\", \"size\": 12}, \"line\": {\"width\": 0}, \"values\": [\"<b>Sample Size</b>\", \"<b>Statistic</b>\", \"<b>p-Value</b>\", \"<b>Comment</b>\"]}, \"type\": \"table\", \"uid\": \"e86470dc-0299-4374-ab9a-811c8b8bae11\"}], {\"height\": 260, \"title\": {\"text\": \"Kolmogorov Smirnov Test\"}, \"width\": 1000}, {\"showLink\": false, \"linkText\": \"Export to plot.ly\", \"plotlyServerURL\": \"https://plot.ly\"}); \n",
       "}\n",
       "});</script>"
      ],
      "text/vnd.plotly.v1+html": [
       "<div id=\"c8fdc2d3-02b9-4cd7-8934-4b9213bbecb3\" style=\"height: 260px; width: 1000px;\" class=\"plotly-graph-div\"></div><script type=\"text/javascript\">require([\"plotly\"], function(Plotly) { window.PLOTLYENV=window.PLOTLYENV || {};window.PLOTLYENV.BASE_URL=\"https://plot.ly\";\n",
       "if (document.getElementById(\"c8fdc2d3-02b9-4cd7-8934-4b9213bbecb3\")) {\n",
       "    Plotly.newPlot(\"c8fdc2d3-02b9-4cd7-8934-4b9213bbecb3\", [{\"cells\": {\"align\": \"center\", \"fill\": {\"color\": [[\"#EBF0F8\", \"#ffffff\", \"#EBF0F8\", \"#ffffff\"]]}, \"height\": 40, \"line\": {\"width\": 0}, \"values\": [\"5000\", \"0.014\", \"0.137\", \"Sample looks Gaussian (fail to reject H0)\"]}, \"columnwidth\": [0.3, 0.25, 0.3, 0.45], \"header\": {\"align\": \"center\", \"fill\": {\"color\": \"rgba(42,63,95,0.8)\"}, \"font\": {\"color\": \"#ffffff\", \"size\": 12}, \"line\": {\"width\": 0}, \"values\": [\"<b>Sample Size</b>\", \"<b>Statistic</b>\", \"<b>p-Value</b>\", \"<b>Comment</b>\"]}, \"type\": \"table\", \"uid\": \"e86470dc-0299-4374-ab9a-811c8b8bae11\"}], {\"height\": 260, \"title\": {\"text\": \"Kolmogorov Smirnov Test\"}, \"width\": 1000}, {\"showLink\": false, \"linkText\": \"Export to plot.ly\", \"plotlyServerURL\": \"https://plot.ly\"}); \n",
       "}\n",
       "});</script>"
      ]
     },
     "metadata": {},
     "output_type": "display_data"
    }
   ],
   "source": [
    "# Normality test\n",
    "test = \"Kolmogorov Smirnov Test\"\n",
    "stat, p = stats.kstest(np.array(samples_b_m),'norm', alternative = 'greater')\n",
    "\n",
    "# Round results\n",
    "stat = round(stat, 3)\n",
    "p = round(p, 3)\n",
    "\n",
    "# Interpre results\n",
    "alpha = 0.05\n",
    "if p > alpha:\n",
    "    msg = 'Sample looks Gaussian (fail to reject H0)'\n",
    "else:\n",
    "    msg = \"Sample does not look Gaussian (reject H0)\"\n",
    "\n",
    "# Create table\n",
    "result_mat = [len(samples_b_m), stat, p, msg]\n",
    "\n",
    "trace = go.Table(\n",
    "    header=dict(values=['<b>Sample Size</b>', '<b>Statistic</b>', '<b>p-Value</b>', '<b>Comment</b>'],\n",
    "                line = dict(width=0),\n",
    "                fill = dict(color='rgba(42,63,95,0.8)'),\n",
    "                align = 'center',\n",
    "                font = dict(\n",
    "                    color = '#ffffff',\n",
    "                    size = 12\n",
    "                )),\n",
    "    cells=dict(values=np.array(result_mat).T,\n",
    "               line = dict(width=0),\n",
    "               fill = dict(color=[['#EBF0F8', '#ffffff', '#EBF0F8', '#ffffff']]),\n",
    "               align = 'center',\n",
    "               height = 40),\n",
    "    columnwidth=[0.3, 0.25, 0.3, 0.45])\n",
    "       \n",
    "data = [trace]\n",
    "\n",
    "layout = dict(title=test, height=260, width=1000)\n",
    "\n",
    "ks_table = dict(data=data, layout=layout)\n",
    "\n",
    "# Plot table\n",
    "py.offline.iplot(ks_table)"
   ]
  },
  {
   "cell_type": "markdown",
   "metadata": {},
   "source": [
    "### Anderson-Darling"
   ]
  },
  {
   "cell_type": "code",
   "execution_count": 38,
   "metadata": {},
   "outputs": [
    {
     "data": {
      "application/vnd.plotly.v1+json": {
       "config": {
        "linkText": "Export to plot.ly",
        "plotlyServerURL": "https://plot.ly",
        "showLink": false
       },
       "data": [
        {
         "cells": {
          "align": "center",
          "fill": {
           "color": [
            [
             "#EBF0F8",
             "#ffffff",
             "#EBF0F8",
             "#ffffff",
             "#EBF0F8"
            ]
           ]
          },
          "height": 40,
          "line": {
           "width": 0
          },
          "values": [
           [
            "5000",
            "5000",
            "5000",
            "5000",
            "5000"
           ],
           [
            "0.321",
            "0.321",
            "0.321",
            "0.321",
            "0.321"
           ],
           [
            "15.0",
            "10.0",
            "5.0",
            "2.5",
            "1.0"
           ],
           [
            "0.576",
            "0.655",
            "0.786",
            "0.917",
            "1.091"
           ],
           [
            "Sample looks Gaussian (fail to reject H0)",
            "Sample looks Gaussian (fail to reject H0)",
            "Sample looks Gaussian (fail to reject H0)",
            "Sample looks Gaussian (fail to reject H0)",
            "Sample looks Gaussian (fail to reject H0)"
           ]
          ]
         },
         "columnwidth": [
          0.3,
          0.25,
          0.3,
          0.25,
          0.5
         ],
         "header": {
          "align": "center",
          "fill": {
           "color": "rgba(42,63,95,0.8)"
          },
          "font": {
           "color": "#ffffff",
           "size": 12
          },
          "line": {
           "width": 0
          },
          "values": [
           "<b>Sample Size</b>",
           "<b>Statistic</b>",
           "<b>Significance Level</b>",
           "<b>Critical Value</b>",
           "<b>Comment</b>"
          ]
         },
         "type": "table",
         "uid": "c366cff3-168b-4259-8642-c0a50882caba"
        }
       ],
       "layout": {
        "height": 415,
        "title": {
         "text": "Anderson-Darling Test"
        },
        "width": 1000
       }
      },
      "text/html": [
       "<div id=\"0d188401-20c7-486d-8b8f-aa7924c7612f\" style=\"height: 415px; width: 1000px;\" class=\"plotly-graph-div\"></div><script type=\"text/javascript\">require([\"plotly\"], function(Plotly) { window.PLOTLYENV=window.PLOTLYENV || {};window.PLOTLYENV.BASE_URL=\"https://plot.ly\";\n",
       "if (document.getElementById(\"0d188401-20c7-486d-8b8f-aa7924c7612f\")) {\n",
       "    Plotly.newPlot(\"0d188401-20c7-486d-8b8f-aa7924c7612f\", [{\"cells\": {\"align\": \"center\", \"fill\": {\"color\": [[\"#EBF0F8\", \"#ffffff\", \"#EBF0F8\", \"#ffffff\", \"#EBF0F8\"]]}, \"height\": 40, \"line\": {\"width\": 0}, \"values\": [[\"5000\", \"5000\", \"5000\", \"5000\", \"5000\"], [\"0.321\", \"0.321\", \"0.321\", \"0.321\", \"0.321\"], [\"15.0\", \"10.0\", \"5.0\", \"2.5\", \"1.0\"], [\"0.576\", \"0.655\", \"0.786\", \"0.917\", \"1.091\"], [\"Sample looks Gaussian (fail to reject H0)\", \"Sample looks Gaussian (fail to reject H0)\", \"Sample looks Gaussian (fail to reject H0)\", \"Sample looks Gaussian (fail to reject H0)\", \"Sample looks Gaussian (fail to reject H0)\"]]}, \"columnwidth\": [0.3, 0.25, 0.3, 0.25, 0.5], \"header\": {\"align\": \"center\", \"fill\": {\"color\": \"rgba(42,63,95,0.8)\"}, \"font\": {\"color\": \"#ffffff\", \"size\": 12}, \"line\": {\"width\": 0}, \"values\": [\"<b>Sample Size</b>\", \"<b>Statistic</b>\", \"<b>Significance Level</b>\", \"<b>Critical Value</b>\", \"<b>Comment</b>\"]}, \"type\": \"table\", \"uid\": \"b39db6c1-e63d-4d9e-a2a8-ae4fb4cd7b95\"}], {\"height\": 415, \"title\": {\"text\": \"Anderson-Darling Test\"}, \"width\": 1000}, {\"showLink\": false, \"linkText\": \"Export to plot.ly\", \"plotlyServerURL\": \"https://plot.ly\"}); \n",
       "}\n",
       "});</script>"
      ],
      "text/vnd.plotly.v1+html": [
       "<div id=\"0d188401-20c7-486d-8b8f-aa7924c7612f\" style=\"height: 415px; width: 1000px;\" class=\"plotly-graph-div\"></div><script type=\"text/javascript\">require([\"plotly\"], function(Plotly) { window.PLOTLYENV=window.PLOTLYENV || {};window.PLOTLYENV.BASE_URL=\"https://plot.ly\";\n",
       "if (document.getElementById(\"0d188401-20c7-486d-8b8f-aa7924c7612f\")) {\n",
       "    Plotly.newPlot(\"0d188401-20c7-486d-8b8f-aa7924c7612f\", [{\"cells\": {\"align\": \"center\", \"fill\": {\"color\": [[\"#EBF0F8\", \"#ffffff\", \"#EBF0F8\", \"#ffffff\", \"#EBF0F8\"]]}, \"height\": 40, \"line\": {\"width\": 0}, \"values\": [[\"5000\", \"5000\", \"5000\", \"5000\", \"5000\"], [\"0.321\", \"0.321\", \"0.321\", \"0.321\", \"0.321\"], [\"15.0\", \"10.0\", \"5.0\", \"2.5\", \"1.0\"], [\"0.576\", \"0.655\", \"0.786\", \"0.917\", \"1.091\"], [\"Sample looks Gaussian (fail to reject H0)\", \"Sample looks Gaussian (fail to reject H0)\", \"Sample looks Gaussian (fail to reject H0)\", \"Sample looks Gaussian (fail to reject H0)\", \"Sample looks Gaussian (fail to reject H0)\"]]}, \"columnwidth\": [0.3, 0.25, 0.3, 0.25, 0.5], \"header\": {\"align\": \"center\", \"fill\": {\"color\": \"rgba(42,63,95,0.8)\"}, \"font\": {\"color\": \"#ffffff\", \"size\": 12}, \"line\": {\"width\": 0}, \"values\": [\"<b>Sample Size</b>\", \"<b>Statistic</b>\", \"<b>Significance Level</b>\", \"<b>Critical Value</b>\", \"<b>Comment</b>\"]}, \"type\": \"table\", \"uid\": \"b39db6c1-e63d-4d9e-a2a8-ae4fb4cd7b95\"}], {\"height\": 415, \"title\": {\"text\": \"Anderson-Darling Test\"}, \"width\": 1000}, {\"showLink\": false, \"linkText\": \"Export to plot.ly\", \"plotlyServerURL\": \"https://plot.ly\"}); \n",
       "}\n",
       "});</script>"
      ]
     },
     "metadata": {},
     "output_type": "display_data"
    }
   ],
   "source": [
    "# Normality test\n",
    "test = \"Anderson-Darling Test\"\n",
    "result = anderson(samples_b_m)\n",
    "\n",
    "# Round results\n",
    "stat = round(result.statistic, 3)\n",
    "\n",
    "# Create table\n",
    "result_mat = []\n",
    "for i in range(len(result.critical_values)):\n",
    "    sl, cv = result.significance_level[i], result.critical_values[i]\n",
    "    if result.statistic < result.critical_values[i]:\n",
    "        msg = 'Sample looks Gaussian (fail to reject H0)'\n",
    "    else:\n",
    "        msg = 'Sample does not look Gaussian (reject H0)'\n",
    "    result_mat.append([len(samples_b_m), stat, sl, cv, msg])\n",
    "\n",
    "trace = go.Table(\n",
    "    header=dict(values=['<b>Sample Size</b>', '<b>Statistic</b>', '<b>Significance Level</b>', '<b>Critical Value</b>', '<b>Comment</b>'],\n",
    "                line = dict(width=0),\n",
    "                fill = dict(color='rgba(42,63,95,0.8)'),\n",
    "                align = 'center',\n",
    "                font = dict(\n",
    "                    color = '#ffffff',\n",
    "                    size = 12\n",
    "                )),\n",
    "    cells=dict(values=np.array(result_mat).T,\n",
    "               line = dict(width=0),\n",
    "               fill = dict(color=[['#EBF0F8', '#ffffff', '#EBF0F8', '#ffffff', '#EBF0F8']]),\n",
    "               align = 'center',\n",
    "               height = 40),\n",
    "    columnwidth=[0.3, 0.25, 0.3, 0.25, 0.5])\n",
    "       \n",
    "data = [trace]\n",
    "\n",
    "layout = dict(title=test, height=415, width=1000)\n",
    "\n",
    "andar_table = dict(data=data, layout=layout)\n",
    "\n",
    "# Plot table\n",
    "py.offline.iplot(andar_table)"
   ]
  },
  {
   "cell_type": "markdown",
   "metadata": {},
   "source": [
    "## 4.4 Normal Distribution using the numpy.random"
   ]
  },
  {
   "cell_type": "markdown",
   "metadata": {},
   "source": [
    "### Generate Samples"
   ]
  },
  {
   "cell_type": "code",
   "execution_count": 39,
   "metadata": {},
   "outputs": [],
   "source": [
    "# Set seed \n",
    "np.random.seed(1)\n",
    "\n",
    "tic = timeit.default_timer()\n",
    "\n",
    "# Generate n_samples samples \n",
    "samples_n_r = []\n",
    "for i in range(n_samples):\n",
    "    samples_n_r.append(np.random.normal(mu, sigma))  \n",
    "\n",
    "toc = timeit.default_timer()"
   ]
  },
  {
   "cell_type": "markdown",
   "metadata": {},
   "source": [
    "###  Histogram Plot"
   ]
  },
  {
   "cell_type": "code",
   "execution_count": 40,
   "metadata": {},
   "outputs": [
    {
     "name": "stdout",
     "output_type": "stream",
     "text": [
      "running time = 0.019, mean = 0.024, std_dev = 1.003\n"
     ]
    },
    {
     "data": {
      "image/png": "[encoded data removed]",
      "text/plain": [
       "<Figure size 432x288 with 1 Axes>"
      ]
     },
     "metadata": {
      "needs_background": "light"
     },
     "output_type": "display_data"
    }
   ],
   "source": [
    "# Plot n_samples samples\n",
    "\n",
    "sns.distplot(samples_n_r, bins=40).set_title(str(n_samples)+ \" samples using Rejection sampling\");\n",
    "\n",
    "print(\"running time = %.3f, mean = %.3f, std_dev = %.3f\" % (toc-tic, np.mean(samples_n_r), np.std(samples_n_r)));"
   ]
  },
  {
   "cell_type": "markdown",
   "metadata": {},
   "source": [
    "### QQ Plot"
   ]
  },
  {
   "cell_type": "code",
   "execution_count": 41,
   "metadata": {},
   "outputs": [
    {
     "data": {
      "image/png": "[encoded data removed]",
      "text/plain": [
       "<Figure size 720x288 with 2 Axes>"
      ]
     },
     "metadata": {
      "needs_background": "light"
     },
     "output_type": "display_data"
    }
   ],
   "source": [
    "# Plot q-q and p-p plot\n",
    "fig, ax = plt.subplots(1, 2, figsize=(10, 4))\n",
    "probplot = sm.ProbPlot(np.array(samples_n_r), dist=norm, fit=True)\n",
    "probplot.ppplot(line='45', ax=ax[0])\n",
    "probplot.qqplot(line='45', ax=ax[1])\n",
    "ax[0].set_title('P-P Plot')\n",
    "ax[1].set_title('Q-Q Plot');"
   ]
  },
  {
   "cell_type": "markdown",
   "metadata": {},
   "source": [
    "### Boxplot"
   ]
  },
  {
   "cell_type": "code",
   "execution_count": 42,
   "metadata": {},
   "outputs": [
    {
     "data": {
      "image/png": "[encoded data removed]",
      "text/plain": [
       "<Figure size 432x288 with 1 Axes>"
      ]
     },
     "metadata": {
      "needs_background": "light"
     },
     "output_type": "display_data"
    }
   ],
   "source": [
    "sns.boxplot(samples_n_r, width=4);"
   ]
  },
  {
   "cell_type": "markdown",
   "metadata": {},
   "source": [
    "### Empirical Cumulative Distribution Function Plot"
   ]
  },
  {
   "cell_type": "code",
   "execution_count": 43,
   "metadata": {},
   "outputs": [
    {
     "data": {
      "image/png": "[encoded data removed]",
      "text/plain": [
       "<Figure size 432x288 with 1 Axes>"
      ]
     },
     "metadata": {
      "needs_background": "light"
     },
     "output_type": "display_data"
    }
   ],
   "source": [
    "# Plot Empirical Cumulative Distribution vs Normal Cumulative Distribution\n",
    "x=np.linspace(-5, 5)\n",
    "\n",
    "# Plot normal cdf\n",
    "plot_normal(x, mu=mu, sigma=sigma, cdf=True, label=\"normal cdf\")\n",
    "\n",
    "# Plor ecdf\n",
    "ecdf = sm.distributions.ECDF(samples_n_r)\n",
    "ecdf = ecdf(x)\n",
    "plt.step(x, ecdf, label=\"ecdf\")\n",
    "\n",
    "plt.legend();"
   ]
  },
  {
   "cell_type": "markdown",
   "metadata": {},
   "source": [
    "### Shapiro-Wilk Test"
   ]
  },
  {
   "cell_type": "code",
   "execution_count": 44,
   "metadata": {},
   "outputs": [
    {
     "data": {
      "application/vnd.plotly.v1+json": {
       "config": {
        "linkText": "Export to plot.ly",
        "plotlyServerURL": "https://plot.ly",
        "showLink": false
       },
       "data": [
        {
         "cells": {
          "align": "center",
          "fill": {
           "color": [
            [
             "#EBF0F8",
             "#ffffff",
             "#EBF0F8",
             "#ffffff"
            ]
           ]
          },
          "height": 40,
          "line": {
           "width": 0
          },
          "values": [
           "5000",
           "1.0",
           "0.46",
           "Sample looks Gaussian (fail to reject H0)"
          ]
         },
         "columnwidth": [
          0.3,
          0.25,
          0.3,
          0.45
         ],
         "header": {
          "align": "center",
          "fill": {
           "color": "rgba(42,63,95,0.8)"
          },
          "font": {
           "color": "#ffffff",
           "size": 12
          },
          "line": {
           "width": 0
          },
          "values": [
           "<b>Sample Size</b>",
           "<b>Statistic</b>",
           "<b>p-Value</b>",
           "<b>Comment</b>"
          ]
         },
         "type": "table",
         "uid": "8c3abb1d-5a8e-433c-8af0-7c0da0d19776"
        }
       ],
       "layout": {
        "height": 260,
        "title": {
         "text": "Shapiro-Wilk Test"
        },
        "width": 1000
       }
      },
      "text/html": [
       "<div id=\"2b5280b5-8440-475a-b9ff-628ddeb71ad3\" style=\"height: 260px; width: 1000px;\" class=\"plotly-graph-div\"></div><script type=\"text/javascript\">require([\"plotly\"], function(Plotly) { window.PLOTLYENV=window.PLOTLYENV || {};window.PLOTLYENV.BASE_URL=\"https://plot.ly\";\n",
       "if (document.getElementById(\"2b5280b5-8440-475a-b9ff-628ddeb71ad3\")) {\n",
       "    Plotly.newPlot(\"2b5280b5-8440-475a-b9ff-628ddeb71ad3\", [{\"cells\": {\"align\": \"center\", \"fill\": {\"color\": [[\"#EBF0F8\", \"#ffffff\", \"#EBF0F8\", \"#ffffff\"]]}, \"height\": 40, \"line\": {\"width\": 0}, \"values\": [\"5000\", \"1.0\", \"0.46\", \"Sample looks Gaussian (fail to reject H0)\"]}, \"columnwidth\": [0.3, 0.25, 0.3, 0.45], \"header\": {\"align\": \"center\", \"fill\": {\"color\": \"rgba(42,63,95,0.8)\"}, \"font\": {\"color\": \"#ffffff\", \"size\": 12}, \"line\": {\"width\": 0}, \"values\": [\"<b>Sample Size</b>\", \"<b>Statistic</b>\", \"<b>p-Value</b>\", \"<b>Comment</b>\"]}, \"type\": \"table\", \"uid\": \"bb01ad1a-066f-432f-b217-e7c6b4cf0837\"}], {\"height\": 260, \"title\": {\"text\": \"Shapiro-Wilk Test\"}, \"width\": 1000}, {\"showLink\": false, \"linkText\": \"Export to plot.ly\", \"plotlyServerURL\": \"https://plot.ly\"}); \n",
       "}\n",
       "});</script>"
      ],
      "text/vnd.plotly.v1+html": [
       "<div id=\"2b5280b5-8440-475a-b9ff-628ddeb71ad3\" style=\"height: 260px; width: 1000px;\" class=\"plotly-graph-div\"></div><script type=\"text/javascript\">require([\"plotly\"], function(Plotly) { window.PLOTLYENV=window.PLOTLYENV || {};window.PLOTLYENV.BASE_URL=\"https://plot.ly\";\n",
       "if (document.getElementById(\"2b5280b5-8440-475a-b9ff-628ddeb71ad3\")) {\n",
       "    Plotly.newPlot(\"2b5280b5-8440-475a-b9ff-628ddeb71ad3\", [{\"cells\": {\"align\": \"center\", \"fill\": {\"color\": [[\"#EBF0F8\", \"#ffffff\", \"#EBF0F8\", \"#ffffff\"]]}, \"height\": 40, \"line\": {\"width\": 0}, \"values\": [\"5000\", \"1.0\", \"0.46\", \"Sample looks Gaussian (fail to reject H0)\"]}, \"columnwidth\": [0.3, 0.25, 0.3, 0.45], \"header\": {\"align\": \"center\", \"fill\": {\"color\": \"rgba(42,63,95,0.8)\"}, \"font\": {\"color\": \"#ffffff\", \"size\": 12}, \"line\": {\"width\": 0}, \"values\": [\"<b>Sample Size</b>\", \"<b>Statistic</b>\", \"<b>p-Value</b>\", \"<b>Comment</b>\"]}, \"type\": \"table\", \"uid\": \"bb01ad1a-066f-432f-b217-e7c6b4cf0837\"}], {\"height\": 260, \"title\": {\"text\": \"Shapiro-Wilk Test\"}, \"width\": 1000}, {\"showLink\": false, \"linkText\": \"Export to plot.ly\", \"plotlyServerURL\": \"https://plot.ly\"}); \n",
       "}\n",
       "});</script>"
      ]
     },
     "metadata": {},
     "output_type": "display_data"
    }
   ],
   "source": [
    "# Normality test\n",
    "test = \"Shapiro-Wilk Test\"\n",
    "stat, p = shapiro(samples_n_r)\n",
    "\n",
    "# Round results\n",
    "stat = round(stat, 3)\n",
    "p = round(p, 3)\n",
    "\n",
    "# Interpre results\n",
    "alpha = 0.05\n",
    "if p > alpha:\n",
    "    msg = 'Sample looks Gaussian (fail to reject H0)'\n",
    "else:\n",
    "    msg = \"Sample does not look Gaussian (reject H0)\"\n",
    "\n",
    "# Create table\n",
    "result_mat = [len(samples_n_r), stat, p, msg]\n",
    "\n",
    "trace = go.Table(\n",
    "    header=dict(values=['<b>Sample Size</b>', '<b>Statistic</b>', '<b>p-Value</b>', '<b>Comment</b>'],\n",
    "                line = dict(width=0),\n",
    "                fill = dict(color='rgba(42,63,95,0.8)'),\n",
    "                align = 'center',\n",
    "                font = dict(\n",
    "                    color = '#ffffff',\n",
    "                    size = 12\n",
    "                )),\n",
    "    cells=dict(values=np.array(result_mat).T,\n",
    "               line = dict(width=0),\n",
    "               fill = dict(color=[['#EBF0F8', '#ffffff', '#EBF0F8', '#ffffff']]),\n",
    "               align = 'center',\n",
    "               height = 40),\n",
    "    columnwidth=[0.3, 0.25, 0.3, 0.45])\n",
    "       \n",
    "data = [trace]\n",
    "\n",
    "layout = dict(title=test, height=260, width=1000)\n",
    "\n",
    "sw_table = dict(data=data, layout=layout)\n",
    "\n",
    "# Plot table\n",
    "py.offline.iplot(sw_table)"
   ]
  },
  {
   "cell_type": "markdown",
   "metadata": {},
   "source": [
    "### D’Agostino’s K^2 Test"
   ]
  },
  {
   "cell_type": "code",
   "execution_count": 45,
   "metadata": {},
   "outputs": [
    {
     "data": {
      "application/vnd.plotly.v1+json": {
       "config": {
        "linkText": "Export to plot.ly",
        "plotlyServerURL": "https://plot.ly",
        "showLink": false
       },
       "data": [
        {
         "cells": {
          "align": "center",
          "fill": {
           "color": [
            [
             "#EBF0F8",
             "#ffffff",
             "#EBF0F8",
             "#ffffff"
            ]
           ]
          },
          "height": 40,
          "line": {
           "width": 0
          },
          "values": [
           "5000",
           "0.121",
           "0.941",
           "Sample looks Gaussian (fail to reject H0)"
          ]
         },
         "columnwidth": [
          0.3,
          0.25,
          0.3,
          0.45
         ],
         "header": {
          "align": "center",
          "fill": {
           "color": "rgba(42,63,95,0.8)"
          },
          "font": {
           "color": "#ffffff",
           "size": 12
          },
          "line": {
           "width": 0
          },
          "values": [
           "<b>Sample Size</b>",
           "<b>Statistic</b>",
           "<b>p-Value</b>",
           "<b>Comment</b>"
          ]
         },
         "type": "table",
         "uid": "8f64855e-2299-417c-a505-0f02cf6c8864"
        }
       ],
       "layout": {
        "height": 260,
        "title": {
         "text": "D’Agostino’s K^2 Test"
        },
        "width": 1000
       }
      },
      "text/html": [
       "<div id=\"b532bf25-957b-447a-ae42-991a6117f8e3\" style=\"height: 260px; width: 1000px;\" class=\"plotly-graph-div\"></div><script type=\"text/javascript\">require([\"plotly\"], function(Plotly) { window.PLOTLYENV=window.PLOTLYENV || {};window.PLOTLYENV.BASE_URL=\"https://plot.ly\";\n",
       "if (document.getElementById(\"b532bf25-957b-447a-ae42-991a6117f8e3\")) {\n",
       "    Plotly.newPlot(\"b532bf25-957b-447a-ae42-991a6117f8e3\", [{\"cells\": {\"align\": \"center\", \"fill\": {\"color\": [[\"#EBF0F8\", \"#ffffff\", \"#EBF0F8\", \"#ffffff\"]]}, \"height\": 40, \"line\": {\"width\": 0}, \"values\": [\"5000\", \"0.121\", \"0.941\", \"Sample looks Gaussian (fail to reject H0)\"]}, \"columnwidth\": [0.3, 0.25, 0.3, 0.45], \"header\": {\"align\": \"center\", \"fill\": {\"color\": \"rgba(42,63,95,0.8)\"}, \"font\": {\"color\": \"#ffffff\", \"size\": 12}, \"line\": {\"width\": 0}, \"values\": [\"<b>Sample Size</b>\", \"<b>Statistic</b>\", \"<b>p-Value</b>\", \"<b>Comment</b>\"]}, \"type\": \"table\", \"uid\": \"d9444e36-1bef-43e8-84a5-76515db83dc6\"}], {\"height\": 260, \"title\": {\"text\": \"D\\u2019Agostino\\u2019s K^2 Test\"}, \"width\": 1000}, {\"showLink\": false, \"linkText\": \"Export to plot.ly\", \"plotlyServerURL\": \"https://plot.ly\"}); \n",
       "}\n",
       "});</script>"
      ],
      "text/vnd.plotly.v1+html": [
       "<div id=\"b532bf25-957b-447a-ae42-991a6117f8e3\" style=\"height: 260px; width: 1000px;\" class=\"plotly-graph-div\"></div><script type=\"text/javascript\">require([\"plotly\"], function(Plotly) { window.PLOTLYENV=window.PLOTLYENV || {};window.PLOTLYENV.BASE_URL=\"https://plot.ly\";\n",
       "if (document.getElementById(\"b532bf25-957b-447a-ae42-991a6117f8e3\")) {\n",
       "    Plotly.newPlot(\"b532bf25-957b-447a-ae42-991a6117f8e3\", [{\"cells\": {\"align\": \"center\", \"fill\": {\"color\": [[\"#EBF0F8\", \"#ffffff\", \"#EBF0F8\", \"#ffffff\"]]}, \"height\": 40, \"line\": {\"width\": 0}, \"values\": [\"5000\", \"0.121\", \"0.941\", \"Sample looks Gaussian (fail to reject H0)\"]}, \"columnwidth\": [0.3, 0.25, 0.3, 0.45], \"header\": {\"align\": \"center\", \"fill\": {\"color\": \"rgba(42,63,95,0.8)\"}, \"font\": {\"color\": \"#ffffff\", \"size\": 12}, \"line\": {\"width\": 0}, \"values\": [\"<b>Sample Size</b>\", \"<b>Statistic</b>\", \"<b>p-Value</b>\", \"<b>Comment</b>\"]}, \"type\": \"table\", \"uid\": \"d9444e36-1bef-43e8-84a5-76515db83dc6\"}], {\"height\": 260, \"title\": {\"text\": \"D\\u2019Agostino\\u2019s K^2 Test\"}, \"width\": 1000}, {\"showLink\": false, \"linkText\": \"Export to plot.ly\", \"plotlyServerURL\": \"https://plot.ly\"}); \n",
       "}\n",
       "});</script>"
      ]
     },
     "metadata": {},
     "output_type": "display_data"
    }
   ],
   "source": [
    "# Normality test\n",
    "test = \"D’Agostino’s K^2 Test\"\n",
    "stat, p = normaltest(samples_n_r)\n",
    "\n",
    "# Round results\n",
    "stat = round(stat, 3)\n",
    "p = round(p, 3)\n",
    "\n",
    "# Interpre results\n",
    "alpha = 0.05\n",
    "if p > alpha:\n",
    "    msg = 'Sample looks Gaussian (fail to reject H0)'\n",
    "else:\n",
    "    msg = \"Sample does not look Gaussian (reject H0)\"\n",
    "\n",
    "# Create table\n",
    "result_mat = [len(samples_n_r), stat, p, msg]\n",
    "\n",
    "trace = go.Table(\n",
    "    header=dict(values=['<b>Sample Size</b>', '<b>Statistic</b>', '<b>p-Value</b>', '<b>Comment</b>'],\n",
    "                line = dict(width=0),\n",
    "                fill = dict(color='rgba(42,63,95,0.8)'),\n",
    "                align = 'center',\n",
    "                font = dict(\n",
    "                    color = '#ffffff',\n",
    "                    size = 12\n",
    "                )),\n",
    "    cells=dict(values=np.array(result_mat).T,\n",
    "               line = dict(width=0),\n",
    "               fill = dict(color=[['#EBF0F8', '#ffffff', '#EBF0F8', '#ffffff']]),\n",
    "               align = 'center',\n",
    "               height = 40),\n",
    "    columnwidth=[0.3, 0.25, 0.3, 0.45])\n",
    "       \n",
    "data = [trace]\n",
    "\n",
    "layout = dict(title=test, height=260, width=1000)\n",
    "\n",
    "norm_table = dict(data=data, layout=layout)\n",
    "\n",
    "# Plot table\n",
    "py.offline.iplot(norm_table)"
   ]
  },
  {
   "cell_type": "markdown",
   "metadata": {},
   "source": [
    "### Jarque-Beta Test"
   ]
  },
  {
   "cell_type": "code",
   "execution_count": 46,
   "metadata": {},
   "outputs": [
    {
     "data": {
      "application/vnd.plotly.v1+json": {
       "config": {
        "linkText": "Export to plot.ly",
        "plotlyServerURL": "https://plot.ly",
        "showLink": false
       },
       "data": [
        {
         "cells": {
          "align": "center",
          "fill": {
           "color": [
            [
             "#EBF0F8",
             "#ffffff",
             "#EBF0F8",
             "#ffffff"
            ]
           ]
          },
          "height": 40,
          "line": {
           "width": 0
          },
          "values": [
           "5000",
           "0.151",
           "0.927",
           "Sample looks Gaussian (fail to reject H0)"
          ]
         },
         "columnwidth": [
          0.3,
          0.25,
          0.3,
          0.45
         ],
         "header": {
          "align": "center",
          "fill": {
           "color": "rgba(42,63,95,0.8)"
          },
          "font": {
           "color": "#ffffff",
           "size": 12
          },
          "line": {
           "width": 0
          },
          "values": [
           "<b>Sample Size</b>",
           "<b>Statistic</b>",
           "<b>p-Value</b>",
           "<b>Comment</b>"
          ]
         },
         "type": "table",
         "uid": "3153bceb-0653-4260-b990-d173ac8d7c58"
        }
       ],
       "layout": {
        "height": 260,
        "title": {
         "text": "Jarque-Beta Test"
        },
        "width": 1000
       }
      },
      "text/html": [
       "<div id=\"6ae5c10c-33ab-4642-87e4-705a70c4ab01\" style=\"height: 260px; width: 1000px;\" class=\"plotly-graph-div\"></div><script type=\"text/javascript\">require([\"plotly\"], function(Plotly) { window.PLOTLYENV=window.PLOTLYENV || {};window.PLOTLYENV.BASE_URL=\"https://plot.ly\";\n",
       "if (document.getElementById(\"6ae5c10c-33ab-4642-87e4-705a70c4ab01\")) {\n",
       "    Plotly.newPlot(\"6ae5c10c-33ab-4642-87e4-705a70c4ab01\", [{\"cells\": {\"align\": \"center\", \"fill\": {\"color\": [[\"#EBF0F8\", \"#ffffff\", \"#EBF0F8\", \"#ffffff\"]]}, \"height\": 40, \"line\": {\"width\": 0}, \"values\": [\"5000\", \"0.151\", \"0.927\", \"Sample looks Gaussian (fail to reject H0)\"]}, \"columnwidth\": [0.3, 0.25, 0.3, 0.45], \"header\": {\"align\": \"center\", \"fill\": {\"color\": \"rgba(42,63,95,0.8)\"}, \"font\": {\"color\": \"#ffffff\", \"size\": 12}, \"line\": {\"width\": 0}, \"values\": [\"<b>Sample Size</b>\", \"<b>Statistic</b>\", \"<b>p-Value</b>\", \"<b>Comment</b>\"]}, \"type\": \"table\", \"uid\": \"f80f48b9-dcd3-474a-91f1-442b0a58e50f\"}], {\"height\": 260, \"title\": {\"text\": \"Jarque-Beta Test\"}, \"width\": 1000}, {\"showLink\": false, \"linkText\": \"Export to plot.ly\", \"plotlyServerURL\": \"https://plot.ly\"}); \n",
       "}\n",
       "});</script>"
      ],
      "text/vnd.plotly.v1+html": [
       "<div id=\"6ae5c10c-33ab-4642-87e4-705a70c4ab01\" style=\"height: 260px; width: 1000px;\" class=\"plotly-graph-div\"></div><script type=\"text/javascript\">require([\"plotly\"], function(Plotly) { window.PLOTLYENV=window.PLOTLYENV || {};window.PLOTLYENV.BASE_URL=\"https://plot.ly\";\n",
       "if (document.getElementById(\"6ae5c10c-33ab-4642-87e4-705a70c4ab01\")) {\n",
       "    Plotly.newPlot(\"6ae5c10c-33ab-4642-87e4-705a70c4ab01\", [{\"cells\": {\"align\": \"center\", \"fill\": {\"color\": [[\"#EBF0F8\", \"#ffffff\", \"#EBF0F8\", \"#ffffff\"]]}, \"height\": 40, \"line\": {\"width\": 0}, \"values\": [\"5000\", \"0.151\", \"0.927\", \"Sample looks Gaussian (fail to reject H0)\"]}, \"columnwidth\": [0.3, 0.25, 0.3, 0.45], \"header\": {\"align\": \"center\", \"fill\": {\"color\": \"rgba(42,63,95,0.8)\"}, \"font\": {\"color\": \"#ffffff\", \"size\": 12}, \"line\": {\"width\": 0}, \"values\": [\"<b>Sample Size</b>\", \"<b>Statistic</b>\", \"<b>p-Value</b>\", \"<b>Comment</b>\"]}, \"type\": \"table\", \"uid\": \"f80f48b9-dcd3-474a-91f1-442b0a58e50f\"}], {\"height\": 260, \"title\": {\"text\": \"Jarque-Beta Test\"}, \"width\": 1000}, {\"showLink\": false, \"linkText\": \"Export to plot.ly\", \"plotlyServerURL\": \"https://plot.ly\"}); \n",
       "}\n",
       "});</script>"
      ]
     },
     "metadata": {},
     "output_type": "display_data"
    }
   ],
   "source": [
    "# Normality test\n",
    "test = \"Jarque-Beta Test\"\n",
    "stat, p = stats.jarque_bera(samples_n_r)\n",
    "\n",
    "# Round results\n",
    "stat = round(stat, 3)\n",
    "p = round(p, 3)\n",
    "\n",
    "# Interpre results\n",
    "alpha = 0.05\n",
    "if p > alpha:\n",
    "    msg = 'Sample looks Gaussian (fail to reject H0)'\n",
    "else:\n",
    "    msg = \"Sample does not look Gaussian (reject H0)\"\n",
    "\n",
    "# Create table\n",
    "result_mat = [len(samples_n_r), stat, p, msg]\n",
    "\n",
    "trace = go.Table(\n",
    "    header=dict(values=['<b>Sample Size</b>', '<b>Statistic</b>', '<b>p-Value</b>', '<b>Comment</b>'],\n",
    "                line = dict(width=0),\n",
    "                fill = dict(color='rgba(42,63,95,0.8)'),\n",
    "                align = 'center',\n",
    "                font = dict(\n",
    "                    color = '#ffffff',\n",
    "                    size = 12\n",
    "                )),\n",
    "    cells=dict(values=np.array(result_mat).T,\n",
    "               line = dict(width=0),\n",
    "               fill = dict(color=[['#EBF0F8', '#ffffff', '#EBF0F8', '#ffffff']]),\n",
    "               align = 'center',\n",
    "               height = 40),\n",
    "    columnwidth=[0.3, 0.25, 0.3, 0.45])\n",
    "       \n",
    "data = [trace]\n",
    "\n",
    "layout = dict(title=test, height=260, width=1000)\n",
    "\n",
    "jb_table = dict(data=data, layout=layout)\n",
    "\n",
    "# Plot table\n",
    "py.offline.iplot(jb_table)"
   ]
  },
  {
   "cell_type": "markdown",
   "metadata": {},
   "source": [
    "### Kolmogorov Smirnov Test"
   ]
  },
  {
   "cell_type": "code",
   "execution_count": 47,
   "metadata": {},
   "outputs": [
    {
     "data": {
      "application/vnd.plotly.v1+json": {
       "config": {
        "linkText": "Export to plot.ly",
        "plotlyServerURL": "https://plot.ly",
        "showLink": false
       },
       "data": [
        {
         "cells": {
          "align": "center",
          "fill": {
           "color": [
            [
             "#EBF0F8",
             "#ffffff",
             "#EBF0F8",
             "#ffffff"
            ]
           ]
          },
          "height": 40,
          "line": {
           "width": 0
          },
          "values": [
           "5000",
           "0.003",
           "0.923",
           "Sample looks Gaussian (fail to reject H0)"
          ]
         },
         "columnwidth": [
          0.3,
          0.25,
          0.3,
          0.45
         ],
         "header": {
          "align": "center",
          "fill": {
           "color": "rgba(42,63,95,0.8)"
          },
          "font": {
           "color": "#ffffff",
           "size": 12
          },
          "line": {
           "width": 0
          },
          "values": [
           "<b>Sample Size</b>",
           "<b>Statistic</b>",
           "<b>p-Value</b>",
           "<b>Comment</b>"
          ]
         },
         "type": "table",
         "uid": "9a866190-3587-4cb7-ab65-aa4ca5d2d087"
        }
       ],
       "layout": {
        "height": 260,
        "title": {
         "text": "Kolmogorov Smirnov Test"
        },
        "width": 1000
       }
      },
      "text/html": [
       "<div id=\"5e04d267-58b5-4476-9a5d-08be0bd191bd\" style=\"height: 260px; width: 1000px;\" class=\"plotly-graph-div\"></div><script type=\"text/javascript\">require([\"plotly\"], function(Plotly) { window.PLOTLYENV=window.PLOTLYENV || {};window.PLOTLYENV.BASE_URL=\"https://plot.ly\";\n",
       "if (document.getElementById(\"5e04d267-58b5-4476-9a5d-08be0bd191bd\")) {\n",
       "    Plotly.newPlot(\"5e04d267-58b5-4476-9a5d-08be0bd191bd\", [{\"cells\": {\"align\": \"center\", \"fill\": {\"color\": [[\"#EBF0F8\", \"#ffffff\", \"#EBF0F8\", \"#ffffff\"]]}, \"height\": 40, \"line\": {\"width\": 0}, \"values\": [\"5000\", \"0.003\", \"0.923\", \"Sample looks Gaussian (fail to reject H0)\"]}, \"columnwidth\": [0.3, 0.25, 0.3, 0.45], \"header\": {\"align\": \"center\", \"fill\": {\"color\": \"rgba(42,63,95,0.8)\"}, \"font\": {\"color\": \"#ffffff\", \"size\": 12}, \"line\": {\"width\": 0}, \"values\": [\"<b>Sample Size</b>\", \"<b>Statistic</b>\", \"<b>p-Value</b>\", \"<b>Comment</b>\"]}, \"type\": \"table\", \"uid\": \"43d100e3-b018-4f37-b96e-5756c2dc5a60\"}], {\"height\": 260, \"title\": {\"text\": \"Kolmogorov Smirnov Test\"}, \"width\": 1000}, {\"showLink\": false, \"linkText\": \"Export to plot.ly\", \"plotlyServerURL\": \"https://plot.ly\"}); \n",
       "}\n",
       "});</script>"
      ],
      "text/vnd.plotly.v1+html": [
       "<div id=\"5e04d267-58b5-4476-9a5d-08be0bd191bd\" style=\"height: 260px; width: 1000px;\" class=\"plotly-graph-div\"></div><script type=\"text/javascript\">require([\"plotly\"], function(Plotly) { window.PLOTLYENV=window.PLOTLYENV || {};window.PLOTLYENV.BASE_URL=\"https://plot.ly\";\n",
       "if (document.getElementById(\"5e04d267-58b5-4476-9a5d-08be0bd191bd\")) {\n",
       "    Plotly.newPlot(\"5e04d267-58b5-4476-9a5d-08be0bd191bd\", [{\"cells\": {\"align\": \"center\", \"fill\": {\"color\": [[\"#EBF0F8\", \"#ffffff\", \"#EBF0F8\", \"#ffffff\"]]}, \"height\": 40, \"line\": {\"width\": 0}, \"values\": [\"5000\", \"0.003\", \"0.923\", \"Sample looks Gaussian (fail to reject H0)\"]}, \"columnwidth\": [0.3, 0.25, 0.3, 0.45], \"header\": {\"align\": \"center\", \"fill\": {\"color\": \"rgba(42,63,95,0.8)\"}, \"font\": {\"color\": \"#ffffff\", \"size\": 12}, \"line\": {\"width\": 0}, \"values\": [\"<b>Sample Size</b>\", \"<b>Statistic</b>\", \"<b>p-Value</b>\", \"<b>Comment</b>\"]}, \"type\": \"table\", \"uid\": \"43d100e3-b018-4f37-b96e-5756c2dc5a60\"}], {\"height\": 260, \"title\": {\"text\": \"Kolmogorov Smirnov Test\"}, \"width\": 1000}, {\"showLink\": false, \"linkText\": \"Export to plot.ly\", \"plotlyServerURL\": \"https://plot.ly\"}); \n",
       "}\n",
       "});</script>"
      ]
     },
     "metadata": {},
     "output_type": "display_data"
    }
   ],
   "source": [
    "# Normality test\n",
    "test = \"Kolmogorov Smirnov Test\"\n",
    "stat, p = stats.kstest(np.array(samples_n_r),'norm', alternative = 'greater')\n",
    "\n",
    "# Round results\n",
    "stat = round(stat, 3)\n",
    "p = round(p, 3)\n",
    "\n",
    "# Interpre results\n",
    "alpha = 0.05\n",
    "if p > alpha:\n",
    "    msg = 'Sample looks Gaussian (fail to reject H0)'\n",
    "else:\n",
    "    msg = \"Sample does not look Gaussian (reject H0)\"\n",
    "\n",
    "# Create table\n",
    "result_mat = [len(samples_n_r), stat, p, msg]\n",
    "\n",
    "trace = go.Table(\n",
    "    header=dict(values=['<b>Sample Size</b>', '<b>Statistic</b>', '<b>p-Value</b>', '<b>Comment</b>'],\n",
    "                line = dict(width=0),\n",
    "                fill = dict(color='rgba(42,63,95,0.8)'),\n",
    "                align = 'center',\n",
    "                font = dict(\n",
    "                    color = '#ffffff',\n",
    "                    size = 12\n",
    "                )),\n",
    "    cells=dict(values=np.array(result_mat).T,\n",
    "               line = dict(width=0),\n",
    "               fill = dict(color=[['#EBF0F8', '#ffffff', '#EBF0F8', '#ffffff']]),\n",
    "               align = 'center',\n",
    "               height = 40),\n",
    "    columnwidth=[0.3, 0.25, 0.3, 0.45])\n",
    "       \n",
    "data = [trace]\n",
    "\n",
    "layout = dict(title=test, height=260, width=1000)\n",
    "\n",
    "ks_table = dict(data=data, layout=layout)\n",
    "\n",
    "# Plot table\n",
    "py.offline.iplot(ks_table)"
   ]
  },
  {
   "cell_type": "markdown",
   "metadata": {},
   "source": [
    "### Anderson-Darling"
   ]
  },
  {
   "cell_type": "code",
   "execution_count": 48,
   "metadata": {},
   "outputs": [
    {
     "data": {
      "application/vnd.plotly.v1+json": {
       "config": {
        "linkText": "Export to plot.ly",
        "plotlyServerURL": "https://plot.ly",
        "showLink": false
       },
       "data": [
        {
         "cells": {
          "align": "center",
          "fill": {
           "color": [
            [
             "#EBF0F8",
             "#ffffff",
             "#EBF0F8",
             "#ffffff",
             "#EBF0F8"
            ]
           ]
          },
          "height": 40,
          "line": {
           "width": 0
          },
          "values": [
           [
            "5000",
            "5000",
            "5000",
            "5000",
            "5000"
           ],
           [
            "0.305",
            "0.305",
            "0.305",
            "0.305",
            "0.305"
           ],
           [
            "15.0",
            "10.0",
            "5.0",
            "2.5",
            "1.0"
           ],
           [
            "0.576",
            "0.655",
            "0.786",
            "0.917",
            "1.091"
           ],
           [
            "Sample looks Gaussian (fail to reject H0)",
            "Sample looks Gaussian (fail to reject H0)",
            "Sample looks Gaussian (fail to reject H0)",
            "Sample looks Gaussian (fail to reject H0)",
            "Sample looks Gaussian (fail to reject H0)"
           ]
          ]
         },
         "columnwidth": [
          0.3,
          0.25,
          0.3,
          0.25,
          0.5
         ],
         "header": {
          "align": "center",
          "fill": {
           "color": "rgba(42,63,95,0.8)"
          },
          "font": {
           "color": "#ffffff",
           "size": 12
          },
          "line": {
           "width": 0
          },
          "values": [
           "<b>Sample Size</b>",
           "<b>Statistic</b>",
           "<b>Significance Level</b>",
           "<b>Critical Value</b>",
           "<b>Comment</b>"
          ]
         },
         "type": "table",
         "uid": "732c6fc6-efc7-40cd-a0b2-5ae551de622b"
        }
       ],
       "layout": {
        "height": 415,
        "title": {
         "text": "Anderson-Darling Test"
        },
        "width": 1000
       }
      },
      "text/html": [
       "<div id=\"b92c132f-e0dc-4931-833b-ded1b40d88fe\" style=\"height: 415px; width: 1000px;\" class=\"plotly-graph-div\"></div><script type=\"text/javascript\">require([\"plotly\"], function(Plotly) { window.PLOTLYENV=window.PLOTLYENV || {};window.PLOTLYENV.BASE_URL=\"https://plot.ly\";\n",
       "if (document.getElementById(\"b92c132f-e0dc-4931-833b-ded1b40d88fe\")) {\n",
       "    Plotly.newPlot(\"b92c132f-e0dc-4931-833b-ded1b40d88fe\", [{\"cells\": {\"align\": \"center\", \"fill\": {\"color\": [[\"#EBF0F8\", \"#ffffff\", \"#EBF0F8\", \"#ffffff\", \"#EBF0F8\"]]}, \"height\": 40, \"line\": {\"width\": 0}, \"values\": [[\"5000\", \"5000\", \"5000\", \"5000\", \"5000\"], [\"0.305\", \"0.305\", \"0.305\", \"0.305\", \"0.305\"], [\"15.0\", \"10.0\", \"5.0\", \"2.5\", \"1.0\"], [\"0.576\", \"0.655\", \"0.786\", \"0.917\", \"1.091\"], [\"Sample looks Gaussian (fail to reject H0)\", \"Sample looks Gaussian (fail to reject H0)\", \"Sample looks Gaussian (fail to reject H0)\", \"Sample looks Gaussian (fail to reject H0)\", \"Sample looks Gaussian (fail to reject H0)\"]]}, \"columnwidth\": [0.3, 0.25, 0.3, 0.25, 0.5], \"header\": {\"align\": \"center\", \"fill\": {\"color\": \"rgba(42,63,95,0.8)\"}, \"font\": {\"color\": \"#ffffff\", \"size\": 12}, \"line\": {\"width\": 0}, \"values\": [\"<b>Sample Size</b>\", \"<b>Statistic</b>\", \"<b>Significance Level</b>\", \"<b>Critical Value</b>\", \"<b>Comment</b>\"]}, \"type\": \"table\", \"uid\": \"51bddfa2-8a3b-4cf0-80ca-b42a5eb07047\"}], {\"height\": 415, \"title\": {\"text\": \"Anderson-Darling Test\"}, \"width\": 1000}, {\"showLink\": false, \"linkText\": \"Export to plot.ly\", \"plotlyServerURL\": \"https://plot.ly\"}); \n",
       "}\n",
       "});</script>"
      ],
      "text/vnd.plotly.v1+html": [
       "<div id=\"b92c132f-e0dc-4931-833b-ded1b40d88fe\" style=\"height: 415px; width: 1000px;\" class=\"plotly-graph-div\"></div><script type=\"text/javascript\">require([\"plotly\"], function(Plotly) { window.PLOTLYENV=window.PLOTLYENV || {};window.PLOTLYENV.BASE_URL=\"https://plot.ly\";\n",
       "if (document.getElementById(\"b92c132f-e0dc-4931-833b-ded1b40d88fe\")) {\n",
       "    Plotly.newPlot(\"b92c132f-e0dc-4931-833b-ded1b40d88fe\", [{\"cells\": {\"align\": \"center\", \"fill\": {\"color\": [[\"#EBF0F8\", \"#ffffff\", \"#EBF0F8\", \"#ffffff\", \"#EBF0F8\"]]}, \"height\": 40, \"line\": {\"width\": 0}, \"values\": [[\"5000\", \"5000\", \"5000\", \"5000\", \"5000\"], [\"0.305\", \"0.305\", \"0.305\", \"0.305\", \"0.305\"], [\"15.0\", \"10.0\", \"5.0\", \"2.5\", \"1.0\"], [\"0.576\", \"0.655\", \"0.786\", \"0.917\", \"1.091\"], [\"Sample looks Gaussian (fail to reject H0)\", \"Sample looks Gaussian (fail to reject H0)\", \"Sample looks Gaussian (fail to reject H0)\", \"Sample looks Gaussian (fail to reject H0)\", \"Sample looks Gaussian (fail to reject H0)\"]]}, \"columnwidth\": [0.3, 0.25, 0.3, 0.25, 0.5], \"header\": {\"align\": \"center\", \"fill\": {\"color\": \"rgba(42,63,95,0.8)\"}, \"font\": {\"color\": \"#ffffff\", \"size\": 12}, \"line\": {\"width\": 0}, \"values\": [\"<b>Sample Size</b>\", \"<b>Statistic</b>\", \"<b>Significance Level</b>\", \"<b>Critical Value</b>\", \"<b>Comment</b>\"]}, \"type\": \"table\", \"uid\": \"51bddfa2-8a3b-4cf0-80ca-b42a5eb07047\"}], {\"height\": 415, \"title\": {\"text\": \"Anderson-Darling Test\"}, \"width\": 1000}, {\"showLink\": false, \"linkText\": \"Export to plot.ly\", \"plotlyServerURL\": \"https://plot.ly\"}); \n",
       "}\n",
       "});</script>"
      ]
     },
     "metadata": {},
     "output_type": "display_data"
    }
   ],
   "source": [
    "# Normality test\n",
    "test = \"Anderson-Darling Test\"\n",
    "result = anderson(samples_n_r)\n",
    "\n",
    "# Round results\n",
    "stat = round(result.statistic, 3)\n",
    "\n",
    "# Create table\n",
    "result_mat = []\n",
    "for i in range(len(result.critical_values)):\n",
    "    sl, cv = result.significance_level[i], result.critical_values[i]\n",
    "    if result.statistic < result.critical_values[i]:\n",
    "        msg = 'Sample looks Gaussian (fail to reject H0)'\n",
    "    else:\n",
    "        msg = 'Sample does not look Gaussian (reject H0)'\n",
    "    result_mat.append([len(samples_n_r), stat, sl, cv, msg])\n",
    "\n",
    "trace = go.Table(\n",
    "    header=dict(values=['<b>Sample Size</b>', '<b>Statistic</b>', '<b>Significance Level</b>', '<b>Critical Value</b>', '<b>Comment</b>'],\n",
    "                line = dict(width=0),\n",
    "                fill = dict(color='rgba(42,63,95,0.8)'),\n",
    "                align = 'center',\n",
    "                font = dict(\n",
    "                    color = '#ffffff',\n",
    "                    size = 12\n",
    "                )),\n",
    "    cells=dict(values=np.array(result_mat).T,\n",
    "               line = dict(width=0),\n",
    "               fill = dict(color=[['#EBF0F8', '#ffffff', '#EBF0F8', '#ffffff', '#EBF0F8']]),\n",
    "               align = 'center',\n",
    "               height = 40),\n",
    "    columnwidth=[0.3, 0.25, 0.3, 0.25, 0.5])\n",
    "       \n",
    "data = [trace]\n",
    "\n",
    "layout = dict(title=test, height=415, width=1000)\n",
    "\n",
    "andar_table = dict(data=data, layout=layout)\n",
    "\n",
    "# Plot table\n",
    "py.offline.iplot(andar_table)"
   ]
  }
 ],
 "metadata": {
  "kernelspec": {
   "display_name": "Python 3",
   "language": "python",
   "name": "python3"
  },
  "language_info": {
   "codemirror_mode": {
    "name": "ipython",
    "version": 3
   },
   "file_extension": ".py",
   "mimetype": "text/x-python",
   "name": "python",
   "nbconvert_exporter": "python",
   "pygments_lexer": "ipython3",
   "version": "3.6.6"
  }
 },
 "nbformat": 4,
 "nbformat_minor": 2
}
