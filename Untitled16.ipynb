{
 "cells": [
  {
   "cell_type": "markdown",
   "metadata": {},
   "source": [
    "# 1. Import Libraries"
   ]
  },
  {
   "cell_type": "code",
   "execution_count": 166,
   "metadata": {},
   "outputs": [
    {
     "data": {
      "text/html": [
       "<script type=\"text/javascript\">window.PlotlyConfig = {MathJaxConfig: 'local'};</script><script type=\"text/javascript\">if (window.MathJax) {MathJax.Hub.Config({SVG: {font: \"STIX-Web\"}});}</script><script>requirejs.config({paths: { 'plotly': ['https://cdn.plot.ly/plotly-latest.min']},});if(!window._Plotly) {require(['plotly'],function(plotly) {window._Plotly=plotly;});}</script>"
      ],
      "text/vnd.plotly.v1+html": [
       "<script type=\"text/javascript\">window.PlotlyConfig = {MathJaxConfig: 'local'};</script><script type=\"text/javascript\">if (window.MathJax) {MathJax.Hub.Config({SVG: {font: \"STIX-Web\"}});}</script><script>requirejs.config({paths: { 'plotly': ['https://cdn.plot.ly/plotly-latest.min']},});if(!window._Plotly) {require(['plotly'],function(plotly) {window._Plotly=plotly;});}</script>"
      ]
     },
     "metadata": {},
     "output_type": "display_data"
    }
   ],
   "source": [
    "# Math\n",
    "import numpy as np \n",
    "from numpy import random, sqrt, log, sin, cos, pi\n",
    "import math\n",
    "\n",
    "# Evaluating time\n",
    "import timeit\n",
    "\n",
    "# Statistics\n",
    "from scipy.stats import norm\n",
    "from scipy import stats\n",
    "import scipy.stats\n",
    "\n",
    "#Statistical tests\n",
    "from scipy.stats import shapiro\n",
    "from scipy.stats import normaltest\n",
    "from scipy.stats import anderson\n",
    "import statsmodels.api as sm\n",
    "import scipy.stats as ss\n",
    "\n",
    "# Plotting\n",
    "from statsmodels.graphics.gofplots import qqplot\n",
    "import matplotlib.pyplot as plt\n",
    "from pylab import show,hist,subplot,figure\n",
    "import seaborn as sns\n",
    "\n",
    "\n",
    "#first import plotly and provide username and api key\n",
    "import plotly\n",
    "plotly.tools.set_credentials_file(username=\"DavidDumig\", api_key='09MM5nVRit60GKU5bgt3')\n",
    "\n",
    "import plotly.plotly as py\n",
    "import plotly.graph_objs as go\n",
    "\n",
    "import plotly.figure_factory as ff\n",
    "from plotly.offline import download_plotlyjs, init_notebook_mode, plot, iplot\n",
    "\n",
    "init_notebook_mode(connected=True)"
   ]
  },
  {
   "cell_type": "markdown",
   "metadata": {},
   "source": [
    "# 2. Define functions"
   ]
  },
  {
   "cell_type": "code",
   "execution_count": 2,
   "metadata": {},
   "outputs": [],
   "source": [
    "# Generating standard uniform random numbers\n",
    "def rng(m=2**32, a=1103515245, c=12345):\n",
    "    rng.current = (a*rng.current + c) % m\n",
    "    return rng.current/m\n",
    "\n",
    "# Inverse Transformation Sampling\n",
    "def sample_normal_inverse_transform(mu, sigma):\n",
    "    \"\"\"Sample from a normal distribution using Inverse Sampling Transformation.\"\"\"\n",
    "    # Generate a uniform random variable\n",
    "    u = np.random.uniform(0, 1)\n",
    "    # Calculating the inverse cdf at u for the given normal distribution\n",
    "    # with mean mu and standard deviation sigma   \n",
    "    x = norm.ppf(u, loc=mu, scale=sigma)\n",
    "    return x\n",
    "\n",
    "# Box-Muller Transformation (standard normal distribution)\n",
    "def sample_normal_boxmuller(u1,u2):\n",
    "  z1 = np.sqrt(-2*np.log(u1))*np.cos(2*np.pi*u2)\n",
    "  z2 = np.sqrt(-2*np.log(u1))*np.sin(2*np.pi*u2)\n",
    "  return z1,z2\n",
    "\n",
    "# Box-Muller Transformation (normal distribution with any mean and standard deviation)\n",
    "def sample_normal_boxmuller_g(mu, sigma):\n",
    "    \"\"\"Sample from a normal distribution using Box-Muller method.\"\"\"\n",
    "    # Two uniform random variables\n",
    "    u = np.random.uniform(0, 1, 2)\n",
    "    # Box-Muller formula returns sample from STANDARD normal distribution\n",
    "    x = math.cos(2*np.pi*u[0]) * math.sqrt(-2*math.log(u[1])) \n",
    "    return mu + sigma * x\n",
    "\n",
    "# Rejection Sampling\n",
    "def sample_normal_rejection(mu, sigma):\n",
    "    \"\"\"Sample from a normal distribution using rejection sampling.\"\"\"\n",
    "    # Length of interval from wich samples are drawn\n",
    "    interval = 5*sigma\n",
    "    # Maximum value of the pdf of the desired normal distribution\n",
    "    max_density = scipy.stats.norm(mu,sigma).pdf(mu)\n",
    "    # Rejection loop\n",
    "    while True:\n",
    "        x = np.random.uniform(mu - interval, mu + interval, 1)[0] \n",
    "        y = np.random.uniform(0, max_density, 1)\n",
    "        if y <= scipy.stats.norm(mu, sigma).pdf(x):\n",
    "            break \n",
    "    return x\n",
    "\n",
    "# Plot normal distribution\n",
    "def plot_normal(x_range, mu=0, sigma=1, cdf=False, **kwargs):\n",
    "    '''\n",
    "    Plots the normal distribution function for a given x range\n",
    "    If mu and sigma are not provided, standard normal is plotted\n",
    "    If cdf=True cumulative distribution is plotted\n",
    "    Passes any keyword arguments to matplotlib plot function\n",
    "    '''\n",
    "    x = x_range\n",
    "    if cdf:\n",
    "        y = ss.norm.cdf(x, mu, sigma)\n",
    "    else:\n",
    "        y = ss.norm.pdf(x, mu, sigma)\n",
    "    plt.plot(x, y, **kwargs)"
   ]
  },
  {
   "cell_type": "markdown",
   "metadata": {},
   "source": [
    "# 3.1 Pseudorandom number generators"
   ]
  },
  {
   "cell_type": "markdown",
   "metadata": {},
   "source": [
    "While pseudorandom numbers are generated by a deterministic algorithm, we can usually treat them as if they were real random numbers and thus we can drop the prefix \"pseudo\".\n",
    "\n",
    "Basically, the algorithm generates random integers, which are then normalized to obtain a floating point number from the standard uniform distribution.\n",
    "\n",
    "\n",
    "Random numbers from other distributions are in turn generated with these uniform random deviates, either using general (inverse transformation, accept/reject) or special ad hoc methods (e.g. Box-Muller)."
   ]
  },
  {
   "cell_type": "markdown",
   "metadata": {},
   "source": [
    "# 3.2 Generating standard uniform random numbers"
   ]
  },
  {
   "cell_type": "markdown",
   "metadata": {},
   "source": [
    "Linear congruential generators (LCG)\n",
    "\n",
    "$ z_{i+1} = (az_{i}+c) \\ mod \\ m  $\n",
    "\n",
    "Hull-Dobell Theorem: The LCG will have a full period for all seeds if and only if\n",
    "\n",
    "c and m are relatively prime, <br>\n",
    "a−1 is divisible by all prime factors of m <br>\n",
    "a−1 is a multiple of 4 if m is a multiple of 4. <br>\n",
    "\n",
    "The number $ z_{0}$ is called the seed, and setting it allows us to obtain a reproducible sequence of “random” numbers.\n",
    "\n",
    "The LCG is typically coded to return z/m, a floating point number in (0, 1). This can be scaled to any other range (a,b). \n",
    "\n",
    "Most pseudorandom number generators today use the Mersenne Twister, but the LCG is presented because the LCG code is much easier to understand and sufficient for our purposes. "
   ]
  },
  {
   "cell_type": "code",
   "execution_count": 147,
   "metadata": {},
   "outputs": [
    {
     "name": "stdout",
     "output_type": "stream",
     "text": [
      "running time = 0.127, mean = 0.504, std_dev = 0.288\n"
     ]
    },
    {
     "data": {
      "image/png": "[encoded data removed]",
      "text/plain": [
       "<Figure size 432x288 with 1 Axes>"
      ]
     },
     "metadata": {
      "needs_background": "light"
     },
     "output_type": "display_data"
    }
   ],
   "source": [
    "# Set seed \n",
    "rng.current = 1\n",
    "\n",
    "tic = timeit.default_timer()\n",
    "\n",
    "n_samples = 5000\n",
    "\n",
    "# Plot n_samples samples \n",
    "samples_uniform = []\n",
    "for i in range(n_samples):\n",
    "    samples_uniform.append(rng())  \n",
    "sns.distplot(samples_uniform, bins=40).set_title(str(n_samples)+ \" samples using Rejection sampling\");\n",
    "\n",
    "toc = timeit.default_timer()\n",
    "\n",
    "print(\"running time = %.3f, mean = %.3f, std_dev = %.3f\" % (toc-tic, np.mean(samples_uniform), np.std(samples_uniform)));"
   ]
  },
  {
   "cell_type": "markdown",
   "metadata": {},
   "source": [
    "# 4. Generate normally distributed numbers (with any mu and sigma)"
   ]
  },
  {
   "cell_type": "markdown",
   "metadata": {},
   "source": [
    "### Parameter"
   ]
  },
  {
   "cell_type": "code",
   "execution_count": 4,
   "metadata": {},
   "outputs": [],
   "source": [
    "mu = 0\n",
    "sigma = 1\n",
    "n_samples = 5000"
   ]
  },
  {
   "cell_type": "markdown",
   "metadata": {},
   "source": [
    "## 4.1 Inverse Sampling Transformation"
   ]
  },
  {
   "cell_type": "markdown",
   "metadata": {},
   "source": [
    "Once we have standard uniform numbers, we can generate random numbers from other distribution using the inverse transform method. \n",
    "\n",
    "If X is a continuous random variable with CDF $F_{x}$, then Y=$F_{x}$(X) has the standard uniform distribution. \n",
    "\n",
    "Inverting this suggests that if Y comes from a standard uniform distribution, then $F_{x}^{-1}(Y)$ has the same distribution as X. "
   ]
  },
  {
   "cell_type": "markdown",
   "metadata": {},
   "source": [
    "### Generate samples"
   ]
  },
  {
   "cell_type": "code",
   "execution_count": 5,
   "metadata": {},
   "outputs": [],
   "source": [
    "# Generate n_samples samples \n",
    "\n",
    "tic = timeit.default_timer()\n",
    "\n",
    "samples_i_t = []\n",
    "for i in range(n_samples):\n",
    "    samples_i_t.append(sample_normal_inverse_transform(mu, sigma)) \n",
    "    \n",
    "toc = timeit.default_timer()"
   ]
  },
  {
   "cell_type": "markdown",
   "metadata": {},
   "source": [
    "###  Histogram Plot\n",
    "One simple and frequently used graphical representation to check whether our data sample is normally distributed is the histogram. A Gaussian distribution is indicated when the histogram shows the well-known bell shape."
   ]
  },
  {
   "cell_type": "code",
   "execution_count": 6,
   "metadata": {},
   "outputs": [
    {
     "name": "stdout",
     "output_type": "stream",
     "text": [
      "running time = 0.989, mean = -0.019, std_dev = 1.002\n"
     ]
    },
    {
     "data": {
      "image/png": "[encoded data removed]",
      "text/plain": [
       "<Figure size 432x288 with 1 Axes>"
      ]
     },
     "metadata": {
      "needs_background": "light"
     },
     "output_type": "display_data"
    }
   ],
   "source": [
    "# Plot histogram\n",
    "\n",
    "sns.distplot(samples_i_t, bins=40).set_title(str(n_samples)+ ' samples using inverse transform')\n",
    "\n",
    "print(\"running time = %.3f, mean = %.3f, std_dev = %.3f\" % (toc-tic, np.mean(samples_i_t), np.std(samples_i_t)));"
   ]
  },
  {
   "cell_type": "markdown",
   "metadata": {},
   "source": [
    "### Q-Q Plot and P-P Plot\n",
    "The quantile-quantile plot, or **Q-Q plot** for short, is another graphical method we use to determine whether our data sample cames from the normal distribution. A Q-Q plot is a scatterplot created by plotting the quantiles of the sample distribution and the quantiles of the theoretical distribution against each other. The resulting points are displayed with the theoretical value on the x-axis and the data sample on the y-axis. If both sets of quantiles came from the same distribution, we should observe a line of points at an angle of 45 degrees from the bottom left to the top right.\n",
    "\n",
    "The probability-probability plot, or **P-P plot** for short, is a probability plot that can be used to assess how closely our data sample agrees with the normal distribution. It plots the empirical cumulative distribution function and the theoretical cumulative distribution function against each other. If we can observe a straight line, then our data sample contains no outliers and the assumption that it comes from a normal distribution is considered fulfilled."
   ]
  },
  {
   "cell_type": "code",
   "execution_count": 7,
   "metadata": {},
   "outputs": [
    {
     "data": {
      "image/png": "[encoded data removed]",
      "text/plain": [
       "<Figure size 720x288 with 2 Axes>"
      ]
     },
     "metadata": {
      "needs_background": "light"
     },
     "output_type": "display_data"
    }
   ],
   "source": [
    "# Plot q-q and p-p plot\n",
    "fig, ax = plt.subplots(1, 2, figsize=(10, 4))\n",
    "probplot = sm.ProbPlot(np.array(samples_i_t), dist=norm, fit=True)\n",
    "probplot.ppplot(line='45', ax=ax[0])\n",
    "probplot.qqplot(line='45', ax=ax[1])\n",
    "ax[0].set_title('P-P Plot')\n",
    "ax[1].set_title('Q-Q Plot');"
   ]
  },
  {
   "cell_type": "markdown",
   "metadata": {},
   "source": [
    "### Boxplot\n",
    "If our data sample is drawn from a Gaussian distribution, the box will be symmetrical with the mean and median in the center. Moreover, if the data sample corresponds to the assumption of normality, we should observe only a few outliers."
   ]
  },
  {
   "cell_type": "code",
   "execution_count": 8,
   "metadata": {},
   "outputs": [
    {
     "data": {
      "image/png": "[encoded data removed]",
      "text/plain": [
       "<Figure size 432x288 with 1 Axes>"
      ]
     },
     "metadata": {
      "needs_background": "light"
     },
     "output_type": "display_data"
    }
   ],
   "source": [
    "# Plot boxplot plot\n",
    "sns.boxplot(samples_i_t, width=4);"
   ]
  },
  {
   "cell_type": "markdown",
   "metadata": {},
   "source": [
    "### Empirical Cumulative Distribution Function Plot\n",
    "An empirical CDF plot has a similar function to a P-P plot. However, unlike a probability plot, the empirical CDF plot has scales that are not transformed, and the fitted distribution does not form a straight line, but an S-shaped curve under normality. The empirical cumulative probabilities close to this S-shaped curve fulfill the normality assumption."
   ]
  },
  {
   "cell_type": "code",
   "execution_count": 9,
   "metadata": {},
   "outputs": [
    {
     "data": {
      "image/png": "[encoded data removed]",
      "text/plain": [
       "<Figure size 432x288 with 1 Axes>"
      ]
     },
     "metadata": {
      "needs_background": "light"
     },
     "output_type": "display_data"
    }
   ],
   "source": [
    "# Plot Empirical Cumulative Distribution vs Normal Cumulative Distribution\n",
    "x=np.linspace(-5, 5)\n",
    "\n",
    "# Plot normal cdf\n",
    "plot_normal(x, mu=mu, sigma=sigma, cdf=True, label=\"normal cdf\")\n",
    "\n",
    "# Plor ecdf\n",
    "ecdf = sm.distributions.ECDF(samples_i_t)\n",
    "ecdf = ecdf(x)\n",
    "plt.step(x, ecdf, label=\"ecdf\")\n",
    "\n",
    "plt.legend();"
   ]
  },
  {
   "cell_type": "markdown",
   "metadata": {},
   "source": [
    "### Shapiro-Wilk Test\n",
    "The Shapiro-Wilk test was developed by Samuel Shapiro and Martin Wilk and first presented in 1965. The test verifies the hypothesis that the underlying population of a data sample is normally distributed. More precisely, for the nominator the test statistic calculates what the variance of a data sample would look like if it came from a normal distribution (first estimator) and compares this \"expected\" variance with the actual variance of the data sample for the denominator (second estimator). If the population of the data sample is normally distributed, then both estimators for the variance should be approximately the same."
   ]
  },
  {
   "cell_type": "code",
   "execution_count": 178,
   "metadata": {},
   "outputs": [
    {
     "name": "stdout",
     "output_type": "stream",
     "text": [
      "High five! You successfully sent some data to your account on plotly. View your plot in your browser at https://plot.ly/~DavidDumig/0 or inside your plot.ly account where it is named 'jupyter-parametric_plot'\n"
     ]
    },
    {
     "name": "stderr",
     "output_type": "stream",
     "text": [
      "/Applications/anaconda3/lib/python3.6/site-packages/IPython/core/display.py:689: UserWarning:\n",
      "\n",
      "Consider using IPython.display.IFrame instead\n",
      "\n"
     ]
    },
    {
     "data": {
      "text/html": [
       "<iframe id=\"igraph\" scrolling=\"no\" style=\"border:none;\" seamless=\"seamless\" src=\"https://plot.ly/~DavidDumig/0.embed\" height=\"260px\" width=\"1000px\"></iframe>"
      ],
      "text/plain": [
       "<plotly.tools.PlotlyDisplay object>"
      ]
     },
     "execution_count": 178,
     "metadata": {},
     "output_type": "execute_result"
    }
   ],
   "source": [
    "# Normality test\n",
    "test = \"Shapiro-Wilk Test\"\n",
    "stat, p = shapiro(samples_i_t)\n",
    "\n",
    "# Round results\n",
    "stat = round(stat, 3)\n",
    "p = round(p, 3)\n",
    "\n",
    "# Interpre results\n",
    "alpha = 0.05\n",
    "if p > alpha:\n",
    "    msg = 'Sample looks Gaussian (fail to reject H0)'\n",
    "else:\n",
    "    msg = \"Sample does not look Gaussian (reject H0)\"\n",
    "\n",
    "# Create table\n",
    "result_mat = [len(samples_i_t), stat, p, msg]\n",
    "\n",
    "trace = go.Table(\n",
    "    header=dict(values=['<b>Sample Size</b>', '<b>Statistic</b>', '<b>p-Value</b>', '<b>Comment</b>'],\n",
    "                line = dict(width=0),\n",
    "                fill = dict(color='rgba(42,63,95,0.8)'),\n",
    "                align = 'center',\n",
    "                font = dict(\n",
    "                    color = '#ffffff',\n",
    "                    size = 12\n",
    "                )),\n",
    "    cells=dict(values=np.array(result_mat).T,\n",
    "               line = dict(width=0),\n",
    "               fill = dict(color=[['#EBF0F8', '#ffffff', '#EBF0F8', '#ffffff']]),\n",
    "               align = 'center',\n",
    "               height = 40),\n",
    "    columnwidth=[0.3, 0.25, 0.3, 0.45])\n",
    "       \n",
    "data = [trace]\n",
    "\n",
    "layout = dict(title=test, height=260, width=1000)\n",
    "\n",
    "sw_table = dict(data=data, layout=layout)\n",
    "\n",
    "# Plot table\n",
    "py.iplot(sw_table,  filename='jupyter-parametric_plot')\n",
    "\n"
   ]
  },
  {
   "cell_type": "markdown",
   "metadata": {},
   "source": [
    "### D’Agostino’s K^2 Test\n",
    "The D’Agostino-Pearson Omnibus Test (1973) computes summary statistics from the sample data to determine whether the data distribution deviates from the Gaussian distribution. Specifically, it first calculates the skewness and kurtosis to quantify how far the sample distribution deviates from the normal distribution in terms of asymmetry and shape. It then calculates to what extent each of these values differs from the value expected for a Gaussian distribution and calculates a single P value from the sum of these deviations."
   ]
  },
  {
   "cell_type": "code",
   "execution_count": 110,
   "metadata": {},
   "outputs": [
    {
     "data": {
      "application/vnd.plotly.v1+json": {
       "config": {
        "linkText": "Export to plot.ly",
        "plotlyServerURL": "https://plot.ly",
        "showLink": false
       },
       "data": [
        {
         "cells": {
          "align": "center",
          "fill": {
           "color": [
            [
             "#EBF0F8",
             "#ffffff",
             "#EBF0F8",
             "#ffffff"
            ]
           ]
          },
          "height": 40,
          "line": {
           "width": 0
          },
          "values": [
           "5000",
           "0.203",
           "0.904",
           "Sample looks Gaussian (fail to reject H0)"
          ]
         },
         "columnwidth": [
          0.3,
          0.25,
          0.3,
          0.45
         ],
         "header": {
          "align": "center",
          "fill": {
           "color": "rgba(42,63,95,0.8)"
          },
          "font": {
           "color": "#ffffff",
           "size": 12
          },
          "line": {
           "width": 0
          },
          "values": [
           "<b>Sample Size</b>",
           "<b>Statistic</b>",
           "<b>p-Value</b>",
           "<b>Comment</b>"
          ]
         },
         "type": "table",
         "uid": "7ef05795-b7f3-4d44-99d5-cbd3bfe3b1f3"
        }
       ],
       "layout": {
        "height": 260,
        "title": {
         "text": "D’Agostino’s K^2 Test"
        },
        "width": 1000
       }
      },
      "text/html": [
       "<div id=\"a64d4096-4d6e-4524-b86f-a56b547bb657\" style=\"height: 260px; width: 1000px;\" class=\"plotly-graph-div\"></div><script type=\"text/javascript\">require([\"plotly\"], function(Plotly) { window.PLOTLYENV=window.PLOTLYENV || {};window.PLOTLYENV.BASE_URL=\"https://plot.ly\";\n",
       "if (document.getElementById(\"a64d4096-4d6e-4524-b86f-a56b547bb657\")) {\n",
       "    Plotly.newPlot(\"a64d4096-4d6e-4524-b86f-a56b547bb657\", [{\"cells\": {\"align\": \"center\", \"fill\": {\"color\": [[\"#EBF0F8\", \"#ffffff\", \"#EBF0F8\", \"#ffffff\"]]}, \"height\": 40, \"line\": {\"width\": 0}, \"values\": [\"5000\", \"0.203\", \"0.904\", \"Sample looks Gaussian (fail to reject H0)\"]}, \"columnwidth\": [0.3, 0.25, 0.3, 0.45], \"header\": {\"align\": \"center\", \"fill\": {\"color\": \"rgba(42,63,95,0.8)\"}, \"font\": {\"color\": \"#ffffff\", \"size\": 12}, \"line\": {\"width\": 0}, \"values\": [\"<b>Sample Size</b>\", \"<b>Statistic</b>\", \"<b>p-Value</b>\", \"<b>Comment</b>\"]}, \"type\": \"table\", \"uid\": \"c5bea830-4515-446f-b774-9428d98ad231\"}], {\"height\": 260, \"title\": {\"text\": \"D\\u2019Agostino\\u2019s K^2 Test\"}, \"width\": 1000}, {\"showLink\": false, \"linkText\": \"Export to plot.ly\", \"plotlyServerURL\": \"https://plot.ly\"}); \n",
       "}\n",
       "});</script>"
      ],
      "text/vnd.plotly.v1+html": [
       "<div id=\"a64d4096-4d6e-4524-b86f-a56b547bb657\" style=\"height: 260px; width: 1000px;\" class=\"plotly-graph-div\"></div><script type=\"text/javascript\">require([\"plotly\"], function(Plotly) { window.PLOTLYENV=window.PLOTLYENV || {};window.PLOTLYENV.BASE_URL=\"https://plot.ly\";\n",
       "if (document.getElementById(\"a64d4096-4d6e-4524-b86f-a56b547bb657\")) {\n",
       "    Plotly.newPlot(\"a64d4096-4d6e-4524-b86f-a56b547bb657\", [{\"cells\": {\"align\": \"center\", \"fill\": {\"color\": [[\"#EBF0F8\", \"#ffffff\", \"#EBF0F8\", \"#ffffff\"]]}, \"height\": 40, \"line\": {\"width\": 0}, \"values\": [\"5000\", \"0.203\", \"0.904\", \"Sample looks Gaussian (fail to reject H0)\"]}, \"columnwidth\": [0.3, 0.25, 0.3, 0.45], \"header\": {\"align\": \"center\", \"fill\": {\"color\": \"rgba(42,63,95,0.8)\"}, \"font\": {\"color\": \"#ffffff\", \"size\": 12}, \"line\": {\"width\": 0}, \"values\": [\"<b>Sample Size</b>\", \"<b>Statistic</b>\", \"<b>p-Value</b>\", \"<b>Comment</b>\"]}, \"type\": \"table\", \"uid\": \"c5bea830-4515-446f-b774-9428d98ad231\"}], {\"height\": 260, \"title\": {\"text\": \"D\\u2019Agostino\\u2019s K^2 Test\"}, \"width\": 1000}, {\"showLink\": false, \"linkText\": \"Export to plot.ly\", \"plotlyServerURL\": \"https://plot.ly\"}); \n",
       "}\n",
       "});</script>"
      ]
     },
     "metadata": {},
     "output_type": "display_data"
    }
   ],
   "source": [
    "# Normality test\n",
    "test = \"D’Agostino’s K^2 Test\"\n",
    "stat, p = normaltest(samples_i_t)\n",
    "\n",
    "# Round results\n",
    "stat = round(stat, 3)\n",
    "p = round(p, 3)\n",
    "\n",
    "# Interpre results\n",
    "alpha = 0.05\n",
    "if p > alpha:\n",
    "    msg = 'Sample looks Gaussian (fail to reject H0)'\n",
    "else:\n",
    "    msg = \"Sample does not look Gaussian (reject H0)\"\n",
    "\n",
    "# Create table\n",
    "result_mat = [len(samples_i_t), stat, p, msg]\n",
    "\n",
    "trace = go.Table(\n",
    "    header=dict(values=['<b>Sample Size</b>', '<b>Statistic</b>', '<b>p-Value</b>', '<b>Comment</b>'],\n",
    "                line = dict(width=0),\n",
    "                fill = dict(color='rgba(42,63,95,0.8)'),\n",
    "                align = 'center',\n",
    "                font = dict(\n",
    "                    color = '#ffffff',\n",
    "                    size = 12\n",
    "                )),\n",
    "    cells=dict(values=np.array(result_mat).T,\n",
    "               line = dict(width=0),\n",
    "               fill = dict(color=[['#EBF0F8', '#ffffff', '#EBF0F8', '#ffffff']]),\n",
    "               align = 'center',\n",
    "               height = 40),\n",
    "    columnwidth=[0.3, 0.25, 0.3, 0.45])\n",
    "       \n",
    "data = [trace]\n",
    "\n",
    "layout = dict(title=test, height=260, width=1000)\n",
    "\n",
    "norm_table = dict(data=data, layout=layout)\n",
    "\n",
    "# Plot table\n",
    "iplot(norm_table)"
   ]
  },
  {
   "cell_type": "markdown",
   "metadata": {},
   "source": [
    "### Jarque-Beta Test\n",
    "The Jarque-Bera test was proposed by Carlos M. Jarque and Anil K. Bera (1982) and also calculates summary statistics from the sample data to verify whether the data sample differs from the normal distribution. Concretely, the test determines whether the skewness and kurtosis of the data sample are unusual compared to their expected values, as measured by a chi-square statistic. "
   ]
  },
  {
   "cell_type": "code",
   "execution_count": 109,
   "metadata": {},
   "outputs": [
    {
     "data": {
      "application/vnd.plotly.v1+json": {
       "config": {
        "linkText": "Export to plot.ly",
        "plotlyServerURL": "https://plot.ly",
        "showLink": false
       },
       "data": [
        {
         "cells": {
          "align": "center",
          "fill": {
           "color": [
            [
             "#EBF0F8",
             "#ffffff",
             "#EBF0F8",
             "#ffffff"
            ]
           ]
          },
          "height": 40,
          "line": {
           "width": 0
          },
          "values": [
           "5000",
           "0.243",
           "0.886",
           "Sample looks Gaussian (fail to reject H0)"
          ]
         },
         "columnwidth": [
          0.3,
          0.25,
          0.3,
          0.45
         ],
         "header": {
          "align": "center",
          "fill": {
           "color": "rgba(42,63,95,0.8)"
          },
          "font": {
           "color": "#ffffff",
           "size": 12
          },
          "line": {
           "width": 0
          },
          "values": [
           "<b>Sample Size</b>",
           "<b>Statistic</b>",
           "<b>p-Value</b>",
           "<b>Comment</b>"
          ]
         },
         "type": "table",
         "uid": "44a27c94-3d9b-47bd-aed2-3f6973648bdf"
        }
       ],
       "layout": {
        "height": 260,
        "title": {
         "text": "Jarque-Beta Test"
        },
        "width": 1000
       }
      },
      "text/html": [
       "<div id=\"4f109a62-f28e-4f97-80ee-bfbbad40a1e9\" style=\"height: 260px; width: 1000px;\" class=\"plotly-graph-div\"></div><script type=\"text/javascript\">require([\"plotly\"], function(Plotly) { window.PLOTLYENV=window.PLOTLYENV || {};window.PLOTLYENV.BASE_URL=\"https://plot.ly\";\n",
       "if (document.getElementById(\"4f109a62-f28e-4f97-80ee-bfbbad40a1e9\")) {\n",
       "    Plotly.newPlot(\"4f109a62-f28e-4f97-80ee-bfbbad40a1e9\", [{\"cells\": {\"align\": \"center\", \"fill\": {\"color\": [[\"#EBF0F8\", \"#ffffff\", \"#EBF0F8\", \"#ffffff\"]]}, \"height\": 40, \"line\": {\"width\": 0}, \"values\": [\"5000\", \"0.243\", \"0.886\", \"Sample looks Gaussian (fail to reject H0)\"]}, \"columnwidth\": [0.3, 0.25, 0.3, 0.45], \"header\": {\"align\": \"center\", \"fill\": {\"color\": \"rgba(42,63,95,0.8)\"}, \"font\": {\"color\": \"#ffffff\", \"size\": 12}, \"line\": {\"width\": 0}, \"values\": [\"<b>Sample Size</b>\", \"<b>Statistic</b>\", \"<b>p-Value</b>\", \"<b>Comment</b>\"]}, \"type\": \"table\", \"uid\": \"e50260c9-da44-4860-a9e2-3940ea018cd8\"}], {\"height\": 260, \"title\": {\"text\": \"Jarque-Beta Test\"}, \"width\": 1000}, {\"showLink\": false, \"linkText\": \"Export to plot.ly\", \"plotlyServerURL\": \"https://plot.ly\"}); \n",
       "}\n",
       "});</script>"
      ],
      "text/vnd.plotly.v1+html": [
       "<div id=\"4f109a62-f28e-4f97-80ee-bfbbad40a1e9\" style=\"height: 260px; width: 1000px;\" class=\"plotly-graph-div\"></div><script type=\"text/javascript\">require([\"plotly\"], function(Plotly) { window.PLOTLYENV=window.PLOTLYENV || {};window.PLOTLYENV.BASE_URL=\"https://plot.ly\";\n",
       "if (document.getElementById(\"4f109a62-f28e-4f97-80ee-bfbbad40a1e9\")) {\n",
       "    Plotly.newPlot(\"4f109a62-f28e-4f97-80ee-bfbbad40a1e9\", [{\"cells\": {\"align\": \"center\", \"fill\": {\"color\": [[\"#EBF0F8\", \"#ffffff\", \"#EBF0F8\", \"#ffffff\"]]}, \"height\": 40, \"line\": {\"width\": 0}, \"values\": [\"5000\", \"0.243\", \"0.886\", \"Sample looks Gaussian (fail to reject H0)\"]}, \"columnwidth\": [0.3, 0.25, 0.3, 0.45], \"header\": {\"align\": \"center\", \"fill\": {\"color\": \"rgba(42,63,95,0.8)\"}, \"font\": {\"color\": \"#ffffff\", \"size\": 12}, \"line\": {\"width\": 0}, \"values\": [\"<b>Sample Size</b>\", \"<b>Statistic</b>\", \"<b>p-Value</b>\", \"<b>Comment</b>\"]}, \"type\": \"table\", \"uid\": \"e50260c9-da44-4860-a9e2-3940ea018cd8\"}], {\"height\": 260, \"title\": {\"text\": \"Jarque-Beta Test\"}, \"width\": 1000}, {\"showLink\": false, \"linkText\": \"Export to plot.ly\", \"plotlyServerURL\": \"https://plot.ly\"}); \n",
       "}\n",
       "});</script>"
      ]
     },
     "metadata": {},
     "output_type": "display_data"
    }
   ],
   "source": [
    "# Normality test\n",
    "test = \"Jarque-Beta Test\"\n",
    "stat, p = stats.jarque_bera(samples_i_t)\n",
    "\n",
    "# Round results\n",
    "stat = round(stat, 3)\n",
    "p = round(p, 3)\n",
    "\n",
    "# Interpre results\n",
    "alpha = 0.05\n",
    "if p > alpha:\n",
    "    msg = 'Sample looks Gaussian (fail to reject H0)'\n",
    "else:\n",
    "    msg = \"Sample does not look Gaussian (reject H0)\"\n",
    "\n",
    "# Create table\n",
    "result_mat = [len(samples_i_t), stat, p, msg]\n",
    "\n",
    "trace = go.Table(\n",
    "    header=dict(values=['<b>Sample Size</b>', '<b>Statistic</b>', '<b>p-Value</b>', '<b>Comment</b>'],\n",
    "                line = dict(width=0),\n",
    "                fill = dict(color='rgba(42,63,95,0.8)'),\n",
    "                align = 'center',\n",
    "                font = dict(\n",
    "                    color = '#ffffff',\n",
    "                    size = 12\n",
    "                )),\n",
    "    cells=dict(values=np.array(result_mat).T,\n",
    "               line = dict(width=0),\n",
    "               fill = dict(color=[['#EBF0F8', '#ffffff', '#EBF0F8', '#ffffff']]),\n",
    "               align = 'center',\n",
    "               height = 40),\n",
    "    columnwidth=[0.3, 0.25, 0.3, 0.45])\n",
    "       \n",
    "data = [trace]\n",
    "\n",
    "layout = dict(title=test, height=260, width=1000)\n",
    "\n",
    "jb_table = dict(data=data, layout=layout)\n",
    "\n",
    "# Plot table\n",
    "iplot(jb_table)"
   ]
  },
  {
   "cell_type": "markdown",
   "metadata": {},
   "source": [
    "### Kolmogorov Smirnov Test\n",
    "The Kolmogorov-Smirnov test (KS test) was first derived by Kolmogorov (1933) and later modified by Smirnov (1948). It is a statistical test for the agreement of two probability distributions. More Specifically, it compares the cumulative distribution of the sample data with the expected cumulative normal distribution and bases its P value on the largest discrepancy. The KS test can be modified to serve as a normality test; in this case the samples are standardized and compared to a standard normal distribution. "
   ]
  },
  {
   "cell_type": "code",
   "execution_count": 108,
   "metadata": {},
   "outputs": [
    {
     "data": {
      "application/vnd.plotly.v1+json": {
       "config": {
        "linkText": "Export to plot.ly",
        "plotlyServerURL": "https://plot.ly",
        "showLink": false
       },
       "data": [
        {
         "cells": {
          "align": "center",
          "fill": {
           "color": [
            [
             "#EBF0F8",
             "#ffffff",
             "#EBF0F8",
             "#ffffff"
            ]
           ]
          },
          "height": 40,
          "line": {
           "width": 0
          },
          "values": [
           "5000",
           "0.012",
           "0.211",
           "Sample looks Gaussian (fail to reject H0)"
          ]
         },
         "columnwidth": [
          0.3,
          0.25,
          0.3,
          0.45
         ],
         "header": {
          "align": "center",
          "fill": {
           "color": "rgba(42,63,95,0.8)"
          },
          "font": {
           "color": "#ffffff",
           "size": 12
          },
          "line": {
           "width": 0
          },
          "values": [
           "<b>Sample Size</b>",
           "<b>Statistic</b>",
           "<b>p-Value</b>",
           "<b>Comment</b>"
          ]
         },
         "type": "table",
         "uid": "85393c17-3922-4a2a-b4c3-50dc0bd58f6b"
        }
       ],
       "layout": {
        "height": 260,
        "title": {
         "text": "Kolmogorov Smirnov Test"
        },
        "width": 1000
       }
      },
      "text/html": [
       "<div id=\"8fd18da8-7a9e-48eb-a691-59ae2a72652f\" style=\"height: 260px; width: 1000px;\" class=\"plotly-graph-div\"></div><script type=\"text/javascript\">require([\"plotly\"], function(Plotly) { window.PLOTLYENV=window.PLOTLYENV || {};window.PLOTLYENV.BASE_URL=\"https://plot.ly\";\n",
       "if (document.getElementById(\"8fd18da8-7a9e-48eb-a691-59ae2a72652f\")) {\n",
       "    Plotly.newPlot(\"8fd18da8-7a9e-48eb-a691-59ae2a72652f\", [{\"cells\": {\"align\": \"center\", \"fill\": {\"color\": [[\"#EBF0F8\", \"#ffffff\", \"#EBF0F8\", \"#ffffff\"]]}, \"height\": 40, \"line\": {\"width\": 0}, \"values\": [\"5000\", \"0.012\", \"0.211\", \"Sample looks Gaussian (fail to reject H0)\"]}, \"columnwidth\": [0.3, 0.25, 0.3, 0.45], \"header\": {\"align\": \"center\", \"fill\": {\"color\": \"rgba(42,63,95,0.8)\"}, \"font\": {\"color\": \"#ffffff\", \"size\": 12}, \"line\": {\"width\": 0}, \"values\": [\"<b>Sample Size</b>\", \"<b>Statistic</b>\", \"<b>p-Value</b>\", \"<b>Comment</b>\"]}, \"type\": \"table\", \"uid\": \"5c1876d0-b60d-49c5-bfc3-dad39727aff7\"}], {\"height\": 260, \"title\": {\"text\": \"Kolmogorov Smirnov Test\"}, \"width\": 1000}, {\"showLink\": false, \"linkText\": \"Export to plot.ly\", \"plotlyServerURL\": \"https://plot.ly\"}); \n",
       "}\n",
       "});</script>"
      ],
      "text/vnd.plotly.v1+html": [
       "<div id=\"8fd18da8-7a9e-48eb-a691-59ae2a72652f\" style=\"height: 260px; width: 1000px;\" class=\"plotly-graph-div\"></div><script type=\"text/javascript\">require([\"plotly\"], function(Plotly) { window.PLOTLYENV=window.PLOTLYENV || {};window.PLOTLYENV.BASE_URL=\"https://plot.ly\";\n",
       "if (document.getElementById(\"8fd18da8-7a9e-48eb-a691-59ae2a72652f\")) {\n",
       "    Plotly.newPlot(\"8fd18da8-7a9e-48eb-a691-59ae2a72652f\", [{\"cells\": {\"align\": \"center\", \"fill\": {\"color\": [[\"#EBF0F8\", \"#ffffff\", \"#EBF0F8\", \"#ffffff\"]]}, \"height\": 40, \"line\": {\"width\": 0}, \"values\": [\"5000\", \"0.012\", \"0.211\", \"Sample looks Gaussian (fail to reject H0)\"]}, \"columnwidth\": [0.3, 0.25, 0.3, 0.45], \"header\": {\"align\": \"center\", \"fill\": {\"color\": \"rgba(42,63,95,0.8)\"}, \"font\": {\"color\": \"#ffffff\", \"size\": 12}, \"line\": {\"width\": 0}, \"values\": [\"<b>Sample Size</b>\", \"<b>Statistic</b>\", \"<b>p-Value</b>\", \"<b>Comment</b>\"]}, \"type\": \"table\", \"uid\": \"5c1876d0-b60d-49c5-bfc3-dad39727aff7\"}], {\"height\": 260, \"title\": {\"text\": \"Kolmogorov Smirnov Test\"}, \"width\": 1000}, {\"showLink\": false, \"linkText\": \"Export to plot.ly\", \"plotlyServerURL\": \"https://plot.ly\"}); \n",
       "}\n",
       "});</script>"
      ]
     },
     "metadata": {},
     "output_type": "display_data"
    }
   ],
   "source": [
    "# Normality test\n",
    "test = \"Kolmogorov Smirnov Test\"\n",
    "stat, p = stats.kstest(np.array(samples_i_t),'norm', alternative = 'greater')\n",
    "\n",
    "# Round results\n",
    "stat = round(stat, 3)\n",
    "p = round(p, 3)\n",
    "\n",
    "# Interpre results\n",
    "alpha = 0.05\n",
    "if p > alpha:\n",
    "    msg = 'Sample looks Gaussian (fail to reject H0)'\n",
    "else:\n",
    "    msg = \"Sample does not look Gaussian (reject H0)\"\n",
    "\n",
    "# Create table\n",
    "result_mat = [len(samples_i_t), stat, p, msg]\n",
    "\n",
    "trace = go.Table(\n",
    "    header=dict(values=['<b>Sample Size</b>', '<b>Statistic</b>', '<b>p-Value</b>', '<b>Comment</b>'],\n",
    "                line = dict(width=0),\n",
    "                fill = dict(color='rgba(42,63,95,0.8)'),\n",
    "                align = 'center',\n",
    "                font = dict(\n",
    "                    color = '#ffffff',\n",
    "                    size = 12\n",
    "                )),\n",
    "    cells=dict(values=np.array(result_mat).T,\n",
    "               line = dict(width=0),\n",
    "               fill = dict(color=[['#EBF0F8', '#ffffff', '#EBF0F8', '#ffffff']]),\n",
    "               align = 'center',\n",
    "               height = 40),\n",
    "    columnwidth=[0.3, 0.25, 0.3, 0.45])\n",
    "       \n",
    "data = [trace]\n",
    "\n",
    "layout = dict(title=test, height=260, width=1000)\n",
    "\n",
    "ks_table = dict(data=data, layout=layout)\n",
    "\n",
    "# Plot table\n",
    "iplot(ks_table)"
   ]
  },
  {
   "cell_type": "markdown",
   "metadata": {},
   "source": [
    "### Anderson-Darling\n",
    "The Anderson-Darling test is another statistical test that can be used to determine whether the distribution of the data sample deviates from the Gaussian distribution. The test is named after Theodore Wilbur Anderson and Donald Allan Darling, who first described it in 1952. A feature of this test is that it provides a list of critical values, not just a single p-value, which allows a more thorough interpretation of the result."
   ]
  },
  {
   "cell_type": "code",
   "execution_count": 105,
   "metadata": {},
   "outputs": [
    {
     "data": {
      "application/vnd.plotly.v1+json": {
       "config": {
        "linkText": "Export to plot.ly",
        "plotlyServerURL": "https://plot.ly",
        "showLink": false
       },
       "data": [
        {
         "cells": {
          "align": "center",
          "fill": {
           "color": [
            [
             "#EBF0F8",
             "#ffffff",
             "#EBF0F8",
             "#ffffff",
             "#EBF0F8"
            ]
           ]
          },
          "height": 40,
          "line": {
           "width": 0
          },
          "values": [
           [
            "5000",
            "5000",
            "5000",
            "5000",
            "5000"
           ],
           [
            "0.19",
            "0.19",
            "0.19",
            "0.19",
            "0.19"
           ],
           [
            "15.0",
            "10.0",
            "5.0",
            "2.5",
            "1.0"
           ],
           [
            "0.576",
            "0.655",
            "0.786",
            "0.917",
            "1.091"
           ],
           [
            "Sample looks Gaussian (fail to reject H0)",
            "Sample looks Gaussian (fail to reject H0)",
            "Sample looks Gaussian (fail to reject H0)",
            "Sample looks Gaussian (fail to reject H0)",
            "Sample looks Gaussian (fail to reject H0)"
           ]
          ]
         },
         "columnwidth": [
          0.3,
          0.25,
          0.3,
          0.25,
          0.5
         ],
         "header": {
          "align": "center",
          "fill": {
           "color": "rgba(42,63,95,0.8)"
          },
          "font": {
           "color": "#ffffff",
           "size": 12
          },
          "line": {
           "width": 0
          },
          "values": [
           "<b>Sample Size</b>",
           "<b>Statistic</b>",
           "<b>Significance Level</b>",
           "<b>Critical Value</b>",
           "<b>Comment</b>"
          ]
         },
         "type": "table",
         "uid": "89853e00-2904-4f23-94a2-510007dc3af4"
        }
       ],
       "layout": {
        "height": 415,
        "title": {
         "text": "Anderson-Darling Test"
        },
        "width": 1000
       }
      },
      "text/html": [
       "<div id=\"30e616e5-a438-4e77-94ba-2804a516919c\" style=\"height: 415px; width: 1000px;\" class=\"plotly-graph-div\"></div><script type=\"text/javascript\">require([\"plotly\"], function(Plotly) { window.PLOTLYENV=window.PLOTLYENV || {};window.PLOTLYENV.BASE_URL=\"https://plot.ly\";\n",
       "if (document.getElementById(\"30e616e5-a438-4e77-94ba-2804a516919c\")) {\n",
       "    Plotly.newPlot(\"30e616e5-a438-4e77-94ba-2804a516919c\", [{\"cells\": {\"align\": \"center\", \"fill\": {\"color\": [[\"#EBF0F8\", \"#ffffff\", \"#EBF0F8\", \"#ffffff\", \"#EBF0F8\"]]}, \"height\": 40, \"line\": {\"width\": 0}, \"values\": [[\"5000\", \"5000\", \"5000\", \"5000\", \"5000\"], [\"0.19\", \"0.19\", \"0.19\", \"0.19\", \"0.19\"], [\"15.0\", \"10.0\", \"5.0\", \"2.5\", \"1.0\"], [\"0.576\", \"0.655\", \"0.786\", \"0.917\", \"1.091\"], [\"Sample looks Gaussian (fail to reject H0)\", \"Sample looks Gaussian (fail to reject H0)\", \"Sample looks Gaussian (fail to reject H0)\", \"Sample looks Gaussian (fail to reject H0)\", \"Sample looks Gaussian (fail to reject H0)\"]]}, \"columnwidth\": [0.3, 0.25, 0.3, 0.25, 0.5], \"header\": {\"align\": \"center\", \"fill\": {\"color\": \"rgba(42,63,95,0.8)\"}, \"font\": {\"color\": \"#ffffff\", \"size\": 12}, \"line\": {\"width\": 0}, \"values\": [\"<b>Sample Size</b>\", \"<b>Statistic</b>\", \"<b>Significance Level</b>\", \"<b>Critical Value</b>\", \"<b>Comment</b>\"]}, \"type\": \"table\", \"uid\": \"d386e7d5-c04a-4924-a057-ef6491eed884\"}], {\"height\": 415, \"title\": {\"text\": \"Anderson-Darling Test\"}, \"width\": 1000}, {\"showLink\": false, \"linkText\": \"Export to plot.ly\", \"plotlyServerURL\": \"https://plot.ly\"}); \n",
       "}\n",
       "});</script>"
      ],
      "text/vnd.plotly.v1+html": [
       "<div id=\"30e616e5-a438-4e77-94ba-2804a516919c\" style=\"height: 415px; width: 1000px;\" class=\"plotly-graph-div\"></div><script type=\"text/javascript\">require([\"plotly\"], function(Plotly) { window.PLOTLYENV=window.PLOTLYENV || {};window.PLOTLYENV.BASE_URL=\"https://plot.ly\";\n",
       "if (document.getElementById(\"30e616e5-a438-4e77-94ba-2804a516919c\")) {\n",
       "    Plotly.newPlot(\"30e616e5-a438-4e77-94ba-2804a516919c\", [{\"cells\": {\"align\": \"center\", \"fill\": {\"color\": [[\"#EBF0F8\", \"#ffffff\", \"#EBF0F8\", \"#ffffff\", \"#EBF0F8\"]]}, \"height\": 40, \"line\": {\"width\": 0}, \"values\": [[\"5000\", \"5000\", \"5000\", \"5000\", \"5000\"], [\"0.19\", \"0.19\", \"0.19\", \"0.19\", \"0.19\"], [\"15.0\", \"10.0\", \"5.0\", \"2.5\", \"1.0\"], [\"0.576\", \"0.655\", \"0.786\", \"0.917\", \"1.091\"], [\"Sample looks Gaussian (fail to reject H0)\", \"Sample looks Gaussian (fail to reject H0)\", \"Sample looks Gaussian (fail to reject H0)\", \"Sample looks Gaussian (fail to reject H0)\", \"Sample looks Gaussian (fail to reject H0)\"]]}, \"columnwidth\": [0.3, 0.25, 0.3, 0.25, 0.5], \"header\": {\"align\": \"center\", \"fill\": {\"color\": \"rgba(42,63,95,0.8)\"}, \"font\": {\"color\": \"#ffffff\", \"size\": 12}, \"line\": {\"width\": 0}, \"values\": [\"<b>Sample Size</b>\", \"<b>Statistic</b>\", \"<b>Significance Level</b>\", \"<b>Critical Value</b>\", \"<b>Comment</b>\"]}, \"type\": \"table\", \"uid\": \"d386e7d5-c04a-4924-a057-ef6491eed884\"}], {\"height\": 415, \"title\": {\"text\": \"Anderson-Darling Test\"}, \"width\": 1000}, {\"showLink\": false, \"linkText\": \"Export to plot.ly\", \"plotlyServerURL\": \"https://plot.ly\"}); \n",
       "}\n",
       "});</script>"
      ]
     },
     "metadata": {},
     "output_type": "display_data"
    }
   ],
   "source": [
    "# Normality test\n",
    "test = \"Anderson-Darling Test\"\n",
    "result = anderson(samples_i_t)\n",
    "\n",
    "# Round results\n",
    "stat = round(result.statistic, 3)\n",
    "\n",
    "# Create table\n",
    "result_mat = []\n",
    "for i in range(len(result.critical_values)):\n",
    "    sl, cv = result.significance_level[i], result.critical_values[i]\n",
    "    if result.statistic < result.critical_values[i]:\n",
    "        msg = 'Sample looks Gaussian (fail to reject H0)'\n",
    "    else:\n",
    "        msg = 'Sample does not look Gaussian (reject H0)'\n",
    "    result_mat.append([len(samples_i_t), stat, sl, cv, msg])\n",
    "\n",
    "trace = go.Table(\n",
    "    header=dict(values=['<b>Sample Size</b>', '<b>Statistic</b>', '<b>Significance Level</b>', '<b>Critical Value</b>', '<b>Comment</b>'],\n",
    "                line = dict(width=0),\n",
    "                fill = dict(color='rgba(42,63,95,0.8)'),\n",
    "                align = 'center',\n",
    "                font = dict(\n",
    "                    color = '#ffffff',\n",
    "                    size = 12\n",
    "                )),\n",
    "    cells=dict(values=np.array(result_mat).T,\n",
    "               line = dict(width=0),\n",
    "               fill = dict(color=[['#EBF0F8', '#ffffff', '#EBF0F8', '#ffffff', '#EBF0F8']]),\n",
    "               align = 'center',\n",
    "               height = 40),\n",
    "    columnwidth=[0.3, 0.25, 0.3, 0.25, 0.5])\n",
    "       \n",
    "data = [trace]\n",
    "\n",
    "layout = dict(title=test, height=415, width=1000)\n",
    "\n",
    "andar_table = dict(data=data, layout=layout)\n",
    "\n",
    "# Plot table\n",
    "iplot(andar_table)"
   ]
  },
  {
   "cell_type": "markdown",
   "metadata": {},
   "source": [
    "## 4.2 Box-Muller Transformation\n",
    "\n",
    "The Box-Muller transformation is a method for generating normally distributed random numbers from uniformly distributed random numbers. \n",
    "\n",
    "It can be summarized as follows:\n",
    "\n",
    "Suppose u1 and u2 are independent random variables that are uniformly distributed between 0 and 1 and let \n",
    "\n",
    "$$ z1 = \\sqrt{-2ln(u_{1})} \\ cos(2 \\pi \\ u_{2})$$ \n",
    "\n",
    "$$ z2 = \\sqrt{-2ln(u_{1})} \\ sin(2 \\pi \\ u_{2})$$ \n",
    "\n",
    "then z1 and z2 are independent random variables with a standard normal distribution. \n",
    "\n",
    "Intuitively, the transformation maps each circle of points around the origin to another circle of points around the origin where larger outer circles are mapped to closely-spaced inner circles and inner circles to outer circles. "
   ]
  },
  {
   "cell_type": "code",
   "execution_count": 15,
   "metadata": {},
   "outputs": [
    {
     "data": {
      "image/png": "[encoded data removed]",
      "text/plain": [
       "<Figure size 432x288 with 4 Axes>"
      ]
     },
     "metadata": {
      "needs_background": "light"
     },
     "output_type": "display_data"
    },
    {
     "data": {
      "image/png": "[encoded data removed]",
      "text/plain": [
       "<Figure size 432x432 with 3 Axes>"
      ]
     },
     "metadata": {
      "needs_background": "light"
     },
     "output_type": "display_data"
    }
   ],
   "source": [
    "# Set seed \n",
    "np.random.seed(1)\n",
    "\n",
    "# uniformly distributed values between 0 and 1\n",
    "u1 = random.rand(n_samples)\n",
    "u2 = random.rand(n_samples)\n",
    "\n",
    "# run the transformation\n",
    "z1,z2 = sample_normal_boxmuller(u1, u2)\n",
    "\n",
    "# plotting the values before and after the transformation\n",
    "figure()\n",
    "subplot(221, title=\"u1\")     # the first row of graphs\n",
    "sns.distplot(u1, bins=10)    # contains the histograms of u1 and u2 \n",
    "subplot(222, title=\"u2\")\n",
    "sns.distplot(u2, bins=10)\n",
    "subplot(223, title=\"z1\")     # the second contains\n",
    "sns.distplot(z1, bins=40)    # the histograms of z1 and z2\n",
    "subplot(224, title=\"z2\")\n",
    "sns.distplot(z2, bins=40)\n",
    "\n",
    "plt.subplots_adjust(top=None, bottom=None, left=None, right=None, hspace=0.45,\n",
    "                    wspace=None)\n",
    "\n",
    "# plotting the joint values after the transformation\n",
    "sub = sns.jointplot(z1, z2, kind='scatter', marginal_kws=dict(bins=40, kde=True)).set_axis_labels(\"z1\", \"z2\");\n",
    "sub.fig.suptitle('Joint values after the transformation:'); sub.fig.subplots_adjust(top=0.92);"
   ]
  },
  {
   "cell_type": "markdown",
   "metadata": {},
   "source": [
    "We can generalize this to generate numbers that are normally distributed with any mean and standard deviation as parameters"
   ]
  },
  {
   "cell_type": "markdown",
   "metadata": {},
   "source": [
    "### Generate Samples"
   ]
  },
  {
   "cell_type": "code",
   "execution_count": 112,
   "metadata": {},
   "outputs": [],
   "source": [
    "tic = timeit.default_timer()\n",
    "\n",
    "# Generate n_samples samples \n",
    "samples_b_m = []\n",
    "for i in range(n_samples):\n",
    "    samples_b_m.append(sample_normal_boxmuller_g(mu, sigma))  \n",
    "\n",
    "toc = timeit.default_timer()"
   ]
  },
  {
   "cell_type": "markdown",
   "metadata": {},
   "source": [
    "###  Histogram Plot"
   ]
  },
  {
   "cell_type": "code",
   "execution_count": 113,
   "metadata": {},
   "outputs": [
    {
     "name": "stdout",
     "output_type": "stream",
     "text": [
      "running time = 0.031, mean = -0.018, std_dev = 1.002\n"
     ]
    },
    {
     "data": {
      "image/png": "[encoded data removed]",
      "text/plain": [
       "<Figure size 432x288 with 1 Axes>"
      ]
     },
     "metadata": {
      "needs_background": "light"
     },
     "output_type": "display_data"
    }
   ],
   "source": [
    "# Plot n_samples samples \n",
    " \n",
    "sns.distplot(samples_b_m, bins=40).set_title(str(n_samples)+ \" samples using boxmuller\");\n",
    "\n",
    "print(\"running time = %.3f, mean = %.3f, std_dev = %.3f\" % (toc-tic, np.mean(samples_b_m), np.std(samples_b_m)));"
   ]
  },
  {
   "cell_type": "markdown",
   "metadata": {},
   "source": [
    "### Q-Q Plot and P-P Plot"
   ]
  },
  {
   "cell_type": "code",
   "execution_count": 114,
   "metadata": {},
   "outputs": [
    {
     "data": {
      "image/png": "[encoded data removed]",
      "text/plain": [
       "<Figure size 720x288 with 2 Axes>"
      ]
     },
     "metadata": {
      "needs_background": "light"
     },
     "output_type": "display_data"
    }
   ],
   "source": [
    "# Plot q-q and p-p plot\n",
    "fig, ax = plt.subplots(1, 2, figsize=(10, 4))\n",
    "probplot = sm.ProbPlot(np.array(samples_b_m), dist=norm, fit=True)\n",
    "probplot.ppplot(line='45', ax=ax[0])\n",
    "probplot.qqplot(line='45', ax=ax[1])\n",
    "ax[0].set_title('P-P Plot')\n",
    "ax[1].set_title('Q-Q Plot');"
   ]
  },
  {
   "cell_type": "markdown",
   "metadata": {},
   "source": [
    "### Boxplot"
   ]
  },
  {
   "cell_type": "code",
   "execution_count": 115,
   "metadata": {},
   "outputs": [
    {
     "data": {
      "image/png": "[encoded data removed]",
      "text/plain": [
       "<Figure size 432x288 with 1 Axes>"
      ]
     },
     "metadata": {
      "needs_background": "light"
     },
     "output_type": "display_data"
    }
   ],
   "source": [
    "# Plot boxplot plot\n",
    "sns.boxplot(samples_b_m, width=4);"
   ]
  },
  {
   "cell_type": "markdown",
   "metadata": {},
   "source": [
    "### Empirical Cumulative Distribution Function Plot"
   ]
  },
  {
   "cell_type": "code",
   "execution_count": 116,
   "metadata": {},
   "outputs": [
    {
     "data": {
      "image/png": "[encoded data removed]",
      "text/plain": [
       "<Figure size 432x288 with 1 Axes>"
      ]
     },
     "metadata": {
      "needs_background": "light"
     },
     "output_type": "display_data"
    }
   ],
   "source": [
    "# Plot Empirical Cumulative Distribution vs Normal Cumulative Distribution\n",
    "x=np.linspace(-5, 5)\n",
    "\n",
    "# Plot normal cdf\n",
    "plot_normal(x, mu=mu, sigma=sigma, cdf=True, label=\"normal cdf\")\n",
    "\n",
    "# Plor ecdf\n",
    "ecdf = sm.distributions.ECDF(samples_b_m)\n",
    "ecdf = ecdf(x)\n",
    "plt.step(x, ecdf, label=\"ecdf\")\n",
    "\n",
    "plt.legend();"
   ]
  },
  {
   "cell_type": "markdown",
   "metadata": {},
   "source": [
    "### Shapiro-Wilk Test"
   ]
  },
  {
   "cell_type": "code",
   "execution_count": 118,
   "metadata": {
    "scrolled": true
   },
   "outputs": [
    {
     "data": {
      "application/vnd.plotly.v1+json": {
       "config": {
        "linkText": "Export to plot.ly",
        "plotlyServerURL": "https://plot.ly",
        "showLink": false
       },
       "data": [
        {
         "cells": {
          "align": "center",
          "fill": {
           "color": [
            [
             "#EBF0F8",
             "#ffffff",
             "#EBF0F8",
             "#ffffff"
            ]
           ]
          },
          "height": 40,
          "line": {
           "width": 0
          },
          "values": [
           "5000",
           "1.0",
           "0.751",
           "Sample looks Gaussian (fail to reject H0)"
          ]
         },
         "columnwidth": [
          0.3,
          0.25,
          0.3,
          0.45
         ],
         "header": {
          "align": "center",
          "fill": {
           "color": "rgba(42,63,95,0.8)"
          },
          "font": {
           "color": "#ffffff",
           "size": 12
          },
          "line": {
           "width": 0
          },
          "values": [
           "<b>Sample Size</b>",
           "<b>Statistic</b>",
           "<b>p-Value</b>",
           "<b>Comment</b>"
          ]
         },
         "type": "table",
         "uid": "0a371a11-18bb-4729-9f6b-dda060cf1235"
        }
       ],
       "layout": {
        "height": 260,
        "title": {
         "text": "Shapiro-Wilk Test"
        },
        "width": 1000
       }
      },
      "text/html": [
       "<div id=\"4fac813a-f6fc-47d5-b53a-0d648689af4f\" style=\"height: 260px; width: 1000px;\" class=\"plotly-graph-div\"></div><script type=\"text/javascript\">require([\"plotly\"], function(Plotly) { window.PLOTLYENV=window.PLOTLYENV || {};window.PLOTLYENV.BASE_URL=\"https://plot.ly\";\n",
       "if (document.getElementById(\"4fac813a-f6fc-47d5-b53a-0d648689af4f\")) {\n",
       "    Plotly.newPlot(\"4fac813a-f6fc-47d5-b53a-0d648689af4f\", [{\"cells\": {\"align\": \"center\", \"fill\": {\"color\": [[\"#EBF0F8\", \"#ffffff\", \"#EBF0F8\", \"#ffffff\"]]}, \"height\": 40, \"line\": {\"width\": 0}, \"values\": [\"5000\", \"1.0\", \"0.751\", \"Sample looks Gaussian (fail to reject H0)\"]}, \"columnwidth\": [0.3, 0.25, 0.3, 0.45], \"header\": {\"align\": \"center\", \"fill\": {\"color\": \"rgba(42,63,95,0.8)\"}, \"font\": {\"color\": \"#ffffff\", \"size\": 12}, \"line\": {\"width\": 0}, \"values\": [\"<b>Sample Size</b>\", \"<b>Statistic</b>\", \"<b>p-Value</b>\", \"<b>Comment</b>\"]}, \"type\": \"table\", \"uid\": \"6c0e405b-4578-4f30-bb1e-0e7ae4e9ba64\"}], {\"height\": 260, \"title\": {\"text\": \"Shapiro-Wilk Test\"}, \"width\": 1000}, {\"showLink\": false, \"linkText\": \"Export to plot.ly\", \"plotlyServerURL\": \"https://plot.ly\"}); \n",
       "}\n",
       "});</script>"
      ],
      "text/vnd.plotly.v1+html": [
       "<div id=\"4fac813a-f6fc-47d5-b53a-0d648689af4f\" style=\"height: 260px; width: 1000px;\" class=\"plotly-graph-div\"></div><script type=\"text/javascript\">require([\"plotly\"], function(Plotly) { window.PLOTLYENV=window.PLOTLYENV || {};window.PLOTLYENV.BASE_URL=\"https://plot.ly\";\n",
       "if (document.getElementById(\"4fac813a-f6fc-47d5-b53a-0d648689af4f\")) {\n",
       "    Plotly.newPlot(\"4fac813a-f6fc-47d5-b53a-0d648689af4f\", [{\"cells\": {\"align\": \"center\", \"fill\": {\"color\": [[\"#EBF0F8\", \"#ffffff\", \"#EBF0F8\", \"#ffffff\"]]}, \"height\": 40, \"line\": {\"width\": 0}, \"values\": [\"5000\", \"1.0\", \"0.751\", \"Sample looks Gaussian (fail to reject H0)\"]}, \"columnwidth\": [0.3, 0.25, 0.3, 0.45], \"header\": {\"align\": \"center\", \"fill\": {\"color\": \"rgba(42,63,95,0.8)\"}, \"font\": {\"color\": \"#ffffff\", \"size\": 12}, \"line\": {\"width\": 0}, \"values\": [\"<b>Sample Size</b>\", \"<b>Statistic</b>\", \"<b>p-Value</b>\", \"<b>Comment</b>\"]}, \"type\": \"table\", \"uid\": \"6c0e405b-4578-4f30-bb1e-0e7ae4e9ba64\"}], {\"height\": 260, \"title\": {\"text\": \"Shapiro-Wilk Test\"}, \"width\": 1000}, {\"showLink\": false, \"linkText\": \"Export to plot.ly\", \"plotlyServerURL\": \"https://plot.ly\"}); \n",
       "}\n",
       "});</script>"
      ]
     },
     "metadata": {},
     "output_type": "display_data"
    }
   ],
   "source": [
    "# Normality test\n",
    "test = \"Shapiro-Wilk Test\"\n",
    "stat, p = shapiro(samples_b_m)\n",
    "\n",
    "# Round results\n",
    "stat = round(stat, 3)\n",
    "p = round(p, 3)\n",
    "\n",
    "# Interpre results\n",
    "alpha = 0.05\n",
    "if p > alpha:\n",
    "    msg = 'Sample looks Gaussian (fail to reject H0)'\n",
    "else:\n",
    "    msg = \"Sample does not look Gaussian (reject H0)\"\n",
    "\n",
    "# Create table\n",
    "result_mat = [len(samples_b_m), stat, p, msg]\n",
    "\n",
    "trace = go.Table(\n",
    "    header=dict(values=['<b>Sample Size</b>', '<b>Statistic</b>', '<b>p-Value</b>', '<b>Comment</b>'],\n",
    "                line = dict(width=0),\n",
    "                fill = dict(color='rgba(42,63,95,0.8)'),\n",
    "                align = 'center',\n",
    "                font = dict(\n",
    "                    color = '#ffffff',\n",
    "                    size = 12\n",
    "                )),\n",
    "    cells=dict(values=np.array(result_mat).T,\n",
    "               line = dict(width=0),\n",
    "               fill = dict(color=[['#EBF0F8', '#ffffff', '#EBF0F8', '#ffffff']]),\n",
    "               align = 'center',\n",
    "               height = 40),\n",
    "    columnwidth=[0.3, 0.25, 0.3, 0.45])\n",
    "       \n",
    "data = [trace]\n",
    "\n",
    "layout = dict(title=test, height=260, width=1000)\n",
    "\n",
    "sw_table = dict(data=data, layout=layout)\n",
    "\n",
    "# Plot table\n",
    "iplot(sw_table)"
   ]
  },
  {
   "cell_type": "markdown",
   "metadata": {},
   "source": [
    "### D’Agostino’s K^2 Test"
   ]
  },
  {
   "cell_type": "code",
   "execution_count": 119,
   "metadata": {},
   "outputs": [
    {
     "data": {
      "application/vnd.plotly.v1+json": {
       "config": {
        "linkText": "Export to plot.ly",
        "plotlyServerURL": "https://plot.ly",
        "showLink": false
       },
       "data": [
        {
         "cells": {
          "align": "center",
          "fill": {
           "color": [
            [
             "#EBF0F8",
             "#ffffff",
             "#EBF0F8",
             "#ffffff"
            ]
           ]
          },
          "height": 40,
          "line": {
           "width": 0
          },
          "values": [
           "5000",
           "0.259",
           "0.879",
           "Sample looks Gaussian (fail to reject H0)"
          ]
         },
         "columnwidth": [
          0.3,
          0.25,
          0.3,
          0.45
         ],
         "header": {
          "align": "center",
          "fill": {
           "color": "rgba(42,63,95,0.8)"
          },
          "font": {
           "color": "#ffffff",
           "size": 12
          },
          "line": {
           "width": 0
          },
          "values": [
           "<b>Sample Size</b>",
           "<b>Statistic</b>",
           "<b>p-Value</b>",
           "<b>Comment</b>"
          ]
         },
         "type": "table",
         "uid": "7adb0e7f-23ac-4fd2-b84b-2cf93599a22c"
        }
       ],
       "layout": {
        "height": 260,
        "title": {
         "text": "D’Agostino’s K^2 Test"
        },
        "width": 1000
       }
      },
      "text/html": [
       "<div id=\"8dcb1a6e-ccaf-4bcd-9f76-948c3b40460d\" style=\"height: 260px; width: 1000px;\" class=\"plotly-graph-div\"></div><script type=\"text/javascript\">require([\"plotly\"], function(Plotly) { window.PLOTLYENV=window.PLOTLYENV || {};window.PLOTLYENV.BASE_URL=\"https://plot.ly\";\n",
       "if (document.getElementById(\"8dcb1a6e-ccaf-4bcd-9f76-948c3b40460d\")) {\n",
       "    Plotly.newPlot(\"8dcb1a6e-ccaf-4bcd-9f76-948c3b40460d\", [{\"cells\": {\"align\": \"center\", \"fill\": {\"color\": [[\"#EBF0F8\", \"#ffffff\", \"#EBF0F8\", \"#ffffff\"]]}, \"height\": 40, \"line\": {\"width\": 0}, \"values\": [\"5000\", \"0.259\", \"0.879\", \"Sample looks Gaussian (fail to reject H0)\"]}, \"columnwidth\": [0.3, 0.25, 0.3, 0.45], \"header\": {\"align\": \"center\", \"fill\": {\"color\": \"rgba(42,63,95,0.8)\"}, \"font\": {\"color\": \"#ffffff\", \"size\": 12}, \"line\": {\"width\": 0}, \"values\": [\"<b>Sample Size</b>\", \"<b>Statistic</b>\", \"<b>p-Value</b>\", \"<b>Comment</b>\"]}, \"type\": \"table\", \"uid\": \"b4df1209-54c8-4958-985d-d0de8f81b4f0\"}], {\"height\": 260, \"title\": {\"text\": \"D\\u2019Agostino\\u2019s K^2 Test\"}, \"width\": 1000}, {\"showLink\": false, \"linkText\": \"Export to plot.ly\", \"plotlyServerURL\": \"https://plot.ly\"}); \n",
       "}\n",
       "});</script>"
      ],
      "text/vnd.plotly.v1+html": [
       "<div id=\"8dcb1a6e-ccaf-4bcd-9f76-948c3b40460d\" style=\"height: 260px; width: 1000px;\" class=\"plotly-graph-div\"></div><script type=\"text/javascript\">require([\"plotly\"], function(Plotly) { window.PLOTLYENV=window.PLOTLYENV || {};window.PLOTLYENV.BASE_URL=\"https://plot.ly\";\n",
       "if (document.getElementById(\"8dcb1a6e-ccaf-4bcd-9f76-948c3b40460d\")) {\n",
       "    Plotly.newPlot(\"8dcb1a6e-ccaf-4bcd-9f76-948c3b40460d\", [{\"cells\": {\"align\": \"center\", \"fill\": {\"color\": [[\"#EBF0F8\", \"#ffffff\", \"#EBF0F8\", \"#ffffff\"]]}, \"height\": 40, \"line\": {\"width\": 0}, \"values\": [\"5000\", \"0.259\", \"0.879\", \"Sample looks Gaussian (fail to reject H0)\"]}, \"columnwidth\": [0.3, 0.25, 0.3, 0.45], \"header\": {\"align\": \"center\", \"fill\": {\"color\": \"rgba(42,63,95,0.8)\"}, \"font\": {\"color\": \"#ffffff\", \"size\": 12}, \"line\": {\"width\": 0}, \"values\": [\"<b>Sample Size</b>\", \"<b>Statistic</b>\", \"<b>p-Value</b>\", \"<b>Comment</b>\"]}, \"type\": \"table\", \"uid\": \"b4df1209-54c8-4958-985d-d0de8f81b4f0\"}], {\"height\": 260, \"title\": {\"text\": \"D\\u2019Agostino\\u2019s K^2 Test\"}, \"width\": 1000}, {\"showLink\": false, \"linkText\": \"Export to plot.ly\", \"plotlyServerURL\": \"https://plot.ly\"}); \n",
       "}\n",
       "});</script>"
      ]
     },
     "metadata": {},
     "output_type": "display_data"
    }
   ],
   "source": [
    "# Normality test\n",
    "test = \"D’Agostino’s K^2 Test\"\n",
    "stat, p = normaltest(samples_b_m)\n",
    "\n",
    "# Round results\n",
    "stat = round(stat, 3)\n",
    "p = round(p, 3)\n",
    "\n",
    "# Interpre results\n",
    "alpha = 0.05\n",
    "if p > alpha:\n",
    "    msg = 'Sample looks Gaussian (fail to reject H0)'\n",
    "else:\n",
    "    msg = \"Sample does not look Gaussian (reject H0)\"\n",
    "\n",
    "# Create table\n",
    "result_mat = [len(samples_b_m), stat, p, msg]\n",
    "\n",
    "trace = go.Table(\n",
    "    header=dict(values=['<b>Sample Size</b>', '<b>Statistic</b>', '<b>p-Value</b>', '<b>Comment</b>'],\n",
    "                line = dict(width=0),\n",
    "                fill = dict(color='rgba(42,63,95,0.8)'),\n",
    "                align = 'center',\n",
    "                font = dict(\n",
    "                    color = '#ffffff',\n",
    "                    size = 12\n",
    "                )),\n",
    "    cells=dict(values=np.array(result_mat).T,\n",
    "               line = dict(width=0),\n",
    "               fill = dict(color=[['#EBF0F8', '#ffffff', '#EBF0F8', '#ffffff']]),\n",
    "               align = 'center',\n",
    "               height = 40),\n",
    "    columnwidth=[0.3, 0.25, 0.3, 0.45])\n",
    "       \n",
    "data = [trace]\n",
    "\n",
    "layout = dict(title=test, height=260, width=1000)\n",
    "\n",
    "norm_table = dict(data=data, layout=layout)\n",
    "\n",
    "# Plot table\n",
    "iplot(norm_table)"
   ]
  },
  {
   "cell_type": "markdown",
   "metadata": {},
   "source": [
    "### Jarque-Beta Test"
   ]
  },
  {
   "cell_type": "code",
   "execution_count": 120,
   "metadata": {},
   "outputs": [
    {
     "data": {
      "application/vnd.plotly.v1+json": {
       "config": {
        "linkText": "Export to plot.ly",
        "plotlyServerURL": "https://plot.ly",
        "showLink": false
       },
       "data": [
        {
         "cells": {
          "align": "center",
          "fill": {
           "color": [
            [
             "#EBF0F8",
             "#ffffff",
             "#EBF0F8",
             "#ffffff"
            ]
           ]
          },
          "height": 40,
          "line": {
           "width": 0
          },
          "values": [
           "5000",
           "0.214",
           "0.898",
           "Sample looks Gaussian (fail to reject H0)"
          ]
         },
         "columnwidth": [
          0.3,
          0.25,
          0.3,
          0.45
         ],
         "header": {
          "align": "center",
          "fill": {
           "color": "rgba(42,63,95,0.8)"
          },
          "font": {
           "color": "#ffffff",
           "size": 12
          },
          "line": {
           "width": 0
          },
          "values": [
           "<b>Sample Size</b>",
           "<b>Statistic</b>",
           "<b>p-Value</b>",
           "<b>Comment</b>"
          ]
         },
         "type": "table",
         "uid": "7d8470dd-b3f7-4a85-9de2-fc4a6d0bb9a6"
        }
       ],
       "layout": {
        "height": 260,
        "title": {
         "text": "Jarque-Beta Test"
        },
        "width": 1000
       }
      },
      "text/html": [
       "<div id=\"5d7686f8-0851-4d23-9e39-d4f270749d38\" style=\"height: 260px; width: 1000px;\" class=\"plotly-graph-div\"></div><script type=\"text/javascript\">require([\"plotly\"], function(Plotly) { window.PLOTLYENV=window.PLOTLYENV || {};window.PLOTLYENV.BASE_URL=\"https://plot.ly\";\n",
       "if (document.getElementById(\"5d7686f8-0851-4d23-9e39-d4f270749d38\")) {\n",
       "    Plotly.newPlot(\"5d7686f8-0851-4d23-9e39-d4f270749d38\", [{\"cells\": {\"align\": \"center\", \"fill\": {\"color\": [[\"#EBF0F8\", \"#ffffff\", \"#EBF0F8\", \"#ffffff\"]]}, \"height\": 40, \"line\": {\"width\": 0}, \"values\": [\"5000\", \"0.214\", \"0.898\", \"Sample looks Gaussian (fail to reject H0)\"]}, \"columnwidth\": [0.3, 0.25, 0.3, 0.45], \"header\": {\"align\": \"center\", \"fill\": {\"color\": \"rgba(42,63,95,0.8)\"}, \"font\": {\"color\": \"#ffffff\", \"size\": 12}, \"line\": {\"width\": 0}, \"values\": [\"<b>Sample Size</b>\", \"<b>Statistic</b>\", \"<b>p-Value</b>\", \"<b>Comment</b>\"]}, \"type\": \"table\", \"uid\": \"eca938b5-32f8-4e9e-b53a-0911fcf7c3b3\"}], {\"height\": 260, \"title\": {\"text\": \"Jarque-Beta Test\"}, \"width\": 1000}, {\"showLink\": false, \"linkText\": \"Export to plot.ly\", \"plotlyServerURL\": \"https://plot.ly\"}); \n",
       "}\n",
       "});</script>"
      ],
      "text/vnd.plotly.v1+html": [
       "<div id=\"5d7686f8-0851-4d23-9e39-d4f270749d38\" style=\"height: 260px; width: 1000px;\" class=\"plotly-graph-div\"></div><script type=\"text/javascript\">require([\"plotly\"], function(Plotly) { window.PLOTLYENV=window.PLOTLYENV || {};window.PLOTLYENV.BASE_URL=\"https://plot.ly\";\n",
       "if (document.getElementById(\"5d7686f8-0851-4d23-9e39-d4f270749d38\")) {\n",
       "    Plotly.newPlot(\"5d7686f8-0851-4d23-9e39-d4f270749d38\", [{\"cells\": {\"align\": \"center\", \"fill\": {\"color\": [[\"#EBF0F8\", \"#ffffff\", \"#EBF0F8\", \"#ffffff\"]]}, \"height\": 40, \"line\": {\"width\": 0}, \"values\": [\"5000\", \"0.214\", \"0.898\", \"Sample looks Gaussian (fail to reject H0)\"]}, \"columnwidth\": [0.3, 0.25, 0.3, 0.45], \"header\": {\"align\": \"center\", \"fill\": {\"color\": \"rgba(42,63,95,0.8)\"}, \"font\": {\"color\": \"#ffffff\", \"size\": 12}, \"line\": {\"width\": 0}, \"values\": [\"<b>Sample Size</b>\", \"<b>Statistic</b>\", \"<b>p-Value</b>\", \"<b>Comment</b>\"]}, \"type\": \"table\", \"uid\": \"eca938b5-32f8-4e9e-b53a-0911fcf7c3b3\"}], {\"height\": 260, \"title\": {\"text\": \"Jarque-Beta Test\"}, \"width\": 1000}, {\"showLink\": false, \"linkText\": \"Export to plot.ly\", \"plotlyServerURL\": \"https://plot.ly\"}); \n",
       "}\n",
       "});</script>"
      ]
     },
     "metadata": {},
     "output_type": "display_data"
    }
   ],
   "source": [
    "# Normality test\n",
    "test = \"Jarque-Beta Test\"\n",
    "stat, p = stats.jarque_bera(samples_b_m)\n",
    "\n",
    "# Round results\n",
    "stat = round(stat, 3)\n",
    "p = round(p, 3)\n",
    "\n",
    "# Interpre results\n",
    "alpha = 0.05\n",
    "if p > alpha:\n",
    "    msg = 'Sample looks Gaussian (fail to reject H0)'\n",
    "else:\n",
    "    msg = \"Sample does not look Gaussian (reject H0)\"\n",
    "\n",
    "# Create table\n",
    "result_mat = [len(samples_b_m), stat, p, msg]\n",
    "\n",
    "trace = go.Table(\n",
    "    header=dict(values=['<b>Sample Size</b>', '<b>Statistic</b>', '<b>p-Value</b>', '<b>Comment</b>'],\n",
    "                line = dict(width=0),\n",
    "                fill = dict(color='rgba(42,63,95,0.8)'),\n",
    "                align = 'center',\n",
    "                font = dict(\n",
    "                    color = '#ffffff',\n",
    "                    size = 12\n",
    "                )),\n",
    "    cells=dict(values=np.array(result_mat).T,\n",
    "               line = dict(width=0),\n",
    "               fill = dict(color=[['#EBF0F8', '#ffffff', '#EBF0F8', '#ffffff']]),\n",
    "               align = 'center',\n",
    "               height = 40),\n",
    "    columnwidth=[0.3, 0.25, 0.3, 0.45])\n",
    "       \n",
    "data = [trace]\n",
    "\n",
    "layout = dict(title=test, height=260, width=1000)\n",
    "\n",
    "jb_table = dict(data=data, layout=layout)\n",
    "\n",
    "# Plot table\n",
    "iplot(jb_table)"
   ]
  },
  {
   "cell_type": "markdown",
   "metadata": {},
   "source": [
    "### Kolmogorov Smirnov Test"
   ]
  },
  {
   "cell_type": "code",
   "execution_count": 121,
   "metadata": {},
   "outputs": [
    {
     "data": {
      "application/vnd.plotly.v1+json": {
       "config": {
        "linkText": "Export to plot.ly",
        "plotlyServerURL": "https://plot.ly",
        "showLink": false
       },
       "data": [
        {
         "cells": {
          "align": "center",
          "fill": {
           "color": [
            [
             "#EBF0F8",
             "#ffffff",
             "#EBF0F8",
             "#ffffff"
            ]
           ]
          },
          "height": 40,
          "line": {
           "width": 0
          },
          "values": [
           "5000",
           "0.014",
           "0.137",
           "Sample looks Gaussian (fail to reject H0)"
          ]
         },
         "columnwidth": [
          0.3,
          0.25,
          0.3,
          0.45
         ],
         "header": {
          "align": "center",
          "fill": {
           "color": "rgba(42,63,95,0.8)"
          },
          "font": {
           "color": "#ffffff",
           "size": 12
          },
          "line": {
           "width": 0
          },
          "values": [
           "<b>Sample Size</b>",
           "<b>Statistic</b>",
           "<b>p-Value</b>",
           "<b>Comment</b>"
          ]
         },
         "type": "table",
         "uid": "f9926c34-7869-459a-a3d8-3b19da40a792"
        }
       ],
       "layout": {
        "height": 260,
        "title": {
         "text": "Kolmogorov Smirnov Test"
        },
        "width": 1000
       }
      },
      "text/html": [
       "<div id=\"6b33ff97-1d85-4968-a7cf-16b8f0f5c31b\" style=\"height: 260px; width: 1000px;\" class=\"plotly-graph-div\"></div><script type=\"text/javascript\">require([\"plotly\"], function(Plotly) { window.PLOTLYENV=window.PLOTLYENV || {};window.PLOTLYENV.BASE_URL=\"https://plot.ly\";\n",
       "if (document.getElementById(\"6b33ff97-1d85-4968-a7cf-16b8f0f5c31b\")) {\n",
       "    Plotly.newPlot(\"6b33ff97-1d85-4968-a7cf-16b8f0f5c31b\", [{\"cells\": {\"align\": \"center\", \"fill\": {\"color\": [[\"#EBF0F8\", \"#ffffff\", \"#EBF0F8\", \"#ffffff\"]]}, \"height\": 40, \"line\": {\"width\": 0}, \"values\": [\"5000\", \"0.014\", \"0.137\", \"Sample looks Gaussian (fail to reject H0)\"]}, \"columnwidth\": [0.3, 0.25, 0.3, 0.45], \"header\": {\"align\": \"center\", \"fill\": {\"color\": \"rgba(42,63,95,0.8)\"}, \"font\": {\"color\": \"#ffffff\", \"size\": 12}, \"line\": {\"width\": 0}, \"values\": [\"<b>Sample Size</b>\", \"<b>Statistic</b>\", \"<b>p-Value</b>\", \"<b>Comment</b>\"]}, \"type\": \"table\", \"uid\": \"a4d95c28-08b4-417e-a857-cc6a22d286ad\"}], {\"height\": 260, \"title\": {\"text\": \"Kolmogorov Smirnov Test\"}, \"width\": 1000}, {\"showLink\": false, \"linkText\": \"Export to plot.ly\", \"plotlyServerURL\": \"https://plot.ly\"}); \n",
       "}\n",
       "});</script>"
      ],
      "text/vnd.plotly.v1+html": [
       "<div id=\"6b33ff97-1d85-4968-a7cf-16b8f0f5c31b\" style=\"height: 260px; width: 1000px;\" class=\"plotly-graph-div\"></div><script type=\"text/javascript\">require([\"plotly\"], function(Plotly) { window.PLOTLYENV=window.PLOTLYENV || {};window.PLOTLYENV.BASE_URL=\"https://plot.ly\";\n",
       "if (document.getElementById(\"6b33ff97-1d85-4968-a7cf-16b8f0f5c31b\")) {\n",
       "    Plotly.newPlot(\"6b33ff97-1d85-4968-a7cf-16b8f0f5c31b\", [{\"cells\": {\"align\": \"center\", \"fill\": {\"color\": [[\"#EBF0F8\", \"#ffffff\", \"#EBF0F8\", \"#ffffff\"]]}, \"height\": 40, \"line\": {\"width\": 0}, \"values\": [\"5000\", \"0.014\", \"0.137\", \"Sample looks Gaussian (fail to reject H0)\"]}, \"columnwidth\": [0.3, 0.25, 0.3, 0.45], \"header\": {\"align\": \"center\", \"fill\": {\"color\": \"rgba(42,63,95,0.8)\"}, \"font\": {\"color\": \"#ffffff\", \"size\": 12}, \"line\": {\"width\": 0}, \"values\": [\"<b>Sample Size</b>\", \"<b>Statistic</b>\", \"<b>p-Value</b>\", \"<b>Comment</b>\"]}, \"type\": \"table\", \"uid\": \"a4d95c28-08b4-417e-a857-cc6a22d286ad\"}], {\"height\": 260, \"title\": {\"text\": \"Kolmogorov Smirnov Test\"}, \"width\": 1000}, {\"showLink\": false, \"linkText\": \"Export to plot.ly\", \"plotlyServerURL\": \"https://plot.ly\"}); \n",
       "}\n",
       "});</script>"
      ]
     },
     "metadata": {},
     "output_type": "display_data"
    }
   ],
   "source": [
    "# Normality test\n",
    "test = \"Kolmogorov Smirnov Test\"\n",
    "stat, p = stats.kstest(np.array(samples_b_m),'norm', alternative = 'greater')\n",
    "\n",
    "# Round results\n",
    "stat = round(stat, 3)\n",
    "p = round(p, 3)\n",
    "\n",
    "# Interpre results\n",
    "alpha = 0.05\n",
    "if p > alpha:\n",
    "    msg = 'Sample looks Gaussian (fail to reject H0)'\n",
    "else:\n",
    "    msg = \"Sample does not look Gaussian (reject H0)\"\n",
    "\n",
    "# Create table\n",
    "result_mat = [len(samples_b_m), stat, p, msg]\n",
    "\n",
    "trace = go.Table(\n",
    "    header=dict(values=['<b>Sample Size</b>', '<b>Statistic</b>', '<b>p-Value</b>', '<b>Comment</b>'],\n",
    "                line = dict(width=0),\n",
    "                fill = dict(color='rgba(42,63,95,0.8)'),\n",
    "                align = 'center',\n",
    "                font = dict(\n",
    "                    color = '#ffffff',\n",
    "                    size = 12\n",
    "                )),\n",
    "    cells=dict(values=np.array(result_mat).T,\n",
    "               line = dict(width=0),\n",
    "               fill = dict(color=[['#EBF0F8', '#ffffff', '#EBF0F8', '#ffffff']]),\n",
    "               align = 'center',\n",
    "               height = 40),\n",
    "    columnwidth=[0.3, 0.25, 0.3, 0.45])\n",
    "       \n",
    "data = [trace]\n",
    "\n",
    "layout = dict(title=test, height=260, width=1000)\n",
    "\n",
    "ks_table = dict(data=data, layout=layout)\n",
    "\n",
    "# Plot table\n",
    "iplot(ks_table)"
   ]
  },
  {
   "cell_type": "markdown",
   "metadata": {},
   "source": [
    "### Anderson-Darling"
   ]
  },
  {
   "cell_type": "code",
   "execution_count": 122,
   "metadata": {},
   "outputs": [
    {
     "data": {
      "application/vnd.plotly.v1+json": {
       "config": {
        "linkText": "Export to plot.ly",
        "plotlyServerURL": "https://plot.ly",
        "showLink": false
       },
       "data": [
        {
         "cells": {
          "align": "center",
          "fill": {
           "color": [
            [
             "#EBF0F8",
             "#ffffff",
             "#EBF0F8",
             "#ffffff",
             "#EBF0F8"
            ]
           ]
          },
          "height": 40,
          "line": {
           "width": 0
          },
          "values": [
           [
            "5000",
            "5000",
            "5000",
            "5000",
            "5000"
           ],
           [
            "0.321",
            "0.321",
            "0.321",
            "0.321",
            "0.321"
           ],
           [
            "15.0",
            "10.0",
            "5.0",
            "2.5",
            "1.0"
           ],
           [
            "0.576",
            "0.655",
            "0.786",
            "0.917",
            "1.091"
           ],
           [
            "Sample looks Gaussian (fail to reject H0)",
            "Sample looks Gaussian (fail to reject H0)",
            "Sample looks Gaussian (fail to reject H0)",
            "Sample looks Gaussian (fail to reject H0)",
            "Sample looks Gaussian (fail to reject H0)"
           ]
          ]
         },
         "columnwidth": [
          0.3,
          0.25,
          0.3,
          0.25,
          0.5
         ],
         "header": {
          "align": "center",
          "fill": {
           "color": "rgba(42,63,95,0.8)"
          },
          "font": {
           "color": "#ffffff",
           "size": 12
          },
          "line": {
           "width": 0
          },
          "values": [
           "<b>Sample Size</b>",
           "<b>Statistic</b>",
           "<b>Significance Level</b>",
           "<b>Critical Value</b>",
           "<b>Comment</b>"
          ]
         },
         "type": "table",
         "uid": "3dca3e7d-f817-4b8c-9a72-795e61cd16b9"
        }
       ],
       "layout": {
        "height": 415,
        "title": {
         "text": "Anderson-Darling Test"
        },
        "width": 1000
       }
      },
      "text/html": [
       "<div id=\"562a2a96-4657-46c5-9d65-f9e4a26c8140\" style=\"height: 415px; width: 1000px;\" class=\"plotly-graph-div\"></div><script type=\"text/javascript\">require([\"plotly\"], function(Plotly) { window.PLOTLYENV=window.PLOTLYENV || {};window.PLOTLYENV.BASE_URL=\"https://plot.ly\";\n",
       "if (document.getElementById(\"562a2a96-4657-46c5-9d65-f9e4a26c8140\")) {\n",
       "    Plotly.newPlot(\"562a2a96-4657-46c5-9d65-f9e4a26c8140\", [{\"cells\": {\"align\": \"center\", \"fill\": {\"color\": [[\"#EBF0F8\", \"#ffffff\", \"#EBF0F8\", \"#ffffff\", \"#EBF0F8\"]]}, \"height\": 40, \"line\": {\"width\": 0}, \"values\": [[\"5000\", \"5000\", \"5000\", \"5000\", \"5000\"], [\"0.321\", \"0.321\", \"0.321\", \"0.321\", \"0.321\"], [\"15.0\", \"10.0\", \"5.0\", \"2.5\", \"1.0\"], [\"0.576\", \"0.655\", \"0.786\", \"0.917\", \"1.091\"], [\"Sample looks Gaussian (fail to reject H0)\", \"Sample looks Gaussian (fail to reject H0)\", \"Sample looks Gaussian (fail to reject H0)\", \"Sample looks Gaussian (fail to reject H0)\", \"Sample looks Gaussian (fail to reject H0)\"]]}, \"columnwidth\": [0.3, 0.25, 0.3, 0.25, 0.5], \"header\": {\"align\": \"center\", \"fill\": {\"color\": \"rgba(42,63,95,0.8)\"}, \"font\": {\"color\": \"#ffffff\", \"size\": 12}, \"line\": {\"width\": 0}, \"values\": [\"<b>Sample Size</b>\", \"<b>Statistic</b>\", \"<b>Significance Level</b>\", \"<b>Critical Value</b>\", \"<b>Comment</b>\"]}, \"type\": \"table\", \"uid\": \"967430b5-63d2-4230-9cf0-09ff494b54f1\"}], {\"height\": 415, \"title\": {\"text\": \"Anderson-Darling Test\"}, \"width\": 1000}, {\"showLink\": false, \"linkText\": \"Export to plot.ly\", \"plotlyServerURL\": \"https://plot.ly\"}); \n",
       "}\n",
       "});</script>"
      ],
      "text/vnd.plotly.v1+html": [
       "<div id=\"562a2a96-4657-46c5-9d65-f9e4a26c8140\" style=\"height: 415px; width: 1000px;\" class=\"plotly-graph-div\"></div><script type=\"text/javascript\">require([\"plotly\"], function(Plotly) { window.PLOTLYENV=window.PLOTLYENV || {};window.PLOTLYENV.BASE_URL=\"https://plot.ly\";\n",
       "if (document.getElementById(\"562a2a96-4657-46c5-9d65-f9e4a26c8140\")) {\n",
       "    Plotly.newPlot(\"562a2a96-4657-46c5-9d65-f9e4a26c8140\", [{\"cells\": {\"align\": \"center\", \"fill\": {\"color\": [[\"#EBF0F8\", \"#ffffff\", \"#EBF0F8\", \"#ffffff\", \"#EBF0F8\"]]}, \"height\": 40, \"line\": {\"width\": 0}, \"values\": [[\"5000\", \"5000\", \"5000\", \"5000\", \"5000\"], [\"0.321\", \"0.321\", \"0.321\", \"0.321\", \"0.321\"], [\"15.0\", \"10.0\", \"5.0\", \"2.5\", \"1.0\"], [\"0.576\", \"0.655\", \"0.786\", \"0.917\", \"1.091\"], [\"Sample looks Gaussian (fail to reject H0)\", \"Sample looks Gaussian (fail to reject H0)\", \"Sample looks Gaussian (fail to reject H0)\", \"Sample looks Gaussian (fail to reject H0)\", \"Sample looks Gaussian (fail to reject H0)\"]]}, \"columnwidth\": [0.3, 0.25, 0.3, 0.25, 0.5], \"header\": {\"align\": \"center\", \"fill\": {\"color\": \"rgba(42,63,95,0.8)\"}, \"font\": {\"color\": \"#ffffff\", \"size\": 12}, \"line\": {\"width\": 0}, \"values\": [\"<b>Sample Size</b>\", \"<b>Statistic</b>\", \"<b>Significance Level</b>\", \"<b>Critical Value</b>\", \"<b>Comment</b>\"]}, \"type\": \"table\", \"uid\": \"967430b5-63d2-4230-9cf0-09ff494b54f1\"}], {\"height\": 415, \"title\": {\"text\": \"Anderson-Darling Test\"}, \"width\": 1000}, {\"showLink\": false, \"linkText\": \"Export to plot.ly\", \"plotlyServerURL\": \"https://plot.ly\"}); \n",
       "}\n",
       "});</script>"
      ]
     },
     "metadata": {},
     "output_type": "display_data"
    }
   ],
   "source": [
    "# Normality test\n",
    "test = \"Anderson-Darling Test\"\n",
    "result = anderson(samples_b_m)\n",
    "\n",
    "# Round results\n",
    "stat = round(result.statistic, 3)\n",
    "\n",
    "# Create table\n",
    "result_mat = []\n",
    "for i in range(len(result.critical_values)):\n",
    "    sl, cv = result.significance_level[i], result.critical_values[i]\n",
    "    if result.statistic < result.critical_values[i]:\n",
    "        msg = 'Sample looks Gaussian (fail to reject H0)'\n",
    "    else:\n",
    "        msg = 'Sample does not look Gaussian (reject H0)'\n",
    "    result_mat.append([len(samples_b_m), stat, sl, cv, msg])\n",
    "\n",
    "trace = go.Table(\n",
    "    header=dict(values=['<b>Sample Size</b>', '<b>Statistic</b>', '<b>Significance Level</b>', '<b>Critical Value</b>', '<b>Comment</b>'],\n",
    "                line = dict(width=0),\n",
    "                fill = dict(color='rgba(42,63,95,0.8)'),\n",
    "                align = 'center',\n",
    "                font = dict(\n",
    "                    color = '#ffffff',\n",
    "                    size = 12\n",
    "                )),\n",
    "    cells=dict(values=np.array(result_mat).T,\n",
    "               line = dict(width=0),\n",
    "               fill = dict(color=[['#EBF0F8', '#ffffff', '#EBF0F8', '#ffffff', '#EBF0F8']]),\n",
    "               align = 'center',\n",
    "               height = 40),\n",
    "    columnwidth=[0.3, 0.25, 0.3, 0.25, 0.5])\n",
    "       \n",
    "data = [trace]\n",
    "\n",
    "layout = dict(title=test, height=415, width=1000)\n",
    "\n",
    "andar_table = dict(data=data, layout=layout)\n",
    "\n",
    "# Plot table\n",
    "iplot(andar_table)"
   ]
  },
  {
   "cell_type": "markdown",
   "metadata": {},
   "source": [
    "## 4.3 Rejection sampling"
   ]
  },
  {
   "cell_type": "markdown",
   "metadata": {},
   "source": [
    "### Generate Samples"
   ]
  },
  {
   "cell_type": "code",
   "execution_count": 123,
   "metadata": {},
   "outputs": [],
   "source": [
    "tic = timeit.default_timer()\n",
    "\n",
    "# Generate n_samples samples \n",
    "samples_r_s = []\n",
    "for i in range(n_samples):\n",
    "    samples_r_s.append(sample_normal_rejection(mu, sigma))  \n",
    "\n",
    "toc = timeit.default_timer()"
   ]
  },
  {
   "cell_type": "markdown",
   "metadata": {},
   "source": [
    "###  Histogram Plot"
   ]
  },
  {
   "cell_type": "code",
   "execution_count": 124,
   "metadata": {},
   "outputs": [
    {
     "name": "stdout",
     "output_type": "stream",
     "text": [
      "running time = 26.811, mean = 0.010, std_dev = 1.005\n"
     ]
    },
    {
     "data": {
      "image/png": "[encoded data removed]",
      "text/plain": [
       "<Figure size 432x288 with 1 Axes>"
      ]
     },
     "metadata": {
      "needs_background": "light"
     },
     "output_type": "display_data"
    }
   ],
   "source": [
    "# Plot n_samples samples \n",
    "\n",
    "sns.distplot(samples_r_s, bins=40).set_title(str(n_samples)+ \" samples using Rejection sampling\");\n",
    "\n",
    "print(\"running time = %.3f, mean = %.3f, std_dev = %.3f\" % (toc-tic, np.mean(samples_r_s), np.std(samples_r_s)));"
   ]
  },
  {
   "cell_type": "markdown",
   "metadata": {},
   "source": [
    "### Q-Q Plot and P-P Plot"
   ]
  },
  {
   "cell_type": "code",
   "execution_count": 125,
   "metadata": {},
   "outputs": [
    {
     "data": {
      "image/png": "[encoded data removed]",
      "text/plain": [
       "<Figure size 720x288 with 2 Axes>"
      ]
     },
     "metadata": {
      "needs_background": "light"
     },
     "output_type": "display_data"
    }
   ],
   "source": [
    "# Plot q-q and p-p plot\n",
    "fig, ax = plt.subplots(1, 2, figsize=(10, 4))\n",
    "probplot = sm.ProbPlot(np.array(samples_r_s), dist=norm, fit=True)\n",
    "probplot.ppplot(line='45', ax=ax[0])\n",
    "probplot.qqplot(line='45', ax=ax[1])\n",
    "ax[0].set_title('P-P Plot')\n",
    "ax[1].set_title('Q-Q Plot');"
   ]
  },
  {
   "cell_type": "markdown",
   "metadata": {},
   "source": [
    "### Boxplot"
   ]
  },
  {
   "cell_type": "code",
   "execution_count": 126,
   "metadata": {},
   "outputs": [
    {
     "data": {
      "image/png": "[encoded data removed]",
      "text/plain": [
       "<Figure size 432x288 with 1 Axes>"
      ]
     },
     "metadata": {
      "needs_background": "light"
     },
     "output_type": "display_data"
    }
   ],
   "source": [
    "# Plot boxplot plot\n",
    "sns.boxplot(samples_r_s, width=4);"
   ]
  },
  {
   "cell_type": "markdown",
   "metadata": {},
   "source": [
    "### Empirical Cumulative Distribution Function Plot"
   ]
  },
  {
   "cell_type": "code",
   "execution_count": 127,
   "metadata": {},
   "outputs": [
    {
     "data": {
      "image/png": "[encoded data removed]",
      "text/plain": [
       "<Figure size 432x288 with 1 Axes>"
      ]
     },
     "metadata": {
      "needs_background": "light"
     },
     "output_type": "display_data"
    }
   ],
   "source": [
    "# Plot Empirical Cumulative Distribution vs Normal Cumulative Distribution\n",
    "x=np.linspace(-5, 5)\n",
    "\n",
    "# Plot normal cdf\n",
    "plot_normal(x, mu=mu, sigma=sigma, cdf=True, label=\"normal cdf\")\n",
    "\n",
    "# Plor ecdf\n",
    "ecdf = sm.distributions.ECDF(samples_r_s)\n",
    "ecdf = ecdf(x)\n",
    "plt.step(x, ecdf, label=\"ecdf\")\n",
    "\n",
    "plt.legend();"
   ]
  },
  {
   "cell_type": "markdown",
   "metadata": {},
   "source": [
    "### Shapiro-Wilk Test"
   ]
  },
  {
   "cell_type": "code",
   "execution_count": 129,
   "metadata": {},
   "outputs": [
    {
     "data": {
      "application/vnd.plotly.v1+json": {
       "config": {
        "linkText": "Export to plot.ly",
        "plotlyServerURL": "https://plot.ly",
        "showLink": false
       },
       "data": [
        {
         "cells": {
          "align": "center",
          "fill": {
           "color": [
            [
             "#EBF0F8",
             "#ffffff",
             "#EBF0F8",
             "#ffffff"
            ]
           ]
          },
          "height": 40,
          "line": {
           "width": 0
          },
          "values": [
           "5000",
           "1.0",
           "0.48",
           "Sample looks Gaussian (fail to reject H0)"
          ]
         },
         "columnwidth": [
          0.3,
          0.25,
          0.3,
          0.45
         ],
         "header": {
          "align": "center",
          "fill": {
           "color": "rgba(42,63,95,0.8)"
          },
          "font": {
           "color": "#ffffff",
           "size": 12
          },
          "line": {
           "width": 0
          },
          "values": [
           "<b>Sample Size</b>",
           "<b>Statistic</b>",
           "<b>p-Value</b>",
           "<b>Comment</b>"
          ]
         },
         "type": "table",
         "uid": "b833e2ad-b5ee-41aa-ad9e-319f0d4c58de"
        }
       ],
       "layout": {
        "height": 260,
        "title": {
         "text": "Shapiro-Wilk Test"
        },
        "width": 1000
       }
      },
      "text/html": [
       "<div id=\"f19a7689-891e-4944-a56f-db8ef5b6ca90\" style=\"height: 260px; width: 1000px;\" class=\"plotly-graph-div\"></div><script type=\"text/javascript\">require([\"plotly\"], function(Plotly) { window.PLOTLYENV=window.PLOTLYENV || {};window.PLOTLYENV.BASE_URL=\"https://plot.ly\";\n",
       "if (document.getElementById(\"f19a7689-891e-4944-a56f-db8ef5b6ca90\")) {\n",
       "    Plotly.newPlot(\"f19a7689-891e-4944-a56f-db8ef5b6ca90\", [{\"cells\": {\"align\": \"center\", \"fill\": {\"color\": [[\"#EBF0F8\", \"#ffffff\", \"#EBF0F8\", \"#ffffff\"]]}, \"height\": 40, \"line\": {\"width\": 0}, \"values\": [\"5000\", \"1.0\", \"0.48\", \"Sample looks Gaussian (fail to reject H0)\"]}, \"columnwidth\": [0.3, 0.25, 0.3, 0.45], \"header\": {\"align\": \"center\", \"fill\": {\"color\": \"rgba(42,63,95,0.8)\"}, \"font\": {\"color\": \"#ffffff\", \"size\": 12}, \"line\": {\"width\": 0}, \"values\": [\"<b>Sample Size</b>\", \"<b>Statistic</b>\", \"<b>p-Value</b>\", \"<b>Comment</b>\"]}, \"type\": \"table\", \"uid\": \"54feda1d-1ab1-4d0d-b3e3-6af2d600100b\"}], {\"height\": 260, \"title\": {\"text\": \"Shapiro-Wilk Test\"}, \"width\": 1000}, {\"showLink\": false, \"linkText\": \"Export to plot.ly\", \"plotlyServerURL\": \"https://plot.ly\"}); \n",
       "}\n",
       "});</script>"
      ],
      "text/vnd.plotly.v1+html": [
       "<div id=\"f19a7689-891e-4944-a56f-db8ef5b6ca90\" style=\"height: 260px; width: 1000px;\" class=\"plotly-graph-div\"></div><script type=\"text/javascript\">require([\"plotly\"], function(Plotly) { window.PLOTLYENV=window.PLOTLYENV || {};window.PLOTLYENV.BASE_URL=\"https://plot.ly\";\n",
       "if (document.getElementById(\"f19a7689-891e-4944-a56f-db8ef5b6ca90\")) {\n",
       "    Plotly.newPlot(\"f19a7689-891e-4944-a56f-db8ef5b6ca90\", [{\"cells\": {\"align\": \"center\", \"fill\": {\"color\": [[\"#EBF0F8\", \"#ffffff\", \"#EBF0F8\", \"#ffffff\"]]}, \"height\": 40, \"line\": {\"width\": 0}, \"values\": [\"5000\", \"1.0\", \"0.48\", \"Sample looks Gaussian (fail to reject H0)\"]}, \"columnwidth\": [0.3, 0.25, 0.3, 0.45], \"header\": {\"align\": \"center\", \"fill\": {\"color\": \"rgba(42,63,95,0.8)\"}, \"font\": {\"color\": \"#ffffff\", \"size\": 12}, \"line\": {\"width\": 0}, \"values\": [\"<b>Sample Size</b>\", \"<b>Statistic</b>\", \"<b>p-Value</b>\", \"<b>Comment</b>\"]}, \"type\": \"table\", \"uid\": \"54feda1d-1ab1-4d0d-b3e3-6af2d600100b\"}], {\"height\": 260, \"title\": {\"text\": \"Shapiro-Wilk Test\"}, \"width\": 1000}, {\"showLink\": false, \"linkText\": \"Export to plot.ly\", \"plotlyServerURL\": \"https://plot.ly\"}); \n",
       "}\n",
       "});</script>"
      ]
     },
     "metadata": {},
     "output_type": "display_data"
    }
   ],
   "source": [
    "# Normality test\n",
    "test = \"Shapiro-Wilk Test\"\n",
    "stat, p = shapiro(samples_r_s)\n",
    "\n",
    "# Round results\n",
    "stat = round(stat, 3)\n",
    "p = round(p, 3)\n",
    "\n",
    "# Interpre results\n",
    "alpha = 0.05\n",
    "if p > alpha:\n",
    "    msg = 'Sample looks Gaussian (fail to reject H0)'\n",
    "else:\n",
    "    msg = \"Sample does not look Gaussian (reject H0)\"\n",
    "\n",
    "# Create table\n",
    "result_mat = [len(samples_r_s), stat, p, msg]\n",
    "\n",
    "trace = go.Table(\n",
    "    header=dict(values=['<b>Sample Size</b>', '<b>Statistic</b>', '<b>p-Value</b>', '<b>Comment</b>'],\n",
    "                line = dict(width=0),\n",
    "                fill = dict(color='rgba(42,63,95,0.8)'),\n",
    "                align = 'center',\n",
    "                font = dict(\n",
    "                    color = '#ffffff',\n",
    "                    size = 12\n",
    "                )),\n",
    "    cells=dict(values=np.array(result_mat).T,\n",
    "               line = dict(width=0),\n",
    "               fill = dict(color=[['#EBF0F8', '#ffffff', '#EBF0F8', '#ffffff']]),\n",
    "               align = 'center',\n",
    "               height = 40),\n",
    "    columnwidth=[0.3, 0.25, 0.3, 0.45])\n",
    "       \n",
    "data = [trace]\n",
    "\n",
    "layout = dict(title=test, height=260, width=1000)\n",
    "\n",
    "sw_table = dict(data=data, layout=layout)\n",
    "\n",
    "# Plot table\n",
    "iplot(sw_table)"
   ]
  },
  {
   "cell_type": "markdown",
   "metadata": {},
   "source": [
    "### D’Agostino’s K^2 Test"
   ]
  },
  {
   "cell_type": "code",
   "execution_count": 130,
   "metadata": {},
   "outputs": [
    {
     "data": {
      "application/vnd.plotly.v1+json": {
       "config": {
        "linkText": "Export to plot.ly",
        "plotlyServerURL": "https://plot.ly",
        "showLink": false
       },
       "data": [
        {
         "cells": {
          "align": "center",
          "fill": {
           "color": [
            [
             "#EBF0F8",
             "#ffffff",
             "#EBF0F8",
             "#ffffff"
            ]
           ]
          },
          "height": 40,
          "line": {
           "width": 0
          },
          "values": [
           "5000",
           "0.361",
           "0.835",
           "Sample looks Gaussian (fail to reject H0)"
          ]
         },
         "columnwidth": [
          0.3,
          0.25,
          0.3,
          0.45
         ],
         "header": {
          "align": "center",
          "fill": {
           "color": "rgba(42,63,95,0.8)"
          },
          "font": {
           "color": "#ffffff",
           "size": 12
          },
          "line": {
           "width": 0
          },
          "values": [
           "<b>Sample Size</b>",
           "<b>Statistic</b>",
           "<b>p-Value</b>",
           "<b>Comment</b>"
          ]
         },
         "type": "table",
         "uid": "bf5955e5-b6a2-4b0a-8273-0be073966f8e"
        }
       ],
       "layout": {
        "height": 260,
        "title": {
         "text": "D’Agostino’s K^2 Test"
        },
        "width": 1000
       }
      },
      "text/html": [
       "<div id=\"d341d288-2de4-46aa-a62a-feac5760d810\" style=\"height: 260px; width: 1000px;\" class=\"plotly-graph-div\"></div><script type=\"text/javascript\">require([\"plotly\"], function(Plotly) { window.PLOTLYENV=window.PLOTLYENV || {};window.PLOTLYENV.BASE_URL=\"https://plot.ly\";\n",
       "if (document.getElementById(\"d341d288-2de4-46aa-a62a-feac5760d810\")) {\n",
       "    Plotly.newPlot(\"d341d288-2de4-46aa-a62a-feac5760d810\", [{\"cells\": {\"align\": \"center\", \"fill\": {\"color\": [[\"#EBF0F8\", \"#ffffff\", \"#EBF0F8\", \"#ffffff\"]]}, \"height\": 40, \"line\": {\"width\": 0}, \"values\": [\"5000\", \"0.361\", \"0.835\", \"Sample looks Gaussian (fail to reject H0)\"]}, \"columnwidth\": [0.3, 0.25, 0.3, 0.45], \"header\": {\"align\": \"center\", \"fill\": {\"color\": \"rgba(42,63,95,0.8)\"}, \"font\": {\"color\": \"#ffffff\", \"size\": 12}, \"line\": {\"width\": 0}, \"values\": [\"<b>Sample Size</b>\", \"<b>Statistic</b>\", \"<b>p-Value</b>\", \"<b>Comment</b>\"]}, \"type\": \"table\", \"uid\": \"73f8bd9c-d6f9-400d-8823-b69295e527d3\"}], {\"height\": 260, \"title\": {\"text\": \"D\\u2019Agostino\\u2019s K^2 Test\"}, \"width\": 1000}, {\"showLink\": false, \"linkText\": \"Export to plot.ly\", \"plotlyServerURL\": \"https://plot.ly\"}); \n",
       "}\n",
       "});</script>"
      ],
      "text/vnd.plotly.v1+html": [
       "<div id=\"d341d288-2de4-46aa-a62a-feac5760d810\" style=\"height: 260px; width: 1000px;\" class=\"plotly-graph-div\"></div><script type=\"text/javascript\">require([\"plotly\"], function(Plotly) { window.PLOTLYENV=window.PLOTLYENV || {};window.PLOTLYENV.BASE_URL=\"https://plot.ly\";\n",
       "if (document.getElementById(\"d341d288-2de4-46aa-a62a-feac5760d810\")) {\n",
       "    Plotly.newPlot(\"d341d288-2de4-46aa-a62a-feac5760d810\", [{\"cells\": {\"align\": \"center\", \"fill\": {\"color\": [[\"#EBF0F8\", \"#ffffff\", \"#EBF0F8\", \"#ffffff\"]]}, \"height\": 40, \"line\": {\"width\": 0}, \"values\": [\"5000\", \"0.361\", \"0.835\", \"Sample looks Gaussian (fail to reject H0)\"]}, \"columnwidth\": [0.3, 0.25, 0.3, 0.45], \"header\": {\"align\": \"center\", \"fill\": {\"color\": \"rgba(42,63,95,0.8)\"}, \"font\": {\"color\": \"#ffffff\", \"size\": 12}, \"line\": {\"width\": 0}, \"values\": [\"<b>Sample Size</b>\", \"<b>Statistic</b>\", \"<b>p-Value</b>\", \"<b>Comment</b>\"]}, \"type\": \"table\", \"uid\": \"73f8bd9c-d6f9-400d-8823-b69295e527d3\"}], {\"height\": 260, \"title\": {\"text\": \"D\\u2019Agostino\\u2019s K^2 Test\"}, \"width\": 1000}, {\"showLink\": false, \"linkText\": \"Export to plot.ly\", \"plotlyServerURL\": \"https://plot.ly\"}); \n",
       "}\n",
       "});</script>"
      ]
     },
     "metadata": {},
     "output_type": "display_data"
    }
   ],
   "source": [
    "# Normality test\n",
    "test = \"D’Agostino’s K^2 Test\"\n",
    "stat, p = normaltest(samples_r_s)\n",
    "\n",
    "# Round results\n",
    "stat = round(stat, 3)\n",
    "p = round(p, 3)\n",
    "\n",
    "# Interpre results\n",
    "alpha = 0.05\n",
    "if p > alpha:\n",
    "    msg = 'Sample looks Gaussian (fail to reject H0)'\n",
    "else:\n",
    "    msg = \"Sample does not look Gaussian (reject H0)\"\n",
    "\n",
    "# Create table\n",
    "result_mat = [len(samples_r_s), stat, p, msg]\n",
    "\n",
    "trace = go.Table(\n",
    "    header=dict(values=['<b>Sample Size</b>', '<b>Statistic</b>', '<b>p-Value</b>', '<b>Comment</b>'],\n",
    "                line = dict(width=0),\n",
    "                fill = dict(color='rgba(42,63,95,0.8)'),\n",
    "                align = 'center',\n",
    "                font = dict(\n",
    "                    color = '#ffffff',\n",
    "                    size = 12\n",
    "                )),\n",
    "    cells=dict(values=np.array(result_mat).T,\n",
    "               line = dict(width=0),\n",
    "               fill = dict(color=[['#EBF0F8', '#ffffff', '#EBF0F8', '#ffffff']]),\n",
    "               align = 'center',\n",
    "               height = 40),\n",
    "    columnwidth=[0.3, 0.25, 0.3, 0.45])\n",
    "       \n",
    "data = [trace]\n",
    "\n",
    "layout = dict(title=test, height=260, width=1000)\n",
    "\n",
    "norm_table = dict(data=data, layout=layout)\n",
    "\n",
    "# Plot table\n",
    "iplot(norm_table)"
   ]
  },
  {
   "cell_type": "markdown",
   "metadata": {},
   "source": [
    "### Jarque-Beta Test"
   ]
  },
  {
   "cell_type": "code",
   "execution_count": 131,
   "metadata": {},
   "outputs": [
    {
     "data": {
      "application/vnd.plotly.v1+json": {
       "config": {
        "linkText": "Export to plot.ly",
        "plotlyServerURL": "https://plot.ly",
        "showLink": false
       },
       "data": [
        {
         "cells": {
          "align": "center",
          "fill": {
           "color": [
            [
             "#EBF0F8",
             "#ffffff",
             "#EBF0F8",
             "#ffffff"
            ]
           ]
          },
          "height": 40,
          "line": {
           "width": 0
          },
          "values": [
           "5000",
           "0.337",
           "0.845",
           "Sample looks Gaussian (fail to reject H0)"
          ]
         },
         "columnwidth": [
          0.3,
          0.25,
          0.3,
          0.45
         ],
         "header": {
          "align": "center",
          "fill": {
           "color": "rgba(42,63,95,0.8)"
          },
          "font": {
           "color": "#ffffff",
           "size": 12
          },
          "line": {
           "width": 0
          },
          "values": [
           "<b>Sample Size</b>",
           "<b>Statistic</b>",
           "<b>p-Value</b>",
           "<b>Comment</b>"
          ]
         },
         "type": "table",
         "uid": "c98beaf8-a3b3-48cf-84f0-3380bc28be91"
        }
       ],
       "layout": {
        "height": 260,
        "title": {
         "text": "Jarque-Beta Test"
        },
        "width": 1000
       }
      },
      "text/html": [
       "<div id=\"ef6a8b8d-549c-43d4-a1e2-777c9175ad20\" style=\"height: 260px; width: 1000px;\" class=\"plotly-graph-div\"></div><script type=\"text/javascript\">require([\"plotly\"], function(Plotly) { window.PLOTLYENV=window.PLOTLYENV || {};window.PLOTLYENV.BASE_URL=\"https://plot.ly\";\n",
       "if (document.getElementById(\"ef6a8b8d-549c-43d4-a1e2-777c9175ad20\")) {\n",
       "    Plotly.newPlot(\"ef6a8b8d-549c-43d4-a1e2-777c9175ad20\", [{\"cells\": {\"align\": \"center\", \"fill\": {\"color\": [[\"#EBF0F8\", \"#ffffff\", \"#EBF0F8\", \"#ffffff\"]]}, \"height\": 40, \"line\": {\"width\": 0}, \"values\": [\"5000\", \"0.337\", \"0.845\", \"Sample looks Gaussian (fail to reject H0)\"]}, \"columnwidth\": [0.3, 0.25, 0.3, 0.45], \"header\": {\"align\": \"center\", \"fill\": {\"color\": \"rgba(42,63,95,0.8)\"}, \"font\": {\"color\": \"#ffffff\", \"size\": 12}, \"line\": {\"width\": 0}, \"values\": [\"<b>Sample Size</b>\", \"<b>Statistic</b>\", \"<b>p-Value</b>\", \"<b>Comment</b>\"]}, \"type\": \"table\", \"uid\": \"41bb409e-4b4c-4245-a18c-30fb7230024a\"}], {\"height\": 260, \"title\": {\"text\": \"Jarque-Beta Test\"}, \"width\": 1000}, {\"showLink\": false, \"linkText\": \"Export to plot.ly\", \"plotlyServerURL\": \"https://plot.ly\"}); \n",
       "}\n",
       "});</script>"
      ],
      "text/vnd.plotly.v1+html": [
       "<div id=\"ef6a8b8d-549c-43d4-a1e2-777c9175ad20\" style=\"height: 260px; width: 1000px;\" class=\"plotly-graph-div\"></div><script type=\"text/javascript\">require([\"plotly\"], function(Plotly) { window.PLOTLYENV=window.PLOTLYENV || {};window.PLOTLYENV.BASE_URL=\"https://plot.ly\";\n",
       "if (document.getElementById(\"ef6a8b8d-549c-43d4-a1e2-777c9175ad20\")) {\n",
       "    Plotly.newPlot(\"ef6a8b8d-549c-43d4-a1e2-777c9175ad20\", [{\"cells\": {\"align\": \"center\", \"fill\": {\"color\": [[\"#EBF0F8\", \"#ffffff\", \"#EBF0F8\", \"#ffffff\"]]}, \"height\": 40, \"line\": {\"width\": 0}, \"values\": [\"5000\", \"0.337\", \"0.845\", \"Sample looks Gaussian (fail to reject H0)\"]}, \"columnwidth\": [0.3, 0.25, 0.3, 0.45], \"header\": {\"align\": \"center\", \"fill\": {\"color\": \"rgba(42,63,95,0.8)\"}, \"font\": {\"color\": \"#ffffff\", \"size\": 12}, \"line\": {\"width\": 0}, \"values\": [\"<b>Sample Size</b>\", \"<b>Statistic</b>\", \"<b>p-Value</b>\", \"<b>Comment</b>\"]}, \"type\": \"table\", \"uid\": \"41bb409e-4b4c-4245-a18c-30fb7230024a\"}], {\"height\": 260, \"title\": {\"text\": \"Jarque-Beta Test\"}, \"width\": 1000}, {\"showLink\": false, \"linkText\": \"Export to plot.ly\", \"plotlyServerURL\": \"https://plot.ly\"}); \n",
       "}\n",
       "});</script>"
      ]
     },
     "metadata": {},
     "output_type": "display_data"
    }
   ],
   "source": [
    "# Normality test\n",
    "test = \"Jarque-Beta Test\"\n",
    "stat, p = stats.jarque_bera(samples_r_s)\n",
    "\n",
    "# Round results\n",
    "stat = round(stat, 3)\n",
    "p = round(p, 3)\n",
    "\n",
    "# Interpre results\n",
    "alpha = 0.05\n",
    "if p > alpha:\n",
    "    msg = 'Sample looks Gaussian (fail to reject H0)'\n",
    "else:\n",
    "    msg = \"Sample does not look Gaussian (reject H0)\"\n",
    "\n",
    "# Create table\n",
    "result_mat = [len(samples_r_s), stat, p, msg]\n",
    "\n",
    "trace = go.Table(\n",
    "    header=dict(values=['<b>Sample Size</b>', '<b>Statistic</b>', '<b>p-Value</b>', '<b>Comment</b>'],\n",
    "                line = dict(width=0),\n",
    "                fill = dict(color='rgba(42,63,95,0.8)'),\n",
    "                align = 'center',\n",
    "                font = dict(\n",
    "                    color = '#ffffff',\n",
    "                    size = 12\n",
    "                )),\n",
    "    cells=dict(values=np.array(result_mat).T,\n",
    "               line = dict(width=0),\n",
    "               fill = dict(color=[['#EBF0F8', '#ffffff', '#EBF0F8', '#ffffff']]),\n",
    "               align = 'center',\n",
    "               height = 40),\n",
    "    columnwidth=[0.3, 0.25, 0.3, 0.45])\n",
    "       \n",
    "data = [trace]\n",
    "\n",
    "layout = dict(title=test, height=260, width=1000)\n",
    "\n",
    "jb_table = dict(data=data, layout=layout)\n",
    "\n",
    "# Plot table\n",
    "iplot(jb_table)"
   ]
  },
  {
   "cell_type": "markdown",
   "metadata": {},
   "source": [
    "### Kolmogorov Smirnov Test"
   ]
  },
  {
   "cell_type": "code",
   "execution_count": 132,
   "metadata": {},
   "outputs": [
    {
     "data": {
      "application/vnd.plotly.v1+json": {
       "config": {
        "linkText": "Export to plot.ly",
        "plotlyServerURL": "https://plot.ly",
        "showLink": false
       },
       "data": [
        {
         "cells": {
          "align": "center",
          "fill": {
           "color": [
            [
             "#EBF0F8",
             "#ffffff",
             "#EBF0F8",
             "#ffffff"
            ]
           ]
          },
          "height": 40,
          "line": {
           "width": 0
          },
          "values": [
           "5000",
           "0.005",
           "0.78",
           "Sample looks Gaussian (fail to reject H0)"
          ]
         },
         "columnwidth": [
          0.3,
          0.25,
          0.3,
          0.45
         ],
         "header": {
          "align": "center",
          "fill": {
           "color": "rgba(42,63,95,0.8)"
          },
          "font": {
           "color": "#ffffff",
           "size": 12
          },
          "line": {
           "width": 0
          },
          "values": [
           "<b>Sample Size</b>",
           "<b>Statistic</b>",
           "<b>p-Value</b>",
           "<b>Comment</b>"
          ]
         },
         "type": "table",
         "uid": "22cd3d62-e917-4298-a972-65ec90f4bd2a"
        }
       ],
       "layout": {
        "height": 260,
        "title": {
         "text": "Kolmogorov Smirnov Test"
        },
        "width": 1000
       }
      },
      "text/html": [
       "<div id=\"6eefa339-c23e-4083-8e25-858bba5235c5\" style=\"height: 260px; width: 1000px;\" class=\"plotly-graph-div\"></div><script type=\"text/javascript\">require([\"plotly\"], function(Plotly) { window.PLOTLYENV=window.PLOTLYENV || {};window.PLOTLYENV.BASE_URL=\"https://plot.ly\";\n",
       "if (document.getElementById(\"6eefa339-c23e-4083-8e25-858bba5235c5\")) {\n",
       "    Plotly.newPlot(\"6eefa339-c23e-4083-8e25-858bba5235c5\", [{\"cells\": {\"align\": \"center\", \"fill\": {\"color\": [[\"#EBF0F8\", \"#ffffff\", \"#EBF0F8\", \"#ffffff\"]]}, \"height\": 40, \"line\": {\"width\": 0}, \"values\": [\"5000\", \"0.005\", \"0.78\", \"Sample looks Gaussian (fail to reject H0)\"]}, \"columnwidth\": [0.3, 0.25, 0.3, 0.45], \"header\": {\"align\": \"center\", \"fill\": {\"color\": \"rgba(42,63,95,0.8)\"}, \"font\": {\"color\": \"#ffffff\", \"size\": 12}, \"line\": {\"width\": 0}, \"values\": [\"<b>Sample Size</b>\", \"<b>Statistic</b>\", \"<b>p-Value</b>\", \"<b>Comment</b>\"]}, \"type\": \"table\", \"uid\": \"9077aa06-a671-486d-adab-d80ed4fcdb49\"}], {\"height\": 260, \"title\": {\"text\": \"Kolmogorov Smirnov Test\"}, \"width\": 1000}, {\"showLink\": false, \"linkText\": \"Export to plot.ly\", \"plotlyServerURL\": \"https://plot.ly\"}); \n",
       "}\n",
       "});</script>"
      ],
      "text/vnd.plotly.v1+html": [
       "<div id=\"6eefa339-c23e-4083-8e25-858bba5235c5\" style=\"height: 260px; width: 1000px;\" class=\"plotly-graph-div\"></div><script type=\"text/javascript\">require([\"plotly\"], function(Plotly) { window.PLOTLYENV=window.PLOTLYENV || {};window.PLOTLYENV.BASE_URL=\"https://plot.ly\";\n",
       "if (document.getElementById(\"6eefa339-c23e-4083-8e25-858bba5235c5\")) {\n",
       "    Plotly.newPlot(\"6eefa339-c23e-4083-8e25-858bba5235c5\", [{\"cells\": {\"align\": \"center\", \"fill\": {\"color\": [[\"#EBF0F8\", \"#ffffff\", \"#EBF0F8\", \"#ffffff\"]]}, \"height\": 40, \"line\": {\"width\": 0}, \"values\": [\"5000\", \"0.005\", \"0.78\", \"Sample looks Gaussian (fail to reject H0)\"]}, \"columnwidth\": [0.3, 0.25, 0.3, 0.45], \"header\": {\"align\": \"center\", \"fill\": {\"color\": \"rgba(42,63,95,0.8)\"}, \"font\": {\"color\": \"#ffffff\", \"size\": 12}, \"line\": {\"width\": 0}, \"values\": [\"<b>Sample Size</b>\", \"<b>Statistic</b>\", \"<b>p-Value</b>\", \"<b>Comment</b>\"]}, \"type\": \"table\", \"uid\": \"9077aa06-a671-486d-adab-d80ed4fcdb49\"}], {\"height\": 260, \"title\": {\"text\": \"Kolmogorov Smirnov Test\"}, \"width\": 1000}, {\"showLink\": false, \"linkText\": \"Export to plot.ly\", \"plotlyServerURL\": \"https://plot.ly\"}); \n",
       "}\n",
       "});</script>"
      ]
     },
     "metadata": {},
     "output_type": "display_data"
    }
   ],
   "source": [
    "# Normality test\n",
    "test = \"Kolmogorov Smirnov Test\"\n",
    "stat, p = stats.kstest(np.array(samples_r_s),'norm', alternative = 'greater')\n",
    "\n",
    "# Round results\n",
    "stat = round(stat, 3)\n",
    "p = round(p, 3)\n",
    "\n",
    "# Interpre results\n",
    "alpha = 0.05\n",
    "if p > alpha:\n",
    "    msg = 'Sample looks Gaussian (fail to reject H0)'\n",
    "else:\n",
    "    msg = \"Sample does not look Gaussian (reject H0)\"\n",
    "\n",
    "# Create table\n",
    "result_mat = [len(samples_r_s), stat, p, msg]\n",
    "\n",
    "trace = go.Table(\n",
    "    header=dict(values=['<b>Sample Size</b>', '<b>Statistic</b>', '<b>p-Value</b>', '<b>Comment</b>'],\n",
    "                line = dict(width=0),\n",
    "                fill = dict(color='rgba(42,63,95,0.8)'),\n",
    "                align = 'center',\n",
    "                font = dict(\n",
    "                    color = '#ffffff',\n",
    "                    size = 12\n",
    "                )),\n",
    "    cells=dict(values=np.array(result_mat).T,\n",
    "               line = dict(width=0),\n",
    "               fill = dict(color=[['#EBF0F8', '#ffffff', '#EBF0F8', '#ffffff']]),\n",
    "               align = 'center',\n",
    "               height = 40),\n",
    "    columnwidth=[0.3, 0.25, 0.3, 0.45])\n",
    "       \n",
    "data = [trace]\n",
    "\n",
    "layout = dict(title=test, height=260, width=1000)\n",
    "\n",
    "ks_table = dict(data=data, layout=layout)\n",
    "\n",
    "# Plot table\n",
    "iplot(ks_table)"
   ]
  },
  {
   "cell_type": "markdown",
   "metadata": {},
   "source": [
    "### Anderson-Darling"
   ]
  },
  {
   "cell_type": "code",
   "execution_count": 133,
   "metadata": {},
   "outputs": [
    {
     "data": {
      "application/vnd.plotly.v1+json": {
       "config": {
        "linkText": "Export to plot.ly",
        "plotlyServerURL": "https://plot.ly",
        "showLink": false
       },
       "data": [
        {
         "cells": {
          "align": "center",
          "fill": {
           "color": [
            [
             "#EBF0F8",
             "#ffffff",
             "#EBF0F8",
             "#ffffff",
             "#EBF0F8"
            ]
           ]
          },
          "height": 40,
          "line": {
           "width": 0
          },
          "values": [
           [
            "5000",
            "5000",
            "5000",
            "5000",
            "5000"
           ],
           [
            "0.421",
            "0.421",
            "0.421",
            "0.421",
            "0.421"
           ],
           [
            "15.0",
            "10.0",
            "5.0",
            "2.5",
            "1.0"
           ],
           [
            "0.576",
            "0.655",
            "0.786",
            "0.917",
            "1.091"
           ],
           [
            "Sample looks Gaussian (fail to reject H0)",
            "Sample looks Gaussian (fail to reject H0)",
            "Sample looks Gaussian (fail to reject H0)",
            "Sample looks Gaussian (fail to reject H0)",
            "Sample looks Gaussian (fail to reject H0)"
           ]
          ]
         },
         "columnwidth": [
          0.3,
          0.25,
          0.3,
          0.25,
          0.5
         ],
         "header": {
          "align": "center",
          "fill": {
           "color": "rgba(42,63,95,0.8)"
          },
          "font": {
           "color": "#ffffff",
           "size": 12
          },
          "line": {
           "width": 0
          },
          "values": [
           "<b>Sample Size</b>",
           "<b>Statistic</b>",
           "<b>Significance Level</b>",
           "<b>Critical Value</b>",
           "<b>Comment</b>"
          ]
         },
         "type": "table",
         "uid": "5e7f842f-8967-4446-9662-e14e3d6d57df"
        }
       ],
       "layout": {
        "height": 415,
        "title": {
         "text": "Anderson-Darling Test"
        },
        "width": 1000
       }
      },
      "text/html": [
       "<div id=\"510a1767-d4fb-4ce1-ab28-a977f58ec8a0\" style=\"height: 415px; width: 1000px;\" class=\"plotly-graph-div\"></div><script type=\"text/javascript\">require([\"plotly\"], function(Plotly) { window.PLOTLYENV=window.PLOTLYENV || {};window.PLOTLYENV.BASE_URL=\"https://plot.ly\";\n",
       "if (document.getElementById(\"510a1767-d4fb-4ce1-ab28-a977f58ec8a0\")) {\n",
       "    Plotly.newPlot(\"510a1767-d4fb-4ce1-ab28-a977f58ec8a0\", [{\"cells\": {\"align\": \"center\", \"fill\": {\"color\": [[\"#EBF0F8\", \"#ffffff\", \"#EBF0F8\", \"#ffffff\", \"#EBF0F8\"]]}, \"height\": 40, \"line\": {\"width\": 0}, \"values\": [[\"5000\", \"5000\", \"5000\", \"5000\", \"5000\"], [\"0.421\", \"0.421\", \"0.421\", \"0.421\", \"0.421\"], [\"15.0\", \"10.0\", \"5.0\", \"2.5\", \"1.0\"], [\"0.576\", \"0.655\", \"0.786\", \"0.917\", \"1.091\"], [\"Sample looks Gaussian (fail to reject H0)\", \"Sample looks Gaussian (fail to reject H0)\", \"Sample looks Gaussian (fail to reject H0)\", \"Sample looks Gaussian (fail to reject H0)\", \"Sample looks Gaussian (fail to reject H0)\"]]}, \"columnwidth\": [0.3, 0.25, 0.3, 0.25, 0.5], \"header\": {\"align\": \"center\", \"fill\": {\"color\": \"rgba(42,63,95,0.8)\"}, \"font\": {\"color\": \"#ffffff\", \"size\": 12}, \"line\": {\"width\": 0}, \"values\": [\"<b>Sample Size</b>\", \"<b>Statistic</b>\", \"<b>Significance Level</b>\", \"<b>Critical Value</b>\", \"<b>Comment</b>\"]}, \"type\": \"table\", \"uid\": \"28492036-c0ee-4125-945c-af4791b1ae4f\"}], {\"height\": 415, \"title\": {\"text\": \"Anderson-Darling Test\"}, \"width\": 1000}, {\"showLink\": false, \"linkText\": \"Export to plot.ly\", \"plotlyServerURL\": \"https://plot.ly\"}); \n",
       "}\n",
       "});</script>"
      ],
      "text/vnd.plotly.v1+html": [
       "<div id=\"510a1767-d4fb-4ce1-ab28-a977f58ec8a0\" style=\"height: 415px; width: 1000px;\" class=\"plotly-graph-div\"></div><script type=\"text/javascript\">require([\"plotly\"], function(Plotly) { window.PLOTLYENV=window.PLOTLYENV || {};window.PLOTLYENV.BASE_URL=\"https://plot.ly\";\n",
       "if (document.getElementById(\"510a1767-d4fb-4ce1-ab28-a977f58ec8a0\")) {\n",
       "    Plotly.newPlot(\"510a1767-d4fb-4ce1-ab28-a977f58ec8a0\", [{\"cells\": {\"align\": \"center\", \"fill\": {\"color\": [[\"#EBF0F8\", \"#ffffff\", \"#EBF0F8\", \"#ffffff\", \"#EBF0F8\"]]}, \"height\": 40, \"line\": {\"width\": 0}, \"values\": [[\"5000\", \"5000\", \"5000\", \"5000\", \"5000\"], [\"0.421\", \"0.421\", \"0.421\", \"0.421\", \"0.421\"], [\"15.0\", \"10.0\", \"5.0\", \"2.5\", \"1.0\"], [\"0.576\", \"0.655\", \"0.786\", \"0.917\", \"1.091\"], [\"Sample looks Gaussian (fail to reject H0)\", \"Sample looks Gaussian (fail to reject H0)\", \"Sample looks Gaussian (fail to reject H0)\", \"Sample looks Gaussian (fail to reject H0)\", \"Sample looks Gaussian (fail to reject H0)\"]]}, \"columnwidth\": [0.3, 0.25, 0.3, 0.25, 0.5], \"header\": {\"align\": \"center\", \"fill\": {\"color\": \"rgba(42,63,95,0.8)\"}, \"font\": {\"color\": \"#ffffff\", \"size\": 12}, \"line\": {\"width\": 0}, \"values\": [\"<b>Sample Size</b>\", \"<b>Statistic</b>\", \"<b>Significance Level</b>\", \"<b>Critical Value</b>\", \"<b>Comment</b>\"]}, \"type\": \"table\", \"uid\": \"28492036-c0ee-4125-945c-af4791b1ae4f\"}], {\"height\": 415, \"title\": {\"text\": \"Anderson-Darling Test\"}, \"width\": 1000}, {\"showLink\": false, \"linkText\": \"Export to plot.ly\", \"plotlyServerURL\": \"https://plot.ly\"}); \n",
       "}\n",
       "});</script>"
      ]
     },
     "metadata": {},
     "output_type": "display_data"
    }
   ],
   "source": [
    "# Normality test\n",
    "test = \"Anderson-Darling Test\"\n",
    "result = anderson(samples_r_s)\n",
    "\n",
    "# Round results\n",
    "stat = round(result.statistic, 3)\n",
    "\n",
    "# Create table\n",
    "result_mat = []\n",
    "for i in range(len(result.critical_values)):\n",
    "    sl, cv = result.significance_level[i], result.critical_values[i]\n",
    "    if result.statistic < result.critical_values[i]:\n",
    "        msg = 'Sample looks Gaussian (fail to reject H0)'\n",
    "    else:\n",
    "        msg = 'Sample does not look Gaussian (reject H0)'\n",
    "    result_mat.append([len(samples_r_s), stat, sl, cv, msg])\n",
    "\n",
    "trace = go.Table(\n",
    "    header=dict(values=['<b>Sample Size</b>', '<b>Statistic</b>', '<b>Significance Level</b>', '<b>Critical Value</b>', '<b>Comment</b>'],\n",
    "                line = dict(width=0),\n",
    "                fill = dict(color='rgba(42,63,95,0.8)'),\n",
    "                align = 'center',\n",
    "                font = dict(\n",
    "                    color = '#ffffff',\n",
    "                    size = 12\n",
    "                )),\n",
    "    cells=dict(values=np.array(result_mat).T,\n",
    "               line = dict(width=0),\n",
    "               fill = dict(color=[['#EBF0F8', '#ffffff', '#EBF0F8', '#ffffff', '#EBF0F8']]),\n",
    "               align = 'center',\n",
    "               height = 40),\n",
    "    columnwidth=[0.3, 0.25, 0.3, 0.25, 0.5])\n",
    "       \n",
    "data = [trace]\n",
    "\n",
    "layout = dict(title=test, height=415, width=1000)\n",
    "\n",
    "andar_table = dict(data=data, layout=layout)\n",
    "\n",
    "# Plot table\n",
    "iplot(andar_table)"
   ]
  },
  {
   "cell_type": "markdown",
   "metadata": {},
   "source": [
    "## 4.3 Normal Distribution using the numpy.random"
   ]
  },
  {
   "cell_type": "markdown",
   "metadata": {},
   "source": [
    "### Generate Samples"
   ]
  },
  {
   "cell_type": "code",
   "execution_count": 134,
   "metadata": {},
   "outputs": [],
   "source": [
    "# Set seed \n",
    "np.random.seed(1)\n",
    "\n",
    "tic = timeit.default_timer()\n",
    "\n",
    "# Generate n_samples samples \n",
    "samples_n_r = []\n",
    "for i in range(n_samples):\n",
    "    samples_n_r.append(np.random.normal(mu, sigma))  \n",
    "\n",
    "toc = timeit.default_timer()"
   ]
  },
  {
   "cell_type": "markdown",
   "metadata": {},
   "source": [
    "###  Histogram Plot"
   ]
  },
  {
   "cell_type": "code",
   "execution_count": 135,
   "metadata": {},
   "outputs": [
    {
     "name": "stdout",
     "output_type": "stream",
     "text": [
      "running time = 0.027, mean = 0.024, std_dev = 1.003\n"
     ]
    },
    {
     "data": {
      "image/png": "[encoded data removed]",
      "text/plain": [
       "<Figure size 432x288 with 1 Axes>"
      ]
     },
     "metadata": {
      "needs_background": "light"
     },
     "output_type": "display_data"
    }
   ],
   "source": [
    "# Plot n_samples samples\n",
    "\n",
    "sns.distplot(samples_n_r, bins=40).set_title(str(n_samples)+ \" samples using Rejection sampling\");\n",
    "\n",
    "print(\"running time = %.3f, mean = %.3f, std_dev = %.3f\" % (toc-tic, np.mean(samples_n_r), np.std(samples_n_r)));"
   ]
  },
  {
   "cell_type": "markdown",
   "metadata": {},
   "source": [
    "### QQ Plot"
   ]
  },
  {
   "cell_type": "code",
   "execution_count": 136,
   "metadata": {},
   "outputs": [
    {
     "data": {
      "image/png": "[encoded data removed]",
      "text/plain": [
       "<Figure size 720x288 with 2 Axes>"
      ]
     },
     "metadata": {
      "needs_background": "light"
     },
     "output_type": "display_data"
    }
   ],
   "source": [
    "# Plot q-q and p-p plot\n",
    "fig, ax = plt.subplots(1, 2, figsize=(10, 4))\n",
    "probplot = sm.ProbPlot(np.array(samples_n_r), dist=norm, fit=True)\n",
    "probplot.ppplot(line='45', ax=ax[0])\n",
    "probplot.qqplot(line='45', ax=ax[1])\n",
    "ax[0].set_title('P-P Plot')\n",
    "ax[1].set_title('Q-Q Plot');"
   ]
  },
  {
   "cell_type": "markdown",
   "metadata": {},
   "source": [
    "### Boxplot"
   ]
  },
  {
   "cell_type": "code",
   "execution_count": 137,
   "metadata": {},
   "outputs": [
    {
     "data": {
      "image/png": "[encoded data removed]",
      "text/plain": [
       "<Figure size 432x288 with 1 Axes>"
      ]
     },
     "metadata": {
      "needs_background": "light"
     },
     "output_type": "display_data"
    }
   ],
   "source": [
    "sns.boxplot(samples_n_r, width=4);"
   ]
  },
  {
   "cell_type": "markdown",
   "metadata": {},
   "source": [
    "### Empirical Cumulative Distribution Function Plot"
   ]
  },
  {
   "cell_type": "code",
   "execution_count": 138,
   "metadata": {},
   "outputs": [
    {
     "data": {
      "image/png": "[encoded data removed]",
      "text/plain": [
       "<Figure size 432x288 with 1 Axes>"
      ]
     },
     "metadata": {
      "needs_background": "light"
     },
     "output_type": "display_data"
    }
   ],
   "source": [
    "# Plot Empirical Cumulative Distribution vs Normal Cumulative Distribution\n",
    "x=np.linspace(-5, 5)\n",
    "\n",
    "# Plot normal cdf\n",
    "plot_normal(x, mu=mu, sigma=sigma, cdf=True, label=\"normal cdf\")\n",
    "\n",
    "# Plor ecdf\n",
    "ecdf = sm.distributions.ECDF(samples_n_r)\n",
    "ecdf = ecdf(x)\n",
    "plt.step(x, ecdf, label=\"ecdf\")\n",
    "\n",
    "plt.legend();"
   ]
  },
  {
   "cell_type": "markdown",
   "metadata": {},
   "source": [
    "### Shapiro-Wilk Test"
   ]
  },
  {
   "cell_type": "code",
   "execution_count": 139,
   "metadata": {},
   "outputs": [
    {
     "data": {
      "application/vnd.plotly.v1+json": {
       "config": {
        "linkText": "Export to plot.ly",
        "plotlyServerURL": "https://plot.ly",
        "showLink": false
       },
       "data": [
        {
         "cells": {
          "align": "center",
          "fill": {
           "color": [
            [
             "#EBF0F8",
             "#ffffff",
             "#EBF0F8",
             "#ffffff"
            ]
           ]
          },
          "height": 40,
          "line": {
           "width": 0
          },
          "values": [
           "5000",
           "1.0",
           "0.46",
           "Sample looks Gaussian (fail to reject H0)"
          ]
         },
         "columnwidth": [
          0.3,
          0.25,
          0.3,
          0.45
         ],
         "header": {
          "align": "center",
          "fill": {
           "color": "rgba(42,63,95,0.8)"
          },
          "font": {
           "color": "#ffffff",
           "size": 12
          },
          "line": {
           "width": 0
          },
          "values": [
           "<b>Sample Size</b>",
           "<b>Statistic</b>",
           "<b>p-Value</b>",
           "<b>Comment</b>"
          ]
         },
         "type": "table",
         "uid": "bf6008e5-50ac-404d-a155-5d5af8addbb4"
        }
       ],
       "layout": {
        "height": 260,
        "title": {
         "text": "Shapiro-Wilk Test"
        },
        "width": 1000
       }
      },
      "text/html": [
       "<div id=\"7d8e3826-31b9-423c-af79-270ac3e05d67\" style=\"height: 260px; width: 1000px;\" class=\"plotly-graph-div\"></div><script type=\"text/javascript\">require([\"plotly\"], function(Plotly) { window.PLOTLYENV=window.PLOTLYENV || {};window.PLOTLYENV.BASE_URL=\"https://plot.ly\";\n",
       "if (document.getElementById(\"7d8e3826-31b9-423c-af79-270ac3e05d67\")) {\n",
       "    Plotly.newPlot(\"7d8e3826-31b9-423c-af79-270ac3e05d67\", [{\"cells\": {\"align\": \"center\", \"fill\": {\"color\": [[\"#EBF0F8\", \"#ffffff\", \"#EBF0F8\", \"#ffffff\"]]}, \"height\": 40, \"line\": {\"width\": 0}, \"values\": [\"5000\", \"1.0\", \"0.46\", \"Sample looks Gaussian (fail to reject H0)\"]}, \"columnwidth\": [0.3, 0.25, 0.3, 0.45], \"header\": {\"align\": \"center\", \"fill\": {\"color\": \"rgba(42,63,95,0.8)\"}, \"font\": {\"color\": \"#ffffff\", \"size\": 12}, \"line\": {\"width\": 0}, \"values\": [\"<b>Sample Size</b>\", \"<b>Statistic</b>\", \"<b>p-Value</b>\", \"<b>Comment</b>\"]}, \"type\": \"table\", \"uid\": \"3acd69dd-9c84-4cdc-82a1-73704f1f7a09\"}], {\"height\": 260, \"title\": {\"text\": \"Shapiro-Wilk Test\"}, \"width\": 1000}, {\"showLink\": false, \"linkText\": \"Export to plot.ly\", \"plotlyServerURL\": \"https://plot.ly\"}); \n",
       "}\n",
       "});</script>"
      ],
      "text/vnd.plotly.v1+html": [
       "<div id=\"7d8e3826-31b9-423c-af79-270ac3e05d67\" style=\"height: 260px; width: 1000px;\" class=\"plotly-graph-div\"></div><script type=\"text/javascript\">require([\"plotly\"], function(Plotly) { window.PLOTLYENV=window.PLOTLYENV || {};window.PLOTLYENV.BASE_URL=\"https://plot.ly\";\n",
       "if (document.getElementById(\"7d8e3826-31b9-423c-af79-270ac3e05d67\")) {\n",
       "    Plotly.newPlot(\"7d8e3826-31b9-423c-af79-270ac3e05d67\", [{\"cells\": {\"align\": \"center\", \"fill\": {\"color\": [[\"#EBF0F8\", \"#ffffff\", \"#EBF0F8\", \"#ffffff\"]]}, \"height\": 40, \"line\": {\"width\": 0}, \"values\": [\"5000\", \"1.0\", \"0.46\", \"Sample looks Gaussian (fail to reject H0)\"]}, \"columnwidth\": [0.3, 0.25, 0.3, 0.45], \"header\": {\"align\": \"center\", \"fill\": {\"color\": \"rgba(42,63,95,0.8)\"}, \"font\": {\"color\": \"#ffffff\", \"size\": 12}, \"line\": {\"width\": 0}, \"values\": [\"<b>Sample Size</b>\", \"<b>Statistic</b>\", \"<b>p-Value</b>\", \"<b>Comment</b>\"]}, \"type\": \"table\", \"uid\": \"3acd69dd-9c84-4cdc-82a1-73704f1f7a09\"}], {\"height\": 260, \"title\": {\"text\": \"Shapiro-Wilk Test\"}, \"width\": 1000}, {\"showLink\": false, \"linkText\": \"Export to plot.ly\", \"plotlyServerURL\": \"https://plot.ly\"}); \n",
       "}\n",
       "});</script>"
      ]
     },
     "metadata": {},
     "output_type": "display_data"
    }
   ],
   "source": [
    "# Normality test\n",
    "test = \"Shapiro-Wilk Test\"\n",
    "stat, p = shapiro(samples_n_r)\n",
    "\n",
    "# Round results\n",
    "stat = round(stat, 3)\n",
    "p = round(p, 3)\n",
    "\n",
    "# Interpre results\n",
    "alpha = 0.05\n",
    "if p > alpha:\n",
    "    msg = 'Sample looks Gaussian (fail to reject H0)'\n",
    "else:\n",
    "    msg = \"Sample does not look Gaussian (reject H0)\"\n",
    "\n",
    "# Create table\n",
    "result_mat = [len(samples_n_r), stat, p, msg]\n",
    "\n",
    "trace = go.Table(\n",
    "    header=dict(values=['<b>Sample Size</b>', '<b>Statistic</b>', '<b>p-Value</b>', '<b>Comment</b>'],\n",
    "                line = dict(width=0),\n",
    "                fill = dict(color='rgba(42,63,95,0.8)'),\n",
    "                align = 'center',\n",
    "                font = dict(\n",
    "                    color = '#ffffff',\n",
    "                    size = 12\n",
    "                )),\n",
    "    cells=dict(values=np.array(result_mat).T,\n",
    "               line = dict(width=0),\n",
    "               fill = dict(color=[['#EBF0F8', '#ffffff', '#EBF0F8', '#ffffff']]),\n",
    "               align = 'center',\n",
    "               height = 40),\n",
    "    columnwidth=[0.3, 0.25, 0.3, 0.45])\n",
    "       \n",
    "data = [trace]\n",
    "\n",
    "layout = dict(title=test, height=260, width=1000)\n",
    "\n",
    "sw_table = dict(data=data, layout=layout)\n",
    "\n",
    "# Plot table\n",
    "iplot(sw_table)"
   ]
  },
  {
   "cell_type": "markdown",
   "metadata": {},
   "source": [
    "### D’Agostino’s K^2 Test"
   ]
  },
  {
   "cell_type": "code",
   "execution_count": 140,
   "metadata": {},
   "outputs": [
    {
     "data": {
      "application/vnd.plotly.v1+json": {
       "config": {
        "linkText": "Export to plot.ly",
        "plotlyServerURL": "https://plot.ly",
        "showLink": false
       },
       "data": [
        {
         "cells": {
          "align": "center",
          "fill": {
           "color": [
            [
             "#EBF0F8",
             "#ffffff",
             "#EBF0F8",
             "#ffffff"
            ]
           ]
          },
          "height": 40,
          "line": {
           "width": 0
          },
          "values": [
           "5000",
           "0.121",
           "0.941",
           "Sample looks Gaussian (fail to reject H0)"
          ]
         },
         "columnwidth": [
          0.3,
          0.25,
          0.3,
          0.45
         ],
         "header": {
          "align": "center",
          "fill": {
           "color": "rgba(42,63,95,0.8)"
          },
          "font": {
           "color": "#ffffff",
           "size": 12
          },
          "line": {
           "width": 0
          },
          "values": [
           "<b>Sample Size</b>",
           "<b>Statistic</b>",
           "<b>p-Value</b>",
           "<b>Comment</b>"
          ]
         },
         "type": "table",
         "uid": "12aa3cb2-a9cd-4242-b9cd-c98700058399"
        }
       ],
       "layout": {
        "height": 260,
        "title": {
         "text": "D’Agostino’s K^2 Test"
        },
        "width": 1000
       }
      },
      "text/html": [
       "<div id=\"9ebaa84c-75e0-43ee-bb08-d1fb0372281e\" style=\"height: 260px; width: 1000px;\" class=\"plotly-graph-div\"></div><script type=\"text/javascript\">require([\"plotly\"], function(Plotly) { window.PLOTLYENV=window.PLOTLYENV || {};window.PLOTLYENV.BASE_URL=\"https://plot.ly\";\n",
       "if (document.getElementById(\"9ebaa84c-75e0-43ee-bb08-d1fb0372281e\")) {\n",
       "    Plotly.newPlot(\"9ebaa84c-75e0-43ee-bb08-d1fb0372281e\", [{\"cells\": {\"align\": \"center\", \"fill\": {\"color\": [[\"#EBF0F8\", \"#ffffff\", \"#EBF0F8\", \"#ffffff\"]]}, \"height\": 40, \"line\": {\"width\": 0}, \"values\": [\"5000\", \"0.121\", \"0.941\", \"Sample looks Gaussian (fail to reject H0)\"]}, \"columnwidth\": [0.3, 0.25, 0.3, 0.45], \"header\": {\"align\": \"center\", \"fill\": {\"color\": \"rgba(42,63,95,0.8)\"}, \"font\": {\"color\": \"#ffffff\", \"size\": 12}, \"line\": {\"width\": 0}, \"values\": [\"<b>Sample Size</b>\", \"<b>Statistic</b>\", \"<b>p-Value</b>\", \"<b>Comment</b>\"]}, \"type\": \"table\", \"uid\": \"df4edfd5-7e25-4e30-91db-be4831955a01\"}], {\"height\": 260, \"title\": {\"text\": \"D\\u2019Agostino\\u2019s K^2 Test\"}, \"width\": 1000}, {\"showLink\": false, \"linkText\": \"Export to plot.ly\", \"plotlyServerURL\": \"https://plot.ly\"}); \n",
       "}\n",
       "});</script>"
      ],
      "text/vnd.plotly.v1+html": [
       "<div id=\"9ebaa84c-75e0-43ee-bb08-d1fb0372281e\" style=\"height: 260px; width: 1000px;\" class=\"plotly-graph-div\"></div><script type=\"text/javascript\">require([\"plotly\"], function(Plotly) { window.PLOTLYENV=window.PLOTLYENV || {};window.PLOTLYENV.BASE_URL=\"https://plot.ly\";\n",
       "if (document.getElementById(\"9ebaa84c-75e0-43ee-bb08-d1fb0372281e\")) {\n",
       "    Plotly.newPlot(\"9ebaa84c-75e0-43ee-bb08-d1fb0372281e\", [{\"cells\": {\"align\": \"center\", \"fill\": {\"color\": [[\"#EBF0F8\", \"#ffffff\", \"#EBF0F8\", \"#ffffff\"]]}, \"height\": 40, \"line\": {\"width\": 0}, \"values\": [\"5000\", \"0.121\", \"0.941\", \"Sample looks Gaussian (fail to reject H0)\"]}, \"columnwidth\": [0.3, 0.25, 0.3, 0.45], \"header\": {\"align\": \"center\", \"fill\": {\"color\": \"rgba(42,63,95,0.8)\"}, \"font\": {\"color\": \"#ffffff\", \"size\": 12}, \"line\": {\"width\": 0}, \"values\": [\"<b>Sample Size</b>\", \"<b>Statistic</b>\", \"<b>p-Value</b>\", \"<b>Comment</b>\"]}, \"type\": \"table\", \"uid\": \"df4edfd5-7e25-4e30-91db-be4831955a01\"}], {\"height\": 260, \"title\": {\"text\": \"D\\u2019Agostino\\u2019s K^2 Test\"}, \"width\": 1000}, {\"showLink\": false, \"linkText\": \"Export to plot.ly\", \"plotlyServerURL\": \"https://plot.ly\"}); \n",
       "}\n",
       "});</script>"
      ]
     },
     "metadata": {},
     "output_type": "display_data"
    }
   ],
   "source": [
    "# Normality test\n",
    "test = \"D’Agostino’s K^2 Test\"\n",
    "stat, p = normaltest(samples_n_r)\n",
    "\n",
    "# Round results\n",
    "stat = round(stat, 3)\n",
    "p = round(p, 3)\n",
    "\n",
    "# Interpre results\n",
    "alpha = 0.05\n",
    "if p > alpha:\n",
    "    msg = 'Sample looks Gaussian (fail to reject H0)'\n",
    "else:\n",
    "    msg = \"Sample does not look Gaussian (reject H0)\"\n",
    "\n",
    "# Create table\n",
    "result_mat = [len(samples_n_r), stat, p, msg]\n",
    "\n",
    "trace = go.Table(\n",
    "    header=dict(values=['<b>Sample Size</b>', '<b>Statistic</b>', '<b>p-Value</b>', '<b>Comment</b>'],\n",
    "                line = dict(width=0),\n",
    "                fill = dict(color='rgba(42,63,95,0.8)'),\n",
    "                align = 'center',\n",
    "                font = dict(\n",
    "                    color = '#ffffff',\n",
    "                    size = 12\n",
    "                )),\n",
    "    cells=dict(values=np.array(result_mat).T,\n",
    "               line = dict(width=0),\n",
    "               fill = dict(color=[['#EBF0F8', '#ffffff', '#EBF0F8', '#ffffff']]),\n",
    "               align = 'center',\n",
    "               height = 40),\n",
    "    columnwidth=[0.3, 0.25, 0.3, 0.45])\n",
    "       \n",
    "data = [trace]\n",
    "\n",
    "layout = dict(title=test, height=260, width=1000)\n",
    "\n",
    "norm_table = dict(data=data, layout=layout)\n",
    "\n",
    "# Plot table\n",
    "iplot(norm_table)"
   ]
  },
  {
   "cell_type": "markdown",
   "metadata": {},
   "source": [
    "### Jarque-Beta Test"
   ]
  },
  {
   "cell_type": "code",
   "execution_count": 141,
   "metadata": {},
   "outputs": [
    {
     "data": {
      "application/vnd.plotly.v1+json": {
       "config": {
        "linkText": "Export to plot.ly",
        "plotlyServerURL": "https://plot.ly",
        "showLink": false
       },
       "data": [
        {
         "cells": {
          "align": "center",
          "fill": {
           "color": [
            [
             "#EBF0F8",
             "#ffffff",
             "#EBF0F8",
             "#ffffff"
            ]
           ]
          },
          "height": 40,
          "line": {
           "width": 0
          },
          "values": [
           "5000",
           "0.151",
           "0.927",
           "Sample looks Gaussian (fail to reject H0)"
          ]
         },
         "columnwidth": [
          0.3,
          0.25,
          0.3,
          0.45
         ],
         "header": {
          "align": "center",
          "fill": {
           "color": "rgba(42,63,95,0.8)"
          },
          "font": {
           "color": "#ffffff",
           "size": 12
          },
          "line": {
           "width": 0
          },
          "values": [
           "<b>Sample Size</b>",
           "<b>Statistic</b>",
           "<b>p-Value</b>",
           "<b>Comment</b>"
          ]
         },
         "type": "table",
         "uid": "f4c8b628-a8c0-45b1-8ea5-8e7699179870"
        }
       ],
       "layout": {
        "height": 260,
        "title": {
         "text": "Jarque-Beta Test"
        },
        "width": 1000
       }
      },
      "text/html": [
       "<div id=\"dc0e44bf-9d77-4586-ad2e-55006f269af0\" style=\"height: 260px; width: 1000px;\" class=\"plotly-graph-div\"></div><script type=\"text/javascript\">require([\"plotly\"], function(Plotly) { window.PLOTLYENV=window.PLOTLYENV || {};window.PLOTLYENV.BASE_URL=\"https://plot.ly\";\n",
       "if (document.getElementById(\"dc0e44bf-9d77-4586-ad2e-55006f269af0\")) {\n",
       "    Plotly.newPlot(\"dc0e44bf-9d77-4586-ad2e-55006f269af0\", [{\"cells\": {\"align\": \"center\", \"fill\": {\"color\": [[\"#EBF0F8\", \"#ffffff\", \"#EBF0F8\", \"#ffffff\"]]}, \"height\": 40, \"line\": {\"width\": 0}, \"values\": [\"5000\", \"0.151\", \"0.927\", \"Sample looks Gaussian (fail to reject H0)\"]}, \"columnwidth\": [0.3, 0.25, 0.3, 0.45], \"header\": {\"align\": \"center\", \"fill\": {\"color\": \"rgba(42,63,95,0.8)\"}, \"font\": {\"color\": \"#ffffff\", \"size\": 12}, \"line\": {\"width\": 0}, \"values\": [\"<b>Sample Size</b>\", \"<b>Statistic</b>\", \"<b>p-Value</b>\", \"<b>Comment</b>\"]}, \"type\": \"table\", \"uid\": \"0b3e5e2d-4e5c-4b09-8942-48f15fd9e2f7\"}], {\"height\": 260, \"title\": {\"text\": \"Jarque-Beta Test\"}, \"width\": 1000}, {\"showLink\": false, \"linkText\": \"Export to plot.ly\", \"plotlyServerURL\": \"https://plot.ly\"}); \n",
       "}\n",
       "});</script>"
      ],
      "text/vnd.plotly.v1+html": [
       "<div id=\"dc0e44bf-9d77-4586-ad2e-55006f269af0\" style=\"height: 260px; width: 1000px;\" class=\"plotly-graph-div\"></div><script type=\"text/javascript\">require([\"plotly\"], function(Plotly) { window.PLOTLYENV=window.PLOTLYENV || {};window.PLOTLYENV.BASE_URL=\"https://plot.ly\";\n",
       "if (document.getElementById(\"dc0e44bf-9d77-4586-ad2e-55006f269af0\")) {\n",
       "    Plotly.newPlot(\"dc0e44bf-9d77-4586-ad2e-55006f269af0\", [{\"cells\": {\"align\": \"center\", \"fill\": {\"color\": [[\"#EBF0F8\", \"#ffffff\", \"#EBF0F8\", \"#ffffff\"]]}, \"height\": 40, \"line\": {\"width\": 0}, \"values\": [\"5000\", \"0.151\", \"0.927\", \"Sample looks Gaussian (fail to reject H0)\"]}, \"columnwidth\": [0.3, 0.25, 0.3, 0.45], \"header\": {\"align\": \"center\", \"fill\": {\"color\": \"rgba(42,63,95,0.8)\"}, \"font\": {\"color\": \"#ffffff\", \"size\": 12}, \"line\": {\"width\": 0}, \"values\": [\"<b>Sample Size</b>\", \"<b>Statistic</b>\", \"<b>p-Value</b>\", \"<b>Comment</b>\"]}, \"type\": \"table\", \"uid\": \"0b3e5e2d-4e5c-4b09-8942-48f15fd9e2f7\"}], {\"height\": 260, \"title\": {\"text\": \"Jarque-Beta Test\"}, \"width\": 1000}, {\"showLink\": false, \"linkText\": \"Export to plot.ly\", \"plotlyServerURL\": \"https://plot.ly\"}); \n",
       "}\n",
       "});</script>"
      ]
     },
     "metadata": {},
     "output_type": "display_data"
    }
   ],
   "source": [
    "# Normality test\n",
    "test = \"Jarque-Beta Test\"\n",
    "stat, p = stats.jarque_bera(samples_n_r)\n",
    "\n",
    "# Round results\n",
    "stat = round(stat, 3)\n",
    "p = round(p, 3)\n",
    "\n",
    "# Interpre results\n",
    "alpha = 0.05\n",
    "if p > alpha:\n",
    "    msg = 'Sample looks Gaussian (fail to reject H0)'\n",
    "else:\n",
    "    msg = \"Sample does not look Gaussian (reject H0)\"\n",
    "\n",
    "# Create table\n",
    "result_mat = [len(samples_n_r), stat, p, msg]\n",
    "\n",
    "trace = go.Table(\n",
    "    header=dict(values=['<b>Sample Size</b>', '<b>Statistic</b>', '<b>p-Value</b>', '<b>Comment</b>'],\n",
    "                line = dict(width=0),\n",
    "                fill = dict(color='rgba(42,63,95,0.8)'),\n",
    "                align = 'center',\n",
    "                font = dict(\n",
    "                    color = '#ffffff',\n",
    "                    size = 12\n",
    "                )),\n",
    "    cells=dict(values=np.array(result_mat).T,\n",
    "               line = dict(width=0),\n",
    "               fill = dict(color=[['#EBF0F8', '#ffffff', '#EBF0F8', '#ffffff']]),\n",
    "               align = 'center',\n",
    "               height = 40),\n",
    "    columnwidth=[0.3, 0.25, 0.3, 0.45])\n",
    "       \n",
    "data = [trace]\n",
    "\n",
    "layout = dict(title=test, height=260, width=1000)\n",
    "\n",
    "jb_table = dict(data=data, layout=layout)\n",
    "\n",
    "# Plot table\n",
    "iplot(jb_table)"
   ]
  },
  {
   "cell_type": "markdown",
   "metadata": {},
   "source": [
    "### Kolmogorov Smirnov Test"
   ]
  },
  {
   "cell_type": "code",
   "execution_count": 142,
   "metadata": {},
   "outputs": [
    {
     "data": {
      "application/vnd.plotly.v1+json": {
       "config": {
        "linkText": "Export to plot.ly",
        "plotlyServerURL": "https://plot.ly",
        "showLink": false
       },
       "data": [
        {
         "cells": {
          "align": "center",
          "fill": {
           "color": [
            [
             "#EBF0F8",
             "#ffffff",
             "#EBF0F8",
             "#ffffff"
            ]
           ]
          },
          "height": 40,
          "line": {
           "width": 0
          },
          "values": [
           "5000",
           "0.003",
           "0.923",
           "Sample looks Gaussian (fail to reject H0)"
          ]
         },
         "columnwidth": [
          0.3,
          0.25,
          0.3,
          0.45
         ],
         "header": {
          "align": "center",
          "fill": {
           "color": "rgba(42,63,95,0.8)"
          },
          "font": {
           "color": "#ffffff",
           "size": 12
          },
          "line": {
           "width": 0
          },
          "values": [
           "<b>Sample Size</b>",
           "<b>Statistic</b>",
           "<b>p-Value</b>",
           "<b>Comment</b>"
          ]
         },
         "type": "table",
         "uid": "4de00cd4-3401-4840-b0a6-ff282b082d73"
        }
       ],
       "layout": {
        "height": 260,
        "title": {
         "text": "Kolmogorov Smirnov Test"
        },
        "width": 1000
       }
      },
      "text/html": [
       "<div id=\"a8d9b8dd-9b01-4cd8-ad13-8580a82720f8\" style=\"height: 260px; width: 1000px;\" class=\"plotly-graph-div\"></div><script type=\"text/javascript\">require([\"plotly\"], function(Plotly) { window.PLOTLYENV=window.PLOTLYENV || {};window.PLOTLYENV.BASE_URL=\"https://plot.ly\";\n",
       "if (document.getElementById(\"a8d9b8dd-9b01-4cd8-ad13-8580a82720f8\")) {\n",
       "    Plotly.newPlot(\"a8d9b8dd-9b01-4cd8-ad13-8580a82720f8\", [{\"cells\": {\"align\": \"center\", \"fill\": {\"color\": [[\"#EBF0F8\", \"#ffffff\", \"#EBF0F8\", \"#ffffff\"]]}, \"height\": 40, \"line\": {\"width\": 0}, \"values\": [\"5000\", \"0.003\", \"0.923\", \"Sample looks Gaussian (fail to reject H0)\"]}, \"columnwidth\": [0.3, 0.25, 0.3, 0.45], \"header\": {\"align\": \"center\", \"fill\": {\"color\": \"rgba(42,63,95,0.8)\"}, \"font\": {\"color\": \"#ffffff\", \"size\": 12}, \"line\": {\"width\": 0}, \"values\": [\"<b>Sample Size</b>\", \"<b>Statistic</b>\", \"<b>p-Value</b>\", \"<b>Comment</b>\"]}, \"type\": \"table\", \"uid\": \"8a83993f-0598-4312-b48f-177e30ba0c55\"}], {\"height\": 260, \"title\": {\"text\": \"Kolmogorov Smirnov Test\"}, \"width\": 1000}, {\"showLink\": false, \"linkText\": \"Export to plot.ly\", \"plotlyServerURL\": \"https://plot.ly\"}); \n",
       "}\n",
       "});</script>"
      ],
      "text/vnd.plotly.v1+html": [
       "<div id=\"a8d9b8dd-9b01-4cd8-ad13-8580a82720f8\" style=\"height: 260px; width: 1000px;\" class=\"plotly-graph-div\"></div><script type=\"text/javascript\">require([\"plotly\"], function(Plotly) { window.PLOTLYENV=window.PLOTLYENV || {};window.PLOTLYENV.BASE_URL=\"https://plot.ly\";\n",
       "if (document.getElementById(\"a8d9b8dd-9b01-4cd8-ad13-8580a82720f8\")) {\n",
       "    Plotly.newPlot(\"a8d9b8dd-9b01-4cd8-ad13-8580a82720f8\", [{\"cells\": {\"align\": \"center\", \"fill\": {\"color\": [[\"#EBF0F8\", \"#ffffff\", \"#EBF0F8\", \"#ffffff\"]]}, \"height\": 40, \"line\": {\"width\": 0}, \"values\": [\"5000\", \"0.003\", \"0.923\", \"Sample looks Gaussian (fail to reject H0)\"]}, \"columnwidth\": [0.3, 0.25, 0.3, 0.45], \"header\": {\"align\": \"center\", \"fill\": {\"color\": \"rgba(42,63,95,0.8)\"}, \"font\": {\"color\": \"#ffffff\", \"size\": 12}, \"line\": {\"width\": 0}, \"values\": [\"<b>Sample Size</b>\", \"<b>Statistic</b>\", \"<b>p-Value</b>\", \"<b>Comment</b>\"]}, \"type\": \"table\", \"uid\": \"8a83993f-0598-4312-b48f-177e30ba0c55\"}], {\"height\": 260, \"title\": {\"text\": \"Kolmogorov Smirnov Test\"}, \"width\": 1000}, {\"showLink\": false, \"linkText\": \"Export to plot.ly\", \"plotlyServerURL\": \"https://plot.ly\"}); \n",
       "}\n",
       "});</script>"
      ]
     },
     "metadata": {},
     "output_type": "display_data"
    }
   ],
   "source": [
    "# Normality test\n",
    "test = \"Kolmogorov Smirnov Test\"\n",
    "stat, p = stats.kstest(np.array(samples_n_r),'norm', alternative = 'greater')\n",
    "\n",
    "# Round results\n",
    "stat = round(stat, 3)\n",
    "p = round(p, 3)\n",
    "\n",
    "# Interpre results\n",
    "alpha = 0.05\n",
    "if p > alpha:\n",
    "    msg = 'Sample looks Gaussian (fail to reject H0)'\n",
    "else:\n",
    "    msg = \"Sample does not look Gaussian (reject H0)\"\n",
    "\n",
    "# Create table\n",
    "result_mat = [len(samples_n_r), stat, p, msg]\n",
    "\n",
    "trace = go.Table(\n",
    "    header=dict(values=['<b>Sample Size</b>', '<b>Statistic</b>', '<b>p-Value</b>', '<b>Comment</b>'],\n",
    "                line = dict(width=0),\n",
    "                fill = dict(color='rgba(42,63,95,0.8)'),\n",
    "                align = 'center',\n",
    "                font = dict(\n",
    "                    color = '#ffffff',\n",
    "                    size = 12\n",
    "                )),\n",
    "    cells=dict(values=np.array(result_mat).T,\n",
    "               line = dict(width=0),\n",
    "               fill = dict(color=[['#EBF0F8', '#ffffff', '#EBF0F8', '#ffffff']]),\n",
    "               align = 'center',\n",
    "               height = 40),\n",
    "    columnwidth=[0.3, 0.25, 0.3, 0.45])\n",
    "       \n",
    "data = [trace]\n",
    "\n",
    "layout = dict(title=test, height=260, width=1000)\n",
    "\n",
    "ks_table = dict(data=data, layout=layout)\n",
    "\n",
    "# Plot table\n",
    "iplot(ks_table)"
   ]
  },
  {
   "cell_type": "markdown",
   "metadata": {},
   "source": [
    "### Anderson-Darling"
   ]
  },
  {
   "cell_type": "code",
   "execution_count": 143,
   "metadata": {},
   "outputs": [
    {
     "data": {
      "application/vnd.plotly.v1+json": {
       "config": {
        "linkText": "Export to plot.ly",
        "plotlyServerURL": "https://plot.ly",
        "showLink": false
       },
       "data": [
        {
         "cells": {
          "align": "center",
          "fill": {
           "color": [
            [
             "#EBF0F8",
             "#ffffff",
             "#EBF0F8",
             "#ffffff",
             "#EBF0F8"
            ]
           ]
          },
          "height": 40,
          "line": {
           "width": 0
          },
          "values": [
           [
            "5000",
            "5000",
            "5000",
            "5000",
            "5000"
           ],
           [
            "0.305",
            "0.305",
            "0.305",
            "0.305",
            "0.305"
           ],
           [
            "15.0",
            "10.0",
            "5.0",
            "2.5",
            "1.0"
           ],
           [
            "0.576",
            "0.655",
            "0.786",
            "0.917",
            "1.091"
           ],
           [
            "Sample looks Gaussian (fail to reject H0)",
            "Sample looks Gaussian (fail to reject H0)",
            "Sample looks Gaussian (fail to reject H0)",
            "Sample looks Gaussian (fail to reject H0)",
            "Sample looks Gaussian (fail to reject H0)"
           ]
          ]
         },
         "columnwidth": [
          0.3,
          0.25,
          0.3,
          0.25,
          0.5
         ],
         "header": {
          "align": "center",
          "fill": {
           "color": "rgba(42,63,95,0.8)"
          },
          "font": {
           "color": "#ffffff",
           "size": 12
          },
          "line": {
           "width": 0
          },
          "values": [
           "<b>Sample Size</b>",
           "<b>Statistic</b>",
           "<b>Significance Level</b>",
           "<b>Critical Value</b>",
           "<b>Comment</b>"
          ]
         },
         "type": "table",
         "uid": "cb01ddad-9d86-47ae-848d-23588bdb7bb2"
        }
       ],
       "layout": {
        "height": 415,
        "title": {
         "text": "Anderson-Darling Test"
        },
        "width": 1000
       }
      },
      "text/html": [
       "<div id=\"425ce2aa-053c-491d-9d91-0af7d41f9fd6\" style=\"height: 415px; width: 1000px;\" class=\"plotly-graph-div\"></div><script type=\"text/javascript\">require([\"plotly\"], function(Plotly) { window.PLOTLYENV=window.PLOTLYENV || {};window.PLOTLYENV.BASE_URL=\"https://plot.ly\";\n",
       "if (document.getElementById(\"425ce2aa-053c-491d-9d91-0af7d41f9fd6\")) {\n",
       "    Plotly.newPlot(\"425ce2aa-053c-491d-9d91-0af7d41f9fd6\", [{\"cells\": {\"align\": \"center\", \"fill\": {\"color\": [[\"#EBF0F8\", \"#ffffff\", \"#EBF0F8\", \"#ffffff\", \"#EBF0F8\"]]}, \"height\": 40, \"line\": {\"width\": 0}, \"values\": [[\"5000\", \"5000\", \"5000\", \"5000\", \"5000\"], [\"0.305\", \"0.305\", \"0.305\", \"0.305\", \"0.305\"], [\"15.0\", \"10.0\", \"5.0\", \"2.5\", \"1.0\"], [\"0.576\", \"0.655\", \"0.786\", \"0.917\", \"1.091\"], [\"Sample looks Gaussian (fail to reject H0)\", \"Sample looks Gaussian (fail to reject H0)\", \"Sample looks Gaussian (fail to reject H0)\", \"Sample looks Gaussian (fail to reject H0)\", \"Sample looks Gaussian (fail to reject H0)\"]]}, \"columnwidth\": [0.3, 0.25, 0.3, 0.25, 0.5], \"header\": {\"align\": \"center\", \"fill\": {\"color\": \"rgba(42,63,95,0.8)\"}, \"font\": {\"color\": \"#ffffff\", \"size\": 12}, \"line\": {\"width\": 0}, \"values\": [\"<b>Sample Size</b>\", \"<b>Statistic</b>\", \"<b>Significance Level</b>\", \"<b>Critical Value</b>\", \"<b>Comment</b>\"]}, \"type\": \"table\", \"uid\": \"8b9f1699-0dae-485d-8063-a2c3c4a8d897\"}], {\"height\": 415, \"title\": {\"text\": \"Anderson-Darling Test\"}, \"width\": 1000}, {\"showLink\": false, \"linkText\": \"Export to plot.ly\", \"plotlyServerURL\": \"https://plot.ly\"}); \n",
       "}\n",
       "});</script>"
      ],
      "text/vnd.plotly.v1+html": [
       "<div id=\"425ce2aa-053c-491d-9d91-0af7d41f9fd6\" style=\"height: 415px; width: 1000px;\" class=\"plotly-graph-div\"></div><script type=\"text/javascript\">require([\"plotly\"], function(Plotly) { window.PLOTLYENV=window.PLOTLYENV || {};window.PLOTLYENV.BASE_URL=\"https://plot.ly\";\n",
       "if (document.getElementById(\"425ce2aa-053c-491d-9d91-0af7d41f9fd6\")) {\n",
       "    Plotly.newPlot(\"425ce2aa-053c-491d-9d91-0af7d41f9fd6\", [{\"cells\": {\"align\": \"center\", \"fill\": {\"color\": [[\"#EBF0F8\", \"#ffffff\", \"#EBF0F8\", \"#ffffff\", \"#EBF0F8\"]]}, \"height\": 40, \"line\": {\"width\": 0}, \"values\": [[\"5000\", \"5000\", \"5000\", \"5000\", \"5000\"], [\"0.305\", \"0.305\", \"0.305\", \"0.305\", \"0.305\"], [\"15.0\", \"10.0\", \"5.0\", \"2.5\", \"1.0\"], [\"0.576\", \"0.655\", \"0.786\", \"0.917\", \"1.091\"], [\"Sample looks Gaussian (fail to reject H0)\", \"Sample looks Gaussian (fail to reject H0)\", \"Sample looks Gaussian (fail to reject H0)\", \"Sample looks Gaussian (fail to reject H0)\", \"Sample looks Gaussian (fail to reject H0)\"]]}, \"columnwidth\": [0.3, 0.25, 0.3, 0.25, 0.5], \"header\": {\"align\": \"center\", \"fill\": {\"color\": \"rgba(42,63,95,0.8)\"}, \"font\": {\"color\": \"#ffffff\", \"size\": 12}, \"line\": {\"width\": 0}, \"values\": [\"<b>Sample Size</b>\", \"<b>Statistic</b>\", \"<b>Significance Level</b>\", \"<b>Critical Value</b>\", \"<b>Comment</b>\"]}, \"type\": \"table\", \"uid\": \"8b9f1699-0dae-485d-8063-a2c3c4a8d897\"}], {\"height\": 415, \"title\": {\"text\": \"Anderson-Darling Test\"}, \"width\": 1000}, {\"showLink\": false, \"linkText\": \"Export to plot.ly\", \"plotlyServerURL\": \"https://plot.ly\"}); \n",
       "}\n",
       "});</script>"
      ]
     },
     "metadata": {},
     "output_type": "display_data"
    }
   ],
   "source": [
    "# Normality test\n",
    "test = \"Anderson-Darling Test\"\n",
    "result = anderson(samples_n_r)\n",
    "\n",
    "# Round results\n",
    "stat = round(result.statistic, 3)\n",
    "\n",
    "# Create table\n",
    "result_mat = []\n",
    "for i in range(len(result.critical_values)):\n",
    "    sl, cv = result.significance_level[i], result.critical_values[i]\n",
    "    if result.statistic < result.critical_values[i]:\n",
    "        msg = 'Sample looks Gaussian (fail to reject H0)'\n",
    "    else:\n",
    "        msg = 'Sample does not look Gaussian (reject H0)'\n",
    "    result_mat.append([len(samples_n_r), stat, sl, cv, msg])\n",
    "\n",
    "trace = go.Table(\n",
    "    header=dict(values=['<b>Sample Size</b>', '<b>Statistic</b>', '<b>Significance Level</b>', '<b>Critical Value</b>', '<b>Comment</b>'],\n",
    "                line = dict(width=0),\n",
    "                fill = dict(color='rgba(42,63,95,0.8)'),\n",
    "                align = 'center',\n",
    "                font = dict(\n",
    "                    color = '#ffffff',\n",
    "                    size = 12\n",
    "                )),\n",
    "    cells=dict(values=np.array(result_mat).T,\n",
    "               line = dict(width=0),\n",
    "               fill = dict(color=[['#EBF0F8', '#ffffff', '#EBF0F8', '#ffffff', '#EBF0F8']]),\n",
    "               align = 'center',\n",
    "               height = 40),\n",
    "    columnwidth=[0.3, 0.25, 0.3, 0.25, 0.5])\n",
    "       \n",
    "data = [trace]\n",
    "\n",
    "layout = dict(title=test, height=415, width=1000)\n",
    "\n",
    "andar_table = dict(data=data, layout=layout)\n",
    "\n",
    "# Plot table\n",
    "iplot(andar_table)"
   ]
  }
 ],
 "metadata": {
  "kernelspec": {
   "display_name": "Python 3",
   "language": "python",
   "name": "python3"
  },
  "language_info": {
   "codemirror_mode": {
    "name": "ipython",
    "version": 3
   },
   "file_extension": ".py",
   "mimetype": "text/x-python",
   "name": "python",
   "nbconvert_exporter": "python",
   "pygments_lexer": "ipython3",
   "version": "3.6.6"
  }
 },
 "nbformat": 4,
 "nbformat_minor": 2
}
