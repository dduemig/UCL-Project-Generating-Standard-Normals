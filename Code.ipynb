{
 "cells": [
  {
   "cell_type": "markdown",
   "metadata": {},
   "source": [
    "# 1. Import Libraries"
   ]
  },
  {
   "cell_type": "code",
   "execution_count": 6,
   "metadata": {},
   "outputs": [
    {
     "data": {
      "text/html": [
       "<script type=\"text/javascript\">window.PlotlyConfig = {MathJaxConfig: 'local'};</script><script type=\"text/javascript\">if (window.MathJax) {MathJax.Hub.Config({SVG: {font: \"STIX-Web\"}});}</script><script>requirejs.config({paths: { 'plotly': ['https://cdn.plot.ly/plotly-latest.min']},});if(!window._Plotly) {require(['plotly'],function(plotly) {window._Plotly=plotly;});}</script>"
      ],
      "text/vnd.plotly.v1+html": [
       "<script type=\"text/javascript\">window.PlotlyConfig = {MathJaxConfig: 'local'};</script><script type=\"text/javascript\">if (window.MathJax) {MathJax.Hub.Config({SVG: {font: \"STIX-Web\"}});}</script><script>requirejs.config({paths: { 'plotly': ['https://cdn.plot.ly/plotly-latest.min']},});if(!window._Plotly) {require(['plotly'],function(plotly) {window._Plotly=plotly;});}</script>"
      ]
     },
     "metadata": {},
     "output_type": "display_data"
    }
   ],
   "source": [
    "# Math\n",
    "import numpy as np \n",
    "from numpy import random, sqrt, log, sin, cos, pi\n",
    "import math\n",
    "\n",
    "# Running time\n",
    "import timeit\n",
    "\n",
    "# Statistics\n",
    "from scipy.stats import norm\n",
    "from scipy import stats\n",
    "import scipy.stats\n",
    "\n",
    "#Statistical tests\n",
    "from scipy.stats import shapiro\n",
    "from scipy.stats import normaltest\n",
    "from scipy.stats import anderson\n",
    "import statsmodels.api as sm\n",
    "import scipy.stats as ss\n",
    "\n",
    "# Plotting\n",
    "from statsmodels.graphics.gofplots import qqplot\n",
    "import matplotlib.pyplot as plt\n",
    "from pylab import show,hist,subplot,figure\n",
    "import seaborn as sns\n",
    "import plotly as py\n",
    "import plotly.graph_objs as go\n",
    "py.offline.init_notebook_mode(connected=True)"
   ]
  },
  {
   "cell_type": "markdown",
   "metadata": {},
   "source": [
    "# 2. Define functions"
   ]
  },
  {
   "cell_type": "code",
   "execution_count": 7,
   "metadata": {},
   "outputs": [],
   "source": [
    "# Generating standard uniform random numbers\n",
    "def rng(m=2**32, a=1103515245, c=12345):\n",
    "    rng.current = (a*rng.current + c) % m\n",
    "    return rng.current/m\n",
    "\n",
    "# Inverse Transformation Sampling\n",
    "def sample_normal_inverse_transform(mu, sigma):\n",
    "    \"\"\"Sample from a normal distribution using Inverse Sampling Transformation.\"\"\"\n",
    "    # Generate a uniform random variable\n",
    "    u = np.random.uniform(0, 1)\n",
    "    # Calculating the inverse cdf at u for the given normal distribution\n",
    "    # with mean mu and standard deviation sigma   \n",
    "    x = norm.ppf(u, loc=mu, scale=sigma)\n",
    "    return x\n",
    "\n",
    "# Box-Muller Transformation (standard normal distribution)\n",
    "def sample_normal_boxmuller(u1,u2):\n",
    "  z1 = np.sqrt(-2*np.log(u1))*np.cos(2*np.pi*u2)\n",
    "  z2 = np.sqrt(-2*np.log(u1))*np.sin(2*np.pi*u2)\n",
    "  return z1,z2\n",
    "\n",
    "# Box-Muller Transformation (normal distribution with any mean and standard deviation)\n",
    "def sample_normal_boxmuller_adj(mu, sigma):\n",
    "    \"\"\"Sample from a normal distribution using Box-Muller method.\"\"\"\n",
    "    # Two uniform random variables\n",
    "    u = np.random.uniform(0, 1, 2)\n",
    "    # Box-Muller formula returns sample from STANDARD normal distribution\n",
    "    x = math.cos(2*np.pi*u[0]) * math.sqrt(-2*math.log(u[1])) \n",
    "    return mu + sigma * x\n",
    "\n",
    "# Rejection Sampling\n",
    "def sample_normal_rejection(mu, sigma):\n",
    "    \"\"\"Sample from a normal distribution using rejection sampling.\"\"\"\n",
    "    # Length of interval from wich samples are drawn\n",
    "    interval = 5*sigma\n",
    "    # Maximum value of the pdf of the desired normal distribution\n",
    "    max_density = scipy.stats.norm(mu,sigma).pdf(mu)\n",
    "    # Rejection loop\n",
    "    while True:\n",
    "        x = np.random.uniform(mu - interval, mu + interval, 1)[0] \n",
    "        y = np.random.uniform(0, max_density, 1)\n",
    "        if y <= scipy.stats.norm(mu, sigma).pdf(x):\n",
    "            break \n",
    "    return x\n",
    "\n",
    "# Plot normal distribution\n",
    "def plot_normal(x_range, mu=0, sigma=1, cdf=False, **kwargs):\n",
    "    '''\n",
    "    Plots the normal distribution function for a given x range\n",
    "    If mu and sigma are not provided, standard normal is plotted\n",
    "    If cdf=True cumulative distribution is plotted\n",
    "    Passes any keyword arguments to matplotlib plot function\n",
    "    '''\n",
    "    x = x_range\n",
    "    if cdf:\n",
    "        y = ss.norm.cdf(x, mu, sigma)\n",
    "    else:\n",
    "        y = ss.norm.pdf(x, mu, sigma)\n",
    "    plt.plot(x, y, **kwargs)"
   ]
  },
  {
   "cell_type": "markdown",
   "metadata": {},
   "source": [
    "# 3.1 Pseudorandom number generators"
   ]
  },
  {
   "cell_type": "markdown",
   "metadata": {},
   "source": [
    "While pseudorandom numbers are generated by a deterministic algorithm, we can usually treat them as if they were real random numbers and thus we can drop the prefix \"pseudo\".\n",
    "\n",
    "Basically, the algorithm generates random integers, which are then normalized to obtain a floating point number from the standard uniform distribution.\n",
    "\n",
    "\n",
    "Random numbers from other distributions are in turn generated with these uniform random deviates, either using general (inverse transformation, accept/reject) or special ad hoc methods (e.g. Box-Muller)."
   ]
  },
  {
   "cell_type": "markdown",
   "metadata": {},
   "source": [
    "# 3.2 Generating standard uniform random numbers"
   ]
  },
  {
   "cell_type": "markdown",
   "metadata": {},
   "source": [
    "Linear congruential generators (LCG)\n",
    "\n",
    "$ z_{i+1} = (az_{i}+c) \\ mod \\ m  $\n",
    "\n",
    "Hull-Dobell Theorem: The LCG will have a full period for all seeds if and only if\n",
    "\n",
    "c and m are relatively prime, <br>\n",
    "a−1 is divisible by all prime factors of m <br>\n",
    "a−1 is a multiple of 4 if m is a multiple of 4. <br>\n",
    "\n",
    "The number $ z_{0}$ is called the seed, and setting it allows us to obtain a reproducible sequence of “random” numbers.\n",
    "\n",
    "The LCG is typically coded to return z/m, a floating point number in (0, 1). This can be scaled to any other range (a,b). \n",
    "\n",
    "Most pseudorandom number generators today use the Mersenne Twister, but the LCG is presented because the LCG code is much easier to understand and sufficient for our purposes. "
   ]
  },
  {
   "cell_type": "markdown",
   "metadata": {},
   "source": [
    "### Generate Samples"
   ]
  },
  {
   "cell_type": "code",
   "execution_count": 8,
   "metadata": {},
   "outputs": [],
   "source": [
    "# Set seed \n",
    "rng.current = 1\n",
    "\n",
    "tic = timeit.default_timer()\n",
    "\n",
    "n_samples = 5000\n",
    "\n",
    "# Generate n_samples samples \n",
    "samples_uniform = []\n",
    "for i in range(n_samples):\n",
    "    samples_uniform.append(rng())  \n",
    "\n",
    "toc = timeit.default_timer()"
   ]
  },
  {
   "cell_type": "markdown",
   "metadata": {},
   "source": [
    "###  Histogram Plot"
   ]
  },
  {
   "cell_type": "code",
   "execution_count": 9,
   "metadata": {},
   "outputs": [
    {
     "name": "stdout",
     "output_type": "stream",
     "text": [
      "running time = 0.004, mean = 0.504, std_dev = 0.288\n"
     ]
    },
    {
     "data": {
      "image/png": "[encoded data removed]",
      "text/plain": [
       "<Figure size 432x288 with 1 Axes>"
      ]
     },
     "metadata": {
      "needs_background": "light"
     },
     "output_type": "display_data"
    }
   ],
   "source": [
    "# Plot n_samples samples \n",
    "\n",
    "sns.distplot(samples_uniform, bins=40).set_title(str(n_samples)+ \" samples using Rejection sampling\");\n",
    "\n",
    "print(\"running time = %.3f, mean = %.3f, std_dev = %.3f\" % (toc-tic, np.mean(samples_uniform), np.std(samples_uniform)));"
   ]
  },
  {
   "cell_type": "markdown",
   "metadata": {},
   "source": [
    "# 4. Generate normally distributed numbers (with any mu and sigma)"
   ]
  },
  {
   "cell_type": "markdown",
   "metadata": {},
   "source": [
    "### Parameter"
   ]
  },
  {
   "cell_type": "code",
   "execution_count": 10,
   "metadata": {},
   "outputs": [],
   "source": [
    "mu = 0\n",
    "sigma = 1\n",
    "n_samples = 5000"
   ]
  },
  {
   "cell_type": "markdown",
   "metadata": {},
   "source": [
    "## 4.1 Inverse Sampling Transformation"
   ]
  },
  {
   "cell_type": "markdown",
   "metadata": {},
   "source": [
    "Once we have standard uniform numbers, we can generate random numbers from other distribution using the inverse transform method. \n",
    "\n",
    "If X is a continuous random variable with CDF $F_{x}$, then Y=$F_{x}$(X) has the standard uniform distribution. \n",
    "\n",
    "Inverting this suggests that if Y comes from a standard uniform distribution, then $F_{x}^{-1}(Y)$ has the same distribution as X. "
   ]
  },
  {
   "cell_type": "markdown",
   "metadata": {},
   "source": [
    "### Generate samples"
   ]
  },
  {
   "cell_type": "code",
   "execution_count": 11,
   "metadata": {},
   "outputs": [],
   "source": [
    "# Generate n_samples samples \n",
    "\n",
    "tic = timeit.default_timer()\n",
    "\n",
    "samples_i_t = []\n",
    "for i in range(n_samples):\n",
    "    samples_i_t.append(sample_normal_inverse_transform(mu, sigma)) \n",
    "    \n",
    "toc = timeit.default_timer()"
   ]
  },
  {
   "cell_type": "markdown",
   "metadata": {},
   "source": [
    "###  Histogram Plot\n",
    "One simple and frequently used graphical representation to check whether our data sample is normally distributed is the histogram. A Gaussian distribution is indicated when the histogram shows the well-known bell shape."
   ]
  },
  {
   "cell_type": "code",
   "execution_count": 12,
   "metadata": {},
   "outputs": [
    {
     "name": "stdout",
     "output_type": "stream",
     "text": [
      "running time = 0.848, mean = 0.024, std_dev = 0.996\n"
     ]
    },
    {
     "data": {
      "image/png": "[encoded data removed]",
      "text/plain": [
       "<Figure size 432x288 with 1 Axes>"
      ]
     },
     "metadata": {
      "needs_background": "light"
     },
     "output_type": "display_data"
    }
   ],
   "source": [
    "# Plot histogram\n",
    "\n",
    "sns.distplot(samples_i_t, bins=40).set_title(str(n_samples)+ ' samples using inverse transform')\n",
    "\n",
    "print(\"running time = %.3f, mean = %.3f, std_dev = %.3f\" % (toc-tic, np.mean(samples_i_t), np.std(samples_i_t)));"
   ]
  },
  {
   "cell_type": "markdown",
   "metadata": {},
   "source": [
    "### Q-Q Plot and P-P Plot\n",
    "The quantile-quantile plot, or **Q-Q plot** for short, is another graphical method we use to determine whether our data sample cames from the normal distribution. A Q-Q plot is a scatterplot created by plotting the quantiles of the sample distribution and the quantiles of the theoretical distribution against each other. The resulting points are displayed with the theoretical value on the x-axis and the data sample on the y-axis. If both sets of quantiles came from the same distribution, we should observe a line of points at an angle of 45 degrees from the bottom left to the top right.\n",
    "\n",
    "The probability-probability plot, or **P-P plot** for short, is a probability plot that can be used to assess how closely our data sample agrees with the normal distribution. It plots the empirical cumulative distribution function and the theoretical cumulative distribution function against each other. If we can observe a straight line, then our data sample contains no outliers and the assumption that it comes from a normal distribution is considered fulfilled."
   ]
  },
  {
   "cell_type": "code",
   "execution_count": 13,
   "metadata": {},
   "outputs": [
    {
     "data": {
      "image/png": "[encoded data removed]",
      "text/plain": [
       "<Figure size 720x288 with 2 Axes>"
      ]
     },
     "metadata": {
      "needs_background": "light"
     },
     "output_type": "display_data"
    }
   ],
   "source": [
    "# Plot q-q and p-p plot\n",
    "fig, ax = plt.subplots(1, 2, figsize=(10, 4))\n",
    "probplot = sm.ProbPlot(np.array(samples_i_t), dist=norm, fit=True)\n",
    "probplot.ppplot(line='45', ax=ax[0])\n",
    "probplot.qqplot(line='45', ax=ax[1])\n",
    "ax[0].set_title('P-P Plot')\n",
    "ax[1].set_title('Q-Q Plot');"
   ]
  },
  {
   "cell_type": "markdown",
   "metadata": {},
   "source": [
    "### Boxplot\n",
    "If our data sample is drawn from a Gaussian distribution, the box will be symmetrical with the mean and median in the center. Moreover, if the data sample corresponds to the assumption of normality, we should observe only a few outliers."
   ]
  },
  {
   "cell_type": "code",
   "execution_count": 14,
   "metadata": {},
   "outputs": [
    {
     "data": {
      "image/png": "[encoded data removed]",
      "text/plain": [
       "<Figure size 432x288 with 1 Axes>"
      ]
     },
     "metadata": {
      "needs_background": "light"
     },
     "output_type": "display_data"
    }
   ],
   "source": [
    "# Plot boxplot plot\n",
    "sns.boxplot(samples_i_t, width=4);"
   ]
  },
  {
   "cell_type": "markdown",
   "metadata": {},
   "source": [
    "### Empirical Cumulative Distribution Function Plot\n",
    "An empirical CDF plot has a similar function to a P-P plot. However, unlike a probability plot, the empirical CDF plot has scales that are not transformed, and the fitted distribution does not form a straight line, but an S-shaped curve under normality. The empirical cumulative probabilities close to this S-shaped curve fulfill the normality assumption."
   ]
  },
  {
   "cell_type": "code",
   "execution_count": 15,
   "metadata": {},
   "outputs": [
    {
     "data": {
      "image/png": "[encoded data removed]",
      "text/plain": [
       "<Figure size 432x288 with 1 Axes>"
      ]
     },
     "metadata": {
      "needs_background": "light"
     },
     "output_type": "display_data"
    }
   ],
   "source": [
    "# Plot Empirical Cumulative Distribution vs Normal Cumulative Distribution\n",
    "x=np.linspace(-5, 5)\n",
    "\n",
    "# Plot normal cdf\n",
    "plot_normal(x, mu=mu, sigma=sigma, cdf=True, label=\"normal cdf\")\n",
    "\n",
    "# Plor ecdf\n",
    "ecdf = sm.distributions.ECDF(samples_i_t)\n",
    "ecdf = ecdf(x)\n",
    "plt.step(x, ecdf, label=\"ecdf\")\n",
    "\n",
    "plt.legend();"
   ]
  },
  {
   "cell_type": "markdown",
   "metadata": {},
   "source": [
    "### Shapiro-Wilk Test\n",
    "The Shapiro-Wilk test was developed by Samuel Shapiro and Martin Wilk and first presented in 1965. The test verifies the hypothesis that the underlying population of a data sample is normally distributed. More precisely, for the nominator the test statistic calculates what the variance of a data sample would look like if it came from a normal distribution (first estimator) and compares this \"expected\" variance with the actual variance of the data sample for the denominator (second estimator). If the population of the data sample is normally distributed, then both estimators for the variance should be approximately the same."
   ]
  },
  {
   "cell_type": "code",
   "execution_count": 16,
   "metadata": {},
   "outputs": [
    {
     "data": {
      "application/vnd.plotly.v1+json": {
       "config": {
        "linkText": "Export to plot.ly",
        "plotlyServerURL": "https://plot.ly",
        "showLink": false
       },
       "data": [
        {
         "cells": {
          "align": "center",
          "fill": {
           "color": [
            [
             "#EBF0F8",
             "#ffffff",
             "#EBF0F8",
             "#ffffff"
            ]
           ]
          },
          "height": 40,
          "line": {
           "width": 0
          },
          "values": [
           "5000",
           "1.0",
           "0.8",
           "Sample looks Gaussian (fail to reject H0)"
          ]
         },
         "columnwidth": [
          0.3,
          0.25,
          0.3,
          0.45
         ],
         "header": {
          "align": "center",
          "fill": {
           "color": "rgba(42,63,95,0.8)"
          },
          "font": {
           "color": "#ffffff",
           "size": 12
          },
          "line": {
           "width": 0
          },
          "values": [
           "<b>Sample Size</b>",
           "<b>Statistic</b>",
           "<b>p-Value</b>",
           "<b>Comment</b>"
          ]
         },
         "type": "table",
         "uid": "406c25ed-e788-43e5-8a82-59c4aef18543"
        }
       ],
       "layout": {
        "height": 260,
        "title": {
         "text": "Shapiro-Wilk Test"
        },
        "width": 1000
       }
      },
      "text/html": [
       "<div id=\"6a972341-c9ef-4dae-9204-d07152cc5e07\" style=\"height: 260px; width: 1000px;\" class=\"plotly-graph-div\"></div><script type=\"text/javascript\">require([\"plotly\"], function(Plotly) { window.PLOTLYENV=window.PLOTLYENV || {};window.PLOTLYENV.BASE_URL=\"https://plot.ly\";\n",
       "if (document.getElementById(\"6a972341-c9ef-4dae-9204-d07152cc5e07\")) {\n",
       "    Plotly.newPlot(\"6a972341-c9ef-4dae-9204-d07152cc5e07\", [{\"cells\": {\"align\": \"center\", \"fill\": {\"color\": [[\"#EBF0F8\", \"#ffffff\", \"#EBF0F8\", \"#ffffff\"]]}, \"height\": 40, \"line\": {\"width\": 0}, \"values\": [\"5000\", \"1.0\", \"0.8\", \"Sample looks Gaussian (fail to reject H0)\"]}, \"columnwidth\": [0.3, 0.25, 0.3, 0.45], \"header\": {\"align\": \"center\", \"fill\": {\"color\": \"rgba(42,63,95,0.8)\"}, \"font\": {\"color\": \"#ffffff\", \"size\": 12}, \"line\": {\"width\": 0}, \"values\": [\"<b>Sample Size</b>\", \"<b>Statistic</b>\", \"<b>p-Value</b>\", \"<b>Comment</b>\"]}, \"type\": \"table\", \"uid\": \"0b6d9d99-5e06-40c9-9c40-3872e6e52c9b\"}], {\"height\": 260, \"title\": {\"text\": \"Shapiro-Wilk Test\"}, \"width\": 1000}, {\"showLink\": false, \"linkText\": \"Export to plot.ly\", \"plotlyServerURL\": \"https://plot.ly\"}); \n",
       "}\n",
       "});</script>"
      ],
      "text/vnd.plotly.v1+html": [
       "<div id=\"6a972341-c9ef-4dae-9204-d07152cc5e07\" style=\"height: 260px; width: 1000px;\" class=\"plotly-graph-div\"></div><script type=\"text/javascript\">require([\"plotly\"], function(Plotly) { window.PLOTLYENV=window.PLOTLYENV || {};window.PLOTLYENV.BASE_URL=\"https://plot.ly\";\n",
       "if (document.getElementById(\"6a972341-c9ef-4dae-9204-d07152cc5e07\")) {\n",
       "    Plotly.newPlot(\"6a972341-c9ef-4dae-9204-d07152cc5e07\", [{\"cells\": {\"align\": \"center\", \"fill\": {\"color\": [[\"#EBF0F8\", \"#ffffff\", \"#EBF0F8\", \"#ffffff\"]]}, \"height\": 40, \"line\": {\"width\": 0}, \"values\": [\"5000\", \"1.0\", \"0.8\", \"Sample looks Gaussian (fail to reject H0)\"]}, \"columnwidth\": [0.3, 0.25, 0.3, 0.45], \"header\": {\"align\": \"center\", \"fill\": {\"color\": \"rgba(42,63,95,0.8)\"}, \"font\": {\"color\": \"#ffffff\", \"size\": 12}, \"line\": {\"width\": 0}, \"values\": [\"<b>Sample Size</b>\", \"<b>Statistic</b>\", \"<b>p-Value</b>\", \"<b>Comment</b>\"]}, \"type\": \"table\", \"uid\": \"0b6d9d99-5e06-40c9-9c40-3872e6e52c9b\"}], {\"height\": 260, \"title\": {\"text\": \"Shapiro-Wilk Test\"}, \"width\": 1000}, {\"showLink\": false, \"linkText\": \"Export to plot.ly\", \"plotlyServerURL\": \"https://plot.ly\"}); \n",
       "}\n",
       "});</script>"
      ]
     },
     "metadata": {},
     "output_type": "display_data"
    }
   ],
   "source": [
    "# Normality test\n",
    "test = \"Shapiro-Wilk Test\"\n",
    "stat, p = shapiro(samples_i_t)\n",
    "\n",
    "# Round results\n",
    "stat = round(stat, 3)\n",
    "p = round(p, 3)\n",
    "\n",
    "# Interpre results\n",
    "alpha = 0.05\n",
    "if p > alpha:\n",
    "    msg = 'Sample looks Gaussian (fail to reject H0)'\n",
    "else:\n",
    "    msg = \"Sample does not look Gaussian (reject H0)\"\n",
    "\n",
    "# Create table\n",
    "result_mat = [len(samples_i_t), stat, p, msg]\n",
    "\n",
    "trace = go.Table(\n",
    "    header=dict(values=['<b>Sample Size</b>', '<b>Statistic</b>', '<b>p-Value</b>', '<b>Comment</b>'],\n",
    "                line = dict(width=0),\n",
    "                fill = dict(color='rgba(42,63,95,0.8)'),\n",
    "                align = 'center',\n",
    "                font = dict(\n",
    "                    color = '#ffffff',\n",
    "                    size = 12\n",
    "                )),\n",
    "    cells=dict(values=np.array(result_mat).T,\n",
    "               line = dict(width=0),\n",
    "               fill = dict(color=[['#EBF0F8', '#ffffff', '#EBF0F8', '#ffffff']]),\n",
    "               align = 'center',\n",
    "               height = 40),\n",
    "    columnwidth=[0.3, 0.25, 0.3, 0.45])\n",
    "       \n",
    "data = [trace]\n",
    "\n",
    "layout = dict(title=test, height=260, width=1000)\n",
    "\n",
    "sw_table = dict(data=data, layout=layout)\n",
    "\n",
    "# Plot table\n",
    "py.offline.iplot(sw_table,  filename='jupyter-parametric_plot')"
   ]
  },
  {
   "cell_type": "markdown",
   "metadata": {},
   "source": [
    "### D’Agostino’s K^2 Test\n",
    "The D’Agostino-Pearson Omnibus Test (1973) computes summary statistics from the sample data to determine whether the data distribution deviates from the Gaussian distribution. Specifically, it first calculates the skewness and kurtosis to quantify how far the sample distribution deviates from the normal distribution in terms of asymmetry and shape. It then calculates to what extent each of these values differs from the value expected for a Gaussian distribution and calculates a single P value from the sum of these deviations."
   ]
  },
  {
   "cell_type": "code",
   "execution_count": 17,
   "metadata": {},
   "outputs": [
    {
     "data": {
      "application/vnd.plotly.v1+json": {
       "config": {
        "linkText": "Export to plot.ly",
        "plotlyServerURL": "https://plot.ly",
        "showLink": false
       },
       "data": [
        {
         "cells": {
          "align": "center",
          "fill": {
           "color": [
            [
             "#EBF0F8",
             "#ffffff",
             "#EBF0F8",
             "#ffffff"
            ]
           ]
          },
          "height": 40,
          "line": {
           "width": 0
          },
          "values": [
           "5000",
           "0.665",
           "0.717",
           "Sample looks Gaussian (fail to reject H0)"
          ]
         },
         "columnwidth": [
          0.3,
          0.25,
          0.3,
          0.45
         ],
         "header": {
          "align": "center",
          "fill": {
           "color": "rgba(42,63,95,0.8)"
          },
          "font": {
           "color": "#ffffff",
           "size": 12
          },
          "line": {
           "width": 0
          },
          "values": [
           "<b>Sample Size</b>",
           "<b>Statistic</b>",
           "<b>p-Value</b>",
           "<b>Comment</b>"
          ]
         },
         "type": "table",
         "uid": "bb4a88da-c7e9-4e26-a6c8-01b4cca3925a"
        }
       ],
       "layout": {
        "height": 260,
        "title": {
         "text": "D’Agostino’s K^2 Test"
        },
        "width": 1000
       }
      },
      "text/html": [
       "<div id=\"115f7c4f-f93e-40db-a9f0-4eed75d26885\" style=\"height: 260px; width: 1000px;\" class=\"plotly-graph-div\"></div><script type=\"text/javascript\">require([\"plotly\"], function(Plotly) { window.PLOTLYENV=window.PLOTLYENV || {};window.PLOTLYENV.BASE_URL=\"https://plot.ly\";\n",
       "if (document.getElementById(\"115f7c4f-f93e-40db-a9f0-4eed75d26885\")) {\n",
       "    Plotly.newPlot(\"115f7c4f-f93e-40db-a9f0-4eed75d26885\", [{\"cells\": {\"align\": \"center\", \"fill\": {\"color\": [[\"#EBF0F8\", \"#ffffff\", \"#EBF0F8\", \"#ffffff\"]]}, \"height\": 40, \"line\": {\"width\": 0}, \"values\": [\"5000\", \"0.665\", \"0.717\", \"Sample looks Gaussian (fail to reject H0)\"]}, \"columnwidth\": [0.3, 0.25, 0.3, 0.45], \"header\": {\"align\": \"center\", \"fill\": {\"color\": \"rgba(42,63,95,0.8)\"}, \"font\": {\"color\": \"#ffffff\", \"size\": 12}, \"line\": {\"width\": 0}, \"values\": [\"<b>Sample Size</b>\", \"<b>Statistic</b>\", \"<b>p-Value</b>\", \"<b>Comment</b>\"]}, \"type\": \"table\", \"uid\": \"0fd0ae22-78c2-4605-8124-8cbd8ac6a97d\"}], {\"height\": 260, \"title\": {\"text\": \"D\\u2019Agostino\\u2019s K^2 Test\"}, \"width\": 1000}, {\"showLink\": false, \"linkText\": \"Export to plot.ly\", \"plotlyServerURL\": \"https://plot.ly\"}); \n",
       "}\n",
       "});</script>"
      ],
      "text/vnd.plotly.v1+html": [
       "<div id=\"115f7c4f-f93e-40db-a9f0-4eed75d26885\" style=\"height: 260px; width: 1000px;\" class=\"plotly-graph-div\"></div><script type=\"text/javascript\">require([\"plotly\"], function(Plotly) { window.PLOTLYENV=window.PLOTLYENV || {};window.PLOTLYENV.BASE_URL=\"https://plot.ly\";\n",
       "if (document.getElementById(\"115f7c4f-f93e-40db-a9f0-4eed75d26885\")) {\n",
       "    Plotly.newPlot(\"115f7c4f-f93e-40db-a9f0-4eed75d26885\", [{\"cells\": {\"align\": \"center\", \"fill\": {\"color\": [[\"#EBF0F8\", \"#ffffff\", \"#EBF0F8\", \"#ffffff\"]]}, \"height\": 40, \"line\": {\"width\": 0}, \"values\": [\"5000\", \"0.665\", \"0.717\", \"Sample looks Gaussian (fail to reject H0)\"]}, \"columnwidth\": [0.3, 0.25, 0.3, 0.45], \"header\": {\"align\": \"center\", \"fill\": {\"color\": \"rgba(42,63,95,0.8)\"}, \"font\": {\"color\": \"#ffffff\", \"size\": 12}, \"line\": {\"width\": 0}, \"values\": [\"<b>Sample Size</b>\", \"<b>Statistic</b>\", \"<b>p-Value</b>\", \"<b>Comment</b>\"]}, \"type\": \"table\", \"uid\": \"0fd0ae22-78c2-4605-8124-8cbd8ac6a97d\"}], {\"height\": 260, \"title\": {\"text\": \"D\\u2019Agostino\\u2019s K^2 Test\"}, \"width\": 1000}, {\"showLink\": false, \"linkText\": \"Export to plot.ly\", \"plotlyServerURL\": \"https://plot.ly\"}); \n",
       "}\n",
       "});</script>"
      ]
     },
     "metadata": {},
     "output_type": "display_data"
    }
   ],
   "source": [
    "# Normality test\n",
    "test = \"D’Agostino’s K^2 Test\"\n",
    "stat, p = normaltest(samples_i_t)\n",
    "\n",
    "# Round results\n",
    "stat = round(stat, 3)\n",
    "p = round(p, 3)\n",
    "\n",
    "# Interpre results\n",
    "alpha = 0.05\n",
    "if p > alpha:\n",
    "    msg = 'Sample looks Gaussian (fail to reject H0)'\n",
    "else:\n",
    "    msg = \"Sample does not look Gaussian (reject H0)\"\n",
    "\n",
    "# Create table\n",
    "result_mat = [len(samples_i_t), stat, p, msg]\n",
    "\n",
    "trace = go.Table(\n",
    "    header=dict(values=['<b>Sample Size</b>', '<b>Statistic</b>', '<b>p-Value</b>', '<b>Comment</b>'],\n",
    "                line = dict(width=0),\n",
    "                fill = dict(color='rgba(42,63,95,0.8)'),\n",
    "                align = 'center',\n",
    "                font = dict(\n",
    "                    color = '#ffffff',\n",
    "                    size = 12\n",
    "                )),\n",
    "    cells=dict(values=np.array(result_mat).T,\n",
    "               line = dict(width=0),\n",
    "               fill = dict(color=[['#EBF0F8', '#ffffff', '#EBF0F8', '#ffffff']]),\n",
    "               align = 'center',\n",
    "               height = 40),\n",
    "    columnwidth=[0.3, 0.25, 0.3, 0.45])\n",
    "       \n",
    "data = [trace]\n",
    "\n",
    "layout = dict(title=test, height=260, width=1000)\n",
    "\n",
    "norm_table = dict(data=data, layout=layout)\n",
    "\n",
    "# Plot table\n",
    "py.offline.iplot(norm_table)"
   ]
  },
  {
   "cell_type": "markdown",
   "metadata": {},
   "source": [
    "### Jarque-Beta Test\n",
    "The Jarque-Bera test was proposed by Carlos M. Jarque and Anil K. Bera (1982) and also calculates summary statistics from the sample data to verify whether the data sample differs from the normal distribution. Concretely, the test determines whether the skewness and kurtosis of the data sample are unusual compared to their expected values, as measured by a chi-square statistic. "
   ]
  },
  {
   "cell_type": "code",
   "execution_count": 18,
   "metadata": {},
   "outputs": [
    {
     "data": {
      "application/vnd.plotly.v1+json": {
       "config": {
        "linkText": "Export to plot.ly",
        "plotlyServerURL": "https://plot.ly",
        "showLink": false
       },
       "data": [
        {
         "cells": {
          "align": "center",
          "fill": {
           "color": [
            [
             "#EBF0F8",
             "#ffffff",
             "#EBF0F8",
             "#ffffff"
            ]
           ]
          },
          "height": 40,
          "line": {
           "width": 0
          },
          "values": [
           "5000",
           "0.706",
           "0.703",
           "Sample looks Gaussian (fail to reject H0)"
          ]
         },
         "columnwidth": [
          0.3,
          0.25,
          0.3,
          0.45
         ],
         "header": {
          "align": "center",
          "fill": {
           "color": "rgba(42,63,95,0.8)"
          },
          "font": {
           "color": "#ffffff",
           "size": 12
          },
          "line": {
           "width": 0
          },
          "values": [
           "<b>Sample Size</b>",
           "<b>Statistic</b>",
           "<b>p-Value</b>",
           "<b>Comment</b>"
          ]
         },
         "type": "table",
         "uid": "a973c3a9-3544-4c2a-82c5-ad87bec2db11"
        }
       ],
       "layout": {
        "height": 260,
        "title": {
         "text": "Jarque-Beta Test"
        },
        "width": 1000
       }
      },
      "text/html": [
       "<div id=\"fc228613-1a4a-4fea-9777-2f0a27d68acc\" style=\"height: 260px; width: 1000px;\" class=\"plotly-graph-div\"></div><script type=\"text/javascript\">require([\"plotly\"], function(Plotly) { window.PLOTLYENV=window.PLOTLYENV || {};window.PLOTLYENV.BASE_URL=\"https://plot.ly\";\n",
       "if (document.getElementById(\"fc228613-1a4a-4fea-9777-2f0a27d68acc\")) {\n",
       "    Plotly.newPlot(\"fc228613-1a4a-4fea-9777-2f0a27d68acc\", [{\"cells\": {\"align\": \"center\", \"fill\": {\"color\": [[\"#EBF0F8\", \"#ffffff\", \"#EBF0F8\", \"#ffffff\"]]}, \"height\": 40, \"line\": {\"width\": 0}, \"values\": [\"5000\", \"0.706\", \"0.703\", \"Sample looks Gaussian (fail to reject H0)\"]}, \"columnwidth\": [0.3, 0.25, 0.3, 0.45], \"header\": {\"align\": \"center\", \"fill\": {\"color\": \"rgba(42,63,95,0.8)\"}, \"font\": {\"color\": \"#ffffff\", \"size\": 12}, \"line\": {\"width\": 0}, \"values\": [\"<b>Sample Size</b>\", \"<b>Statistic</b>\", \"<b>p-Value</b>\", \"<b>Comment</b>\"]}, \"type\": \"table\", \"uid\": \"b0adbbc5-f69b-4178-bb4f-8b0b713e91ea\"}], {\"height\": 260, \"title\": {\"text\": \"Jarque-Beta Test\"}, \"width\": 1000}, {\"showLink\": false, \"linkText\": \"Export to plot.ly\", \"plotlyServerURL\": \"https://plot.ly\"}); \n",
       "}\n",
       "});</script>"
      ],
      "text/vnd.plotly.v1+html": [
       "<div id=\"fc228613-1a4a-4fea-9777-2f0a27d68acc\" style=\"height: 260px; width: 1000px;\" class=\"plotly-graph-div\"></div><script type=\"text/javascript\">require([\"plotly\"], function(Plotly) { window.PLOTLYENV=window.PLOTLYENV || {};window.PLOTLYENV.BASE_URL=\"https://plot.ly\";\n",
       "if (document.getElementById(\"fc228613-1a4a-4fea-9777-2f0a27d68acc\")) {\n",
       "    Plotly.newPlot(\"fc228613-1a4a-4fea-9777-2f0a27d68acc\", [{\"cells\": {\"align\": \"center\", \"fill\": {\"color\": [[\"#EBF0F8\", \"#ffffff\", \"#EBF0F8\", \"#ffffff\"]]}, \"height\": 40, \"line\": {\"width\": 0}, \"values\": [\"5000\", \"0.706\", \"0.703\", \"Sample looks Gaussian (fail to reject H0)\"]}, \"columnwidth\": [0.3, 0.25, 0.3, 0.45], \"header\": {\"align\": \"center\", \"fill\": {\"color\": \"rgba(42,63,95,0.8)\"}, \"font\": {\"color\": \"#ffffff\", \"size\": 12}, \"line\": {\"width\": 0}, \"values\": [\"<b>Sample Size</b>\", \"<b>Statistic</b>\", \"<b>p-Value</b>\", \"<b>Comment</b>\"]}, \"type\": \"table\", \"uid\": \"b0adbbc5-f69b-4178-bb4f-8b0b713e91ea\"}], {\"height\": 260, \"title\": {\"text\": \"Jarque-Beta Test\"}, \"width\": 1000}, {\"showLink\": false, \"linkText\": \"Export to plot.ly\", \"plotlyServerURL\": \"https://plot.ly\"}); \n",
       "}\n",
       "});</script>"
      ]
     },
     "metadata": {},
     "output_type": "display_data"
    }
   ],
   "source": [
    "# Normality test\n",
    "test = \"Jarque-Beta Test\"\n",
    "stat, p = stats.jarque_bera(samples_i_t)\n",
    "\n",
    "# Round results\n",
    "stat = round(stat, 3)\n",
    "p = round(p, 3)\n",
    "\n",
    "# Interpre results\n",
    "alpha = 0.05\n",
    "if p > alpha:\n",
    "    msg = 'Sample looks Gaussian (fail to reject H0)'\n",
    "else:\n",
    "    msg = \"Sample does not look Gaussian (reject H0)\"\n",
    "\n",
    "# Create table\n",
    "result_mat = [len(samples_i_t), stat, p, msg]\n",
    "\n",
    "trace = go.Table(\n",
    "    header=dict(values=['<b>Sample Size</b>', '<b>Statistic</b>', '<b>p-Value</b>', '<b>Comment</b>'],\n",
    "                line = dict(width=0),\n",
    "                fill = dict(color='rgba(42,63,95,0.8)'),\n",
    "                align = 'center',\n",
    "                font = dict(\n",
    "                    color = '#ffffff',\n",
    "                    size = 12\n",
    "                )),\n",
    "    cells=dict(values=np.array(result_mat).T,\n",
    "               line = dict(width=0),\n",
    "               fill = dict(color=[['#EBF0F8', '#ffffff', '#EBF0F8', '#ffffff']]),\n",
    "               align = 'center',\n",
    "               height = 40),\n",
    "    columnwidth=[0.3, 0.25, 0.3, 0.45])\n",
    "       \n",
    "data = [trace]\n",
    "\n",
    "layout = dict(title=test, height=260, width=1000)\n",
    "\n",
    "jb_table = dict(data=data, layout=layout)\n",
    "\n",
    "# Plot table\n",
    "py.offline.iplot(jb_table)"
   ]
  },
  {
   "cell_type": "markdown",
   "metadata": {},
   "source": [
    "### Kolmogorov Smirnov Test\n",
    "The Kolmogorov-Smirnov test (KS test) was first derived by Kolmogorov (1933) and later modified by Smirnov (1948). It is a statistical test for the agreement of two probability distributions. More Specifically, it compares the cumulative distribution of the sample data with the expected cumulative normal distribution and bases its P value on the largest discrepancy. The KS test can be modified to serve as a normality test; in this case the samples are standardized and compared to a standard normal distribution. "
   ]
  },
  {
   "cell_type": "code",
   "execution_count": 19,
   "metadata": {},
   "outputs": [
    {
     "data": {
      "application/vnd.plotly.v1+json": {
       "config": {
        "linkText": "Export to plot.ly",
        "plotlyServerURL": "https://plot.ly",
        "showLink": false
       },
       "data": [
        {
         "cells": {
          "align": "center",
          "fill": {
           "color": [
            [
             "#EBF0F8",
             "#ffffff",
             "#EBF0F8",
             "#ffffff"
            ]
           ]
          },
          "height": 40,
          "line": {
           "width": 0
          },
          "values": [
           "5000",
           "0.002",
           "0.944",
           "Sample looks Gaussian (fail to reject H0)"
          ]
         },
         "columnwidth": [
          0.3,
          0.25,
          0.3,
          0.45
         ],
         "header": {
          "align": "center",
          "fill": {
           "color": "rgba(42,63,95,0.8)"
          },
          "font": {
           "color": "#ffffff",
           "size": 12
          },
          "line": {
           "width": 0
          },
          "values": [
           "<b>Sample Size</b>",
           "<b>Statistic</b>",
           "<b>p-Value</b>",
           "<b>Comment</b>"
          ]
         },
         "type": "table",
         "uid": "b7729e48-f152-4bb9-b818-ba78166bd4be"
        }
       ],
       "layout": {
        "height": 260,
        "title": {
         "text": "Kolmogorov Smirnov Test"
        },
        "width": 1000
       }
      },
      "text/html": [
       "<div id=\"f8fb3253-aa40-498e-b3a4-36c55f40f487\" style=\"height: 260px; width: 1000px;\" class=\"plotly-graph-div\"></div><script type=\"text/javascript\">require([\"plotly\"], function(Plotly) { window.PLOTLYENV=window.PLOTLYENV || {};window.PLOTLYENV.BASE_URL=\"https://plot.ly\";\n",
       "if (document.getElementById(\"f8fb3253-aa40-498e-b3a4-36c55f40f487\")) {\n",
       "    Plotly.newPlot(\"f8fb3253-aa40-498e-b3a4-36c55f40f487\", [{\"cells\": {\"align\": \"center\", \"fill\": {\"color\": [[\"#EBF0F8\", \"#ffffff\", \"#EBF0F8\", \"#ffffff\"]]}, \"height\": 40, \"line\": {\"width\": 0}, \"values\": [\"5000\", \"0.002\", \"0.944\", \"Sample looks Gaussian (fail to reject H0)\"]}, \"columnwidth\": [0.3, 0.25, 0.3, 0.45], \"header\": {\"align\": \"center\", \"fill\": {\"color\": \"rgba(42,63,95,0.8)\"}, \"font\": {\"color\": \"#ffffff\", \"size\": 12}, \"line\": {\"width\": 0}, \"values\": [\"<b>Sample Size</b>\", \"<b>Statistic</b>\", \"<b>p-Value</b>\", \"<b>Comment</b>\"]}, \"type\": \"table\", \"uid\": \"b7c3706d-6635-4b16-a6b1-510119c48b8f\"}], {\"height\": 260, \"title\": {\"text\": \"Kolmogorov Smirnov Test\"}, \"width\": 1000}, {\"showLink\": false, \"linkText\": \"Export to plot.ly\", \"plotlyServerURL\": \"https://plot.ly\"}); \n",
       "}\n",
       "});</script>"
      ],
      "text/vnd.plotly.v1+html": [
       "<div id=\"f8fb3253-aa40-498e-b3a4-36c55f40f487\" style=\"height: 260px; width: 1000px;\" class=\"plotly-graph-div\"></div><script type=\"text/javascript\">require([\"plotly\"], function(Plotly) { window.PLOTLYENV=window.PLOTLYENV || {};window.PLOTLYENV.BASE_URL=\"https://plot.ly\";\n",
       "if (document.getElementById(\"f8fb3253-aa40-498e-b3a4-36c55f40f487\")) {\n",
       "    Plotly.newPlot(\"f8fb3253-aa40-498e-b3a4-36c55f40f487\", [{\"cells\": {\"align\": \"center\", \"fill\": {\"color\": [[\"#EBF0F8\", \"#ffffff\", \"#EBF0F8\", \"#ffffff\"]]}, \"height\": 40, \"line\": {\"width\": 0}, \"values\": [\"5000\", \"0.002\", \"0.944\", \"Sample looks Gaussian (fail to reject H0)\"]}, \"columnwidth\": [0.3, 0.25, 0.3, 0.45], \"header\": {\"align\": \"center\", \"fill\": {\"color\": \"rgba(42,63,95,0.8)\"}, \"font\": {\"color\": \"#ffffff\", \"size\": 12}, \"line\": {\"width\": 0}, \"values\": [\"<b>Sample Size</b>\", \"<b>Statistic</b>\", \"<b>p-Value</b>\", \"<b>Comment</b>\"]}, \"type\": \"table\", \"uid\": \"b7c3706d-6635-4b16-a6b1-510119c48b8f\"}], {\"height\": 260, \"title\": {\"text\": \"Kolmogorov Smirnov Test\"}, \"width\": 1000}, {\"showLink\": false, \"linkText\": \"Export to plot.ly\", \"plotlyServerURL\": \"https://plot.ly\"}); \n",
       "}\n",
       "});</script>"
      ]
     },
     "metadata": {},
     "output_type": "display_data"
    }
   ],
   "source": [
    "# Normality test\n",
    "test = \"Kolmogorov Smirnov Test\"\n",
    "stat, p = stats.kstest(np.array(samples_i_t),'norm', alternative = 'greater')\n",
    "\n",
    "# Round results\n",
    "stat = round(stat, 3)\n",
    "p = round(p, 3)\n",
    "\n",
    "# Interpre results\n",
    "alpha = 0.05\n",
    "if p > alpha:\n",
    "    msg = 'Sample looks Gaussian (fail to reject H0)'\n",
    "else:\n",
    "    msg = \"Sample does not look Gaussian (reject H0)\"\n",
    "\n",
    "# Create table\n",
    "result_mat = [len(samples_i_t), stat, p, msg]\n",
    "\n",
    "trace = go.Table(\n",
    "    header=dict(values=['<b>Sample Size</b>', '<b>Statistic</b>', '<b>p-Value</b>', '<b>Comment</b>'],\n",
    "                line = dict(width=0),\n",
    "                fill = dict(color='rgba(42,63,95,0.8)'),\n",
    "                align = 'center',\n",
    "                font = dict(\n",
    "                    color = '#ffffff',\n",
    "                    size = 12\n",
    "                )),\n",
    "    cells=dict(values=np.array(result_mat).T,\n",
    "               line = dict(width=0),\n",
    "               fill = dict(color=[['#EBF0F8', '#ffffff', '#EBF0F8', '#ffffff']]),\n",
    "               align = 'center',\n",
    "               height = 40),\n",
    "    columnwidth=[0.3, 0.25, 0.3, 0.45])\n",
    "       \n",
    "data = [trace]\n",
    "\n",
    "layout = dict(title=test, height=260, width=1000)\n",
    "\n",
    "ks_table = dict(data=data, layout=layout)\n",
    "\n",
    "# Plot table\n",
    "py.offline.iplot(ks_table)"
   ]
  },
  {
   "cell_type": "markdown",
   "metadata": {},
   "source": [
    "### Anderson-Darling\n",
    "The Anderson-Darling test is another statistical test that can be used to determine whether the distribution of the data sample deviates from the Gaussian distribution. The test is named after Theodore Wilbur Anderson and Donald Allan Darling, who first described it in 1952. A feature of this test is that it provides a list of critical values, not just a single p-value, which allows a more thorough interpretation of the result."
   ]
  },
  {
   "cell_type": "code",
   "execution_count": 20,
   "metadata": {},
   "outputs": [
    {
     "data": {
      "application/vnd.plotly.v1+json": {
       "config": {
        "linkText": "Export to plot.ly",
        "plotlyServerURL": "https://plot.ly",
        "showLink": false
       },
       "data": [
        {
         "cells": {
          "align": "center",
          "fill": {
           "color": [
            [
             "#EBF0F8",
             "#ffffff",
             "#EBF0F8",
             "#ffffff",
             "#EBF0F8"
            ]
           ]
          },
          "height": 40,
          "line": {
           "width": 0
          },
          "values": [
           [
            "5000",
            "5000",
            "5000",
            "5000",
            "5000"
           ],
           [
            "0.311",
            "0.311",
            "0.311",
            "0.311",
            "0.311"
           ],
           [
            "15.0",
            "10.0",
            "5.0",
            "2.5",
            "1.0"
           ],
           [
            "0.576",
            "0.655",
            "0.786",
            "0.917",
            "1.091"
           ],
           [
            "Sample looks Gaussian (fail to reject H0)",
            "Sample looks Gaussian (fail to reject H0)",
            "Sample looks Gaussian (fail to reject H0)",
            "Sample looks Gaussian (fail to reject H0)",
            "Sample looks Gaussian (fail to reject H0)"
           ]
          ]
         },
         "columnwidth": [
          0.3,
          0.25,
          0.3,
          0.25,
          0.5
         ],
         "header": {
          "align": "center",
          "fill": {
           "color": "rgba(42,63,95,0.8)"
          },
          "font": {
           "color": "#ffffff",
           "size": 12
          },
          "line": {
           "width": 0
          },
          "values": [
           "<b>Sample Size</b>",
           "<b>Statistic</b>",
           "<b>Significance Level</b>",
           "<b>Critical Value</b>",
           "<b>Comment</b>"
          ]
         },
         "type": "table",
         "uid": "2f98552f-bb48-47f2-a8d9-4b7e5350d5cf"
        }
       ],
       "layout": {
        "height": 415,
        "title": {
         "text": "Anderson-Darling Test"
        },
        "width": 1000
       }
      },
      "text/html": [
       "<div id=\"c7be72a8-e55d-4c23-8944-4dc0c3f6b99a\" style=\"height: 415px; width: 1000px;\" class=\"plotly-graph-div\"></div><script type=\"text/javascript\">require([\"plotly\"], function(Plotly) { window.PLOTLYENV=window.PLOTLYENV || {};window.PLOTLYENV.BASE_URL=\"https://plot.ly\";\n",
       "if (document.getElementById(\"c7be72a8-e55d-4c23-8944-4dc0c3f6b99a\")) {\n",
       "    Plotly.newPlot(\"c7be72a8-e55d-4c23-8944-4dc0c3f6b99a\", [{\"cells\": {\"align\": \"center\", \"fill\": {\"color\": [[\"#EBF0F8\", \"#ffffff\", \"#EBF0F8\", \"#ffffff\", \"#EBF0F8\"]]}, \"height\": 40, \"line\": {\"width\": 0}, \"values\": [[\"5000\", \"5000\", \"5000\", \"5000\", \"5000\"], [\"0.311\", \"0.311\", \"0.311\", \"0.311\", \"0.311\"], [\"15.0\", \"10.0\", \"5.0\", \"2.5\", \"1.0\"], [\"0.576\", \"0.655\", \"0.786\", \"0.917\", \"1.091\"], [\"Sample looks Gaussian (fail to reject H0)\", \"Sample looks Gaussian (fail to reject H0)\", \"Sample looks Gaussian (fail to reject H0)\", \"Sample looks Gaussian (fail to reject H0)\", \"Sample looks Gaussian (fail to reject H0)\"]]}, \"columnwidth\": [0.3, 0.25, 0.3, 0.25, 0.5], \"header\": {\"align\": \"center\", \"fill\": {\"color\": \"rgba(42,63,95,0.8)\"}, \"font\": {\"color\": \"#ffffff\", \"size\": 12}, \"line\": {\"width\": 0}, \"values\": [\"<b>Sample Size</b>\", \"<b>Statistic</b>\", \"<b>Significance Level</b>\", \"<b>Critical Value</b>\", \"<b>Comment</b>\"]}, \"type\": \"table\", \"uid\": \"49edabb7-5359-4c1a-9fa9-cca997f9fcc8\"}], {\"height\": 415, \"title\": {\"text\": \"Anderson-Darling Test\"}, \"width\": 1000}, {\"showLink\": false, \"linkText\": \"Export to plot.ly\", \"plotlyServerURL\": \"https://plot.ly\"}); \n",
       "}\n",
       "});</script>"
      ],
      "text/vnd.plotly.v1+html": [
       "<div id=\"c7be72a8-e55d-4c23-8944-4dc0c3f6b99a\" style=\"height: 415px; width: 1000px;\" class=\"plotly-graph-div\"></div><script type=\"text/javascript\">require([\"plotly\"], function(Plotly) { window.PLOTLYENV=window.PLOTLYENV || {};window.PLOTLYENV.BASE_URL=\"https://plot.ly\";\n",
       "if (document.getElementById(\"c7be72a8-e55d-4c23-8944-4dc0c3f6b99a\")) {\n",
       "    Plotly.newPlot(\"c7be72a8-e55d-4c23-8944-4dc0c3f6b99a\", [{\"cells\": {\"align\": \"center\", \"fill\": {\"color\": [[\"#EBF0F8\", \"#ffffff\", \"#EBF0F8\", \"#ffffff\", \"#EBF0F8\"]]}, \"height\": 40, \"line\": {\"width\": 0}, \"values\": [[\"5000\", \"5000\", \"5000\", \"5000\", \"5000\"], [\"0.311\", \"0.311\", \"0.311\", \"0.311\", \"0.311\"], [\"15.0\", \"10.0\", \"5.0\", \"2.5\", \"1.0\"], [\"0.576\", \"0.655\", \"0.786\", \"0.917\", \"1.091\"], [\"Sample looks Gaussian (fail to reject H0)\", \"Sample looks Gaussian (fail to reject H0)\", \"Sample looks Gaussian (fail to reject H0)\", \"Sample looks Gaussian (fail to reject H0)\", \"Sample looks Gaussian (fail to reject H0)\"]]}, \"columnwidth\": [0.3, 0.25, 0.3, 0.25, 0.5], \"header\": {\"align\": \"center\", \"fill\": {\"color\": \"rgba(42,63,95,0.8)\"}, \"font\": {\"color\": \"#ffffff\", \"size\": 12}, \"line\": {\"width\": 0}, \"values\": [\"<b>Sample Size</b>\", \"<b>Statistic</b>\", \"<b>Significance Level</b>\", \"<b>Critical Value</b>\", \"<b>Comment</b>\"]}, \"type\": \"table\", \"uid\": \"49edabb7-5359-4c1a-9fa9-cca997f9fcc8\"}], {\"height\": 415, \"title\": {\"text\": \"Anderson-Darling Test\"}, \"width\": 1000}, {\"showLink\": false, \"linkText\": \"Export to plot.ly\", \"plotlyServerURL\": \"https://plot.ly\"}); \n",
       "}\n",
       "});</script>"
      ]
     },
     "metadata": {},
     "output_type": "display_data"
    }
   ],
   "source": [
    "# Normality test\n",
    "test = \"Anderson-Darling Test\"\n",
    "result = anderson(samples_i_t)\n",
    "\n",
    "# Round results\n",
    "stat = round(result.statistic, 3)\n",
    "\n",
    "# Create table\n",
    "result_mat = []\n",
    "for i in range(len(result.critical_values)):\n",
    "    sl, cv = result.significance_level[i], result.critical_values[i]\n",
    "    if result.statistic < result.critical_values[i]:\n",
    "        msg = 'Sample looks Gaussian (fail to reject H0)'\n",
    "    else:\n",
    "        msg = 'Sample does not look Gaussian (reject H0)'\n",
    "    result_mat.append([len(samples_i_t), stat, sl, cv, msg])\n",
    "\n",
    "trace = go.Table(\n",
    "    header=dict(values=['<b>Sample Size</b>', '<b>Statistic</b>', '<b>Significance Level</b>', '<b>Critical Value</b>', '<b>Comment</b>'],\n",
    "                line = dict(width=0),\n",
    "                fill = dict(color='rgba(42,63,95,0.8)'),\n",
    "                align = 'center',\n",
    "                font = dict(\n",
    "                    color = '#ffffff',\n",
    "                    size = 12\n",
    "                )),\n",
    "    cells=dict(values=np.array(result_mat).T,\n",
    "               line = dict(width=0),\n",
    "               fill = dict(color=[['#EBF0F8', '#ffffff', '#EBF0F8', '#ffffff', '#EBF0F8']]),\n",
    "               align = 'center',\n",
    "               height = 40),\n",
    "    columnwidth=[0.3, 0.25, 0.3, 0.25, 0.5])\n",
    "       \n",
    "data = [trace]\n",
    "\n",
    "layout = dict(title=test, height=415, width=1000)\n",
    "\n",
    "andar_table = dict(data=data, layout=layout)\n",
    "\n",
    "# Plot table\n",
    "py.offline.iplot(andar_table)"
   ]
  },
  {
   "cell_type": "markdown",
   "metadata": {},
   "source": [
    "## 4.2 Rejection sampling"
   ]
  },
  {
   "cell_type": "markdown",
   "metadata": {},
   "source": [
    "### Generate Samples"
   ]
  },
  {
   "cell_type": "code",
   "execution_count": 21,
   "metadata": {},
   "outputs": [],
   "source": [
    "tic = timeit.default_timer()\n",
    "\n",
    "# Generate n_samples samples \n",
    "samples_r_s = []\n",
    "for i in range(n_samples):\n",
    "    samples_r_s.append(sample_normal_rejection(mu, sigma))  \n",
    "\n",
    "toc = timeit.default_timer()"
   ]
  },
  {
   "cell_type": "markdown",
   "metadata": {},
   "source": [
    "###  Histogram Plot"
   ]
  },
  {
   "cell_type": "code",
   "execution_count": 22,
   "metadata": {},
   "outputs": [
    {
     "name": "stdout",
     "output_type": "stream",
     "text": [
      "running time = 25.895, mean = 0.009, std_dev = 1.014\n"
     ]
    },
    {
     "data": {
      "image/png": "[encoded data removed]",
      "text/plain": [
       "<Figure size 432x288 with 1 Axes>"
      ]
     },
     "metadata": {
      "needs_background": "light"
     },
     "output_type": "display_data"
    }
   ],
   "source": [
    "# Plot n_samples samples \n",
    "\n",
    "sns.distplot(samples_r_s, bins=40).set_title(str(n_samples)+ \" samples using Rejection sampling\");\n",
    "\n",
    "print(\"running time = %.3f, mean = %.3f, std_dev = %.3f\" % (toc-tic, np.mean(samples_r_s), np.std(samples_r_s)));"
   ]
  },
  {
   "cell_type": "markdown",
   "metadata": {},
   "source": [
    "### Q-Q Plot and P-P Plot"
   ]
  },
  {
   "cell_type": "code",
   "execution_count": 23,
   "metadata": {},
   "outputs": [
    {
     "data": {
      "image/png": "[encoded data removed]",
      "text/plain": [
       "<Figure size 720x288 with 2 Axes>"
      ]
     },
     "metadata": {
      "needs_background": "light"
     },
     "output_type": "display_data"
    }
   ],
   "source": [
    "# Plot q-q and p-p plot\n",
    "fig, ax = plt.subplots(1, 2, figsize=(10, 4))\n",
    "probplot = sm.ProbPlot(np.array(samples_r_s), dist=norm, fit=True)\n",
    "probplot.ppplot(line='45', ax=ax[0])\n",
    "probplot.qqplot(line='45', ax=ax[1])\n",
    "ax[0].set_title('P-P Plot')\n",
    "ax[1].set_title('Q-Q Plot');"
   ]
  },
  {
   "cell_type": "markdown",
   "metadata": {},
   "source": [
    "### Boxplot"
   ]
  },
  {
   "cell_type": "code",
   "execution_count": 24,
   "metadata": {},
   "outputs": [
    {
     "data": {
      "image/png": "[encoded data removed]",
      "text/plain": [
       "<Figure size 432x288 with 1 Axes>"
      ]
     },
     "metadata": {
      "needs_background": "light"
     },
     "output_type": "display_data"
    }
   ],
   "source": [
    "# Plot boxplot plot\n",
    "sns.boxplot(samples_r_s, width=4);"
   ]
  },
  {
   "cell_type": "markdown",
   "metadata": {},
   "source": [
    "### Empirical Cumulative Distribution Function Plot"
   ]
  },
  {
   "cell_type": "code",
   "execution_count": 25,
   "metadata": {},
   "outputs": [
    {
     "data": {
      "image/png": "[encoded data removed]",
      "text/plain": [
       "<Figure size 432x288 with 1 Axes>"
      ]
     },
     "metadata": {
      "needs_background": "light"
     },
     "output_type": "display_data"
    }
   ],
   "source": [
    "# Plot Empirical Cumulative Distribution vs Normal Cumulative Distribution\n",
    "x=np.linspace(-5, 5)\n",
    "\n",
    "# Plot normal cdf\n",
    "plot_normal(x, mu=mu, sigma=sigma, cdf=True, label=\"normal cdf\")\n",
    "\n",
    "# Plor ecdf\n",
    "ecdf = sm.distributions.ECDF(samples_r_s)\n",
    "ecdf = ecdf(x)\n",
    "plt.step(x, ecdf, label=\"ecdf\")\n",
    "\n",
    "plt.legend();"
   ]
  },
  {
   "cell_type": "markdown",
   "metadata": {},
   "source": [
    "### Shapiro-Wilk Test"
   ]
  },
  {
   "cell_type": "code",
   "execution_count": 26,
   "metadata": {},
   "outputs": [
    {
     "data": {
      "application/vnd.plotly.v1+json": {
       "config": {
        "linkText": "Export to plot.ly",
        "plotlyServerURL": "https://plot.ly",
        "showLink": false
       },
       "data": [
        {
         "cells": {
          "align": "center",
          "fill": {
           "color": [
            [
             "#EBF0F8",
             "#ffffff",
             "#EBF0F8",
             "#ffffff"
            ]
           ]
          },
          "height": 40,
          "line": {
           "width": 0
          },
          "values": [
           "5000",
           "1.0",
           "0.446",
           "Sample looks Gaussian (fail to reject H0)"
          ]
         },
         "columnwidth": [
          0.3,
          0.25,
          0.3,
          0.45
         ],
         "header": {
          "align": "center",
          "fill": {
           "color": "rgba(42,63,95,0.8)"
          },
          "font": {
           "color": "#ffffff",
           "size": 12
          },
          "line": {
           "width": 0
          },
          "values": [
           "<b>Sample Size</b>",
           "<b>Statistic</b>",
           "<b>p-Value</b>",
           "<b>Comment</b>"
          ]
         },
         "type": "table",
         "uid": "079542de-be84-412f-9951-0423ac22b9cb"
        }
       ],
       "layout": {
        "height": 260,
        "title": {
         "text": "Shapiro-Wilk Test"
        },
        "width": 1000
       }
      },
      "text/html": [
       "<div id=\"6ef577a4-1fa3-48c1-8ffd-757612d5a874\" style=\"height: 260px; width: 1000px;\" class=\"plotly-graph-div\"></div><script type=\"text/javascript\">require([\"plotly\"], function(Plotly) { window.PLOTLYENV=window.PLOTLYENV || {};window.PLOTLYENV.BASE_URL=\"https://plot.ly\";\n",
       "if (document.getElementById(\"6ef577a4-1fa3-48c1-8ffd-757612d5a874\")) {\n",
       "    Plotly.newPlot(\"6ef577a4-1fa3-48c1-8ffd-757612d5a874\", [{\"cells\": {\"align\": \"center\", \"fill\": {\"color\": [[\"#EBF0F8\", \"#ffffff\", \"#EBF0F8\", \"#ffffff\"]]}, \"height\": 40, \"line\": {\"width\": 0}, \"values\": [\"5000\", \"1.0\", \"0.446\", \"Sample looks Gaussian (fail to reject H0)\"]}, \"columnwidth\": [0.3, 0.25, 0.3, 0.45], \"header\": {\"align\": \"center\", \"fill\": {\"color\": \"rgba(42,63,95,0.8)\"}, \"font\": {\"color\": \"#ffffff\", \"size\": 12}, \"line\": {\"width\": 0}, \"values\": [\"<b>Sample Size</b>\", \"<b>Statistic</b>\", \"<b>p-Value</b>\", \"<b>Comment</b>\"]}, \"type\": \"table\", \"uid\": \"72028a31-714c-40cb-8b98-021db0fa00e7\"}], {\"height\": 260, \"title\": {\"text\": \"Shapiro-Wilk Test\"}, \"width\": 1000}, {\"showLink\": false, \"linkText\": \"Export to plot.ly\", \"plotlyServerURL\": \"https://plot.ly\"}); \n",
       "}\n",
       "});</script>"
      ],
      "text/vnd.plotly.v1+html": [
       "<div id=\"6ef577a4-1fa3-48c1-8ffd-757612d5a874\" style=\"height: 260px; width: 1000px;\" class=\"plotly-graph-div\"></div><script type=\"text/javascript\">require([\"plotly\"], function(Plotly) { window.PLOTLYENV=window.PLOTLYENV || {};window.PLOTLYENV.BASE_URL=\"https://plot.ly\";\n",
       "if (document.getElementById(\"6ef577a4-1fa3-48c1-8ffd-757612d5a874\")) {\n",
       "    Plotly.newPlot(\"6ef577a4-1fa3-48c1-8ffd-757612d5a874\", [{\"cells\": {\"align\": \"center\", \"fill\": {\"color\": [[\"#EBF0F8\", \"#ffffff\", \"#EBF0F8\", \"#ffffff\"]]}, \"height\": 40, \"line\": {\"width\": 0}, \"values\": [\"5000\", \"1.0\", \"0.446\", \"Sample looks Gaussian (fail to reject H0)\"]}, \"columnwidth\": [0.3, 0.25, 0.3, 0.45], \"header\": {\"align\": \"center\", \"fill\": {\"color\": \"rgba(42,63,95,0.8)\"}, \"font\": {\"color\": \"#ffffff\", \"size\": 12}, \"line\": {\"width\": 0}, \"values\": [\"<b>Sample Size</b>\", \"<b>Statistic</b>\", \"<b>p-Value</b>\", \"<b>Comment</b>\"]}, \"type\": \"table\", \"uid\": \"72028a31-714c-40cb-8b98-021db0fa00e7\"}], {\"height\": 260, \"title\": {\"text\": \"Shapiro-Wilk Test\"}, \"width\": 1000}, {\"showLink\": false, \"linkText\": \"Export to plot.ly\", \"plotlyServerURL\": \"https://plot.ly\"}); \n",
       "}\n",
       "});</script>"
      ]
     },
     "metadata": {},
     "output_type": "display_data"
    }
   ],
   "source": [
    "# Normality test\n",
    "test = \"Shapiro-Wilk Test\"\n",
    "stat, p = shapiro(samples_r_s)\n",
    "\n",
    "# Round results\n",
    "stat = round(stat, 3)\n",
    "p = round(p, 3)\n",
    "\n",
    "# Interpre results\n",
    "alpha = 0.05\n",
    "if p > alpha:\n",
    "    msg = 'Sample looks Gaussian (fail to reject H0)'\n",
    "else:\n",
    "    msg = \"Sample does not look Gaussian (reject H0)\"\n",
    "\n",
    "# Create table\n",
    "result_mat = [len(samples_r_s), stat, p, msg]\n",
    "\n",
    "trace = go.Table(\n",
    "    header=dict(values=['<b>Sample Size</b>', '<b>Statistic</b>', '<b>p-Value</b>', '<b>Comment</b>'],\n",
    "                line = dict(width=0),\n",
    "                fill = dict(color='rgba(42,63,95,0.8)'),\n",
    "                align = 'center',\n",
    "                font = dict(\n",
    "                    color = '#ffffff',\n",
    "                    size = 12\n",
    "                )),\n",
    "    cells=dict(values=np.array(result_mat).T,\n",
    "               line = dict(width=0),\n",
    "               fill = dict(color=[['#EBF0F8', '#ffffff', '#EBF0F8', '#ffffff']]),\n",
    "               align = 'center',\n",
    "               height = 40),\n",
    "    columnwidth=[0.3, 0.25, 0.3, 0.45])\n",
    "       \n",
    "data = [trace]\n",
    "\n",
    "layout = dict(title=test, height=260, width=1000)\n",
    "\n",
    "sw_table = dict(data=data, layout=layout)\n",
    "\n",
    "# Plot table\n",
    "py.offline.iplot(sw_table)"
   ]
  },
  {
   "cell_type": "markdown",
   "metadata": {},
   "source": [
    "### D’Agostino’s K^2 Test"
   ]
  },
  {
   "cell_type": "code",
   "execution_count": 27,
   "metadata": {},
   "outputs": [
    {
     "data": {
      "application/vnd.plotly.v1+json": {
       "config": {
        "linkText": "Export to plot.ly",
        "plotlyServerURL": "https://plot.ly",
        "showLink": false
       },
       "data": [
        {
         "cells": {
          "align": "center",
          "fill": {
           "color": [
            [
             "#EBF0F8",
             "#ffffff",
             "#EBF0F8",
             "#ffffff"
            ]
           ]
          },
          "height": 40,
          "line": {
           "width": 0
          },
          "values": [
           "5000",
           "1.023",
           "0.6",
           "Sample looks Gaussian (fail to reject H0)"
          ]
         },
         "columnwidth": [
          0.3,
          0.25,
          0.3,
          0.45
         ],
         "header": {
          "align": "center",
          "fill": {
           "color": "rgba(42,63,95,0.8)"
          },
          "font": {
           "color": "#ffffff",
           "size": 12
          },
          "line": {
           "width": 0
          },
          "values": [
           "<b>Sample Size</b>",
           "<b>Statistic</b>",
           "<b>p-Value</b>",
           "<b>Comment</b>"
          ]
         },
         "type": "table",
         "uid": "d088f5ec-1cdb-459f-b32b-4e5b57adaa1e"
        }
       ],
       "layout": {
        "height": 260,
        "title": {
         "text": "D’Agostino’s K^2 Test"
        },
        "width": 1000
       }
      },
      "text/html": [
       "<div id=\"aac0959d-69d4-41fc-b633-d24d82a333a0\" style=\"height: 260px; width: 1000px;\" class=\"plotly-graph-div\"></div><script type=\"text/javascript\">require([\"plotly\"], function(Plotly) { window.PLOTLYENV=window.PLOTLYENV || {};window.PLOTLYENV.BASE_URL=\"https://plot.ly\";\n",
       "if (document.getElementById(\"aac0959d-69d4-41fc-b633-d24d82a333a0\")) {\n",
       "    Plotly.newPlot(\"aac0959d-69d4-41fc-b633-d24d82a333a0\", [{\"cells\": {\"align\": \"center\", \"fill\": {\"color\": [[\"#EBF0F8\", \"#ffffff\", \"#EBF0F8\", \"#ffffff\"]]}, \"height\": 40, \"line\": {\"width\": 0}, \"values\": [\"5000\", \"1.023\", \"0.6\", \"Sample looks Gaussian (fail to reject H0)\"]}, \"columnwidth\": [0.3, 0.25, 0.3, 0.45], \"header\": {\"align\": \"center\", \"fill\": {\"color\": \"rgba(42,63,95,0.8)\"}, \"font\": {\"color\": \"#ffffff\", \"size\": 12}, \"line\": {\"width\": 0}, \"values\": [\"<b>Sample Size</b>\", \"<b>Statistic</b>\", \"<b>p-Value</b>\", \"<b>Comment</b>\"]}, \"type\": \"table\", \"uid\": \"6411c427-31c5-48ed-82c6-43ad41a2d0d6\"}], {\"height\": 260, \"title\": {\"text\": \"D\\u2019Agostino\\u2019s K^2 Test\"}, \"width\": 1000}, {\"showLink\": false, \"linkText\": \"Export to plot.ly\", \"plotlyServerURL\": \"https://plot.ly\"}); \n",
       "}\n",
       "});</script>"
      ],
      "text/vnd.plotly.v1+html": [
       "<div id=\"aac0959d-69d4-41fc-b633-d24d82a333a0\" style=\"height: 260px; width: 1000px;\" class=\"plotly-graph-div\"></div><script type=\"text/javascript\">require([\"plotly\"], function(Plotly) { window.PLOTLYENV=window.PLOTLYENV || {};window.PLOTLYENV.BASE_URL=\"https://plot.ly\";\n",
       "if (document.getElementById(\"aac0959d-69d4-41fc-b633-d24d82a333a0\")) {\n",
       "    Plotly.newPlot(\"aac0959d-69d4-41fc-b633-d24d82a333a0\", [{\"cells\": {\"align\": \"center\", \"fill\": {\"color\": [[\"#EBF0F8\", \"#ffffff\", \"#EBF0F8\", \"#ffffff\"]]}, \"height\": 40, \"line\": {\"width\": 0}, \"values\": [\"5000\", \"1.023\", \"0.6\", \"Sample looks Gaussian (fail to reject H0)\"]}, \"columnwidth\": [0.3, 0.25, 0.3, 0.45], \"header\": {\"align\": \"center\", \"fill\": {\"color\": \"rgba(42,63,95,0.8)\"}, \"font\": {\"color\": \"#ffffff\", \"size\": 12}, \"line\": {\"width\": 0}, \"values\": [\"<b>Sample Size</b>\", \"<b>Statistic</b>\", \"<b>p-Value</b>\", \"<b>Comment</b>\"]}, \"type\": \"table\", \"uid\": \"6411c427-31c5-48ed-82c6-43ad41a2d0d6\"}], {\"height\": 260, \"title\": {\"text\": \"D\\u2019Agostino\\u2019s K^2 Test\"}, \"width\": 1000}, {\"showLink\": false, \"linkText\": \"Export to plot.ly\", \"plotlyServerURL\": \"https://plot.ly\"}); \n",
       "}\n",
       "});</script>"
      ]
     },
     "metadata": {},
     "output_type": "display_data"
    }
   ],
   "source": [
    "# Normality test\n",
    "test = \"D’Agostino’s K^2 Test\"\n",
    "stat, p = normaltest(samples_r_s)\n",
    "\n",
    "# Round results\n",
    "stat = round(stat, 3)\n",
    "p = round(p, 3)\n",
    "\n",
    "# Interpre results\n",
    "alpha = 0.05\n",
    "if p > alpha:\n",
    "    msg = 'Sample looks Gaussian (fail to reject H0)'\n",
    "else:\n",
    "    msg = \"Sample does not look Gaussian (reject H0)\"\n",
    "\n",
    "# Create table\n",
    "result_mat = [len(samples_r_s), stat, p, msg]\n",
    "\n",
    "trace = go.Table(\n",
    "    header=dict(values=['<b>Sample Size</b>', '<b>Statistic</b>', '<b>p-Value</b>', '<b>Comment</b>'],\n",
    "                line = dict(width=0),\n",
    "                fill = dict(color='rgba(42,63,95,0.8)'),\n",
    "                align = 'center',\n",
    "                font = dict(\n",
    "                    color = '#ffffff',\n",
    "                    size = 12\n",
    "                )),\n",
    "    cells=dict(values=np.array(result_mat).T,\n",
    "               line = dict(width=0),\n",
    "               fill = dict(color=[['#EBF0F8', '#ffffff', '#EBF0F8', '#ffffff']]),\n",
    "               align = 'center',\n",
    "               height = 40),\n",
    "    columnwidth=[0.3, 0.25, 0.3, 0.45])\n",
    "       \n",
    "data = [trace]\n",
    "\n",
    "layout = dict(title=test, height=260, width=1000)\n",
    "\n",
    "norm_table = dict(data=data, layout=layout)\n",
    "\n",
    "# Plot table\n",
    "py.offline.iplot(norm_table)"
   ]
  },
  {
   "cell_type": "markdown",
   "metadata": {},
   "source": [
    "### Jarque-Beta Test"
   ]
  },
  {
   "cell_type": "code",
   "execution_count": 28,
   "metadata": {},
   "outputs": [
    {
     "data": {
      "application/vnd.plotly.v1+json": {
       "config": {
        "linkText": "Export to plot.ly",
        "plotlyServerURL": "https://plot.ly",
        "showLink": false
       },
       "data": [
        {
         "cells": {
          "align": "center",
          "fill": {
           "color": [
            [
             "#EBF0F8",
             "#ffffff",
             "#EBF0F8",
             "#ffffff"
            ]
           ]
          },
          "height": 40,
          "line": {
           "width": 0
          },
          "values": [
           "5000",
           "1.047",
           "0.592",
           "Sample looks Gaussian (fail to reject H0)"
          ]
         },
         "columnwidth": [
          0.3,
          0.25,
          0.3,
          0.45
         ],
         "header": {
          "align": "center",
          "fill": {
           "color": "rgba(42,63,95,0.8)"
          },
          "font": {
           "color": "#ffffff",
           "size": 12
          },
          "line": {
           "width": 0
          },
          "values": [
           "<b>Sample Size</b>",
           "<b>Statistic</b>",
           "<b>p-Value</b>",
           "<b>Comment</b>"
          ]
         },
         "type": "table",
         "uid": "966c0429-83a3-4246-8a5f-d51d0a6a4244"
        }
       ],
       "layout": {
        "height": 260,
        "title": {
         "text": "Jarque-Beta Test"
        },
        "width": 1000
       }
      },
      "text/html": [
       "<div id=\"8bc9f19d-450d-4159-b023-d7e873cda9ee\" style=\"height: 260px; width: 1000px;\" class=\"plotly-graph-div\"></div><script type=\"text/javascript\">require([\"plotly\"], function(Plotly) { window.PLOTLYENV=window.PLOTLYENV || {};window.PLOTLYENV.BASE_URL=\"https://plot.ly\";\n",
       "if (document.getElementById(\"8bc9f19d-450d-4159-b023-d7e873cda9ee\")) {\n",
       "    Plotly.newPlot(\"8bc9f19d-450d-4159-b023-d7e873cda9ee\", [{\"cells\": {\"align\": \"center\", \"fill\": {\"color\": [[\"#EBF0F8\", \"#ffffff\", \"#EBF0F8\", \"#ffffff\"]]}, \"height\": 40, \"line\": {\"width\": 0}, \"values\": [\"5000\", \"1.047\", \"0.592\", \"Sample looks Gaussian (fail to reject H0)\"]}, \"columnwidth\": [0.3, 0.25, 0.3, 0.45], \"header\": {\"align\": \"center\", \"fill\": {\"color\": \"rgba(42,63,95,0.8)\"}, \"font\": {\"color\": \"#ffffff\", \"size\": 12}, \"line\": {\"width\": 0}, \"values\": [\"<b>Sample Size</b>\", \"<b>Statistic</b>\", \"<b>p-Value</b>\", \"<b>Comment</b>\"]}, \"type\": \"table\", \"uid\": \"a8fe0857-a3ce-4941-b34a-25552469cfe4\"}], {\"height\": 260, \"title\": {\"text\": \"Jarque-Beta Test\"}, \"width\": 1000}, {\"showLink\": false, \"linkText\": \"Export to plot.ly\", \"plotlyServerURL\": \"https://plot.ly\"}); \n",
       "}\n",
       "});</script>"
      ],
      "text/vnd.plotly.v1+html": [
       "<div id=\"8bc9f19d-450d-4159-b023-d7e873cda9ee\" style=\"height: 260px; width: 1000px;\" class=\"plotly-graph-div\"></div><script type=\"text/javascript\">require([\"plotly\"], function(Plotly) { window.PLOTLYENV=window.PLOTLYENV || {};window.PLOTLYENV.BASE_URL=\"https://plot.ly\";\n",
       "if (document.getElementById(\"8bc9f19d-450d-4159-b023-d7e873cda9ee\")) {\n",
       "    Plotly.newPlot(\"8bc9f19d-450d-4159-b023-d7e873cda9ee\", [{\"cells\": {\"align\": \"center\", \"fill\": {\"color\": [[\"#EBF0F8\", \"#ffffff\", \"#EBF0F8\", \"#ffffff\"]]}, \"height\": 40, \"line\": {\"width\": 0}, \"values\": [\"5000\", \"1.047\", \"0.592\", \"Sample looks Gaussian (fail to reject H0)\"]}, \"columnwidth\": [0.3, 0.25, 0.3, 0.45], \"header\": {\"align\": \"center\", \"fill\": {\"color\": \"rgba(42,63,95,0.8)\"}, \"font\": {\"color\": \"#ffffff\", \"size\": 12}, \"line\": {\"width\": 0}, \"values\": [\"<b>Sample Size</b>\", \"<b>Statistic</b>\", \"<b>p-Value</b>\", \"<b>Comment</b>\"]}, \"type\": \"table\", \"uid\": \"a8fe0857-a3ce-4941-b34a-25552469cfe4\"}], {\"height\": 260, \"title\": {\"text\": \"Jarque-Beta Test\"}, \"width\": 1000}, {\"showLink\": false, \"linkText\": \"Export to plot.ly\", \"plotlyServerURL\": \"https://plot.ly\"}); \n",
       "}\n",
       "});</script>"
      ]
     },
     "metadata": {},
     "output_type": "display_data"
    }
   ],
   "source": [
    "# Normality test\n",
    "test = \"Jarque-Beta Test\"\n",
    "stat, p = stats.jarque_bera(samples_r_s)\n",
    "\n",
    "# Round results\n",
    "stat = round(stat, 3)\n",
    "p = round(p, 3)\n",
    "\n",
    "# Interpre results\n",
    "alpha = 0.05\n",
    "if p > alpha:\n",
    "    msg = 'Sample looks Gaussian (fail to reject H0)'\n",
    "else:\n",
    "    msg = \"Sample does not look Gaussian (reject H0)\"\n",
    "\n",
    "# Create table\n",
    "result_mat = [len(samples_r_s), stat, p, msg]\n",
    "\n",
    "trace = go.Table(\n",
    "    header=dict(values=['<b>Sample Size</b>', '<b>Statistic</b>', '<b>p-Value</b>', '<b>Comment</b>'],\n",
    "                line = dict(width=0),\n",
    "                fill = dict(color='rgba(42,63,95,0.8)'),\n",
    "                align = 'center',\n",
    "                font = dict(\n",
    "                    color = '#ffffff',\n",
    "                    size = 12\n",
    "                )),\n",
    "    cells=dict(values=np.array(result_mat).T,\n",
    "               line = dict(width=0),\n",
    "               fill = dict(color=[['#EBF0F8', '#ffffff', '#EBF0F8', '#ffffff']]),\n",
    "               align = 'center',\n",
    "               height = 40),\n",
    "    columnwidth=[0.3, 0.25, 0.3, 0.45])\n",
    "       \n",
    "data = [trace]\n",
    "\n",
    "layout = dict(title=test, height=260, width=1000)\n",
    "\n",
    "jb_table = dict(data=data, layout=layout)\n",
    "\n",
    "# Plot table\n",
    "py.offline.iplot(jb_table)"
   ]
  },
  {
   "cell_type": "markdown",
   "metadata": {},
   "source": [
    "### Kolmogorov Smirnov Test"
   ]
  },
  {
   "cell_type": "code",
   "execution_count": 29,
   "metadata": {},
   "outputs": [
    {
     "data": {
      "application/vnd.plotly.v1+json": {
       "config": {
        "linkText": "Export to plot.ly",
        "plotlyServerURL": "https://plot.ly",
        "showLink": false
       },
       "data": [
        {
         "cells": {
          "align": "center",
          "fill": {
           "color": [
            [
             "#EBF0F8",
             "#ffffff",
             "#EBF0F8",
             "#ffffff"
            ]
           ]
          },
          "height": 40,
          "line": {
           "width": 0
          },
          "values": [
           "5000",
           "0.006",
           "0.678",
           "Sample looks Gaussian (fail to reject H0)"
          ]
         },
         "columnwidth": [
          0.3,
          0.25,
          0.3,
          0.45
         ],
         "header": {
          "align": "center",
          "fill": {
           "color": "rgba(42,63,95,0.8)"
          },
          "font": {
           "color": "#ffffff",
           "size": 12
          },
          "line": {
           "width": 0
          },
          "values": [
           "<b>Sample Size</b>",
           "<b>Statistic</b>",
           "<b>p-Value</b>",
           "<b>Comment</b>"
          ]
         },
         "type": "table",
         "uid": "9bcccd0c-cf5b-4caf-984b-4d661052334a"
        }
       ],
       "layout": {
        "height": 260,
        "title": {
         "text": "Kolmogorov Smirnov Test"
        },
        "width": 1000
       }
      },
      "text/html": [
       "<div id=\"3b769fdf-84d5-40bc-b3a1-e9eb4430534e\" style=\"height: 260px; width: 1000px;\" class=\"plotly-graph-div\"></div><script type=\"text/javascript\">require([\"plotly\"], function(Plotly) { window.PLOTLYENV=window.PLOTLYENV || {};window.PLOTLYENV.BASE_URL=\"https://plot.ly\";\n",
       "if (document.getElementById(\"3b769fdf-84d5-40bc-b3a1-e9eb4430534e\")) {\n",
       "    Plotly.newPlot(\"3b769fdf-84d5-40bc-b3a1-e9eb4430534e\", [{\"cells\": {\"align\": \"center\", \"fill\": {\"color\": [[\"#EBF0F8\", \"#ffffff\", \"#EBF0F8\", \"#ffffff\"]]}, \"height\": 40, \"line\": {\"width\": 0}, \"values\": [\"5000\", \"0.006\", \"0.678\", \"Sample looks Gaussian (fail to reject H0)\"]}, \"columnwidth\": [0.3, 0.25, 0.3, 0.45], \"header\": {\"align\": \"center\", \"fill\": {\"color\": \"rgba(42,63,95,0.8)\"}, \"font\": {\"color\": \"#ffffff\", \"size\": 12}, \"line\": {\"width\": 0}, \"values\": [\"<b>Sample Size</b>\", \"<b>Statistic</b>\", \"<b>p-Value</b>\", \"<b>Comment</b>\"]}, \"type\": \"table\", \"uid\": \"d7d617c4-3fef-4c18-9701-df429c577167\"}], {\"height\": 260, \"title\": {\"text\": \"Kolmogorov Smirnov Test\"}, \"width\": 1000}, {\"showLink\": false, \"linkText\": \"Export to plot.ly\", \"plotlyServerURL\": \"https://plot.ly\"}); \n",
       "}\n",
       "});</script>"
      ],
      "text/vnd.plotly.v1+html": [
       "<div id=\"3b769fdf-84d5-40bc-b3a1-e9eb4430534e\" style=\"height: 260px; width: 1000px;\" class=\"plotly-graph-div\"></div><script type=\"text/javascript\">require([\"plotly\"], function(Plotly) { window.PLOTLYENV=window.PLOTLYENV || {};window.PLOTLYENV.BASE_URL=\"https://plot.ly\";\n",
       "if (document.getElementById(\"3b769fdf-84d5-40bc-b3a1-e9eb4430534e\")) {\n",
       "    Plotly.newPlot(\"3b769fdf-84d5-40bc-b3a1-e9eb4430534e\", [{\"cells\": {\"align\": \"center\", \"fill\": {\"color\": [[\"#EBF0F8\", \"#ffffff\", \"#EBF0F8\", \"#ffffff\"]]}, \"height\": 40, \"line\": {\"width\": 0}, \"values\": [\"5000\", \"0.006\", \"0.678\", \"Sample looks Gaussian (fail to reject H0)\"]}, \"columnwidth\": [0.3, 0.25, 0.3, 0.45], \"header\": {\"align\": \"center\", \"fill\": {\"color\": \"rgba(42,63,95,0.8)\"}, \"font\": {\"color\": \"#ffffff\", \"size\": 12}, \"line\": {\"width\": 0}, \"values\": [\"<b>Sample Size</b>\", \"<b>Statistic</b>\", \"<b>p-Value</b>\", \"<b>Comment</b>\"]}, \"type\": \"table\", \"uid\": \"d7d617c4-3fef-4c18-9701-df429c577167\"}], {\"height\": 260, \"title\": {\"text\": \"Kolmogorov Smirnov Test\"}, \"width\": 1000}, {\"showLink\": false, \"linkText\": \"Export to plot.ly\", \"plotlyServerURL\": \"https://plot.ly\"}); \n",
       "}\n",
       "});</script>"
      ]
     },
     "metadata": {},
     "output_type": "display_data"
    }
   ],
   "source": [
    "# Normality test\n",
    "test = \"Kolmogorov Smirnov Test\"\n",
    "stat, p = stats.kstest(np.array(samples_r_s),'norm', alternative = 'greater')\n",
    "\n",
    "# Round results\n",
    "stat = round(stat, 3)\n",
    "p = round(p, 3)\n",
    "\n",
    "# Interpre results\n",
    "alpha = 0.05\n",
    "if p > alpha:\n",
    "    msg = 'Sample looks Gaussian (fail to reject H0)'\n",
    "else:\n",
    "    msg = \"Sample does not look Gaussian (reject H0)\"\n",
    "\n",
    "# Create table\n",
    "result_mat = [len(samples_r_s), stat, p, msg]\n",
    "\n",
    "trace = go.Table(\n",
    "    header=dict(values=['<b>Sample Size</b>', '<b>Statistic</b>', '<b>p-Value</b>', '<b>Comment</b>'],\n",
    "                line = dict(width=0),\n",
    "                fill = dict(color='rgba(42,63,95,0.8)'),\n",
    "                align = 'center',\n",
    "                font = dict(\n",
    "                    color = '#ffffff',\n",
    "                    size = 12\n",
    "                )),\n",
    "    cells=dict(values=np.array(result_mat).T,\n",
    "               line = dict(width=0),\n",
    "               fill = dict(color=[['#EBF0F8', '#ffffff', '#EBF0F8', '#ffffff']]),\n",
    "               align = 'center',\n",
    "               height = 40),\n",
    "    columnwidth=[0.3, 0.25, 0.3, 0.45])\n",
    "       \n",
    "data = [trace]\n",
    "\n",
    "layout = dict(title=test, height=260, width=1000)\n",
    "\n",
    "ks_table = dict(data=data, layout=layout)\n",
    "\n",
    "# Plot table\n",
    "py.offline.iplot(ks_table)"
   ]
  },
  {
   "cell_type": "markdown",
   "metadata": {},
   "source": [
    "### Anderson-Darling"
   ]
  },
  {
   "cell_type": "code",
   "execution_count": 30,
   "metadata": {},
   "outputs": [
    {
     "data": {
      "application/vnd.plotly.v1+json": {
       "config": {
        "linkText": "Export to plot.ly",
        "plotlyServerURL": "https://plot.ly",
        "showLink": false
       },
       "data": [
        {
         "cells": {
          "align": "center",
          "fill": {
           "color": [
            [
             "#EBF0F8",
             "#ffffff",
             "#EBF0F8",
             "#ffffff",
             "#EBF0F8"
            ]
           ]
          },
          "height": 40,
          "line": {
           "width": 0
          },
          "values": [
           [
            "5000",
            "5000",
            "5000",
            "5000",
            "5000"
           ],
           [
            "0.256",
            "0.256",
            "0.256",
            "0.256",
            "0.256"
           ],
           [
            "15.0",
            "10.0",
            "5.0",
            "2.5",
            "1.0"
           ],
           [
            "0.576",
            "0.655",
            "0.786",
            "0.917",
            "1.091"
           ],
           [
            "Sample looks Gaussian (fail to reject H0)",
            "Sample looks Gaussian (fail to reject H0)",
            "Sample looks Gaussian (fail to reject H0)",
            "Sample looks Gaussian (fail to reject H0)",
            "Sample looks Gaussian (fail to reject H0)"
           ]
          ]
         },
         "columnwidth": [
          0.3,
          0.25,
          0.3,
          0.25,
          0.5
         ],
         "header": {
          "align": "center",
          "fill": {
           "color": "rgba(42,63,95,0.8)"
          },
          "font": {
           "color": "#ffffff",
           "size": 12
          },
          "line": {
           "width": 0
          },
          "values": [
           "<b>Sample Size</b>",
           "<b>Statistic</b>",
           "<b>Significance Level</b>",
           "<b>Critical Value</b>",
           "<b>Comment</b>"
          ]
         },
         "type": "table",
         "uid": "abea0054-6fc2-43e4-9fb6-7e0e9ef32427"
        }
       ],
       "layout": {
        "height": 415,
        "title": {
         "text": "Anderson-Darling Test"
        },
        "width": 1000
       }
      },
      "text/html": [
       "<div id=\"0dd98c7c-c8ca-403a-8d25-a2cc01579b39\" style=\"height: 415px; width: 1000px;\" class=\"plotly-graph-div\"></div><script type=\"text/javascript\">require([\"plotly\"], function(Plotly) { window.PLOTLYENV=window.PLOTLYENV || {};window.PLOTLYENV.BASE_URL=\"https://plot.ly\";\n",
       "if (document.getElementById(\"0dd98c7c-c8ca-403a-8d25-a2cc01579b39\")) {\n",
       "    Plotly.newPlot(\"0dd98c7c-c8ca-403a-8d25-a2cc01579b39\", [{\"cells\": {\"align\": \"center\", \"fill\": {\"color\": [[\"#EBF0F8\", \"#ffffff\", \"#EBF0F8\", \"#ffffff\", \"#EBF0F8\"]]}, \"height\": 40, \"line\": {\"width\": 0}, \"values\": [[\"5000\", \"5000\", \"5000\", \"5000\", \"5000\"], [\"0.256\", \"0.256\", \"0.256\", \"0.256\", \"0.256\"], [\"15.0\", \"10.0\", \"5.0\", \"2.5\", \"1.0\"], [\"0.576\", \"0.655\", \"0.786\", \"0.917\", \"1.091\"], [\"Sample looks Gaussian (fail to reject H0)\", \"Sample looks Gaussian (fail to reject H0)\", \"Sample looks Gaussian (fail to reject H0)\", \"Sample looks Gaussian (fail to reject H0)\", \"Sample looks Gaussian (fail to reject H0)\"]]}, \"columnwidth\": [0.3, 0.25, 0.3, 0.25, 0.5], \"header\": {\"align\": \"center\", \"fill\": {\"color\": \"rgba(42,63,95,0.8)\"}, \"font\": {\"color\": \"#ffffff\", \"size\": 12}, \"line\": {\"width\": 0}, \"values\": [\"<b>Sample Size</b>\", \"<b>Statistic</b>\", \"<b>Significance Level</b>\", \"<b>Critical Value</b>\", \"<b>Comment</b>\"]}, \"type\": \"table\", \"uid\": \"8a948ad0-c011-47d0-97dc-2ef0f6ebc07b\"}], {\"height\": 415, \"title\": {\"text\": \"Anderson-Darling Test\"}, \"width\": 1000}, {\"showLink\": false, \"linkText\": \"Export to plot.ly\", \"plotlyServerURL\": \"https://plot.ly\"}); \n",
       "}\n",
       "});</script>"
      ],
      "text/vnd.plotly.v1+html": [
       "<div id=\"0dd98c7c-c8ca-403a-8d25-a2cc01579b39\" style=\"height: 415px; width: 1000px;\" class=\"plotly-graph-div\"></div><script type=\"text/javascript\">require([\"plotly\"], function(Plotly) { window.PLOTLYENV=window.PLOTLYENV || {};window.PLOTLYENV.BASE_URL=\"https://plot.ly\";\n",
       "if (document.getElementById(\"0dd98c7c-c8ca-403a-8d25-a2cc01579b39\")) {\n",
       "    Plotly.newPlot(\"0dd98c7c-c8ca-403a-8d25-a2cc01579b39\", [{\"cells\": {\"align\": \"center\", \"fill\": {\"color\": [[\"#EBF0F8\", \"#ffffff\", \"#EBF0F8\", \"#ffffff\", \"#EBF0F8\"]]}, \"height\": 40, \"line\": {\"width\": 0}, \"values\": [[\"5000\", \"5000\", \"5000\", \"5000\", \"5000\"], [\"0.256\", \"0.256\", \"0.256\", \"0.256\", \"0.256\"], [\"15.0\", \"10.0\", \"5.0\", \"2.5\", \"1.0\"], [\"0.576\", \"0.655\", \"0.786\", \"0.917\", \"1.091\"], [\"Sample looks Gaussian (fail to reject H0)\", \"Sample looks Gaussian (fail to reject H0)\", \"Sample looks Gaussian (fail to reject H0)\", \"Sample looks Gaussian (fail to reject H0)\", \"Sample looks Gaussian (fail to reject H0)\"]]}, \"columnwidth\": [0.3, 0.25, 0.3, 0.25, 0.5], \"header\": {\"align\": \"center\", \"fill\": {\"color\": \"rgba(42,63,95,0.8)\"}, \"font\": {\"color\": \"#ffffff\", \"size\": 12}, \"line\": {\"width\": 0}, \"values\": [\"<b>Sample Size</b>\", \"<b>Statistic</b>\", \"<b>Significance Level</b>\", \"<b>Critical Value</b>\", \"<b>Comment</b>\"]}, \"type\": \"table\", \"uid\": \"8a948ad0-c011-47d0-97dc-2ef0f6ebc07b\"}], {\"height\": 415, \"title\": {\"text\": \"Anderson-Darling Test\"}, \"width\": 1000}, {\"showLink\": false, \"linkText\": \"Export to plot.ly\", \"plotlyServerURL\": \"https://plot.ly\"}); \n",
       "}\n",
       "});</script>"
      ]
     },
     "metadata": {},
     "output_type": "display_data"
    }
   ],
   "source": [
    "# Normality test\n",
    "test = \"Anderson-Darling Test\"\n",
    "result = anderson(samples_r_s)\n",
    "\n",
    "# Round results\n",
    "stat = round(result.statistic, 3)\n",
    "\n",
    "# Create table\n",
    "result_mat = []\n",
    "for i in range(len(result.critical_values)):\n",
    "    sl, cv = result.significance_level[i], result.critical_values[i]\n",
    "    if result.statistic < result.critical_values[i]:\n",
    "        msg = 'Sample looks Gaussian (fail to reject H0)'\n",
    "    else:\n",
    "        msg = 'Sample does not look Gaussian (reject H0)'\n",
    "    result_mat.append([len(samples_r_s), stat, sl, cv, msg])\n",
    "\n",
    "trace = go.Table(\n",
    "    header=dict(values=['<b>Sample Size</b>', '<b>Statistic</b>', '<b>Significance Level</b>', '<b>Critical Value</b>', '<b>Comment</b>'],\n",
    "                line = dict(width=0),\n",
    "                fill = dict(color='rgba(42,63,95,0.8)'),\n",
    "                align = 'center',\n",
    "                font = dict(\n",
    "                    color = '#ffffff',\n",
    "                    size = 12\n",
    "                )),\n",
    "    cells=dict(values=np.array(result_mat).T,\n",
    "               line = dict(width=0),\n",
    "               fill = dict(color=[['#EBF0F8', '#ffffff', '#EBF0F8', '#ffffff', '#EBF0F8']]),\n",
    "               align = 'center',\n",
    "               height = 40),\n",
    "    columnwidth=[0.3, 0.25, 0.3, 0.25, 0.5])\n",
    "       \n",
    "data = [trace]\n",
    "\n",
    "layout = dict(title=test, height=415, width=1000)\n",
    "\n",
    "andar_table = dict(data=data, layout=layout)\n",
    "\n",
    "# Plot table\n",
    "py.offline.iplot(andar_table)"
   ]
  },
  {
   "cell_type": "markdown",
   "metadata": {},
   "source": [
    "## 4.3 Box-Muller Transformation\n",
    "\n",
    "The Box-Muller transformation is a method for generating normally distributed random numbers from uniformly distributed random numbers. \n",
    "\n",
    "It can be summarized as follows:\n",
    "\n",
    "Suppose u1 and u2 are independent random variables that are uniformly distributed between 0 and 1 and let \n",
    "\n",
    "$$ z1 = \\sqrt{-2ln(u_{1})} \\ cos(2 \\pi \\ u_{2})$$ \n",
    "\n",
    "$$ z2 = \\sqrt{-2ln(u_{1})} \\ sin(2 \\pi \\ u_{2})$$ \n",
    "\n",
    "then z1 and z2 are independent random variables with a standard normal distribution. \n",
    "\n",
    "Intuitively, the transformation maps each circle of points around the origin to another circle of points around the origin where larger outer circles are mapped to closely-spaced inner circles and inner circles to outer circles. "
   ]
  },
  {
   "cell_type": "code",
   "execution_count": 31,
   "metadata": {},
   "outputs": [
    {
     "data": {
      "image/png": "[encoded data removed]",
      "text/plain": [
       "<Figure size 432x288 with 4 Axes>"
      ]
     },
     "metadata": {
      "needs_background": "light"
     },
     "output_type": "display_data"
    },
    {
     "data": {
      "image/png": "[encoded data removed]",
      "text/plain": [
       "<Figure size 432x432 with 3 Axes>"
      ]
     },
     "metadata": {
      "needs_background": "light"
     },
     "output_type": "display_data"
    }
   ],
   "source": [
    "# Set seed \n",
    "np.random.seed(1)\n",
    "\n",
    "# uniformly distributed values between 0 and 1\n",
    "u1 = random.rand(n_samples)\n",
    "u2 = random.rand(n_samples)\n",
    "\n",
    "# run the transformation\n",
    "z1,z2 = sample_normal_boxmuller(u1, u2)\n",
    "\n",
    "# plotting the values before and after the transformation\n",
    "figure()\n",
    "subplot(221, title=\"u1\")     # the first row of graphs\n",
    "sns.distplot(u1, bins=10)    # contains the histograms of u1 and u2 \n",
    "subplot(222, title=\"u2\")\n",
    "sns.distplot(u2, bins=10)\n",
    "subplot(223, title=\"z1\")     # the second contains\n",
    "sns.distplot(z1, bins=40)    # the histograms of z1 and z2\n",
    "subplot(224, title=\"z2\")\n",
    "sns.distplot(z2, bins=40)\n",
    "\n",
    "plt.subplots_adjust(top=None, bottom=None, left=None, right=None, hspace=0.45,\n",
    "                    wspace=None)\n",
    "\n",
    "# plotting the joint values after the transformation\n",
    "sub = sns.jointplot(z1, z2, kind='scatter', marginal_kws=dict(bins=40, kde=True)).set_axis_labels(\"z1\", \"z2\");\n",
    "sub.fig.suptitle('Joint values after the transformation:'); sub.fig.subplots_adjust(top=0.92);"
   ]
  },
  {
   "cell_type": "markdown",
   "metadata": {},
   "source": [
    "We can adjust the algorithm to generate numbers that are normally distributed with any mean and standard deviation as parameters"
   ]
  },
  {
   "cell_type": "markdown",
   "metadata": {},
   "source": [
    "### Generate Samples"
   ]
  },
  {
   "cell_type": "code",
   "execution_count": 32,
   "metadata": {},
   "outputs": [],
   "source": [
    "tic = timeit.default_timer()\n",
    "\n",
    "# Generate n_samples samples \n",
    "samples_b_m = []\n",
    "for i in range(n_samples):\n",
    "    samples_b_m.append(sample_normal_boxmuller_adj(mu, sigma))  \n",
    "\n",
    "toc = timeit.default_timer()"
   ]
  },
  {
   "cell_type": "markdown",
   "metadata": {},
   "source": [
    "###  Histogram Plot"
   ]
  },
  {
   "cell_type": "code",
   "execution_count": 33,
   "metadata": {},
   "outputs": [
    {
     "name": "stdout",
     "output_type": "stream",
     "text": [
      "running time = 0.045, mean = -0.018, std_dev = 1.002\n"
     ]
    },
    {
     "data": {
      "image/png": "[encoded data removed]",
      "text/plain": [
       "<Figure size 432x288 with 1 Axes>"
      ]
     },
     "metadata": {
      "needs_background": "light"
     },
     "output_type": "display_data"
    }
   ],
   "source": [
    "# Plot n_samples samples \n",
    " \n",
    "sns.distplot(samples_b_m, bins=40).set_title(str(n_samples)+ \" samples using boxmuller\");\n",
    "\n",
    "print(\"running time = %.3f, mean = %.3f, std_dev = %.3f\" % (toc-tic, np.mean(samples_b_m), np.std(samples_b_m)));"
   ]
  },
  {
   "cell_type": "markdown",
   "metadata": {},
   "source": [
    "### Q-Q Plot and P-P Plot"
   ]
  },
  {
   "cell_type": "code",
   "execution_count": 34,
   "metadata": {},
   "outputs": [
    {
     "data": {
      "image/png": "[encoded data removed]",
      "text/plain": [
       "<Figure size 720x288 with 2 Axes>"
      ]
     },
     "metadata": {
      "needs_background": "light"
     },
     "output_type": "display_data"
    }
   ],
   "source": [
    "# Plot q-q and p-p plot\n",
    "fig, ax = plt.subplots(1, 2, figsize=(10, 4))\n",
    "probplot = sm.ProbPlot(np.array(samples_b_m), dist=norm, fit=True)\n",
    "probplot.ppplot(line='45', ax=ax[0])\n",
    "probplot.qqplot(line='45', ax=ax[1])\n",
    "ax[0].set_title('P-P Plot')\n",
    "ax[1].set_title('Q-Q Plot');"
   ]
  },
  {
   "cell_type": "markdown",
   "metadata": {},
   "source": [
    "### Boxplot"
   ]
  },
  {
   "cell_type": "code",
   "execution_count": 35,
   "metadata": {},
   "outputs": [
    {
     "data": {
      "image/png": "[encoded data removed]",
      "text/plain": [
       "<Figure size 432x288 with 1 Axes>"
      ]
     },
     "metadata": {
      "needs_background": "light"
     },
     "output_type": "display_data"
    }
   ],
   "source": [
    "# Plot boxplot plot\n",
    "sns.boxplot(samples_b_m, width=4);"
   ]
  },
  {
   "cell_type": "markdown",
   "metadata": {},
   "source": [
    "### Empirical Cumulative Distribution Function Plot"
   ]
  },
  {
   "cell_type": "code",
   "execution_count": 36,
   "metadata": {},
   "outputs": [
    {
     "data": {
      "image/png": "[encoded data removed]",
      "text/plain": [
       "<Figure size 432x288 with 1 Axes>"
      ]
     },
     "metadata": {
      "needs_background": "light"
     },
     "output_type": "display_data"
    }
   ],
   "source": [
    "# Plot Empirical Cumulative Distribution vs Normal Cumulative Distribution\n",
    "x=np.linspace(-5, 5)\n",
    "\n",
    "# Plot normal cdf\n",
    "plot_normal(x, mu=mu, sigma=sigma, cdf=True, label=\"normal cdf\")\n",
    "\n",
    "# Plor ecdf\n",
    "ecdf = sm.distributions.ECDF(samples_b_m)\n",
    "ecdf = ecdf(x)\n",
    "plt.step(x, ecdf, label=\"ecdf\")\n",
    "\n",
    "plt.legend();"
   ]
  },
  {
   "cell_type": "markdown",
   "metadata": {},
   "source": [
    "### Shapiro-Wilk Test"
   ]
  },
  {
   "cell_type": "code",
   "execution_count": 37,
   "metadata": {
    "scrolled": true
   },
   "outputs": [
    {
     "data": {
      "application/vnd.plotly.v1+json": {
       "config": {
        "linkText": "Export to plot.ly",
        "plotlyServerURL": "https://plot.ly",
        "showLink": false
       },
       "data": [
        {
         "cells": {
          "align": "center",
          "fill": {
           "color": [
            [
             "#EBF0F8",
             "#ffffff",
             "#EBF0F8",
             "#ffffff"
            ]
           ]
          },
          "height": 40,
          "line": {
           "width": 0
          },
          "values": [
           "5000",
           "1.0",
           "0.751",
           "Sample looks Gaussian (fail to reject H0)"
          ]
         },
         "columnwidth": [
          0.3,
          0.25,
          0.3,
          0.45
         ],
         "header": {
          "align": "center",
          "fill": {
           "color": "rgba(42,63,95,0.8)"
          },
          "font": {
           "color": "#ffffff",
           "size": 12
          },
          "line": {
           "width": 0
          },
          "values": [
           "<b>Sample Size</b>",
           "<b>Statistic</b>",
           "<b>p-Value</b>",
           "<b>Comment</b>"
          ]
         },
         "type": "table",
         "uid": "a03037ad-02f4-4402-8a03-0993a90cc277"
        }
       ],
       "layout": {
        "height": 260,
        "title": {
         "text": "Shapiro-Wilk Test"
        },
        "width": 1000
       }
      },
      "text/html": [
       "<div id=\"369774e0-722e-4715-91f7-2a4cff9fbc2f\" style=\"height: 260px; width: 1000px;\" class=\"plotly-graph-div\"></div><script type=\"text/javascript\">require([\"plotly\"], function(Plotly) { window.PLOTLYENV=window.PLOTLYENV || {};window.PLOTLYENV.BASE_URL=\"https://plot.ly\";\n",
       "if (document.getElementById(\"369774e0-722e-4715-91f7-2a4cff9fbc2f\")) {\n",
       "    Plotly.newPlot(\"369774e0-722e-4715-91f7-2a4cff9fbc2f\", [{\"cells\": {\"align\": \"center\", \"fill\": {\"color\": [[\"#EBF0F8\", \"#ffffff\", \"#EBF0F8\", \"#ffffff\"]]}, \"height\": 40, \"line\": {\"width\": 0}, \"values\": [\"5000\", \"1.0\", \"0.751\", \"Sample looks Gaussian (fail to reject H0)\"]}, \"columnwidth\": [0.3, 0.25, 0.3, 0.45], \"header\": {\"align\": \"center\", \"fill\": {\"color\": \"rgba(42,63,95,0.8)\"}, \"font\": {\"color\": \"#ffffff\", \"size\": 12}, \"line\": {\"width\": 0}, \"values\": [\"<b>Sample Size</b>\", \"<b>Statistic</b>\", \"<b>p-Value</b>\", \"<b>Comment</b>\"]}, \"type\": \"table\", \"uid\": \"cdf59cff-9b43-4a2d-84cc-45baf53d5b5f\"}], {\"height\": 260, \"title\": {\"text\": \"Shapiro-Wilk Test\"}, \"width\": 1000}, {\"showLink\": false, \"linkText\": \"Export to plot.ly\", \"plotlyServerURL\": \"https://plot.ly\"}); \n",
       "}\n",
       "});</script>"
      ],
      "text/vnd.plotly.v1+html": [
       "<div id=\"369774e0-722e-4715-91f7-2a4cff9fbc2f\" style=\"height: 260px; width: 1000px;\" class=\"plotly-graph-div\"></div><script type=\"text/javascript\">require([\"plotly\"], function(Plotly) { window.PLOTLYENV=window.PLOTLYENV || {};window.PLOTLYENV.BASE_URL=\"https://plot.ly\";\n",
       "if (document.getElementById(\"369774e0-722e-4715-91f7-2a4cff9fbc2f\")) {\n",
       "    Plotly.newPlot(\"369774e0-722e-4715-91f7-2a4cff9fbc2f\", [{\"cells\": {\"align\": \"center\", \"fill\": {\"color\": [[\"#EBF0F8\", \"#ffffff\", \"#EBF0F8\", \"#ffffff\"]]}, \"height\": 40, \"line\": {\"width\": 0}, \"values\": [\"5000\", \"1.0\", \"0.751\", \"Sample looks Gaussian (fail to reject H0)\"]}, \"columnwidth\": [0.3, 0.25, 0.3, 0.45], \"header\": {\"align\": \"center\", \"fill\": {\"color\": \"rgba(42,63,95,0.8)\"}, \"font\": {\"color\": \"#ffffff\", \"size\": 12}, \"line\": {\"width\": 0}, \"values\": [\"<b>Sample Size</b>\", \"<b>Statistic</b>\", \"<b>p-Value</b>\", \"<b>Comment</b>\"]}, \"type\": \"table\", \"uid\": \"cdf59cff-9b43-4a2d-84cc-45baf53d5b5f\"}], {\"height\": 260, \"title\": {\"text\": \"Shapiro-Wilk Test\"}, \"width\": 1000}, {\"showLink\": false, \"linkText\": \"Export to plot.ly\", \"plotlyServerURL\": \"https://plot.ly\"}); \n",
       "}\n",
       "});</script>"
      ]
     },
     "metadata": {},
     "output_type": "display_data"
    }
   ],
   "source": [
    "# Normality test\n",
    "test = \"Shapiro-Wilk Test\"\n",
    "stat, p = shapiro(samples_b_m)\n",
    "\n",
    "# Round results\n",
    "stat = round(stat, 3)\n",
    "p = round(p, 3)\n",
    "\n",
    "# Interpre results\n",
    "alpha = 0.05\n",
    "if p > alpha:\n",
    "    msg = 'Sample looks Gaussian (fail to reject H0)'\n",
    "else:\n",
    "    msg = \"Sample does not look Gaussian (reject H0)\"\n",
    "\n",
    "# Create table\n",
    "result_mat = [len(samples_b_m), stat, p, msg]\n",
    "\n",
    "trace = go.Table(\n",
    "    header=dict(values=['<b>Sample Size</b>', '<b>Statistic</b>', '<b>p-Value</b>', '<b>Comment</b>'],\n",
    "                line = dict(width=0),\n",
    "                fill = dict(color='rgba(42,63,95,0.8)'),\n",
    "                align = 'center',\n",
    "                font = dict(\n",
    "                    color = '#ffffff',\n",
    "                    size = 12\n",
    "                )),\n",
    "    cells=dict(values=np.array(result_mat).T,\n",
    "               line = dict(width=0),\n",
    "               fill = dict(color=[['#EBF0F8', '#ffffff', '#EBF0F8', '#ffffff']]),\n",
    "               align = 'center',\n",
    "               height = 40),\n",
    "    columnwidth=[0.3, 0.25, 0.3, 0.45])\n",
    "       \n",
    "data = [trace]\n",
    "\n",
    "layout = dict(title=test, height=260, width=1000)\n",
    "\n",
    "sw_table = dict(data=data, layout=layout)\n",
    "\n",
    "# Plot table\n",
    "py.offline.iplot(sw_table)"
   ]
  },
  {
   "cell_type": "markdown",
   "metadata": {},
   "source": [
    "### D’Agostino’s K^2 Test"
   ]
  },
  {
   "cell_type": "code",
   "execution_count": 38,
   "metadata": {},
   "outputs": [
    {
     "data": {
      "application/vnd.plotly.v1+json": {
       "config": {
        "linkText": "Export to plot.ly",
        "plotlyServerURL": "https://plot.ly",
        "showLink": false
       },
       "data": [
        {
         "cells": {
          "align": "center",
          "fill": {
           "color": [
            [
             "#EBF0F8",
             "#ffffff",
             "#EBF0F8",
             "#ffffff"
            ]
           ]
          },
          "height": 40,
          "line": {
           "width": 0
          },
          "values": [
           "5000",
           "0.259",
           "0.879",
           "Sample looks Gaussian (fail to reject H0)"
          ]
         },
         "columnwidth": [
          0.3,
          0.25,
          0.3,
          0.45
         ],
         "header": {
          "align": "center",
          "fill": {
           "color": "rgba(42,63,95,0.8)"
          },
          "font": {
           "color": "#ffffff",
           "size": 12
          },
          "line": {
           "width": 0
          },
          "values": [
           "<b>Sample Size</b>",
           "<b>Statistic</b>",
           "<b>p-Value</b>",
           "<b>Comment</b>"
          ]
         },
         "type": "table",
         "uid": "80654633-d503-41a7-9475-5b0174a8cfaf"
        }
       ],
       "layout": {
        "height": 260,
        "title": {
         "text": "D’Agostino’s K^2 Test"
        },
        "width": 1000
       }
      },
      "text/html": [
       "<div id=\"224e3b21-ca07-4f2e-8ada-2ba9f1e33b33\" style=\"height: 260px; width: 1000px;\" class=\"plotly-graph-div\"></div><script type=\"text/javascript\">require([\"plotly\"], function(Plotly) { window.PLOTLYENV=window.PLOTLYENV || {};window.PLOTLYENV.BASE_URL=\"https://plot.ly\";\n",
       "if (document.getElementById(\"224e3b21-ca07-4f2e-8ada-2ba9f1e33b33\")) {\n",
       "    Plotly.newPlot(\"224e3b21-ca07-4f2e-8ada-2ba9f1e33b33\", [{\"cells\": {\"align\": \"center\", \"fill\": {\"color\": [[\"#EBF0F8\", \"#ffffff\", \"#EBF0F8\", \"#ffffff\"]]}, \"height\": 40, \"line\": {\"width\": 0}, \"values\": [\"5000\", \"0.259\", \"0.879\", \"Sample looks Gaussian (fail to reject H0)\"]}, \"columnwidth\": [0.3, 0.25, 0.3, 0.45], \"header\": {\"align\": \"center\", \"fill\": {\"color\": \"rgba(42,63,95,0.8)\"}, \"font\": {\"color\": \"#ffffff\", \"size\": 12}, \"line\": {\"width\": 0}, \"values\": [\"<b>Sample Size</b>\", \"<b>Statistic</b>\", \"<b>p-Value</b>\", \"<b>Comment</b>\"]}, \"type\": \"table\", \"uid\": \"67031815-e8d2-416c-9864-bc4b57a193ee\"}], {\"height\": 260, \"title\": {\"text\": \"D\\u2019Agostino\\u2019s K^2 Test\"}, \"width\": 1000}, {\"showLink\": false, \"linkText\": \"Export to plot.ly\", \"plotlyServerURL\": \"https://plot.ly\"}); \n",
       "}\n",
       "});</script>"
      ],
      "text/vnd.plotly.v1+html": [
       "<div id=\"224e3b21-ca07-4f2e-8ada-2ba9f1e33b33\" style=\"height: 260px; width: 1000px;\" class=\"plotly-graph-div\"></div><script type=\"text/javascript\">require([\"plotly\"], function(Plotly) { window.PLOTLYENV=window.PLOTLYENV || {};window.PLOTLYENV.BASE_URL=\"https://plot.ly\";\n",
       "if (document.getElementById(\"224e3b21-ca07-4f2e-8ada-2ba9f1e33b33\")) {\n",
       "    Plotly.newPlot(\"224e3b21-ca07-4f2e-8ada-2ba9f1e33b33\", [{\"cells\": {\"align\": \"center\", \"fill\": {\"color\": [[\"#EBF0F8\", \"#ffffff\", \"#EBF0F8\", \"#ffffff\"]]}, \"height\": 40, \"line\": {\"width\": 0}, \"values\": [\"5000\", \"0.259\", \"0.879\", \"Sample looks Gaussian (fail to reject H0)\"]}, \"columnwidth\": [0.3, 0.25, 0.3, 0.45], \"header\": {\"align\": \"center\", \"fill\": {\"color\": \"rgba(42,63,95,0.8)\"}, \"font\": {\"color\": \"#ffffff\", \"size\": 12}, \"line\": {\"width\": 0}, \"values\": [\"<b>Sample Size</b>\", \"<b>Statistic</b>\", \"<b>p-Value</b>\", \"<b>Comment</b>\"]}, \"type\": \"table\", \"uid\": \"67031815-e8d2-416c-9864-bc4b57a193ee\"}], {\"height\": 260, \"title\": {\"text\": \"D\\u2019Agostino\\u2019s K^2 Test\"}, \"width\": 1000}, {\"showLink\": false, \"linkText\": \"Export to plot.ly\", \"plotlyServerURL\": \"https://plot.ly\"}); \n",
       "}\n",
       "});</script>"
      ]
     },
     "metadata": {},
     "output_type": "display_data"
    }
   ],
   "source": [
    "# Normality test\n",
    "test = \"D’Agostino’s K^2 Test\"\n",
    "stat, p = normaltest(samples_b_m)\n",
    "\n",
    "# Round results\n",
    "stat = round(stat, 3)\n",
    "p = round(p, 3)\n",
    "\n",
    "# Interpre results\n",
    "alpha = 0.05\n",
    "if p > alpha:\n",
    "    msg = 'Sample looks Gaussian (fail to reject H0)'\n",
    "else:\n",
    "    msg = \"Sample does not look Gaussian (reject H0)\"\n",
    "\n",
    "# Create table\n",
    "result_mat = [len(samples_b_m), stat, p, msg]\n",
    "\n",
    "trace = go.Table(\n",
    "    header=dict(values=['<b>Sample Size</b>', '<b>Statistic</b>', '<b>p-Value</b>', '<b>Comment</b>'],\n",
    "                line = dict(width=0),\n",
    "                fill = dict(color='rgba(42,63,95,0.8)'),\n",
    "                align = 'center',\n",
    "                font = dict(\n",
    "                    color = '#ffffff',\n",
    "                    size = 12\n",
    "                )),\n",
    "    cells=dict(values=np.array(result_mat).T,\n",
    "               line = dict(width=0),\n",
    "               fill = dict(color=[['#EBF0F8', '#ffffff', '#EBF0F8', '#ffffff']]),\n",
    "               align = 'center',\n",
    "               height = 40),\n",
    "    columnwidth=[0.3, 0.25, 0.3, 0.45])\n",
    "       \n",
    "data = [trace]\n",
    "\n",
    "layout = dict(title=test, height=260, width=1000)\n",
    "\n",
    "norm_table = dict(data=data, layout=layout)\n",
    "\n",
    "# Plot table\n",
    "py.offline.iplot(norm_table)"
   ]
  },
  {
   "cell_type": "markdown",
   "metadata": {},
   "source": [
    "### Jarque-Beta Test"
   ]
  },
  {
   "cell_type": "code",
   "execution_count": 39,
   "metadata": {},
   "outputs": [
    {
     "data": {
      "application/vnd.plotly.v1+json": {
       "config": {
        "linkText": "Export to plot.ly",
        "plotlyServerURL": "https://plot.ly",
        "showLink": false
       },
       "data": [
        {
         "cells": {
          "align": "center",
          "fill": {
           "color": [
            [
             "#EBF0F8",
             "#ffffff",
             "#EBF0F8",
             "#ffffff"
            ]
           ]
          },
          "height": 40,
          "line": {
           "width": 0
          },
          "values": [
           "5000",
           "0.214",
           "0.898",
           "Sample looks Gaussian (fail to reject H0)"
          ]
         },
         "columnwidth": [
          0.3,
          0.25,
          0.3,
          0.45
         ],
         "header": {
          "align": "center",
          "fill": {
           "color": "rgba(42,63,95,0.8)"
          },
          "font": {
           "color": "#ffffff",
           "size": 12
          },
          "line": {
           "width": 0
          },
          "values": [
           "<b>Sample Size</b>",
           "<b>Statistic</b>",
           "<b>p-Value</b>",
           "<b>Comment</b>"
          ]
         },
         "type": "table",
         "uid": "559be532-8d25-4843-b5a2-f8f6be9017e2"
        }
       ],
       "layout": {
        "height": 260,
        "title": {
         "text": "Jarque-Beta Test"
        },
        "width": 1000
       }
      },
      "text/html": [
       "<div id=\"e4b21b58-049a-4a6a-9aa4-5ab191ef3562\" style=\"height: 260px; width: 1000px;\" class=\"plotly-graph-div\"></div><script type=\"text/javascript\">require([\"plotly\"], function(Plotly) { window.PLOTLYENV=window.PLOTLYENV || {};window.PLOTLYENV.BASE_URL=\"https://plot.ly\";\n",
       "if (document.getElementById(\"e4b21b58-049a-4a6a-9aa4-5ab191ef3562\")) {\n",
       "    Plotly.newPlot(\"e4b21b58-049a-4a6a-9aa4-5ab191ef3562\", [{\"cells\": {\"align\": \"center\", \"fill\": {\"color\": [[\"#EBF0F8\", \"#ffffff\", \"#EBF0F8\", \"#ffffff\"]]}, \"height\": 40, \"line\": {\"width\": 0}, \"values\": [\"5000\", \"0.214\", \"0.898\", \"Sample looks Gaussian (fail to reject H0)\"]}, \"columnwidth\": [0.3, 0.25, 0.3, 0.45], \"header\": {\"align\": \"center\", \"fill\": {\"color\": \"rgba(42,63,95,0.8)\"}, \"font\": {\"color\": \"#ffffff\", \"size\": 12}, \"line\": {\"width\": 0}, \"values\": [\"<b>Sample Size</b>\", \"<b>Statistic</b>\", \"<b>p-Value</b>\", \"<b>Comment</b>\"]}, \"type\": \"table\", \"uid\": \"169c9736-e1e2-483a-8f5b-d09ecc1d7aec\"}], {\"height\": 260, \"title\": {\"text\": \"Jarque-Beta Test\"}, \"width\": 1000}, {\"showLink\": false, \"linkText\": \"Export to plot.ly\", \"plotlyServerURL\": \"https://plot.ly\"}); \n",
       "}\n",
       "});</script>"
      ],
      "text/vnd.plotly.v1+html": [
       "<div id=\"e4b21b58-049a-4a6a-9aa4-5ab191ef3562\" style=\"height: 260px; width: 1000px;\" class=\"plotly-graph-div\"></div><script type=\"text/javascript\">require([\"plotly\"], function(Plotly) { window.PLOTLYENV=window.PLOTLYENV || {};window.PLOTLYENV.BASE_URL=\"https://plot.ly\";\n",
       "if (document.getElementById(\"e4b21b58-049a-4a6a-9aa4-5ab191ef3562\")) {\n",
       "    Plotly.newPlot(\"e4b21b58-049a-4a6a-9aa4-5ab191ef3562\", [{\"cells\": {\"align\": \"center\", \"fill\": {\"color\": [[\"#EBF0F8\", \"#ffffff\", \"#EBF0F8\", \"#ffffff\"]]}, \"height\": 40, \"line\": {\"width\": 0}, \"values\": [\"5000\", \"0.214\", \"0.898\", \"Sample looks Gaussian (fail to reject H0)\"]}, \"columnwidth\": [0.3, 0.25, 0.3, 0.45], \"header\": {\"align\": \"center\", \"fill\": {\"color\": \"rgba(42,63,95,0.8)\"}, \"font\": {\"color\": \"#ffffff\", \"size\": 12}, \"line\": {\"width\": 0}, \"values\": [\"<b>Sample Size</b>\", \"<b>Statistic</b>\", \"<b>p-Value</b>\", \"<b>Comment</b>\"]}, \"type\": \"table\", \"uid\": \"169c9736-e1e2-483a-8f5b-d09ecc1d7aec\"}], {\"height\": 260, \"title\": {\"text\": \"Jarque-Beta Test\"}, \"width\": 1000}, {\"showLink\": false, \"linkText\": \"Export to plot.ly\", \"plotlyServerURL\": \"https://plot.ly\"}); \n",
       "}\n",
       "});</script>"
      ]
     },
     "metadata": {},
     "output_type": "display_data"
    }
   ],
   "source": [
    "# Normality test\n",
    "test = \"Jarque-Beta Test\"\n",
    "stat, p = stats.jarque_bera(samples_b_m)\n",
    "\n",
    "# Round results\n",
    "stat = round(stat, 3)\n",
    "p = round(p, 3)\n",
    "\n",
    "# Interpre results\n",
    "alpha = 0.05\n",
    "if p > alpha:\n",
    "    msg = 'Sample looks Gaussian (fail to reject H0)'\n",
    "else:\n",
    "    msg = \"Sample does not look Gaussian (reject H0)\"\n",
    "\n",
    "# Create table\n",
    "result_mat = [len(samples_b_m), stat, p, msg]\n",
    "\n",
    "trace = go.Table(\n",
    "    header=dict(values=['<b>Sample Size</b>', '<b>Statistic</b>', '<b>p-Value</b>', '<b>Comment</b>'],\n",
    "                line = dict(width=0),\n",
    "                fill = dict(color='rgba(42,63,95,0.8)'),\n",
    "                align = 'center',\n",
    "                font = dict(\n",
    "                    color = '#ffffff',\n",
    "                    size = 12\n",
    "                )),\n",
    "    cells=dict(values=np.array(result_mat).T,\n",
    "               line = dict(width=0),\n",
    "               fill = dict(color=[['#EBF0F8', '#ffffff', '#EBF0F8', '#ffffff']]),\n",
    "               align = 'center',\n",
    "               height = 40),\n",
    "    columnwidth=[0.3, 0.25, 0.3, 0.45])\n",
    "       \n",
    "data = [trace]\n",
    "\n",
    "layout = dict(title=test, height=260, width=1000)\n",
    "\n",
    "jb_table = dict(data=data, layout=layout)\n",
    "\n",
    "# Plot table\n",
    "py.offline.iplot(jb_table)"
   ]
  },
  {
   "cell_type": "markdown",
   "metadata": {},
   "source": [
    "### Kolmogorov Smirnov Test"
   ]
  },
  {
   "cell_type": "code",
   "execution_count": 40,
   "metadata": {},
   "outputs": [
    {
     "data": {
      "application/vnd.plotly.v1+json": {
       "config": {
        "linkText": "Export to plot.ly",
        "plotlyServerURL": "https://plot.ly",
        "showLink": false
       },
       "data": [
        {
         "cells": {
          "align": "center",
          "fill": {
           "color": [
            [
             "#EBF0F8",
             "#ffffff",
             "#EBF0F8",
             "#ffffff"
            ]
           ]
          },
          "height": 40,
          "line": {
           "width": 0
          },
          "values": [
           "5000",
           "0.014",
           "0.137",
           "Sample looks Gaussian (fail to reject H0)"
          ]
         },
         "columnwidth": [
          0.3,
          0.25,
          0.3,
          0.45
         ],
         "header": {
          "align": "center",
          "fill": {
           "color": "rgba(42,63,95,0.8)"
          },
          "font": {
           "color": "#ffffff",
           "size": 12
          },
          "line": {
           "width": 0
          },
          "values": [
           "<b>Sample Size</b>",
           "<b>Statistic</b>",
           "<b>p-Value</b>",
           "<b>Comment</b>"
          ]
         },
         "type": "table",
         "uid": "91e21305-03d3-4b48-9302-0fafbbb958fc"
        }
       ],
       "layout": {
        "height": 260,
        "title": {
         "text": "Kolmogorov Smirnov Test"
        },
        "width": 1000
       }
      },
      "text/html": [
       "<div id=\"d7be6a98-0cef-45bd-ab65-1dd6790a2061\" style=\"height: 260px; width: 1000px;\" class=\"plotly-graph-div\"></div><script type=\"text/javascript\">require([\"plotly\"], function(Plotly) { window.PLOTLYENV=window.PLOTLYENV || {};window.PLOTLYENV.BASE_URL=\"https://plot.ly\";\n",
       "if (document.getElementById(\"d7be6a98-0cef-45bd-ab65-1dd6790a2061\")) {\n",
       "    Plotly.newPlot(\"d7be6a98-0cef-45bd-ab65-1dd6790a2061\", [{\"cells\": {\"align\": \"center\", \"fill\": {\"color\": [[\"#EBF0F8\", \"#ffffff\", \"#EBF0F8\", \"#ffffff\"]]}, \"height\": 40, \"line\": {\"width\": 0}, \"values\": [\"5000\", \"0.014\", \"0.137\", \"Sample looks Gaussian (fail to reject H0)\"]}, \"columnwidth\": [0.3, 0.25, 0.3, 0.45], \"header\": {\"align\": \"center\", \"fill\": {\"color\": \"rgba(42,63,95,0.8)\"}, \"font\": {\"color\": \"#ffffff\", \"size\": 12}, \"line\": {\"width\": 0}, \"values\": [\"<b>Sample Size</b>\", \"<b>Statistic</b>\", \"<b>p-Value</b>\", \"<b>Comment</b>\"]}, \"type\": \"table\", \"uid\": \"40c3167f-833b-4a2b-be1f-ef63bc5362e7\"}], {\"height\": 260, \"title\": {\"text\": \"Kolmogorov Smirnov Test\"}, \"width\": 1000}, {\"showLink\": false, \"linkText\": \"Export to plot.ly\", \"plotlyServerURL\": \"https://plot.ly\"}); \n",
       "}\n",
       "});</script>"
      ],
      "text/vnd.plotly.v1+html": [
       "<div id=\"d7be6a98-0cef-45bd-ab65-1dd6790a2061\" style=\"height: 260px; width: 1000px;\" class=\"plotly-graph-div\"></div><script type=\"text/javascript\">require([\"plotly\"], function(Plotly) { window.PLOTLYENV=window.PLOTLYENV || {};window.PLOTLYENV.BASE_URL=\"https://plot.ly\";\n",
       "if (document.getElementById(\"d7be6a98-0cef-45bd-ab65-1dd6790a2061\")) {\n",
       "    Plotly.newPlot(\"d7be6a98-0cef-45bd-ab65-1dd6790a2061\", [{\"cells\": {\"align\": \"center\", \"fill\": {\"color\": [[\"#EBF0F8\", \"#ffffff\", \"#EBF0F8\", \"#ffffff\"]]}, \"height\": 40, \"line\": {\"width\": 0}, \"values\": [\"5000\", \"0.014\", \"0.137\", \"Sample looks Gaussian (fail to reject H0)\"]}, \"columnwidth\": [0.3, 0.25, 0.3, 0.45], \"header\": {\"align\": \"center\", \"fill\": {\"color\": \"rgba(42,63,95,0.8)\"}, \"font\": {\"color\": \"#ffffff\", \"size\": 12}, \"line\": {\"width\": 0}, \"values\": [\"<b>Sample Size</b>\", \"<b>Statistic</b>\", \"<b>p-Value</b>\", \"<b>Comment</b>\"]}, \"type\": \"table\", \"uid\": \"40c3167f-833b-4a2b-be1f-ef63bc5362e7\"}], {\"height\": 260, \"title\": {\"text\": \"Kolmogorov Smirnov Test\"}, \"width\": 1000}, {\"showLink\": false, \"linkText\": \"Export to plot.ly\", \"plotlyServerURL\": \"https://plot.ly\"}); \n",
       "}\n",
       "});</script>"
      ]
     },
     "metadata": {},
     "output_type": "display_data"
    }
   ],
   "source": [
    "# Normality test\n",
    "test = \"Kolmogorov Smirnov Test\"\n",
    "stat, p = stats.kstest(np.array(samples_b_m),'norm', alternative = 'greater')\n",
    "\n",
    "# Round results\n",
    "stat = round(stat, 3)\n",
    "p = round(p, 3)\n",
    "\n",
    "# Interpre results\n",
    "alpha = 0.05\n",
    "if p > alpha:\n",
    "    msg = 'Sample looks Gaussian (fail to reject H0)'\n",
    "else:\n",
    "    msg = \"Sample does not look Gaussian (reject H0)\"\n",
    "\n",
    "# Create table\n",
    "result_mat = [len(samples_b_m), stat, p, msg]\n",
    "\n",
    "trace = go.Table(\n",
    "    header=dict(values=['<b>Sample Size</b>', '<b>Statistic</b>', '<b>p-Value</b>', '<b>Comment</b>'],\n",
    "                line = dict(width=0),\n",
    "                fill = dict(color='rgba(42,63,95,0.8)'),\n",
    "                align = 'center',\n",
    "                font = dict(\n",
    "                    color = '#ffffff',\n",
    "                    size = 12\n",
    "                )),\n",
    "    cells=dict(values=np.array(result_mat).T,\n",
    "               line = dict(width=0),\n",
    "               fill = dict(color=[['#EBF0F8', '#ffffff', '#EBF0F8', '#ffffff']]),\n",
    "               align = 'center',\n",
    "               height = 40),\n",
    "    columnwidth=[0.3, 0.25, 0.3, 0.45])\n",
    "       \n",
    "data = [trace]\n",
    "\n",
    "layout = dict(title=test, height=260, width=1000)\n",
    "\n",
    "ks_table = dict(data=data, layout=layout)\n",
    "\n",
    "# Plot table\n",
    "py.offline.iplot(ks_table)"
   ]
  },
  {
   "cell_type": "markdown",
   "metadata": {},
   "source": [
    "### Anderson-Darling"
   ]
  },
  {
   "cell_type": "code",
   "execution_count": 41,
   "metadata": {},
   "outputs": [
    {
     "data": {
      "application/vnd.plotly.v1+json": {
       "config": {
        "linkText": "Export to plot.ly",
        "plotlyServerURL": "https://plot.ly",
        "showLink": false
       },
       "data": [
        {
         "cells": {
          "align": "center",
          "fill": {
           "color": [
            [
             "#EBF0F8",
             "#ffffff",
             "#EBF0F8",
             "#ffffff",
             "#EBF0F8"
            ]
           ]
          },
          "height": 40,
          "line": {
           "width": 0
          },
          "values": [
           [
            "5000",
            "5000",
            "5000",
            "5000",
            "5000"
           ],
           [
            "0.321",
            "0.321",
            "0.321",
            "0.321",
            "0.321"
           ],
           [
            "15.0",
            "10.0",
            "5.0",
            "2.5",
            "1.0"
           ],
           [
            "0.576",
            "0.655",
            "0.786",
            "0.917",
            "1.091"
           ],
           [
            "Sample looks Gaussian (fail to reject H0)",
            "Sample looks Gaussian (fail to reject H0)",
            "Sample looks Gaussian (fail to reject H0)",
            "Sample looks Gaussian (fail to reject H0)",
            "Sample looks Gaussian (fail to reject H0)"
           ]
          ]
         },
         "columnwidth": [
          0.3,
          0.25,
          0.3,
          0.25,
          0.5
         ],
         "header": {
          "align": "center",
          "fill": {
           "color": "rgba(42,63,95,0.8)"
          },
          "font": {
           "color": "#ffffff",
           "size": 12
          },
          "line": {
           "width": 0
          },
          "values": [
           "<b>Sample Size</b>",
           "<b>Statistic</b>",
           "<b>Significance Level</b>",
           "<b>Critical Value</b>",
           "<b>Comment</b>"
          ]
         },
         "type": "table",
         "uid": "a977292d-8be1-4a90-b202-17707d574649"
        }
       ],
       "layout": {
        "height": 415,
        "title": {
         "text": "Anderson-Darling Test"
        },
        "width": 1000
       }
      },
      "text/html": [
       "<div id=\"ef398581-97b5-4e7a-9995-131bce7d547c\" style=\"height: 415px; width: 1000px;\" class=\"plotly-graph-div\"></div><script type=\"text/javascript\">require([\"plotly\"], function(Plotly) { window.PLOTLYENV=window.PLOTLYENV || {};window.PLOTLYENV.BASE_URL=\"https://plot.ly\";\n",
       "if (document.getElementById(\"ef398581-97b5-4e7a-9995-131bce7d547c\")) {\n",
       "    Plotly.newPlot(\"ef398581-97b5-4e7a-9995-131bce7d547c\", [{\"cells\": {\"align\": \"center\", \"fill\": {\"color\": [[\"#EBF0F8\", \"#ffffff\", \"#EBF0F8\", \"#ffffff\", \"#EBF0F8\"]]}, \"height\": 40, \"line\": {\"width\": 0}, \"values\": [[\"5000\", \"5000\", \"5000\", \"5000\", \"5000\"], [\"0.321\", \"0.321\", \"0.321\", \"0.321\", \"0.321\"], [\"15.0\", \"10.0\", \"5.0\", \"2.5\", \"1.0\"], [\"0.576\", \"0.655\", \"0.786\", \"0.917\", \"1.091\"], [\"Sample looks Gaussian (fail to reject H0)\", \"Sample looks Gaussian (fail to reject H0)\", \"Sample looks Gaussian (fail to reject H0)\", \"Sample looks Gaussian (fail to reject H0)\", \"Sample looks Gaussian (fail to reject H0)\"]]}, \"columnwidth\": [0.3, 0.25, 0.3, 0.25, 0.5], \"header\": {\"align\": \"center\", \"fill\": {\"color\": \"rgba(42,63,95,0.8)\"}, \"font\": {\"color\": \"#ffffff\", \"size\": 12}, \"line\": {\"width\": 0}, \"values\": [\"<b>Sample Size</b>\", \"<b>Statistic</b>\", \"<b>Significance Level</b>\", \"<b>Critical Value</b>\", \"<b>Comment</b>\"]}, \"type\": \"table\", \"uid\": \"36608983-a9b6-47ee-b82c-144114ab76aa\"}], {\"height\": 415, \"title\": {\"text\": \"Anderson-Darling Test\"}, \"width\": 1000}, {\"showLink\": false, \"linkText\": \"Export to plot.ly\", \"plotlyServerURL\": \"https://plot.ly\"}); \n",
       "}\n",
       "});</script>"
      ],
      "text/vnd.plotly.v1+html": [
       "<div id=\"ef398581-97b5-4e7a-9995-131bce7d547c\" style=\"height: 415px; width: 1000px;\" class=\"plotly-graph-div\"></div><script type=\"text/javascript\">require([\"plotly\"], function(Plotly) { window.PLOTLYENV=window.PLOTLYENV || {};window.PLOTLYENV.BASE_URL=\"https://plot.ly\";\n",
       "if (document.getElementById(\"ef398581-97b5-4e7a-9995-131bce7d547c\")) {\n",
       "    Plotly.newPlot(\"ef398581-97b5-4e7a-9995-131bce7d547c\", [{\"cells\": {\"align\": \"center\", \"fill\": {\"color\": [[\"#EBF0F8\", \"#ffffff\", \"#EBF0F8\", \"#ffffff\", \"#EBF0F8\"]]}, \"height\": 40, \"line\": {\"width\": 0}, \"values\": [[\"5000\", \"5000\", \"5000\", \"5000\", \"5000\"], [\"0.321\", \"0.321\", \"0.321\", \"0.321\", \"0.321\"], [\"15.0\", \"10.0\", \"5.0\", \"2.5\", \"1.0\"], [\"0.576\", \"0.655\", \"0.786\", \"0.917\", \"1.091\"], [\"Sample looks Gaussian (fail to reject H0)\", \"Sample looks Gaussian (fail to reject H0)\", \"Sample looks Gaussian (fail to reject H0)\", \"Sample looks Gaussian (fail to reject H0)\", \"Sample looks Gaussian (fail to reject H0)\"]]}, \"columnwidth\": [0.3, 0.25, 0.3, 0.25, 0.5], \"header\": {\"align\": \"center\", \"fill\": {\"color\": \"rgba(42,63,95,0.8)\"}, \"font\": {\"color\": \"#ffffff\", \"size\": 12}, \"line\": {\"width\": 0}, \"values\": [\"<b>Sample Size</b>\", \"<b>Statistic</b>\", \"<b>Significance Level</b>\", \"<b>Critical Value</b>\", \"<b>Comment</b>\"]}, \"type\": \"table\", \"uid\": \"36608983-a9b6-47ee-b82c-144114ab76aa\"}], {\"height\": 415, \"title\": {\"text\": \"Anderson-Darling Test\"}, \"width\": 1000}, {\"showLink\": false, \"linkText\": \"Export to plot.ly\", \"plotlyServerURL\": \"https://plot.ly\"}); \n",
       "}\n",
       "});</script>"
      ]
     },
     "metadata": {},
     "output_type": "display_data"
    }
   ],
   "source": [
    "# Normality test\n",
    "test = \"Anderson-Darling Test\"\n",
    "result = anderson(samples_b_m)\n",
    "\n",
    "# Round results\n",
    "stat = round(result.statistic, 3)\n",
    "\n",
    "# Create table\n",
    "result_mat = []\n",
    "for i in range(len(result.critical_values)):\n",
    "    sl, cv = result.significance_level[i], result.critical_values[i]\n",
    "    if result.statistic < result.critical_values[i]:\n",
    "        msg = 'Sample looks Gaussian (fail to reject H0)'\n",
    "    else:\n",
    "        msg = 'Sample does not look Gaussian (reject H0)'\n",
    "    result_mat.append([len(samples_b_m), stat, sl, cv, msg])\n",
    "\n",
    "trace = go.Table(\n",
    "    header=dict(values=['<b>Sample Size</b>', '<b>Statistic</b>', '<b>Significance Level</b>', '<b>Critical Value</b>', '<b>Comment</b>'],\n",
    "                line = dict(width=0),\n",
    "                fill = dict(color='rgba(42,63,95,0.8)'),\n",
    "                align = 'center',\n",
    "                font = dict(\n",
    "                    color = '#ffffff',\n",
    "                    size = 12\n",
    "                )),\n",
    "    cells=dict(values=np.array(result_mat).T,\n",
    "               line = dict(width=0),\n",
    "               fill = dict(color=[['#EBF0F8', '#ffffff', '#EBF0F8', '#ffffff', '#EBF0F8']]),\n",
    "               align = 'center',\n",
    "               height = 40),\n",
    "    columnwidth=[0.3, 0.25, 0.3, 0.25, 0.5])\n",
    "       \n",
    "data = [trace]\n",
    "\n",
    "layout = dict(title=test, height=415, width=1000)\n",
    "\n",
    "andar_table = dict(data=data, layout=layout)\n",
    "\n",
    "# Plot table\n",
    "py.offline.iplot(andar_table)"
   ]
  },
  {
   "cell_type": "markdown",
   "metadata": {},
   "source": [
    "## 4.4 Normal Distribution using the numpy.random"
   ]
  },
  {
   "cell_type": "markdown",
   "metadata": {},
   "source": [
    "### Generate Samples"
   ]
  },
  {
   "cell_type": "code",
   "execution_count": 42,
   "metadata": {},
   "outputs": [],
   "source": [
    "# Set seed \n",
    "np.random.seed(1)\n",
    "\n",
    "tic = timeit.default_timer()\n",
    "\n",
    "# Generate n_samples samples \n",
    "samples_n_r = []\n",
    "for i in range(n_samples):\n",
    "    samples_n_r.append(np.random.normal(mu, sigma))  \n",
    "\n",
    "toc = timeit.default_timer()"
   ]
  },
  {
   "cell_type": "markdown",
   "metadata": {},
   "source": [
    "###  Histogram Plot"
   ]
  },
  {
   "cell_type": "code",
   "execution_count": 43,
   "metadata": {},
   "outputs": [
    {
     "name": "stdout",
     "output_type": "stream",
     "text": [
      "running time = 0.030, mean = 0.024, std_dev = 1.003\n"
     ]
    },
    {
     "data": {
      "image/png": "[encoded data removed]",
      "text/plain": [
       "<Figure size 432x288 with 1 Axes>"
      ]
     },
     "metadata": {
      "needs_background": "light"
     },
     "output_type": "display_data"
    }
   ],
   "source": [
    "# Plot n_samples samples\n",
    "\n",
    "sns.distplot(samples_n_r, bins=40).set_title(str(n_samples)+ \" samples using Rejection sampling\");\n",
    "\n",
    "print(\"running time = %.3f, mean = %.3f, std_dev = %.3f\" % (toc-tic, np.mean(samples_n_r), np.std(samples_n_r)));"
   ]
  },
  {
   "cell_type": "markdown",
   "metadata": {},
   "source": [
    "### QQ Plot"
   ]
  },
  {
   "cell_type": "code",
   "execution_count": 44,
   "metadata": {},
   "outputs": [
    {
     "data": {
      "image/png": "[encoded data removed]",
      "text/plain": [
       "<Figure size 720x288 with 2 Axes>"
      ]
     },
     "metadata": {
      "needs_background": "light"
     },
     "output_type": "display_data"
    }
   ],
   "source": [
    "# Plot q-q and p-p plot\n",
    "fig, ax = plt.subplots(1, 2, figsize=(10, 4))\n",
    "probplot = sm.ProbPlot(np.array(samples_n_r), dist=norm, fit=True)\n",
    "probplot.ppplot(line='45', ax=ax[0])\n",
    "probplot.qqplot(line='45', ax=ax[1])\n",
    "ax[0].set_title('P-P Plot')\n",
    "ax[1].set_title('Q-Q Plot');"
   ]
  },
  {
   "cell_type": "markdown",
   "metadata": {},
   "source": [
    "### Boxplot"
   ]
  },
  {
   "cell_type": "code",
   "execution_count": 45,
   "metadata": {},
   "outputs": [
    {
     "data": {
      "image/png": "[encoded data removed]",
      "text/plain": [
       "<Figure size 432x288 with 1 Axes>"
      ]
     },
     "metadata": {
      "needs_background": "light"
     },
     "output_type": "display_data"
    }
   ],
   "source": [
    "sns.boxplot(samples_n_r, width=4);"
   ]
  },
  {
   "cell_type": "markdown",
   "metadata": {},
   "source": [
    "### Empirical Cumulative Distribution Function Plot"
   ]
  },
  {
   "cell_type": "code",
   "execution_count": 46,
   "metadata": {},
   "outputs": [
    {
     "data": {
      "image/png": "[encoded data removed]",
      "text/plain": [
       "<Figure size 432x288 with 1 Axes>"
      ]
     },
     "metadata": {
      "needs_background": "light"
     },
     "output_type": "display_data"
    }
   ],
   "source": [
    "# Plot Empirical Cumulative Distribution vs Normal Cumulative Distribution\n",
    "x=np.linspace(-5, 5)\n",
    "\n",
    "# Plot normal cdf\n",
    "plot_normal(x, mu=mu, sigma=sigma, cdf=True, label=\"normal cdf\")\n",
    "\n",
    "# Plor ecdf\n",
    "ecdf = sm.distributions.ECDF(samples_n_r)\n",
    "ecdf = ecdf(x)\n",
    "plt.step(x, ecdf, label=\"ecdf\")\n",
    "\n",
    "plt.legend();"
   ]
  },
  {
   "cell_type": "markdown",
   "metadata": {},
   "source": [
    "### Shapiro-Wilk Test"
   ]
  },
  {
   "cell_type": "code",
   "execution_count": 47,
   "metadata": {},
   "outputs": [
    {
     "data": {
      "application/vnd.plotly.v1+json": {
       "config": {
        "linkText": "Export to plot.ly",
        "plotlyServerURL": "https://plot.ly",
        "showLink": false
       },
       "data": [
        {
         "cells": {
          "align": "center",
          "fill": {
           "color": [
            [
             "#EBF0F8",
             "#ffffff",
             "#EBF0F8",
             "#ffffff"
            ]
           ]
          },
          "height": 40,
          "line": {
           "width": 0
          },
          "values": [
           "5000",
           "1.0",
           "0.46",
           "Sample looks Gaussian (fail to reject H0)"
          ]
         },
         "columnwidth": [
          0.3,
          0.25,
          0.3,
          0.45
         ],
         "header": {
          "align": "center",
          "fill": {
           "color": "rgba(42,63,95,0.8)"
          },
          "font": {
           "color": "#ffffff",
           "size": 12
          },
          "line": {
           "width": 0
          },
          "values": [
           "<b>Sample Size</b>",
           "<b>Statistic</b>",
           "<b>p-Value</b>",
           "<b>Comment</b>"
          ]
         },
         "type": "table",
         "uid": "a1f6b224-834d-4ea6-9dcc-14de80c8523e"
        }
       ],
       "layout": {
        "height": 260,
        "title": {
         "text": "Shapiro-Wilk Test"
        },
        "width": 1000
       }
      },
      "text/html": [
       "<div id=\"1bd5d451-6a6a-4ecf-a020-b89ca4dbaae1\" style=\"height: 260px; width: 1000px;\" class=\"plotly-graph-div\"></div><script type=\"text/javascript\">require([\"plotly\"], function(Plotly) { window.PLOTLYENV=window.PLOTLYENV || {};window.PLOTLYENV.BASE_URL=\"https://plot.ly\";\n",
       "if (document.getElementById(\"1bd5d451-6a6a-4ecf-a020-b89ca4dbaae1\")) {\n",
       "    Plotly.newPlot(\"1bd5d451-6a6a-4ecf-a020-b89ca4dbaae1\", [{\"cells\": {\"align\": \"center\", \"fill\": {\"color\": [[\"#EBF0F8\", \"#ffffff\", \"#EBF0F8\", \"#ffffff\"]]}, \"height\": 40, \"line\": {\"width\": 0}, \"values\": [\"5000\", \"1.0\", \"0.46\", \"Sample looks Gaussian (fail to reject H0)\"]}, \"columnwidth\": [0.3, 0.25, 0.3, 0.45], \"header\": {\"align\": \"center\", \"fill\": {\"color\": \"rgba(42,63,95,0.8)\"}, \"font\": {\"color\": \"#ffffff\", \"size\": 12}, \"line\": {\"width\": 0}, \"values\": [\"<b>Sample Size</b>\", \"<b>Statistic</b>\", \"<b>p-Value</b>\", \"<b>Comment</b>\"]}, \"type\": \"table\", \"uid\": \"8c4dc0a9-f0a2-491d-afab-dbcbf4d382f4\"}], {\"height\": 260, \"title\": {\"text\": \"Shapiro-Wilk Test\"}, \"width\": 1000}, {\"showLink\": false, \"linkText\": \"Export to plot.ly\", \"plotlyServerURL\": \"https://plot.ly\"}); \n",
       "}\n",
       "});</script>"
      ],
      "text/vnd.plotly.v1+html": [
       "<div id=\"1bd5d451-6a6a-4ecf-a020-b89ca4dbaae1\" style=\"height: 260px; width: 1000px;\" class=\"plotly-graph-div\"></div><script type=\"text/javascript\">require([\"plotly\"], function(Plotly) { window.PLOTLYENV=window.PLOTLYENV || {};window.PLOTLYENV.BASE_URL=\"https://plot.ly\";\n",
       "if (document.getElementById(\"1bd5d451-6a6a-4ecf-a020-b89ca4dbaae1\")) {\n",
       "    Plotly.newPlot(\"1bd5d451-6a6a-4ecf-a020-b89ca4dbaae1\", [{\"cells\": {\"align\": \"center\", \"fill\": {\"color\": [[\"#EBF0F8\", \"#ffffff\", \"#EBF0F8\", \"#ffffff\"]]}, \"height\": 40, \"line\": {\"width\": 0}, \"values\": [\"5000\", \"1.0\", \"0.46\", \"Sample looks Gaussian (fail to reject H0)\"]}, \"columnwidth\": [0.3, 0.25, 0.3, 0.45], \"header\": {\"align\": \"center\", \"fill\": {\"color\": \"rgba(42,63,95,0.8)\"}, \"font\": {\"color\": \"#ffffff\", \"size\": 12}, \"line\": {\"width\": 0}, \"values\": [\"<b>Sample Size</b>\", \"<b>Statistic</b>\", \"<b>p-Value</b>\", \"<b>Comment</b>\"]}, \"type\": \"table\", \"uid\": \"8c4dc0a9-f0a2-491d-afab-dbcbf4d382f4\"}], {\"height\": 260, \"title\": {\"text\": \"Shapiro-Wilk Test\"}, \"width\": 1000}, {\"showLink\": false, \"linkText\": \"Export to plot.ly\", \"plotlyServerURL\": \"https://plot.ly\"}); \n",
       "}\n",
       "});</script>"
      ]
     },
     "metadata": {},
     "output_type": "display_data"
    }
   ],
   "source": [
    "# Normality test\n",
    "test = \"Shapiro-Wilk Test\"\n",
    "stat, p = shapiro(samples_n_r)\n",
    "\n",
    "# Round results\n",
    "stat = round(stat, 3)\n",
    "p = round(p, 3)\n",
    "\n",
    "# Interpre results\n",
    "alpha = 0.05\n",
    "if p > alpha:\n",
    "    msg = 'Sample looks Gaussian (fail to reject H0)'\n",
    "else:\n",
    "    msg = \"Sample does not look Gaussian (reject H0)\"\n",
    "\n",
    "# Create table\n",
    "result_mat = [len(samples_n_r), stat, p, msg]\n",
    "\n",
    "trace = go.Table(\n",
    "    header=dict(values=['<b>Sample Size</b>', '<b>Statistic</b>', '<b>p-Value</b>', '<b>Comment</b>'],\n",
    "                line = dict(width=0),\n",
    "                fill = dict(color='rgba(42,63,95,0.8)'),\n",
    "                align = 'center',\n",
    "                font = dict(\n",
    "                    color = '#ffffff',\n",
    "                    size = 12\n",
    "                )),\n",
    "    cells=dict(values=np.array(result_mat).T,\n",
    "               line = dict(width=0),\n",
    "               fill = dict(color=[['#EBF0F8', '#ffffff', '#EBF0F8', '#ffffff']]),\n",
    "               align = 'center',\n",
    "               height = 40),\n",
    "    columnwidth=[0.3, 0.25, 0.3, 0.45])\n",
    "       \n",
    "data = [trace]\n",
    "\n",
    "layout = dict(title=test, height=260, width=1000)\n",
    "\n",
    "sw_table = dict(data=data, layout=layout)\n",
    "\n",
    "# Plot table\n",
    "py.offline.iplot(sw_table)"
   ]
  },
  {
   "cell_type": "markdown",
   "metadata": {},
   "source": [
    "### D’Agostino’s K^2 Test"
   ]
  },
  {
   "cell_type": "code",
   "execution_count": 48,
   "metadata": {},
   "outputs": [
    {
     "data": {
      "application/vnd.plotly.v1+json": {
       "config": {
        "linkText": "Export to plot.ly",
        "plotlyServerURL": "https://plot.ly",
        "showLink": false
       },
       "data": [
        {
         "cells": {
          "align": "center",
          "fill": {
           "color": [
            [
             "#EBF0F8",
             "#ffffff",
             "#EBF0F8",
             "#ffffff"
            ]
           ]
          },
          "height": 40,
          "line": {
           "width": 0
          },
          "values": [
           "5000",
           "0.121",
           "0.941",
           "Sample looks Gaussian (fail to reject H0)"
          ]
         },
         "columnwidth": [
          0.3,
          0.25,
          0.3,
          0.45
         ],
         "header": {
          "align": "center",
          "fill": {
           "color": "rgba(42,63,95,0.8)"
          },
          "font": {
           "color": "#ffffff",
           "size": 12
          },
          "line": {
           "width": 0
          },
          "values": [
           "<b>Sample Size</b>",
           "<b>Statistic</b>",
           "<b>p-Value</b>",
           "<b>Comment</b>"
          ]
         },
         "type": "table",
         "uid": "5a4f12ad-a160-43b0-a971-a091b4a0cc13"
        }
       ],
       "layout": {
        "height": 260,
        "title": {
         "text": "D’Agostino’s K^2 Test"
        },
        "width": 1000
       }
      },
      "text/html": [
       "<div id=\"7817ffe4-2f33-47bd-9f9a-91dba89807bd\" style=\"height: 260px; width: 1000px;\" class=\"plotly-graph-div\"></div><script type=\"text/javascript\">require([\"plotly\"], function(Plotly) { window.PLOTLYENV=window.PLOTLYENV || {};window.PLOTLYENV.BASE_URL=\"https://plot.ly\";\n",
       "if (document.getElementById(\"7817ffe4-2f33-47bd-9f9a-91dba89807bd\")) {\n",
       "    Plotly.newPlot(\"7817ffe4-2f33-47bd-9f9a-91dba89807bd\", [{\"cells\": {\"align\": \"center\", \"fill\": {\"color\": [[\"#EBF0F8\", \"#ffffff\", \"#EBF0F8\", \"#ffffff\"]]}, \"height\": 40, \"line\": {\"width\": 0}, \"values\": [\"5000\", \"0.121\", \"0.941\", \"Sample looks Gaussian (fail to reject H0)\"]}, \"columnwidth\": [0.3, 0.25, 0.3, 0.45], \"header\": {\"align\": \"center\", \"fill\": {\"color\": \"rgba(42,63,95,0.8)\"}, \"font\": {\"color\": \"#ffffff\", \"size\": 12}, \"line\": {\"width\": 0}, \"values\": [\"<b>Sample Size</b>\", \"<b>Statistic</b>\", \"<b>p-Value</b>\", \"<b>Comment</b>\"]}, \"type\": \"table\", \"uid\": \"173acc82-f39c-4222-b391-a6d54230694c\"}], {\"height\": 260, \"title\": {\"text\": \"D\\u2019Agostino\\u2019s K^2 Test\"}, \"width\": 1000}, {\"showLink\": false, \"linkText\": \"Export to plot.ly\", \"plotlyServerURL\": \"https://plot.ly\"}); \n",
       "}\n",
       "});</script>"
      ],
      "text/vnd.plotly.v1+html": [
       "<div id=\"7817ffe4-2f33-47bd-9f9a-91dba89807bd\" style=\"height: 260px; width: 1000px;\" class=\"plotly-graph-div\"></div><script type=\"text/javascript\">require([\"plotly\"], function(Plotly) { window.PLOTLYENV=window.PLOTLYENV || {};window.PLOTLYENV.BASE_URL=\"https://plot.ly\";\n",
       "if (document.getElementById(\"7817ffe4-2f33-47bd-9f9a-91dba89807bd\")) {\n",
       "    Plotly.newPlot(\"7817ffe4-2f33-47bd-9f9a-91dba89807bd\", [{\"cells\": {\"align\": \"center\", \"fill\": {\"color\": [[\"#EBF0F8\", \"#ffffff\", \"#EBF0F8\", \"#ffffff\"]]}, \"height\": 40, \"line\": {\"width\": 0}, \"values\": [\"5000\", \"0.121\", \"0.941\", \"Sample looks Gaussian (fail to reject H0)\"]}, \"columnwidth\": [0.3, 0.25, 0.3, 0.45], \"header\": {\"align\": \"center\", \"fill\": {\"color\": \"rgba(42,63,95,0.8)\"}, \"font\": {\"color\": \"#ffffff\", \"size\": 12}, \"line\": {\"width\": 0}, \"values\": [\"<b>Sample Size</b>\", \"<b>Statistic</b>\", \"<b>p-Value</b>\", \"<b>Comment</b>\"]}, \"type\": \"table\", \"uid\": \"173acc82-f39c-4222-b391-a6d54230694c\"}], {\"height\": 260, \"title\": {\"text\": \"D\\u2019Agostino\\u2019s K^2 Test\"}, \"width\": 1000}, {\"showLink\": false, \"linkText\": \"Export to plot.ly\", \"plotlyServerURL\": \"https://plot.ly\"}); \n",
       "}\n",
       "});</script>"
      ]
     },
     "metadata": {},
     "output_type": "display_data"
    }
   ],
   "source": [
    "# Normality test\n",
    "test = \"D’Agostino’s K^2 Test\"\n",
    "stat, p = normaltest(samples_n_r)\n",
    "\n",
    "# Round results\n",
    "stat = round(stat, 3)\n",
    "p = round(p, 3)\n",
    "\n",
    "# Interpre results\n",
    "alpha = 0.05\n",
    "if p > alpha:\n",
    "    msg = 'Sample looks Gaussian (fail to reject H0)'\n",
    "else:\n",
    "    msg = \"Sample does not look Gaussian (reject H0)\"\n",
    "\n",
    "# Create table\n",
    "result_mat = [len(samples_n_r), stat, p, msg]\n",
    "\n",
    "trace = go.Table(\n",
    "    header=dict(values=['<b>Sample Size</b>', '<b>Statistic</b>', '<b>p-Value</b>', '<b>Comment</b>'],\n",
    "                line = dict(width=0),\n",
    "                fill = dict(color='rgba(42,63,95,0.8)'),\n",
    "                align = 'center',\n",
    "                font = dict(\n",
    "                    color = '#ffffff',\n",
    "                    size = 12\n",
    "                )),\n",
    "    cells=dict(values=np.array(result_mat).T,\n",
    "               line = dict(width=0),\n",
    "               fill = dict(color=[['#EBF0F8', '#ffffff', '#EBF0F8', '#ffffff']]),\n",
    "               align = 'center',\n",
    "               height = 40),\n",
    "    columnwidth=[0.3, 0.25, 0.3, 0.45])\n",
    "       \n",
    "data = [trace]\n",
    "\n",
    "layout = dict(title=test, height=260, width=1000)\n",
    "\n",
    "norm_table = dict(data=data, layout=layout)\n",
    "\n",
    "# Plot table\n",
    "py.offline.iplot(norm_table)"
   ]
  },
  {
   "cell_type": "markdown",
   "metadata": {},
   "source": [
    "### Jarque-Beta Test"
   ]
  },
  {
   "cell_type": "code",
   "execution_count": 49,
   "metadata": {},
   "outputs": [
    {
     "data": {
      "application/vnd.plotly.v1+json": {
       "config": {
        "linkText": "Export to plot.ly",
        "plotlyServerURL": "https://plot.ly",
        "showLink": false
       },
       "data": [
        {
         "cells": {
          "align": "center",
          "fill": {
           "color": [
            [
             "#EBF0F8",
             "#ffffff",
             "#EBF0F8",
             "#ffffff"
            ]
           ]
          },
          "height": 40,
          "line": {
           "width": 0
          },
          "values": [
           "5000",
           "0.151",
           "0.927",
           "Sample looks Gaussian (fail to reject H0)"
          ]
         },
         "columnwidth": [
          0.3,
          0.25,
          0.3,
          0.45
         ],
         "header": {
          "align": "center",
          "fill": {
           "color": "rgba(42,63,95,0.8)"
          },
          "font": {
           "color": "#ffffff",
           "size": 12
          },
          "line": {
           "width": 0
          },
          "values": [
           "<b>Sample Size</b>",
           "<b>Statistic</b>",
           "<b>p-Value</b>",
           "<b>Comment</b>"
          ]
         },
         "type": "table",
         "uid": "c500dd0f-81d7-4167-ad05-29290d4aa8b0"
        }
       ],
       "layout": {
        "height": 260,
        "title": {
         "text": "Jarque-Beta Test"
        },
        "width": 1000
       }
      },
      "text/html": [
       "<div id=\"5feb6dab-a08a-4374-a226-03b3a8aeb4fd\" style=\"height: 260px; width: 1000px;\" class=\"plotly-graph-div\"></div><script type=\"text/javascript\">require([\"plotly\"], function(Plotly) { window.PLOTLYENV=window.PLOTLYENV || {};window.PLOTLYENV.BASE_URL=\"https://plot.ly\";\n",
       "if (document.getElementById(\"5feb6dab-a08a-4374-a226-03b3a8aeb4fd\")) {\n",
       "    Plotly.newPlot(\"5feb6dab-a08a-4374-a226-03b3a8aeb4fd\", [{\"cells\": {\"align\": \"center\", \"fill\": {\"color\": [[\"#EBF0F8\", \"#ffffff\", \"#EBF0F8\", \"#ffffff\"]]}, \"height\": 40, \"line\": {\"width\": 0}, \"values\": [\"5000\", \"0.151\", \"0.927\", \"Sample looks Gaussian (fail to reject H0)\"]}, \"columnwidth\": [0.3, 0.25, 0.3, 0.45], \"header\": {\"align\": \"center\", \"fill\": {\"color\": \"rgba(42,63,95,0.8)\"}, \"font\": {\"color\": \"#ffffff\", \"size\": 12}, \"line\": {\"width\": 0}, \"values\": [\"<b>Sample Size</b>\", \"<b>Statistic</b>\", \"<b>p-Value</b>\", \"<b>Comment</b>\"]}, \"type\": \"table\", \"uid\": \"8abe4b1c-8500-490c-a336-ee115e387980\"}], {\"height\": 260, \"title\": {\"text\": \"Jarque-Beta Test\"}, \"width\": 1000}, {\"showLink\": false, \"linkText\": \"Export to plot.ly\", \"plotlyServerURL\": \"https://plot.ly\"}); \n",
       "}\n",
       "});</script>"
      ],
      "text/vnd.plotly.v1+html": [
       "<div id=\"5feb6dab-a08a-4374-a226-03b3a8aeb4fd\" style=\"height: 260px; width: 1000px;\" class=\"plotly-graph-div\"></div><script type=\"text/javascript\">require([\"plotly\"], function(Plotly) { window.PLOTLYENV=window.PLOTLYENV || {};window.PLOTLYENV.BASE_URL=\"https://plot.ly\";\n",
       "if (document.getElementById(\"5feb6dab-a08a-4374-a226-03b3a8aeb4fd\")) {\n",
       "    Plotly.newPlot(\"5feb6dab-a08a-4374-a226-03b3a8aeb4fd\", [{\"cells\": {\"align\": \"center\", \"fill\": {\"color\": [[\"#EBF0F8\", \"#ffffff\", \"#EBF0F8\", \"#ffffff\"]]}, \"height\": 40, \"line\": {\"width\": 0}, \"values\": [\"5000\", \"0.151\", \"0.927\", \"Sample looks Gaussian (fail to reject H0)\"]}, \"columnwidth\": [0.3, 0.25, 0.3, 0.45], \"header\": {\"align\": \"center\", \"fill\": {\"color\": \"rgba(42,63,95,0.8)\"}, \"font\": {\"color\": \"#ffffff\", \"size\": 12}, \"line\": {\"width\": 0}, \"values\": [\"<b>Sample Size</b>\", \"<b>Statistic</b>\", \"<b>p-Value</b>\", \"<b>Comment</b>\"]}, \"type\": \"table\", \"uid\": \"8abe4b1c-8500-490c-a336-ee115e387980\"}], {\"height\": 260, \"title\": {\"text\": \"Jarque-Beta Test\"}, \"width\": 1000}, {\"showLink\": false, \"linkText\": \"Export to plot.ly\", \"plotlyServerURL\": \"https://plot.ly\"}); \n",
       "}\n",
       "});</script>"
      ]
     },
     "metadata": {},
     "output_type": "display_data"
    }
   ],
   "source": [
    "# Normality test\n",
    "test = \"Jarque-Beta Test\"\n",
    "stat, p = stats.jarque_bera(samples_n_r)\n",
    "\n",
    "# Round results\n",
    "stat = round(stat, 3)\n",
    "p = round(p, 3)\n",
    "\n",
    "# Interpre results\n",
    "alpha = 0.05\n",
    "if p > alpha:\n",
    "    msg = 'Sample looks Gaussian (fail to reject H0)'\n",
    "else:\n",
    "    msg = \"Sample does not look Gaussian (reject H0)\"\n",
    "\n",
    "# Create table\n",
    "result_mat = [len(samples_n_r), stat, p, msg]\n",
    "\n",
    "trace = go.Table(\n",
    "    header=dict(values=['<b>Sample Size</b>', '<b>Statistic</b>', '<b>p-Value</b>', '<b>Comment</b>'],\n",
    "                line = dict(width=0),\n",
    "                fill = dict(color='rgba(42,63,95,0.8)'),\n",
    "                align = 'center',\n",
    "                font = dict(\n",
    "                    color = '#ffffff',\n",
    "                    size = 12\n",
    "                )),\n",
    "    cells=dict(values=np.array(result_mat).T,\n",
    "               line = dict(width=0),\n",
    "               fill = dict(color=[['#EBF0F8', '#ffffff', '#EBF0F8', '#ffffff']]),\n",
    "               align = 'center',\n",
    "               height = 40),\n",
    "    columnwidth=[0.3, 0.25, 0.3, 0.45])\n",
    "       \n",
    "data = [trace]\n",
    "\n",
    "layout = dict(title=test, height=260, width=1000)\n",
    "\n",
    "jb_table = dict(data=data, layout=layout)\n",
    "\n",
    "# Plot table\n",
    "py.offline.iplot(jb_table)"
   ]
  },
  {
   "cell_type": "markdown",
   "metadata": {},
   "source": [
    "### Kolmogorov Smirnov Test"
   ]
  },
  {
   "cell_type": "code",
   "execution_count": 50,
   "metadata": {},
   "outputs": [
    {
     "data": {
      "application/vnd.plotly.v1+json": {
       "config": {
        "linkText": "Export to plot.ly",
        "plotlyServerURL": "https://plot.ly",
        "showLink": false
       },
       "data": [
        {
         "cells": {
          "align": "center",
          "fill": {
           "color": [
            [
             "#EBF0F8",
             "#ffffff",
             "#EBF0F8",
             "#ffffff"
            ]
           ]
          },
          "height": 40,
          "line": {
           "width": 0
          },
          "values": [
           "5000",
           "0.003",
           "0.923",
           "Sample looks Gaussian (fail to reject H0)"
          ]
         },
         "columnwidth": [
          0.3,
          0.25,
          0.3,
          0.45
         ],
         "header": {
          "align": "center",
          "fill": {
           "color": "rgba(42,63,95,0.8)"
          },
          "font": {
           "color": "#ffffff",
           "size": 12
          },
          "line": {
           "width": 0
          },
          "values": [
           "<b>Sample Size</b>",
           "<b>Statistic</b>",
           "<b>p-Value</b>",
           "<b>Comment</b>"
          ]
         },
         "type": "table",
         "uid": "96a37609-2c8c-42e7-97e4-a4f2d05a3890"
        }
       ],
       "layout": {
        "height": 260,
        "title": {
         "text": "Kolmogorov Smirnov Test"
        },
        "width": 1000
       }
      },
      "text/html": [
       "<div id=\"46f8cdae-f3ab-48af-8d84-8b2bf71d5b17\" style=\"height: 260px; width: 1000px;\" class=\"plotly-graph-div\"></div><script type=\"text/javascript\">require([\"plotly\"], function(Plotly) { window.PLOTLYENV=window.PLOTLYENV || {};window.PLOTLYENV.BASE_URL=\"https://plot.ly\";\n",
       "if (document.getElementById(\"46f8cdae-f3ab-48af-8d84-8b2bf71d5b17\")) {\n",
       "    Plotly.newPlot(\"46f8cdae-f3ab-48af-8d84-8b2bf71d5b17\", [{\"cells\": {\"align\": \"center\", \"fill\": {\"color\": [[\"#EBF0F8\", \"#ffffff\", \"#EBF0F8\", \"#ffffff\"]]}, \"height\": 40, \"line\": {\"width\": 0}, \"values\": [\"5000\", \"0.003\", \"0.923\", \"Sample looks Gaussian (fail to reject H0)\"]}, \"columnwidth\": [0.3, 0.25, 0.3, 0.45], \"header\": {\"align\": \"center\", \"fill\": {\"color\": \"rgba(42,63,95,0.8)\"}, \"font\": {\"color\": \"#ffffff\", \"size\": 12}, \"line\": {\"width\": 0}, \"values\": [\"<b>Sample Size</b>\", \"<b>Statistic</b>\", \"<b>p-Value</b>\", \"<b>Comment</b>\"]}, \"type\": \"table\", \"uid\": \"97d2135b-773b-4e0d-a2af-46a025069229\"}], {\"height\": 260, \"title\": {\"text\": \"Kolmogorov Smirnov Test\"}, \"width\": 1000}, {\"showLink\": false, \"linkText\": \"Export to plot.ly\", \"plotlyServerURL\": \"https://plot.ly\"}); \n",
       "}\n",
       "});</script>"
      ],
      "text/vnd.plotly.v1+html": [
       "<div id=\"46f8cdae-f3ab-48af-8d84-8b2bf71d5b17\" style=\"height: 260px; width: 1000px;\" class=\"plotly-graph-div\"></div><script type=\"text/javascript\">require([\"plotly\"], function(Plotly) { window.PLOTLYENV=window.PLOTLYENV || {};window.PLOTLYENV.BASE_URL=\"https://plot.ly\";\n",
       "if (document.getElementById(\"46f8cdae-f3ab-48af-8d84-8b2bf71d5b17\")) {\n",
       "    Plotly.newPlot(\"46f8cdae-f3ab-48af-8d84-8b2bf71d5b17\", [{\"cells\": {\"align\": \"center\", \"fill\": {\"color\": [[\"#EBF0F8\", \"#ffffff\", \"#EBF0F8\", \"#ffffff\"]]}, \"height\": 40, \"line\": {\"width\": 0}, \"values\": [\"5000\", \"0.003\", \"0.923\", \"Sample looks Gaussian (fail to reject H0)\"]}, \"columnwidth\": [0.3, 0.25, 0.3, 0.45], \"header\": {\"align\": \"center\", \"fill\": {\"color\": \"rgba(42,63,95,0.8)\"}, \"font\": {\"color\": \"#ffffff\", \"size\": 12}, \"line\": {\"width\": 0}, \"values\": [\"<b>Sample Size</b>\", \"<b>Statistic</b>\", \"<b>p-Value</b>\", \"<b>Comment</b>\"]}, \"type\": \"table\", \"uid\": \"97d2135b-773b-4e0d-a2af-46a025069229\"}], {\"height\": 260, \"title\": {\"text\": \"Kolmogorov Smirnov Test\"}, \"width\": 1000}, {\"showLink\": false, \"linkText\": \"Export to plot.ly\", \"plotlyServerURL\": \"https://plot.ly\"}); \n",
       "}\n",
       "});</script>"
      ]
     },
     "metadata": {},
     "output_type": "display_data"
    }
   ],
   "source": [
    "# Normality test\n",
    "test = \"Kolmogorov Smirnov Test\"\n",
    "stat, p = stats.kstest(np.array(samples_n_r),'norm', alternative = 'greater')\n",
    "\n",
    "# Round results\n",
    "stat = round(stat, 3)\n",
    "p = round(p, 3)\n",
    "\n",
    "# Interpre results\n",
    "alpha = 0.05\n",
    "if p > alpha:\n",
    "    msg = 'Sample looks Gaussian (fail to reject H0)'\n",
    "else:\n",
    "    msg = \"Sample does not look Gaussian (reject H0)\"\n",
    "\n",
    "# Create table\n",
    "result_mat = [len(samples_n_r), stat, p, msg]\n",
    "\n",
    "trace = go.Table(\n",
    "    header=dict(values=['<b>Sample Size</b>', '<b>Statistic</b>', '<b>p-Value</b>', '<b>Comment</b>'],\n",
    "                line = dict(width=0),\n",
    "                fill = dict(color='rgba(42,63,95,0.8)'),\n",
    "                align = 'center',\n",
    "                font = dict(\n",
    "                    color = '#ffffff',\n",
    "                    size = 12\n",
    "                )),\n",
    "    cells=dict(values=np.array(result_mat).T,\n",
    "               line = dict(width=0),\n",
    "               fill = dict(color=[['#EBF0F8', '#ffffff', '#EBF0F8', '#ffffff']]),\n",
    "               align = 'center',\n",
    "               height = 40),\n",
    "    columnwidth=[0.3, 0.25, 0.3, 0.45])\n",
    "       \n",
    "data = [trace]\n",
    "\n",
    "layout = dict(title=test, height=260, width=1000)\n",
    "\n",
    "ks_table = dict(data=data, layout=layout)\n",
    "\n",
    "# Plot table\n",
    "py.offline.iplot(ks_table)"
   ]
  },
  {
   "cell_type": "markdown",
   "metadata": {},
   "source": [
    "### Anderson-Darling"
   ]
  },
  {
   "cell_type": "code",
   "execution_count": 51,
   "metadata": {},
   "outputs": [
    {
     "data": {
      "application/vnd.plotly.v1+json": {
       "config": {
        "linkText": "Export to plot.ly",
        "plotlyServerURL": "https://plot.ly",
        "showLink": false
       },
       "data": [
        {
         "cells": {
          "align": "center",
          "fill": {
           "color": [
            [
             "#EBF0F8",
             "#ffffff",
             "#EBF0F8",
             "#ffffff",
             "#EBF0F8"
            ]
           ]
          },
          "height": 40,
          "line": {
           "width": 0
          },
          "values": [
           [
            "5000",
            "5000",
            "5000",
            "5000",
            "5000"
           ],
           [
            "0.305",
            "0.305",
            "0.305",
            "0.305",
            "0.305"
           ],
           [
            "15.0",
            "10.0",
            "5.0",
            "2.5",
            "1.0"
           ],
           [
            "0.576",
            "0.655",
            "0.786",
            "0.917",
            "1.091"
           ],
           [
            "Sample looks Gaussian (fail to reject H0)",
            "Sample looks Gaussian (fail to reject H0)",
            "Sample looks Gaussian (fail to reject H0)",
            "Sample looks Gaussian (fail to reject H0)",
            "Sample looks Gaussian (fail to reject H0)"
           ]
          ]
         },
         "columnwidth": [
          0.3,
          0.25,
          0.3,
          0.25,
          0.5
         ],
         "header": {
          "align": "center",
          "fill": {
           "color": "rgba(42,63,95,0.8)"
          },
          "font": {
           "color": "#ffffff",
           "size": 12
          },
          "line": {
           "width": 0
          },
          "values": [
           "<b>Sample Size</b>",
           "<b>Statistic</b>",
           "<b>Significance Level</b>",
           "<b>Critical Value</b>",
           "<b>Comment</b>"
          ]
         },
         "type": "table",
         "uid": "0b911407-108b-46ed-9d03-5a8eeb969732"
        }
       ],
       "layout": {
        "height": 415,
        "title": {
         "text": "Anderson-Darling Test"
        },
        "width": 1000
       }
      },
      "text/html": [
       "<div id=\"933cf384-59d3-4dda-9f58-f8e515ad4052\" style=\"height: 415px; width: 1000px;\" class=\"plotly-graph-div\"></div><script type=\"text/javascript\">require([\"plotly\"], function(Plotly) { window.PLOTLYENV=window.PLOTLYENV || {};window.PLOTLYENV.BASE_URL=\"https://plot.ly\";\n",
       "if (document.getElementById(\"933cf384-59d3-4dda-9f58-f8e515ad4052\")) {\n",
       "    Plotly.newPlot(\"933cf384-59d3-4dda-9f58-f8e515ad4052\", [{\"cells\": {\"align\": \"center\", \"fill\": {\"color\": [[\"#EBF0F8\", \"#ffffff\", \"#EBF0F8\", \"#ffffff\", \"#EBF0F8\"]]}, \"height\": 40, \"line\": {\"width\": 0}, \"values\": [[\"5000\", \"5000\", \"5000\", \"5000\", \"5000\"], [\"0.305\", \"0.305\", \"0.305\", \"0.305\", \"0.305\"], [\"15.0\", \"10.0\", \"5.0\", \"2.5\", \"1.0\"], [\"0.576\", \"0.655\", \"0.786\", \"0.917\", \"1.091\"], [\"Sample looks Gaussian (fail to reject H0)\", \"Sample looks Gaussian (fail to reject H0)\", \"Sample looks Gaussian (fail to reject H0)\", \"Sample looks Gaussian (fail to reject H0)\", \"Sample looks Gaussian (fail to reject H0)\"]]}, \"columnwidth\": [0.3, 0.25, 0.3, 0.25, 0.5], \"header\": {\"align\": \"center\", \"fill\": {\"color\": \"rgba(42,63,95,0.8)\"}, \"font\": {\"color\": \"#ffffff\", \"size\": 12}, \"line\": {\"width\": 0}, \"values\": [\"<b>Sample Size</b>\", \"<b>Statistic</b>\", \"<b>Significance Level</b>\", \"<b>Critical Value</b>\", \"<b>Comment</b>\"]}, \"type\": \"table\", \"uid\": \"a23a6938-5c9c-480a-8860-8f6e2fbfaf85\"}], {\"height\": 415, \"title\": {\"text\": \"Anderson-Darling Test\"}, \"width\": 1000}, {\"showLink\": false, \"linkText\": \"Export to plot.ly\", \"plotlyServerURL\": \"https://plot.ly\"}); \n",
       "}\n",
       "});</script>"
      ],
      "text/vnd.plotly.v1+html": [
       "<div id=\"933cf384-59d3-4dda-9f58-f8e515ad4052\" style=\"height: 415px; width: 1000px;\" class=\"plotly-graph-div\"></div><script type=\"text/javascript\">require([\"plotly\"], function(Plotly) { window.PLOTLYENV=window.PLOTLYENV || {};window.PLOTLYENV.BASE_URL=\"https://plot.ly\";\n",
       "if (document.getElementById(\"933cf384-59d3-4dda-9f58-f8e515ad4052\")) {\n",
       "    Plotly.newPlot(\"933cf384-59d3-4dda-9f58-f8e515ad4052\", [{\"cells\": {\"align\": \"center\", \"fill\": {\"color\": [[\"#EBF0F8\", \"#ffffff\", \"#EBF0F8\", \"#ffffff\", \"#EBF0F8\"]]}, \"height\": 40, \"line\": {\"width\": 0}, \"values\": [[\"5000\", \"5000\", \"5000\", \"5000\", \"5000\"], [\"0.305\", \"0.305\", \"0.305\", \"0.305\", \"0.305\"], [\"15.0\", \"10.0\", \"5.0\", \"2.5\", \"1.0\"], [\"0.576\", \"0.655\", \"0.786\", \"0.917\", \"1.091\"], [\"Sample looks Gaussian (fail to reject H0)\", \"Sample looks Gaussian (fail to reject H0)\", \"Sample looks Gaussian (fail to reject H0)\", \"Sample looks Gaussian (fail to reject H0)\", \"Sample looks Gaussian (fail to reject H0)\"]]}, \"columnwidth\": [0.3, 0.25, 0.3, 0.25, 0.5], \"header\": {\"align\": \"center\", \"fill\": {\"color\": \"rgba(42,63,95,0.8)\"}, \"font\": {\"color\": \"#ffffff\", \"size\": 12}, \"line\": {\"width\": 0}, \"values\": [\"<b>Sample Size</b>\", \"<b>Statistic</b>\", \"<b>Significance Level</b>\", \"<b>Critical Value</b>\", \"<b>Comment</b>\"]}, \"type\": \"table\", \"uid\": \"a23a6938-5c9c-480a-8860-8f6e2fbfaf85\"}], {\"height\": 415, \"title\": {\"text\": \"Anderson-Darling Test\"}, \"width\": 1000}, {\"showLink\": false, \"linkText\": \"Export to plot.ly\", \"plotlyServerURL\": \"https://plot.ly\"}); \n",
       "}\n",
       "});</script>"
      ]
     },
     "metadata": {},
     "output_type": "display_data"
    }
   ],
   "source": [
    "# Normality test\n",
    "test = \"Anderson-Darling Test\"\n",
    "result = anderson(samples_n_r)\n",
    "\n",
    "# Round results\n",
    "stat = round(result.statistic, 3)\n",
    "\n",
    "# Create table\n",
    "result_mat = []\n",
    "for i in range(len(result.critical_values)):\n",
    "    sl, cv = result.significance_level[i], result.critical_values[i]\n",
    "    if result.statistic < result.critical_values[i]:\n",
    "        msg = 'Sample looks Gaussian (fail to reject H0)'\n",
    "    else:\n",
    "        msg = 'Sample does not look Gaussian (reject H0)'\n",
    "    result_mat.append([len(samples_n_r), stat, sl, cv, msg])\n",
    "\n",
    "trace = go.Table(\n",
    "    header=dict(values=['<b>Sample Size</b>', '<b>Statistic</b>', '<b>Significance Level</b>', '<b>Critical Value</b>', '<b>Comment</b>'],\n",
    "                line = dict(width=0),\n",
    "                fill = dict(color='rgba(42,63,95,0.8)'),\n",
    "                align = 'center',\n",
    "                font = dict(\n",
    "                    color = '#ffffff',\n",
    "                    size = 12\n",
    "                )),\n",
    "    cells=dict(values=np.array(result_mat).T,\n",
    "               line = dict(width=0),\n",
    "               fill = dict(color=[['#EBF0F8', '#ffffff', '#EBF0F8', '#ffffff', '#EBF0F8']]),\n",
    "               align = 'center',\n",
    "               height = 40),\n",
    "    columnwidth=[0.3, 0.25, 0.3, 0.25, 0.5])\n",
    "       \n",
    "data = [trace]\n",
    "\n",
    "layout = dict(title=test, height=415, width=1000)\n",
    "\n",
    "andar_table = dict(data=data, layout=layout)\n",
    "\n",
    "# Plot table\n",
    "py.offline.iplot(andar_table)"
   ]
  }
 ],
 "metadata": {
  "kernelspec": {
   "display_name": "Python 3",
   "language": "python",
   "name": "python3"
  },
  "language_info": {
   "codemirror_mode": {
    "name": "ipython",
    "version": 3
   },
   "file_extension": ".py",
   "mimetype": "text/x-python",
   "name": "python",
   "nbconvert_exporter": "python",
   "pygments_lexer": "ipython3",
   "version": "3.6.6"
  }
 },
 "nbformat": 4,
 "nbformat_minor": 2
}
